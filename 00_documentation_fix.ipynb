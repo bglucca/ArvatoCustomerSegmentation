{
 "cells": [
  {
   "cell_type": "markdown",
   "metadata": {},
   "source": [
    "# Column names in documentation\n",
    "Types were manually assigned to each variable in the Values Spreadsheet. The values to be translated to NaN are also dependant on this information.  \n",
    "However, some column names do not match between data and documentation, this will be fixed in the documentations"
   ]
  },
  {
   "cell_type": "code",
   "execution_count": 1,
   "metadata": {},
   "outputs": [],
   "source": [
    "import pandas as pd\n",
    "import numpy as np"
   ]
  },
  {
   "cell_type": "code",
   "execution_count": 2,
   "metadata": {},
   "outputs": [
    {
     "name": "stderr",
     "output_type": "stream",
     "text": [
      "C:\\Users\\Lucca\\AppData\\Local\\Temp\\ipykernel_19388\\2853755714.py:2: DtypeWarning: Columns (18,19) have mixed types. Specify dtype option on import or set low_memory=False.\n",
      "  census = pd.read_csv('data/raw/Udacity_AZDIAS_052018.csv', sep = ';')\n"
     ]
    }
   ],
   "source": [
    "# To match with available columns in data\n",
    "census = pd.read_csv('data/raw/Udacity_AZDIAS_052018.csv', sep = ';')"
   ]
  },
  {
   "cell_type": "code",
   "execution_count": 3,
   "metadata": {},
   "outputs": [],
   "source": [
    "census_var_types = pd.read_excel('data/raw/DIAS Attributes - Values 2017.xlsx',\\\n",
    "                                     sheet_name = 'Tabelle1_fixed',\\\n",
    "                                     header = 1,\\\n",
    "                                     usecols = 'B:C')\\\n",
    "                            .dropna(how = 'all')"
   ]
  },
  {
   "cell_type": "markdown",
   "metadata": {},
   "source": [
    "## Attributes\n",
    "Attaches column name to data type and NaN Value encoding"
   ]
  },
  {
   "cell_type": "code",
   "execution_count": 4,
   "metadata": {},
   "outputs": [],
   "source": [
    "dim_columns = pd.read_excel('data/raw/DIAS Attributes - Values 2017.xlsx',\n",
    "                             sheet_name='Tabelle1',\n",
    "                             usecols = 'B:F',\n",
    "                             header=1)"
   ]
  },
  {
   "cell_type": "code",
   "execution_count": 5,
   "metadata": {},
   "outputs": [],
   "source": [
    "documented_cols = dim_columns['Attribute'].dropna().unique()"
   ]
  },
  {
   "cell_type": "code",
   "execution_count": 6,
   "metadata": {},
   "outputs": [],
   "source": [
    "cols_not_in_docs = np.setdiff1d(census.columns,documented_cols)"
   ]
  },
  {
   "cell_type": "code",
   "execution_count": 7,
   "metadata": {},
   "outputs": [
    {
     "name": "stdout",
     "output_type": "stream",
     "text": [
      "Columns in data not found in the docs:\n",
      " ['AKT_DAT_KL' 'ALTERSKATEGORIE_FEIN' 'ALTER_KIND1' 'ALTER_KIND2'\n",
      " 'ALTER_KIND3' 'ALTER_KIND4' 'ANZ_KINDER' 'ANZ_STATISTISCHE_HAUSHALTE'\n",
      " 'ARBEIT' 'CAMEO_INTL_2015' 'CJT_KATALOGNUTZER' 'CJT_TYP_1' 'CJT_TYP_2'\n",
      " 'CJT_TYP_3' 'CJT_TYP_4' 'CJT_TYP_5' 'CJT_TYP_6' 'D19_BANKEN_DIREKT'\n",
      " 'D19_BANKEN_GROSS' 'D19_BANKEN_LOKAL' 'D19_BANKEN_REST'\n",
      " 'D19_BEKLEIDUNG_GEH' 'D19_BEKLEIDUNG_REST' 'D19_BILDUNG' 'D19_BIO_OEKO'\n",
      " 'D19_BUCH_CD' 'D19_DIGIT_SERV' 'D19_DROGERIEARTIKEL' 'D19_ENERGIE'\n",
      " 'D19_FREIZEIT' 'D19_GARTEN' 'D19_HANDWERK' 'D19_HAUS_DEKO'\n",
      " 'D19_KINDERARTIKEL' 'D19_KONSUMTYP_MAX' 'D19_KOSMETIK' 'D19_LEBENSMITTEL'\n",
      " 'D19_LETZTER_KAUF_BRANCHE' 'D19_LOTTO' 'D19_NAHRUNGSERGAENZUNG'\n",
      " 'D19_RATGEBER' 'D19_REISEN' 'D19_SAMMELARTIKEL' 'D19_SCHUHE'\n",
      " 'D19_SONSTIGE' 'D19_SOZIALES' 'D19_TECHNIK' 'D19_TELKO_MOBILE'\n",
      " 'D19_TELKO_ONLINE_QUOTE_12' 'D19_TELKO_REST' 'D19_TIERARTIKEL'\n",
      " 'D19_VERSAND_REST' 'D19_VERSICHERUNGEN' 'D19_VERSI_DATUM'\n",
      " 'D19_VERSI_OFFLINE_DATUM' 'D19_VERSI_ONLINE_DATUM'\n",
      " 'D19_VERSI_ONLINE_QUOTE_12' 'D19_VOLLSORTIMENT' 'D19_WEIN_FEINKOST'\n",
      " 'DSL_FLAG' 'EINGEFUEGT_AM' 'EINGEZOGENAM_HH_JAHR' 'EXTSEL992'\n",
      " 'FIRMENDICHTE' 'GEMEINDETYP' 'HH_DELTA_FLAG' 'KBA13_ANTG1' 'KBA13_ANTG2'\n",
      " 'KBA13_ANTG3' 'KBA13_ANTG4' 'KBA13_BAUMAX' 'KBA13_CCM_1401_2500'\n",
      " 'KBA13_GBZ' 'KBA13_HHZ' 'KBA13_KMH_210' 'KK_KUNDENTYP' 'KOMBIALTER'\n",
      " 'KONSUMZELLE' 'LNR' 'MOBI_RASTER' 'RT_KEIN_ANREIZ' 'RT_SCHNAEPPCHEN'\n",
      " 'RT_UEBERGROESSE' 'SOHO_KZ' 'STRUKTURTYP' 'UMFELD_ALT' 'UMFELD_JUNG'\n",
      " 'UNGLEICHENN_FLAG' 'VERDICHTUNGSRAUM' 'VHA' 'VHN' 'VK_DHT4A' 'VK_DISTANZ'\n",
      " 'VK_ZG11']\n"
     ]
    }
   ],
   "source": [
    "print('Columns in data not found in the docs:\\n', cols_not_in_docs)"
   ]
  },
  {
   "cell_type": "markdown",
   "metadata": {},
   "source": [
    "## Fixing the most obvious matches with documented informations"
   ]
  },
  {
   "cell_type": "code",
   "execution_count": 8,
   "metadata": {},
   "outputs": [],
   "source": [
    "d19_name_map = {}\n",
    "\n",
    "antg_cols_rename = {}\n",
    "\n",
    "# D19 columns\n",
    "for i, col in enumerate(cols_not_in_docs):\n",
    "\n",
    "    if col.startswith('D19') and ('DATUM' not in col) and ('QUOTE' not in col):\n",
    "        \n",
    "        d19_name_map[col] = col + '_RZ'"
   ]
  },
  {
   "cell_type": "code",
   "execution_count": 9,
   "metadata": {},
   "outputs": [],
   "source": [
    "other_cols_rename = {'CAMEO_INTL_2015':'CAMEO_DEUINTL_2015',\n",
    "                    'SOHO_KZ':'SOHO_FLAG',\n",
    "                    'KK_KUNDENTYP':'D19_KK_KUNDENTYP',\n",
    "                    'KBA13_CCM_1401_2500':'KBA13_CCM_1400_2500'}"
   ]
  },
  {
   "cell_type": "code",
   "execution_count": 10,
   "metadata": {},
   "outputs": [],
   "source": [
    "census.rename(columns = d19_name_map, inplace = True)\n",
    "\n",
    "census.rename(columns = other_cols_rename, inplace = True)"
   ]
  },
  {
   "cell_type": "code",
   "execution_count": 11,
   "metadata": {},
   "outputs": [],
   "source": [
    "# Remaining columns\n",
    "cols_not_in_docs = np.setdiff1d(census.columns,documented_cols)"
   ]
  },
  {
   "cell_type": "code",
   "execution_count": 12,
   "metadata": {},
   "outputs": [
    {
     "name": "stdout",
     "output_type": "stream",
     "text": [
      "Remaining columns not found in documentation:\n",
      "\n"
     ]
    },
    {
     "data": {
      "text/plain": [
       "['AKT_DAT_KL',\n",
       " 'ALTERSKATEGORIE_FEIN',\n",
       " 'ALTER_KIND1',\n",
       " 'ALTER_KIND2',\n",
       " 'ALTER_KIND3',\n",
       " 'ALTER_KIND4',\n",
       " 'ANZ_KINDER',\n",
       " 'ANZ_STATISTISCHE_HAUSHALTE',\n",
       " 'ARBEIT',\n",
       " 'CJT_KATALOGNUTZER',\n",
       " 'CJT_TYP_1',\n",
       " 'CJT_TYP_2',\n",
       " 'CJT_TYP_3',\n",
       " 'CJT_TYP_4',\n",
       " 'CJT_TYP_5',\n",
       " 'CJT_TYP_6',\n",
       " 'D19_BUCH_CD_RZ',\n",
       " 'D19_KONSUMTYP_MAX_RZ',\n",
       " 'D19_LETZTER_KAUF_BRANCHE_RZ',\n",
       " 'D19_SOZIALES_RZ',\n",
       " 'D19_TELKO_ONLINE_QUOTE_12',\n",
       " 'D19_VERSI_DATUM',\n",
       " 'D19_VERSI_OFFLINE_DATUM',\n",
       " 'D19_VERSI_ONLINE_DATUM',\n",
       " 'D19_VERSI_ONLINE_QUOTE_12',\n",
       " 'DSL_FLAG',\n",
       " 'EINGEFUEGT_AM',\n",
       " 'EINGEZOGENAM_HH_JAHR',\n",
       " 'EXTSEL992',\n",
       " 'FIRMENDICHTE',\n",
       " 'GEMEINDETYP',\n",
       " 'HH_DELTA_FLAG',\n",
       " 'KBA13_ANTG1',\n",
       " 'KBA13_ANTG2',\n",
       " 'KBA13_ANTG3',\n",
       " 'KBA13_ANTG4',\n",
       " 'KBA13_BAUMAX',\n",
       " 'KBA13_GBZ',\n",
       " 'KBA13_HHZ',\n",
       " 'KBA13_KMH_210',\n",
       " 'KOMBIALTER',\n",
       " 'KONSUMZELLE',\n",
       " 'LNR',\n",
       " 'MOBI_RASTER',\n",
       " 'RT_KEIN_ANREIZ',\n",
       " 'RT_SCHNAEPPCHEN',\n",
       " 'RT_UEBERGROESSE',\n",
       " 'STRUKTURTYP',\n",
       " 'UMFELD_ALT',\n",
       " 'UMFELD_JUNG',\n",
       " 'UNGLEICHENN_FLAG',\n",
       " 'VERDICHTUNGSRAUM',\n",
       " 'VHA',\n",
       " 'VHN',\n",
       " 'VK_DHT4A',\n",
       " 'VK_DISTANZ',\n",
       " 'VK_ZG11']"
      ]
     },
     "execution_count": 12,
     "metadata": {},
     "output_type": "execute_result"
    }
   ],
   "source": [
    "print('Remaining columns not found in documentation:\\n')\n",
    "sorted(cols_not_in_docs)"
   ]
  },
  {
   "cell_type": "markdown",
   "metadata": {},
   "source": [
    "Some of the columns not in the docs cannot have their meaning infered (by their name) as well unknown values.  \n",
    "These will be dropped to avoid unmapped empty values skewing distributions. "
   ]
  },
  {
   "cell_type": "code",
   "execution_count": 13,
   "metadata": {},
   "outputs": [],
   "source": [
    "# Columns not found after manual inspection\n",
    "not_found_cols = ['AKT_DAT_KL',\n",
    "                    'DSL_FLAG',\n",
    "                    'EINGEFUEGT_AM',\n",
    "                    'EINGEZOGENAM_HH_JAHR',\n",
    "                    'EXTSEL992',\n",
    "                    'FIRMENDICHTE',\n",
    "                    'GEMEINDETYP',\n",
    "                    'HH_DELTA_FLAG',\n",
    "                    'KBA13_BAUMAX',\n",
    "                    'KBA13_GBZ',\n",
    "                    'KBA13_HHZ',\n",
    "                    'KOMBIALTER',\n",
    "                    'KONSUMZELLE',\n",
    "                    'MOBI_RASTER',\n",
    "                    'RT_KEIN_ANREIZ',\n",
    "                    'RT_SCHNAEPPCHEN',\n",
    "                    'RT_UEBERGROESSE',\n",
    "                    'STRUKTURTYP',\n",
    "                    'UMFELD_ALT',\n",
    "                    'UMFELD_JUNG',\n",
    "                    'UNGLEICHENN_FLAG',\n",
    "                    'VERDICHTUNGSRAUM',\n",
    "                    'VHA',\n",
    "                    'VHN',\n",
    "                    'VK_DHT4A',\n",
    "                    'VK_DISTANZ',\n",
    "                    'VK_ZG11',\n",
    "                    'KBA13_ANTG1',\n",
    "                    'KBA13_ANTG2',\n",
    "                    'KBA13_ANTG3',\n",
    "                    'KBA13_ANTG4']"
   ]
  },
  {
   "cell_type": "code",
   "execution_count": 14,
   "metadata": {},
   "outputs": [],
   "source": [
    "census.drop(columns = not_found_cols, inplace = True)"
   ]
  },
  {
   "cell_type": "code",
   "execution_count": 15,
   "metadata": {},
   "outputs": [],
   "source": [
    "cols_not_in_docs = np.setdiff1d(cols_not_in_docs, not_found_cols)"
   ]
  },
  {
   "cell_type": "code",
   "execution_count": 16,
   "metadata": {},
   "outputs": [
    {
     "name": "stdout",
     "output_type": "stream",
     "text": [
      "Remaining columns that can be infered via context:\n"
     ]
    },
    {
     "data": {
      "text/plain": [
       "array(['ALTERSKATEGORIE_FEIN', 'ALTER_KIND1', 'ALTER_KIND2',\n",
       "       'ALTER_KIND3', 'ALTER_KIND4', 'ANZ_KINDER',\n",
       "       'ANZ_STATISTISCHE_HAUSHALTE', 'ARBEIT', 'CJT_KATALOGNUTZER',\n",
       "       'CJT_TYP_1', 'CJT_TYP_2', 'CJT_TYP_3', 'CJT_TYP_4', 'CJT_TYP_5',\n",
       "       'CJT_TYP_6', 'D19_BUCH_CD_RZ', 'D19_KONSUMTYP_MAX_RZ',\n",
       "       'D19_LETZTER_KAUF_BRANCHE_RZ', 'D19_SOZIALES_RZ',\n",
       "       'D19_TELKO_ONLINE_QUOTE_12', 'D19_VERSI_DATUM',\n",
       "       'D19_VERSI_OFFLINE_DATUM', 'D19_VERSI_ONLINE_DATUM',\n",
       "       'D19_VERSI_ONLINE_QUOTE_12', 'KBA13_KMH_210', 'LNR'], dtype=object)"
      ]
     },
     "execution_count": 16,
     "metadata": {},
     "output_type": "execute_result"
    }
   ],
   "source": [
    "print('Remaining columns that can be infered via context:')\n",
    "cols_not_in_docs"
   ]
  },
  {
   "cell_type": "markdown",
   "metadata": {},
   "source": [
    "These columns will be kept"
   ]
  },
  {
   "cell_type": "markdown",
   "metadata": {},
   "source": [
    "## Information levels\n",
    "Attaches column name to variable group"
   ]
  },
  {
   "cell_type": "code",
   "execution_count": 17,
   "metadata": {},
   "outputs": [],
   "source": [
    "att_info = pd.read_excel('data/raw/DIAS Information Levels - Attributes 2017.xlsx',\n",
    "                         usecols = ['Information level','Attribute'],\n",
    "                         header = 1,\n",
    "                         sheet_name = 'info_group')"
   ]
  },
  {
   "cell_type": "code",
   "execution_count": 18,
   "metadata": {},
   "outputs": [],
   "source": [
    "att_info['Information level'] = att_info['Information level'].fillna(method='ffill')\\\n",
    "                                                            .fillna(method='backfill')"
   ]
  },
  {
   "cell_type": "code",
   "execution_count": 19,
   "metadata": {},
   "outputs": [
    {
     "data": {
      "text/plain": [
       "array(['Person', 'Household', 'Building', 'Microcell (RR4_ID)',\n",
       "       'Microcell (RR3_ID)', '125m x 125m Grid', 'Postcode ', 'RR1_ID',\n",
       "       'PLZ8', 'Community'], dtype=object)"
      ]
     },
     "execution_count": 19,
     "metadata": {},
     "output_type": "execute_result"
    }
   ],
   "source": [
    "att_info['Information level'].unique()"
   ]
  },
  {
   "cell_type": "code",
   "execution_count": 20,
   "metadata": {},
   "outputs": [],
   "source": [
    "att_info['Information level'] = att_info['Information level'].str.strip()"
   ]
  },
  {
   "cell_type": "code",
   "execution_count": 21,
   "metadata": {},
   "outputs": [
    {
     "data": {
      "text/plain": [
       "10"
      ]
     },
     "execution_count": 21,
     "metadata": {},
     "output_type": "execute_result"
    }
   ],
   "source": [
    "att_info['Information level'].nunique()"
   ]
  },
  {
   "cell_type": "code",
   "execution_count": 22,
   "metadata": {},
   "outputs": [
    {
     "data": {
      "text/html": [
       "<div>\n",
       "<style scoped>\n",
       "    .dataframe tbody tr th:only-of-type {\n",
       "        vertical-align: middle;\n",
       "    }\n",
       "\n",
       "    .dataframe tbody tr th {\n",
       "        vertical-align: top;\n",
       "    }\n",
       "\n",
       "    .dataframe thead th {\n",
       "        text-align: right;\n",
       "    }\n",
       "</style>\n",
       "<table border=\"1\" class=\"dataframe\">\n",
       "  <thead>\n",
       "    <tr style=\"text-align: right;\">\n",
       "      <th></th>\n",
       "      <th>Information level</th>\n",
       "      <th>Attribute</th>\n",
       "    </tr>\n",
       "  </thead>\n",
       "  <tbody>\n",
       "    <tr>\n",
       "      <th>0</th>\n",
       "      <td>Person</td>\n",
       "      <td>AGER_TYP</td>\n",
       "    </tr>\n",
       "    <tr>\n",
       "      <th>1</th>\n",
       "      <td>Person</td>\n",
       "      <td>ALTERSKATEGORIE_GROB</td>\n",
       "    </tr>\n",
       "    <tr>\n",
       "      <th>2</th>\n",
       "      <td>Person</td>\n",
       "      <td>ANREDE_KZ</td>\n",
       "    </tr>\n",
       "    <tr>\n",
       "      <th>3</th>\n",
       "      <td>Person</td>\n",
       "      <td>CJT_GESAMTTYP</td>\n",
       "    </tr>\n",
       "    <tr>\n",
       "      <th>4</th>\n",
       "      <td>Person</td>\n",
       "      <td>FINANZ_MINIMALIST</td>\n",
       "    </tr>\n",
       "    <tr>\n",
       "      <th>...</th>\n",
       "      <td>...</td>\n",
       "      <td>...</td>\n",
       "    </tr>\n",
       "    <tr>\n",
       "      <th>308</th>\n",
       "      <td>Community</td>\n",
       "      <td>ARBEIT</td>\n",
       "    </tr>\n",
       "    <tr>\n",
       "      <th>309</th>\n",
       "      <td>Community</td>\n",
       "      <td>EINWOHNER</td>\n",
       "    </tr>\n",
       "    <tr>\n",
       "      <th>310</th>\n",
       "      <td>Community</td>\n",
       "      <td>GKZ</td>\n",
       "    </tr>\n",
       "    <tr>\n",
       "      <th>311</th>\n",
       "      <td>Community</td>\n",
       "      <td>ORTSGR_KLS9</td>\n",
       "    </tr>\n",
       "    <tr>\n",
       "      <th>312</th>\n",
       "      <td>Community</td>\n",
       "      <td>RELAT_AB</td>\n",
       "    </tr>\n",
       "  </tbody>\n",
       "</table>\n",
       "<p>313 rows × 2 columns</p>\n",
       "</div>"
      ],
      "text/plain": [
       "    Information level             Attribute\n",
       "0              Person              AGER_TYP\n",
       "1              Person  ALTERSKATEGORIE_GROB\n",
       "2              Person             ANREDE_KZ\n",
       "3              Person         CJT_GESAMTTYP\n",
       "4              Person     FINANZ_MINIMALIST\n",
       "..                ...                   ...\n",
       "308         Community                ARBEIT\n",
       "309         Community             EINWOHNER\n",
       "310         Community                   GKZ\n",
       "311         Community           ORTSGR_KLS9\n",
       "312         Community              RELAT_AB\n",
       "\n",
       "[313 rows x 2 columns]"
      ]
     },
     "metadata": {},
     "output_type": "display_data"
    }
   ],
   "source": [
    "att_info = att_info[['Information level','Attribute']]\n",
    "\n",
    "display(att_info)"
   ]
  },
  {
   "cell_type": "code",
   "execution_count": 23,
   "metadata": {},
   "outputs": [],
   "source": [
    "# Fixing the names for 125 grid because in the data they dont have _RZ in their name\n",
    "# att_info['Attribute'] = att_info['Attribute'].str.replace('_RZ','')"
   ]
  },
  {
   "cell_type": "code",
   "execution_count": 24,
   "metadata": {},
   "outputs": [
    {
     "name": "stdout",
     "output_type": "stream",
     "text": [
      "['ALTERSKATEGORIE_FEIN', 'ALTER_KIND1', 'ALTER_KIND2', 'ALTER_KIND3', 'ALTER_KIND4', 'ANZ_KINDER', 'ANZ_STATISTISCHE_HAUSHALTE', 'CJT_KATALOGNUTZER', 'CJT_TYP_1', 'CJT_TYP_2', 'CJT_TYP_3', 'CJT_TYP_4', 'CJT_TYP_5', 'CJT_TYP_6', 'D19_BANKEN_ANZ_12', 'D19_BANKEN_ANZ_24', 'D19_BUCH_CD_RZ', 'D19_GESAMT_ANZ_12', 'D19_GESAMT_ANZ_24', 'D19_KONSUMTYP_MAX_RZ', 'D19_LETZTER_KAUF_BRANCHE_RZ', 'D19_LOTTO_RZ', 'D19_SOZIALES_RZ', 'D19_TELKO_ANZ_12', 'D19_TELKO_ANZ_24', 'D19_TELKO_ONLINE_QUOTE_12', 'D19_VERSAND_ANZ_12', 'D19_VERSAND_ANZ_24', 'D19_VERSI_ANZ_12', 'D19_VERSI_ANZ_24', 'D19_VERSI_ONLINE_QUOTE_12', 'KBA13_CCM_3000', 'KBA13_CCM_3001', 'KBA13_KMH_210', 'LNR']\n"
     ]
    }
   ],
   "source": [
    "diff_cols = list(np.setdiff1d(census.columns.values, att_info['Attribute'].values))\n",
    "\n",
    "print(diff_cols)"
   ]
  },
  {
   "cell_type": "markdown",
   "metadata": {},
   "source": [
    "Not all variables are described in the Information Levels."
   ]
  },
  {
   "cell_type": "code",
   "execution_count": 25,
   "metadata": {},
   "outputs": [],
   "source": [
    "# Removing ID\n",
    "diff_cols.remove('LNR')"
   ]
  },
  {
   "cell_type": "markdown",
   "metadata": {},
   "source": [
    "Even though these columns are not assigned to any information group, the majority has a prefix that helps manually assigning them to a group."
   ]
  },
  {
   "cell_type": "code",
   "execution_count": 26,
   "metadata": {},
   "outputs": [],
   "source": [
    "grid_cols = ['D19_BUCH_CD_RZ',\n",
    "            'D19_LETZTER_KAUF_BRANCHE_RZ',\n",
    "            'D19_LOTTO_RZ',\n",
    "            'D19_SOZIALES_RZ']"
   ]
  },
  {
   "cell_type": "code",
   "execution_count": 27,
   "metadata": {},
   "outputs": [],
   "source": [
    "household_cols = ['D19_TELKO_ONLINE_QUOTE_12',\n",
    "                    'D19_VERSAND_ANZ_12',\n",
    "                    'D19_VERSAND_ANZ_24',\n",
    "                    'D19_VERSI_ONLINE_QUOTE_12',\n",
    "                    'D19_GESAMT_ANZ_12',\n",
    "                    'D19_GESAMT_ANZ_24',\n",
    "                    'D19_KONSUMTYP_MAX',\n",
    "                    'D19_BANKEN_ANZ_12',\n",
    "                    'D19_BANKEN_ANZ_24',\n",
    "                    'D19_TELKO_ANZ_12',\n",
    "                    'D19_TELKO_ANZ_24',\n",
    "                    'D19_VERSI_ANZ_12',\n",
    "                    'D19_VERSI_ANZ_24']"
   ]
  },
  {
   "cell_type": "markdown",
   "metadata": {},
   "source": [
    "### Fixing columns that respect the name structure and/or are in the documentation"
   ]
  },
  {
   "cell_type": "code",
   "execution_count": 28,
   "metadata": {},
   "outputs": [],
   "source": [
    "new_rows = []\n",
    "\n",
    "for col in diff_cols:\n",
    "\n",
    "    if col in household_cols:\n",
    "\n",
    "        new_val = ('Household', col)\n",
    "\n",
    "        new_rows.append(new_val)\n",
    "\n",
    "    if col in grid_cols:\n",
    "\n",
    "        new_val = ('125m x 125m Grid', col)\n",
    "\n",
    "        new_rows.append(new_val)\n",
    "\n",
    "    if col.startswith('KBA13'):\n",
    "\n",
    "        new_val = ('PLZ8',col)\n",
    "\n",
    "        new_rows.append(new_val)\n",
    "\n",
    "    if col.startswith('CJT'):\n",
    "\n",
    "        new_val = ('Person',col)\n",
    "\n",
    "        new_rows.append(new_val)\n",
    "\n",
    "for _, name in new_rows:\n",
    "\n",
    "    diff_cols.remove(name)"
   ]
  },
  {
   "cell_type": "code",
   "execution_count": 29,
   "metadata": {},
   "outputs": [
    {
     "data": {
      "text/plain": [
       "['ALTERSKATEGORIE_FEIN',\n",
       " 'ALTER_KIND1',\n",
       " 'ALTER_KIND2',\n",
       " 'ALTER_KIND3',\n",
       " 'ALTER_KIND4',\n",
       " 'ANZ_KINDER',\n",
       " 'ANZ_STATISTISCHE_HAUSHALTE',\n",
       " 'D19_KONSUMTYP_MAX_RZ']"
      ]
     },
     "execution_count": 29,
     "metadata": {},
     "output_type": "execute_result"
    }
   ],
   "source": [
    "diff_cols"
   ]
  },
  {
   "cell_type": "code",
   "execution_count": 30,
   "metadata": {},
   "outputs": [
    {
     "data": {
      "text/plain": [
       "array([], dtype='<U26')"
      ]
     },
     "execution_count": 30,
     "metadata": {},
     "output_type": "execute_result"
    }
   ],
   "source": [
    "np.setdiff1d(diff_cols, census.columns)"
   ]
  },
  {
   "cell_type": "markdown",
   "metadata": {},
   "source": [
    "Some columns still are to be accounted for. This will be done by manually inspecting each case to check if the columns exist in the dictionary or have problems in their name."
   ]
  },
  {
   "cell_type": "code",
   "execution_count": 31,
   "metadata": {},
   "outputs": [],
   "source": [
    "# # Exporting column names for classification (manual)\n",
    "\n",
    "# with open('data/raw/unaccounted_cols.csv','w', newline='') as file:\n",
    "\n",
    "#     writer = csv.writer(file, delimiter=';')\n",
    "\n",
    "#     writer.writerow(['col_name'])\n",
    "\n",
    "#     for col in diff_cols:\n",
    "\n",
    "#         writer.writerow([col])"
   ]
  },
  {
   "cell_type": "markdown",
   "metadata": {},
   "source": [
    "### Building final classification"
   ]
  },
  {
   "cell_type": "code",
   "execution_count": 32,
   "metadata": {},
   "outputs": [],
   "source": [
    "# Ingesting after manual inspection\n",
    "diff_cols_remainder = pd.read_csv('data/trusted/unaccounted_cols.csv', sep = ';')"
   ]
  },
  {
   "cell_type": "code",
   "execution_count": 33,
   "metadata": {},
   "outputs": [
    {
     "name": "stdout",
     "output_type": "stream",
     "text": [
      "Columns unaccounted for: 8\n"
     ]
    }
   ],
   "source": [
    "print('Columns unaccounted for:',diff_cols_remainder.shape[0])"
   ]
  },
  {
   "cell_type": "code",
   "execution_count": 34,
   "metadata": {},
   "outputs": [
    {
     "data": {
      "text/html": [
       "<div>\n",
       "<style scoped>\n",
       "    .dataframe tbody tr th:only-of-type {\n",
       "        vertical-align: middle;\n",
       "    }\n",
       "\n",
       "    .dataframe tbody tr th {\n",
       "        vertical-align: top;\n",
       "    }\n",
       "\n",
       "    .dataframe thead th {\n",
       "        text-align: right;\n",
       "    }\n",
       "</style>\n",
       "<table border=\"1\" class=\"dataframe\">\n",
       "  <thead>\n",
       "    <tr style=\"text-align: right;\">\n",
       "      <th></th>\n",
       "      <th>col_name</th>\n",
       "      <th>information</th>\n",
       "    </tr>\n",
       "  </thead>\n",
       "  <tbody>\n",
       "    <tr>\n",
       "      <th>0</th>\n",
       "      <td>ALTERSKATEGORIE_FEIN</td>\n",
       "      <td>Person</td>\n",
       "    </tr>\n",
       "    <tr>\n",
       "      <th>1</th>\n",
       "      <td>ALTER_KIND1</td>\n",
       "      <td>Household</td>\n",
       "    </tr>\n",
       "    <tr>\n",
       "      <th>2</th>\n",
       "      <td>ALTER_KIND2</td>\n",
       "      <td>Household</td>\n",
       "    </tr>\n",
       "    <tr>\n",
       "      <th>3</th>\n",
       "      <td>ALTER_KIND3</td>\n",
       "      <td>Household</td>\n",
       "    </tr>\n",
       "    <tr>\n",
       "      <th>4</th>\n",
       "      <td>ALTER_KIND4</td>\n",
       "      <td>Household</td>\n",
       "    </tr>\n",
       "    <tr>\n",
       "      <th>5</th>\n",
       "      <td>ANZ_KINDER</td>\n",
       "      <td>Household</td>\n",
       "    </tr>\n",
       "    <tr>\n",
       "      <th>6</th>\n",
       "      <td>ANZ_STATISTISCHE_HAUSHALTE</td>\n",
       "      <td>Household</td>\n",
       "    </tr>\n",
       "    <tr>\n",
       "      <th>7</th>\n",
       "      <td>D19_KONSUMTYP_MAX_RZ</td>\n",
       "      <td>Household</td>\n",
       "    </tr>\n",
       "  </tbody>\n",
       "</table>\n",
       "</div>"
      ],
      "text/plain": [
       "                     col_name information\n",
       "0        ALTERSKATEGORIE_FEIN      Person\n",
       "1                 ALTER_KIND1   Household\n",
       "2                 ALTER_KIND2   Household\n",
       "3                 ALTER_KIND3   Household\n",
       "4                 ALTER_KIND4   Household\n",
       "5                  ANZ_KINDER   Household\n",
       "6  ANZ_STATISTISCHE_HAUSHALTE   Household\n",
       "7        D19_KONSUMTYP_MAX_RZ   Household"
      ]
     },
     "execution_count": 34,
     "metadata": {},
     "output_type": "execute_result"
    }
   ],
   "source": [
    "diff_cols_remainder"
   ]
  },
  {
   "cell_type": "code",
   "execution_count": 35,
   "metadata": {},
   "outputs": [
    {
     "data": {
      "text/plain": [
       "Household    7\n",
       "Person       1\n",
       "Name: information, dtype: int64"
      ]
     },
     "execution_count": 35,
     "metadata": {},
     "output_type": "execute_result"
    }
   ],
   "source": [
    "diff_cols_remainder['information'].value_counts()"
   ]
  },
  {
   "cell_type": "code",
   "execution_count": 36,
   "metadata": {},
   "outputs": [],
   "source": [
    "cols_to_keep_list = list(zip(diff_cols_remainder[diff_cols_remainder['information'] != 'UNDOCUMENTED']['information'],\n",
    "                         diff_cols_remainder[diff_cols_remainder['information'] != 'UNDOCUMENTED']['col_name']))"
   ]
  },
  {
   "cell_type": "code",
   "execution_count": 37,
   "metadata": {},
   "outputs": [],
   "source": [
    "new_rows.extend(cols_to_keep_list)"
   ]
  },
  {
   "cell_type": "code",
   "execution_count": 38,
   "metadata": {},
   "outputs": [],
   "source": [
    "new_rows_frame = pd.DataFrame(new_rows, columns= ['Information level', 'Attribute'])"
   ]
  },
  {
   "cell_type": "code",
   "execution_count": 39,
   "metadata": {},
   "outputs": [
    {
     "data": {
      "text/html": [
       "<div>\n",
       "<style scoped>\n",
       "    .dataframe tbody tr th:only-of-type {\n",
       "        vertical-align: middle;\n",
       "    }\n",
       "\n",
       "    .dataframe tbody tr th {\n",
       "        vertical-align: top;\n",
       "    }\n",
       "\n",
       "    .dataframe thead th {\n",
       "        text-align: right;\n",
       "    }\n",
       "</style>\n",
       "<table border=\"1\" class=\"dataframe\">\n",
       "  <thead>\n",
       "    <tr style=\"text-align: right;\">\n",
       "      <th></th>\n",
       "      <th>Information level</th>\n",
       "      <th>Attribute</th>\n",
       "    </tr>\n",
       "  </thead>\n",
       "  <tbody>\n",
       "    <tr>\n",
       "      <th>0</th>\n",
       "      <td>Person</td>\n",
       "      <td>CJT_KATALOGNUTZER</td>\n",
       "    </tr>\n",
       "    <tr>\n",
       "      <th>1</th>\n",
       "      <td>Person</td>\n",
       "      <td>CJT_TYP_1</td>\n",
       "    </tr>\n",
       "    <tr>\n",
       "      <th>2</th>\n",
       "      <td>Person</td>\n",
       "      <td>CJT_TYP_2</td>\n",
       "    </tr>\n",
       "    <tr>\n",
       "      <th>3</th>\n",
       "      <td>Person</td>\n",
       "      <td>CJT_TYP_3</td>\n",
       "    </tr>\n",
       "    <tr>\n",
       "      <th>4</th>\n",
       "      <td>Person</td>\n",
       "      <td>CJT_TYP_4</td>\n",
       "    </tr>\n",
       "    <tr>\n",
       "      <th>5</th>\n",
       "      <td>Person</td>\n",
       "      <td>CJT_TYP_5</td>\n",
       "    </tr>\n",
       "    <tr>\n",
       "      <th>6</th>\n",
       "      <td>Person</td>\n",
       "      <td>CJT_TYP_6</td>\n",
       "    </tr>\n",
       "    <tr>\n",
       "      <th>7</th>\n",
       "      <td>Household</td>\n",
       "      <td>D19_BANKEN_ANZ_12</td>\n",
       "    </tr>\n",
       "    <tr>\n",
       "      <th>8</th>\n",
       "      <td>Household</td>\n",
       "      <td>D19_BANKEN_ANZ_24</td>\n",
       "    </tr>\n",
       "    <tr>\n",
       "      <th>9</th>\n",
       "      <td>125m x 125m Grid</td>\n",
       "      <td>D19_BUCH_CD_RZ</td>\n",
       "    </tr>\n",
       "    <tr>\n",
       "      <th>10</th>\n",
       "      <td>Household</td>\n",
       "      <td>D19_GESAMT_ANZ_12</td>\n",
       "    </tr>\n",
       "    <tr>\n",
       "      <th>11</th>\n",
       "      <td>Household</td>\n",
       "      <td>D19_GESAMT_ANZ_24</td>\n",
       "    </tr>\n",
       "    <tr>\n",
       "      <th>12</th>\n",
       "      <td>125m x 125m Grid</td>\n",
       "      <td>D19_LETZTER_KAUF_BRANCHE_RZ</td>\n",
       "    </tr>\n",
       "    <tr>\n",
       "      <th>13</th>\n",
       "      <td>125m x 125m Grid</td>\n",
       "      <td>D19_LOTTO_RZ</td>\n",
       "    </tr>\n",
       "    <tr>\n",
       "      <th>14</th>\n",
       "      <td>125m x 125m Grid</td>\n",
       "      <td>D19_SOZIALES_RZ</td>\n",
       "    </tr>\n",
       "    <tr>\n",
       "      <th>15</th>\n",
       "      <td>Household</td>\n",
       "      <td>D19_TELKO_ANZ_12</td>\n",
       "    </tr>\n",
       "    <tr>\n",
       "      <th>16</th>\n",
       "      <td>Household</td>\n",
       "      <td>D19_TELKO_ANZ_24</td>\n",
       "    </tr>\n",
       "    <tr>\n",
       "      <th>17</th>\n",
       "      <td>Household</td>\n",
       "      <td>D19_TELKO_ONLINE_QUOTE_12</td>\n",
       "    </tr>\n",
       "    <tr>\n",
       "      <th>18</th>\n",
       "      <td>Household</td>\n",
       "      <td>D19_VERSAND_ANZ_12</td>\n",
       "    </tr>\n",
       "    <tr>\n",
       "      <th>19</th>\n",
       "      <td>Household</td>\n",
       "      <td>D19_VERSAND_ANZ_24</td>\n",
       "    </tr>\n",
       "    <tr>\n",
       "      <th>20</th>\n",
       "      <td>Household</td>\n",
       "      <td>D19_VERSI_ANZ_12</td>\n",
       "    </tr>\n",
       "    <tr>\n",
       "      <th>21</th>\n",
       "      <td>Household</td>\n",
       "      <td>D19_VERSI_ANZ_24</td>\n",
       "    </tr>\n",
       "    <tr>\n",
       "      <th>22</th>\n",
       "      <td>Household</td>\n",
       "      <td>D19_VERSI_ONLINE_QUOTE_12</td>\n",
       "    </tr>\n",
       "    <tr>\n",
       "      <th>23</th>\n",
       "      <td>PLZ8</td>\n",
       "      <td>KBA13_CCM_3000</td>\n",
       "    </tr>\n",
       "    <tr>\n",
       "      <th>24</th>\n",
       "      <td>PLZ8</td>\n",
       "      <td>KBA13_CCM_3001</td>\n",
       "    </tr>\n",
       "    <tr>\n",
       "      <th>25</th>\n",
       "      <td>PLZ8</td>\n",
       "      <td>KBA13_KMH_210</td>\n",
       "    </tr>\n",
       "    <tr>\n",
       "      <th>26</th>\n",
       "      <td>Person</td>\n",
       "      <td>ALTERSKATEGORIE_FEIN</td>\n",
       "    </tr>\n",
       "    <tr>\n",
       "      <th>27</th>\n",
       "      <td>Household</td>\n",
       "      <td>ALTER_KIND1</td>\n",
       "    </tr>\n",
       "    <tr>\n",
       "      <th>28</th>\n",
       "      <td>Household</td>\n",
       "      <td>ALTER_KIND2</td>\n",
       "    </tr>\n",
       "    <tr>\n",
       "      <th>29</th>\n",
       "      <td>Household</td>\n",
       "      <td>ALTER_KIND3</td>\n",
       "    </tr>\n",
       "    <tr>\n",
       "      <th>30</th>\n",
       "      <td>Household</td>\n",
       "      <td>ALTER_KIND4</td>\n",
       "    </tr>\n",
       "    <tr>\n",
       "      <th>31</th>\n",
       "      <td>Household</td>\n",
       "      <td>ANZ_KINDER</td>\n",
       "    </tr>\n",
       "    <tr>\n",
       "      <th>32</th>\n",
       "      <td>Household</td>\n",
       "      <td>ANZ_STATISTISCHE_HAUSHALTE</td>\n",
       "    </tr>\n",
       "    <tr>\n",
       "      <th>33</th>\n",
       "      <td>Household</td>\n",
       "      <td>D19_KONSUMTYP_MAX_RZ</td>\n",
       "    </tr>\n",
       "  </tbody>\n",
       "</table>\n",
       "</div>"
      ],
      "text/plain": [
       "   Information level                    Attribute\n",
       "0             Person            CJT_KATALOGNUTZER\n",
       "1             Person                    CJT_TYP_1\n",
       "2             Person                    CJT_TYP_2\n",
       "3             Person                    CJT_TYP_3\n",
       "4             Person                    CJT_TYP_4\n",
       "5             Person                    CJT_TYP_5\n",
       "6             Person                    CJT_TYP_6\n",
       "7          Household            D19_BANKEN_ANZ_12\n",
       "8          Household            D19_BANKEN_ANZ_24\n",
       "9   125m x 125m Grid               D19_BUCH_CD_RZ\n",
       "10         Household            D19_GESAMT_ANZ_12\n",
       "11         Household            D19_GESAMT_ANZ_24\n",
       "12  125m x 125m Grid  D19_LETZTER_KAUF_BRANCHE_RZ\n",
       "13  125m x 125m Grid                 D19_LOTTO_RZ\n",
       "14  125m x 125m Grid              D19_SOZIALES_RZ\n",
       "15         Household             D19_TELKO_ANZ_12\n",
       "16         Household             D19_TELKO_ANZ_24\n",
       "17         Household    D19_TELKO_ONLINE_QUOTE_12\n",
       "18         Household           D19_VERSAND_ANZ_12\n",
       "19         Household           D19_VERSAND_ANZ_24\n",
       "20         Household             D19_VERSI_ANZ_12\n",
       "21         Household             D19_VERSI_ANZ_24\n",
       "22         Household    D19_VERSI_ONLINE_QUOTE_12\n",
       "23              PLZ8               KBA13_CCM_3000\n",
       "24              PLZ8               KBA13_CCM_3001\n",
       "25              PLZ8                KBA13_KMH_210\n",
       "26            Person         ALTERSKATEGORIE_FEIN\n",
       "27         Household                  ALTER_KIND1\n",
       "28         Household                  ALTER_KIND2\n",
       "29         Household                  ALTER_KIND3\n",
       "30         Household                  ALTER_KIND4\n",
       "31         Household                   ANZ_KINDER\n",
       "32         Household   ANZ_STATISTISCHE_HAUSHALTE\n",
       "33         Household         D19_KONSUMTYP_MAX_RZ"
      ]
     },
     "execution_count": 39,
     "metadata": {},
     "output_type": "execute_result"
    }
   ],
   "source": [
    "new_rows_frame"
   ]
  },
  {
   "cell_type": "code",
   "execution_count": 40,
   "metadata": {},
   "outputs": [
    {
     "data": {
      "text/plain": [
       "(313, 2)"
      ]
     },
     "execution_count": 40,
     "metadata": {},
     "output_type": "execute_result"
    }
   ],
   "source": [
    "att_info.shape"
   ]
  },
  {
   "cell_type": "code",
   "execution_count": 41,
   "metadata": {},
   "outputs": [],
   "source": [
    "att_info_updated = pd.concat([att_info,new_rows_frame], axis = 0)"
   ]
  },
  {
   "cell_type": "code",
   "execution_count": 42,
   "metadata": {},
   "outputs": [
    {
     "data": {
      "text/plain": [
       "array(['LNR'], dtype=object)"
      ]
     },
     "execution_count": 42,
     "metadata": {},
     "output_type": "execute_result"
    }
   ],
   "source": [
    "# Are the columns in the census table contained in the informations table?\n",
    "np.setdiff1d(census.columns, att_info_updated['Attribute'])"
   ]
  },
  {
   "cell_type": "markdown",
   "metadata": {},
   "source": [
    "This is ok since this is the ID column"
   ]
  },
  {
   "cell_type": "code",
   "execution_count": 43,
   "metadata": {},
   "outputs": [],
   "source": [
    "class_census_cols = np.intersect1d(census.columns, att_info_updated['Attribute'])"
   ]
  },
  {
   "cell_type": "code",
   "execution_count": 44,
   "metadata": {},
   "outputs": [
    {
     "data": {
      "text/plain": [
       "334"
      ]
     },
     "execution_count": 44,
     "metadata": {},
     "output_type": "execute_result"
    }
   ],
   "source": [
    "len(class_census_cols)"
   ]
  },
  {
   "cell_type": "code",
   "execution_count": 45,
   "metadata": {},
   "outputs": [],
   "source": [
    "assert len(class_census_cols) == (census.shape[1] - 1) # -1 because of LNR col"
   ]
  },
  {
   "cell_type": "code",
   "execution_count": 46,
   "metadata": {},
   "outputs": [],
   "source": [
    "col_classification = att_info_updated[att_info_updated['Attribute'].isin(class_census_cols)]"
   ]
  },
  {
   "cell_type": "code",
   "execution_count": 47,
   "metadata": {},
   "outputs": [
    {
     "data": {
      "text/plain": [
       "PLZ8                  116\n",
       "Microcell (RR3_ID)     63\n",
       "Person                 51\n",
       "Household              45\n",
       "125m x 125m Grid       36\n",
       "Building                9\n",
       "RR1_ID                  5\n",
       "Microcell (RR4_ID)      3\n",
       "Postcode                3\n",
       "Community               3\n",
       "Name: Information level, dtype: int64"
      ]
     },
     "execution_count": 47,
     "metadata": {},
     "output_type": "execute_result"
    }
   ],
   "source": [
    "col_classification['Information level'].value_counts()"
   ]
  },
  {
   "cell_type": "markdown",
   "metadata": {},
   "source": [
    "# Exporting fixed docs"
   ]
  },
  {
   "cell_type": "markdown",
   "metadata": {},
   "source": [
    "## Variable Groups"
   ]
  },
  {
   "cell_type": "code",
   "execution_count": 48,
   "metadata": {},
   "outputs": [],
   "source": [
    "# att_info_updated.to_csv('data/trusted/var_group_list.csv', index = False)"
   ]
  },
  {
   "cell_type": "markdown",
   "metadata": {},
   "source": [
    "## Col Dtypes"
   ]
  },
  {
   "cell_type": "code",
   "execution_count": 49,
   "metadata": {},
   "outputs": [
    {
     "data": {
      "text/plain": [
       "array(['nominal', 'interval', 'binary', 'numeric'], dtype=object)"
      ]
     },
     "execution_count": 49,
     "metadata": {},
     "output_type": "execute_result"
    }
   ],
   "source": [
    "census_var_types['Type'].unique()"
   ]
  },
  {
   "cell_type": "code",
   "execution_count": 50,
   "metadata": {},
   "outputs": [],
   "source": [
    "dtype_map = {'nominal':'int',\n",
    "                'interval':'int',\n",
    "                'binary':'int',\n",
    "                'numeric':'float'}"
   ]
  },
  {
   "cell_type": "code",
   "execution_count": 51,
   "metadata": {},
   "outputs": [],
   "source": [
    "census_var_types['dtype'] = census_var_types['Type'].map(dtype_map)"
   ]
  },
  {
   "cell_type": "code",
   "execution_count": 52,
   "metadata": {},
   "outputs": [
    {
     "data": {
      "text/html": [
       "<div>\n",
       "<style scoped>\n",
       "    .dataframe tbody tr th:only-of-type {\n",
       "        vertical-align: middle;\n",
       "    }\n",
       "\n",
       "    .dataframe tbody tr th {\n",
       "        vertical-align: top;\n",
       "    }\n",
       "\n",
       "    .dataframe thead th {\n",
       "        text-align: right;\n",
       "    }\n",
       "</style>\n",
       "<table border=\"1\" class=\"dataframe\">\n",
       "  <thead>\n",
       "    <tr style=\"text-align: right;\">\n",
       "      <th></th>\n",
       "      <th>Attribute</th>\n",
       "      <th>Type</th>\n",
       "      <th>dtype</th>\n",
       "    </tr>\n",
       "  </thead>\n",
       "  <tbody>\n",
       "    <tr>\n",
       "      <th>0</th>\n",
       "      <td>AGER_TYP</td>\n",
       "      <td>nominal</td>\n",
       "      <td>int</td>\n",
       "    </tr>\n",
       "    <tr>\n",
       "      <th>5</th>\n",
       "      <td>ALTERSKATEGORIE_GROB</td>\n",
       "      <td>interval</td>\n",
       "      <td>int</td>\n",
       "    </tr>\n",
       "    <tr>\n",
       "      <th>11</th>\n",
       "      <td>ALTER_HH</td>\n",
       "      <td>interval</td>\n",
       "      <td>int</td>\n",
       "    </tr>\n",
       "    <tr>\n",
       "      <th>33</th>\n",
       "      <td>ANREDE_KZ</td>\n",
       "      <td>binary</td>\n",
       "      <td>int</td>\n",
       "    </tr>\n",
       "    <tr>\n",
       "      <th>36</th>\n",
       "      <td>ANZ_HAUSHALTE_AKTIV</td>\n",
       "      <td>numeric</td>\n",
       "      <td>float</td>\n",
       "    </tr>\n",
       "  </tbody>\n",
       "</table>\n",
       "</div>"
      ],
      "text/plain": [
       "               Attribute      Type  dtype\n",
       "0               AGER_TYP   nominal    int\n",
       "5   ALTERSKATEGORIE_GROB  interval    int\n",
       "11              ALTER_HH  interval    int\n",
       "33             ANREDE_KZ    binary    int\n",
       "36   ANZ_HAUSHALTE_AKTIV   numeric  float"
      ]
     },
     "execution_count": 52,
     "metadata": {},
     "output_type": "execute_result"
    }
   ],
   "source": [
    "census_var_types.head()"
   ]
  },
  {
   "cell_type": "code",
   "execution_count": 53,
   "metadata": {},
   "outputs": [],
   "source": [
    "census_var_types.loc[census_var_types['Attribute'] == 'D19_LETZTER_KAUF_BRANCHE_RZ','dtype'] = 'str'"
   ]
  },
  {
   "cell_type": "code",
   "execution_count": 54,
   "metadata": {},
   "outputs": [],
   "source": [
    "# census_var_types.to_csv('data/trusted/var_type_list.csv', index = False)"
   ]
  }
 ],
 "metadata": {
  "kernelspec": {
   "display_name": "arvato",
   "language": "python",
   "name": "python3"
  },
  "language_info": {
   "codemirror_mode": {
    "name": "ipython",
    "version": 3
   },
   "file_extension": ".py",
   "mimetype": "text/x-python",
   "name": "python",
   "nbconvert_exporter": "python",
   "pygments_lexer": "ipython3",
   "version": "3.10.9"
  },
  "orig_nbformat": 4
 },
 "nbformat": 4,
 "nbformat_minor": 2
}
