{
 "cells": [
  {
   "attachments": {},
   "cell_type": "markdown",
   "metadata": {},
   "source": [
    "# Segmentation Preprocessing Notebook\n",
    "\n",
    "## Introduction\n",
    "This notebook contains the preprocessing explorations for the selected features in the previous notebook.  \n",
    "\n",
    "The variables selected were selected for being possible candidates for use in clustering. This doesn't mean they will not be dropped.\n",
    "\n",
    "The results of this notebook will be turned into the `preprocessing.py` file that will directly take as input the raw data in the AZDIAS and CUSTOMERS dataset\n",
    "\n",
    "## Context/ Business Goal\n",
    "The targeted company for this project is an **Organics** company that is selling **mail-ordered** products."
   ]
  },
  {
   "attachments": {},
   "cell_type": "markdown",
   "metadata": {},
   "source": [
    "# Imports"
   ]
  },
  {
   "cell_type": "code",
   "execution_count": 1,
   "metadata": {},
   "outputs": [],
   "source": [
    "# Data Wrangling\n",
    "import pandas as pd\n",
    "import numpy as np\n",
    "\n",
    "# Data Viz\n",
    "import seaborn as sns"
   ]
  },
  {
   "cell_type": "code",
   "execution_count": 2,
   "metadata": {},
   "outputs": [],
   "source": [
    "census = pd.read_parquet('data/trusted/census_subset.parquet')"
   ]
  },
  {
   "cell_type": "code",
   "execution_count": 3,
   "metadata": {},
   "outputs": [
    {
     "data": {
      "text/html": [
       "<div>\n",
       "<style scoped>\n",
       "    .dataframe tbody tr th:only-of-type {\n",
       "        vertical-align: middle;\n",
       "    }\n",
       "\n",
       "    .dataframe tbody tr th {\n",
       "        vertical-align: top;\n",
       "    }\n",
       "\n",
       "    .dataframe thead th {\n",
       "        text-align: right;\n",
       "    }\n",
       "</style>\n",
       "<table border=\"1\" class=\"dataframe\">\n",
       "  <thead>\n",
       "    <tr style=\"text-align: right;\">\n",
       "      <th></th>\n",
       "      <th>LNR</th>\n",
       "      <th>ANZ_HAUSHALTE_AKTIV</th>\n",
       "      <th>ANZ_HH_TITEL</th>\n",
       "      <th>ANZ_PERSONEN</th>\n",
       "      <th>ANZ_TITEL</th>\n",
       "      <th>GEBURTSJAHR</th>\n",
       "      <th>KBA13_ANZAHL_PKW</th>\n",
       "      <th>MIN_GEBAEUDEJAHR</th>\n",
       "      <th>D19_BANKEN_DIREKT</th>\n",
       "      <th>D19_BANKEN_GROSS</th>\n",
       "      <th>...</th>\n",
       "      <th>KBA13_BJ_2004</th>\n",
       "      <th>KBA13_SEG_GELAENDEWAGEN</th>\n",
       "      <th>KBA13_VORB_0</th>\n",
       "      <th>BALLRAUM</th>\n",
       "      <th>EWDICHTE</th>\n",
       "      <th>INNENSTADT</th>\n",
       "      <th>GEBAEUDETYP_RASTER</th>\n",
       "      <th>KKK</th>\n",
       "      <th>MOBI_REGIO</th>\n",
       "      <th>ONLINE_AFFINITAET</th>\n",
       "    </tr>\n",
       "  </thead>\n",
       "  <tbody>\n",
       "    <tr>\n",
       "      <th>0</th>\n",
       "      <td>910215</td>\n",
       "      <td>NaN</td>\n",
       "      <td>NaN</td>\n",
       "      <td>NaN</td>\n",
       "      <td>NaN</td>\n",
       "      <td>0</td>\n",
       "      <td>NaN</td>\n",
       "      <td>NaN</td>\n",
       "      <td>0</td>\n",
       "      <td>0</td>\n",
       "      <td>...</td>\n",
       "      <td>NaN</td>\n",
       "      <td>NaN</td>\n",
       "      <td>NaN</td>\n",
       "      <td>NaN</td>\n",
       "      <td>NaN</td>\n",
       "      <td>NaN</td>\n",
       "      <td>NaN</td>\n",
       "      <td>NaN</td>\n",
       "      <td>NaN</td>\n",
       "      <td>1.0</td>\n",
       "    </tr>\n",
       "    <tr>\n",
       "      <th>1</th>\n",
       "      <td>910220</td>\n",
       "      <td>11.0</td>\n",
       "      <td>0.0</td>\n",
       "      <td>2.0</td>\n",
       "      <td>0.0</td>\n",
       "      <td>1996</td>\n",
       "      <td>963.0</td>\n",
       "      <td>1992.0</td>\n",
       "      <td>0</td>\n",
       "      <td>0</td>\n",
       "      <td>...</td>\n",
       "      <td>3.0</td>\n",
       "      <td>2.0</td>\n",
       "      <td>3.0</td>\n",
       "      <td>6.0</td>\n",
       "      <td>3.0</td>\n",
       "      <td>8.0</td>\n",
       "      <td>3.0</td>\n",
       "      <td>2.0</td>\n",
       "      <td>1.0</td>\n",
       "      <td>3.0</td>\n",
       "    </tr>\n",
       "    <tr>\n",
       "      <th>2</th>\n",
       "      <td>910225</td>\n",
       "      <td>10.0</td>\n",
       "      <td>0.0</td>\n",
       "      <td>1.0</td>\n",
       "      <td>0.0</td>\n",
       "      <td>1979</td>\n",
       "      <td>712.0</td>\n",
       "      <td>1992.0</td>\n",
       "      <td>0</td>\n",
       "      <td>0</td>\n",
       "      <td>...</td>\n",
       "      <td>4.0</td>\n",
       "      <td>5.0</td>\n",
       "      <td>3.0</td>\n",
       "      <td>2.0</td>\n",
       "      <td>4.0</td>\n",
       "      <td>4.0</td>\n",
       "      <td>4.0</td>\n",
       "      <td>2.0</td>\n",
       "      <td>3.0</td>\n",
       "      <td>2.0</td>\n",
       "    </tr>\n",
       "    <tr>\n",
       "      <th>3</th>\n",
       "      <td>910226</td>\n",
       "      <td>1.0</td>\n",
       "      <td>0.0</td>\n",
       "      <td>0.0</td>\n",
       "      <td>0.0</td>\n",
       "      <td>1957</td>\n",
       "      <td>596.0</td>\n",
       "      <td>1997.0</td>\n",
       "      <td>0</td>\n",
       "      <td>0</td>\n",
       "      <td>...</td>\n",
       "      <td>3.0</td>\n",
       "      <td>3.0</td>\n",
       "      <td>4.0</td>\n",
       "      <td>4.0</td>\n",
       "      <td>2.0</td>\n",
       "      <td>6.0</td>\n",
       "      <td>4.0</td>\n",
       "      <td>NaN</td>\n",
       "      <td>4.0</td>\n",
       "      <td>1.0</td>\n",
       "    </tr>\n",
       "    <tr>\n",
       "      <th>4</th>\n",
       "      <td>910241</td>\n",
       "      <td>3.0</td>\n",
       "      <td>0.0</td>\n",
       "      <td>4.0</td>\n",
       "      <td>0.0</td>\n",
       "      <td>1963</td>\n",
       "      <td>435.0</td>\n",
       "      <td>1992.0</td>\n",
       "      <td>1</td>\n",
       "      <td>2</td>\n",
       "      <td>...</td>\n",
       "      <td>3.0</td>\n",
       "      <td>3.0</td>\n",
       "      <td>4.0</td>\n",
       "      <td>2.0</td>\n",
       "      <td>5.0</td>\n",
       "      <td>1.0</td>\n",
       "      <td>5.0</td>\n",
       "      <td>3.0</td>\n",
       "      <td>3.0</td>\n",
       "      <td>5.0</td>\n",
       "    </tr>\n",
       "  </tbody>\n",
       "</table>\n",
       "<p>5 rows × 196 columns</p>\n",
       "</div>"
      ],
      "text/plain": [
       "      LNR  ANZ_HAUSHALTE_AKTIV  ANZ_HH_TITEL  ANZ_PERSONEN  ANZ_TITEL  \\\n",
       "0  910215                  NaN           NaN           NaN        NaN   \n",
       "1  910220                 11.0           0.0           2.0        0.0   \n",
       "2  910225                 10.0           0.0           1.0        0.0   \n",
       "3  910226                  1.0           0.0           0.0        0.0   \n",
       "4  910241                  3.0           0.0           4.0        0.0   \n",
       "\n",
       "   GEBURTSJAHR  KBA13_ANZAHL_PKW  MIN_GEBAEUDEJAHR  D19_BANKEN_DIREKT  \\\n",
       "0            0               NaN               NaN                  0   \n",
       "1         1996             963.0            1992.0                  0   \n",
       "2         1979             712.0            1992.0                  0   \n",
       "3         1957             596.0            1997.0                  0   \n",
       "4         1963             435.0            1992.0                  1   \n",
       "\n",
       "   D19_BANKEN_GROSS  ...  KBA13_BJ_2004  KBA13_SEG_GELAENDEWAGEN  \\\n",
       "0                 0  ...            NaN                      NaN   \n",
       "1                 0  ...            3.0                      2.0   \n",
       "2                 0  ...            4.0                      5.0   \n",
       "3                 0  ...            3.0                      3.0   \n",
       "4                 2  ...            3.0                      3.0   \n",
       "\n",
       "   KBA13_VORB_0  BALLRAUM  EWDICHTE  INNENSTADT  GEBAEUDETYP_RASTER  KKK  \\\n",
       "0           NaN       NaN       NaN         NaN                 NaN  NaN   \n",
       "1           3.0       6.0       3.0         8.0                 3.0  2.0   \n",
       "2           3.0       2.0       4.0         4.0                 4.0  2.0   \n",
       "3           4.0       4.0       2.0         6.0                 4.0  NaN   \n",
       "4           4.0       2.0       5.0         1.0                 5.0  3.0   \n",
       "\n",
       "   MOBI_REGIO ONLINE_AFFINITAET  \n",
       "0         NaN               1.0  \n",
       "1         1.0               3.0  \n",
       "2         3.0               2.0  \n",
       "3         4.0               1.0  \n",
       "4         3.0               5.0  \n",
       "\n",
       "[5 rows x 196 columns]"
      ]
     },
     "execution_count": 3,
     "metadata": {},
     "output_type": "execute_result"
    }
   ],
   "source": [
    "census.head()"
   ]
  },
  {
   "cell_type": "code",
   "execution_count": 4,
   "metadata": {},
   "outputs": [
    {
     "name": "stdout",
     "output_type": "stream",
     "text": [
      "<class 'pandas.core.frame.DataFrame'>\n",
      "RangeIndex: 891221 entries, 0 to 891220\n",
      "Columns: 196 entries, LNR to ONLINE_AFFINITAET\n",
      "dtypes: float64(153), int64(41), object(2)\n",
      "memory usage: 1.3+ GB\n"
     ]
    }
   ],
   "source": [
    "census.info()"
   ]
  },
  {
   "attachments": {},
   "cell_type": "markdown",
   "metadata": {},
   "source": [
    "# Utils"
   ]
  },
  {
   "cell_type": "code",
   "execution_count": 5,
   "metadata": {},
   "outputs": [],
   "source": [
    "def list_cols_by_type(frame, dtype):\n",
    "\n",
    "    return frame.dtypes[frame.dtypes == dtype].index"
   ]
  },
  {
   "attachments": {},
   "cell_type": "markdown",
   "metadata": {},
   "source": [
    "# NaN distribution\n",
    "A cut was made on the prior notebook, but it is important to know the general level of NaN values so we know how to handle them"
   ]
  },
  {
   "cell_type": "code",
   "execution_count": 6,
   "metadata": {},
   "outputs": [],
   "source": [
    "nan_rate = census.isna()\\\n",
    "                    .mean()\\\n",
    "                    .sort_values()"
   ]
  },
  {
   "cell_type": "code",
   "execution_count": 7,
   "metadata": {},
   "outputs": [
    {
     "data": {
      "text/plain": [
       "<AxesSubplot: ylabel='Count'>"
      ]
     },
     "execution_count": 7,
     "metadata": {},
     "output_type": "execute_result"
    },
    {
     "data": {
      "image/png": "[encoded data removed]",
      "text/plain": [
       "<Figure size 640x480 with 1 Axes>"
      ]
     },
     "metadata": {},
     "output_type": "display_data"
    }
   ],
   "source": [
    "sns.histplot(data = nan_rate)"
   ]
  },
  {
   "attachments": {},
   "cell_type": "markdown",
   "metadata": {},
   "source": [
    "The majority of columns are missing up to 20% of data."
   ]
  },
  {
   "attachments": {},
   "cell_type": "markdown",
   "metadata": {},
   "source": [
    "# Fixing object cols"
   ]
  },
  {
   "cell_type": "code",
   "execution_count": 8,
   "metadata": {},
   "outputs": [],
   "source": [
    "object_cols = list_cols_by_type(census, 'object')"
   ]
  },
  {
   "cell_type": "code",
   "execution_count": 9,
   "metadata": {},
   "outputs": [
    {
     "data": {
      "text/html": [
       "<div>\n",
       "<style scoped>\n",
       "    .dataframe tbody tr th:only-of-type {\n",
       "        vertical-align: middle;\n",
       "    }\n",
       "\n",
       "    .dataframe tbody tr th {\n",
       "        vertical-align: top;\n",
       "    }\n",
       "\n",
       "    .dataframe thead th {\n",
       "        text-align: right;\n",
       "    }\n",
       "</style>\n",
       "<table border=\"1\" class=\"dataframe\">\n",
       "  <thead>\n",
       "    <tr style=\"text-align: right;\">\n",
       "      <th></th>\n",
       "      <th>OST_WEST_KZ</th>\n",
       "      <th>CAMEO_DEU_2015</th>\n",
       "    </tr>\n",
       "  </thead>\n",
       "  <tbody>\n",
       "    <tr>\n",
       "      <th>0</th>\n",
       "      <td>None</td>\n",
       "      <td>None</td>\n",
       "    </tr>\n",
       "    <tr>\n",
       "      <th>1</th>\n",
       "      <td>W</td>\n",
       "      <td>8A</td>\n",
       "    </tr>\n",
       "    <tr>\n",
       "      <th>2</th>\n",
       "      <td>W</td>\n",
       "      <td>4C</td>\n",
       "    </tr>\n",
       "    <tr>\n",
       "      <th>3</th>\n",
       "      <td>W</td>\n",
       "      <td>2A</td>\n",
       "    </tr>\n",
       "    <tr>\n",
       "      <th>4</th>\n",
       "      <td>W</td>\n",
       "      <td>6B</td>\n",
       "    </tr>\n",
       "    <tr>\n",
       "      <th>...</th>\n",
       "      <td>...</td>\n",
       "      <td>...</td>\n",
       "    </tr>\n",
       "    <tr>\n",
       "      <th>891216</th>\n",
       "      <td>W</td>\n",
       "      <td>7A</td>\n",
       "    </tr>\n",
       "    <tr>\n",
       "      <th>891217</th>\n",
       "      <td>W</td>\n",
       "      <td>9D</td>\n",
       "    </tr>\n",
       "    <tr>\n",
       "      <th>891218</th>\n",
       "      <td>W</td>\n",
       "      <td>4C</td>\n",
       "    </tr>\n",
       "    <tr>\n",
       "      <th>891219</th>\n",
       "      <td>W</td>\n",
       "      <td>9D</td>\n",
       "    </tr>\n",
       "    <tr>\n",
       "      <th>891220</th>\n",
       "      <td>W</td>\n",
       "      <td>6B</td>\n",
       "    </tr>\n",
       "  </tbody>\n",
       "</table>\n",
       "<p>891221 rows × 2 columns</p>\n",
       "</div>"
      ],
      "text/plain": [
       "       OST_WEST_KZ CAMEO_DEU_2015\n",
       "0             None           None\n",
       "1                W             8A\n",
       "2                W             4C\n",
       "3                W             2A\n",
       "4                W             6B\n",
       "...            ...            ...\n",
       "891216           W             7A\n",
       "891217           W             9D\n",
       "891218           W             4C\n",
       "891219           W             9D\n",
       "891220           W             6B\n",
       "\n",
       "[891221 rows x 2 columns]"
      ]
     },
     "execution_count": 9,
     "metadata": {},
     "output_type": "execute_result"
    }
   ],
   "source": [
    "census[object_cols]"
   ]
  },
  {
   "attachments": {},
   "cell_type": "markdown",
   "metadata": {},
   "source": [
    "## Ost - West"
   ]
  },
  {
   "cell_type": "code",
   "execution_count": 10,
   "metadata": {},
   "outputs": [
    {
     "data": {
      "text/plain": [
       "array([None, 'W', 'O'], dtype=object)"
      ]
     },
     "execution_count": 10,
     "metadata": {},
     "output_type": "execute_result"
    }
   ],
   "source": [
    "census['OST_WEST_KZ'].unique()"
   ]
  },
  {
   "cell_type": "code",
   "execution_count": 11,
   "metadata": {},
   "outputs": [],
   "source": [
    "census['OST_WEST_KZ'] = census['OST_WEST_KZ'].map({'O':0,'W':1})"
   ]
  },
  {
   "attachments": {},
   "cell_type": "markdown",
   "metadata": {},
   "source": [
    "## CAMEO_DEU_2015"
   ]
  },
  {
   "cell_type": "code",
   "execution_count": 12,
   "metadata": {},
   "outputs": [
    {
     "name": "stdout",
     "output_type": "stream",
     "text": [
      "['8A', '4C', '2A', '6B', '8C', '4A', '2D', '1A', '1E', '9D', '5C', '8B', '7A', '5D', '9E', '9B', '1B', '3D', '4E', '4B', '3C', '5A', '7B', '9A', '6D', '6E', '2C', '7C', '9C', '7D', '5E', '1D', '8D', '6C', '6A', '5B', '4D', '3A', '2B', '7E', '3B', '6F', '5F', '1C']\n"
     ]
    }
   ],
   "source": [
    "unique_vals_cameo = list(census['CAMEO_DEU_2015'].dropna().unique())\n",
    "\n",
    "print(unique_vals_cameo)"
   ]
  },
  {
   "cell_type": "code",
   "execution_count": 13,
   "metadata": {},
   "outputs": [],
   "source": [
    "# Sorting values\n",
    "unique_vals_cameo = sorted(unique_vals_cameo)"
   ]
  },
  {
   "cell_type": "code",
   "execution_count": 14,
   "metadata": {},
   "outputs": [
    {
     "data": {
      "text/plain": [
       "['1A',\n",
       " '1B',\n",
       " '1C',\n",
       " '1D',\n",
       " '1E',\n",
       " '2A',\n",
       " '2B',\n",
       " '2C',\n",
       " '2D',\n",
       " '3A',\n",
       " '3B',\n",
       " '3C',\n",
       " '3D',\n",
       " '4A',\n",
       " '4B',\n",
       " '4C',\n",
       " '4D',\n",
       " '4E',\n",
       " '5A',\n",
       " '5B',\n",
       " '5C',\n",
       " '5D',\n",
       " '5E',\n",
       " '5F',\n",
       " '6A',\n",
       " '6B',\n",
       " '6C',\n",
       " '6D',\n",
       " '6E',\n",
       " '6F',\n",
       " '7A',\n",
       " '7B',\n",
       " '7C',\n",
       " '7D',\n",
       " '7E',\n",
       " '8A',\n",
       " '8B',\n",
       " '8C',\n",
       " '8D',\n",
       " '9A',\n",
       " '9B',\n",
       " '9C',\n",
       " '9D',\n",
       " '9E']"
      ]
     },
     "execution_count": 14,
     "metadata": {},
     "output_type": "execute_result"
    }
   ],
   "source": [
    "unique_vals_cameo"
   ]
  },
  {
   "attachments": {},
   "cell_type": "markdown",
   "metadata": {},
   "source": [
    "From the 'Values' Spreasheet, we can see that these variables have an ordinal component to them. Therefore, each category will be associated to unique integers, like the other columns"
   ]
  },
  {
   "cell_type": "code",
   "execution_count": 15,
   "metadata": {},
   "outputs": [],
   "source": [
    "int_range = range(1, len(unique_vals_cameo) + 1)\n",
    "\n",
    "cameo_map = dict(zip(unique_vals_cameo, int_range))"
   ]
  },
  {
   "cell_type": "code",
   "execution_count": 16,
   "metadata": {},
   "outputs": [],
   "source": [
    "assert max(int_range) == len(unique_vals_cameo)"
   ]
  },
  {
   "cell_type": "code",
   "execution_count": 17,
   "metadata": {},
   "outputs": [
    {
     "data": {
      "text/plain": [
       "0    None\n",
       "1      8A\n",
       "2      4C\n",
       "3      2A\n",
       "4      6B\n",
       "Name: CAMEO_DEU_2015, dtype: object"
      ]
     },
     "execution_count": 17,
     "metadata": {},
     "output_type": "execute_result"
    }
   ],
   "source": [
    "census['CAMEO_DEU_2015'].head()"
   ]
  },
  {
   "cell_type": "code",
   "execution_count": 18,
   "metadata": {},
   "outputs": [],
   "source": [
    "census['CAMEO_DEU_2015'] = census['CAMEO_DEU_2015'].map(cameo_map)"
   ]
  },
  {
   "cell_type": "code",
   "execution_count": 19,
   "metadata": {},
   "outputs": [
    {
     "data": {
      "text/plain": [
       "0.11147852216229195"
      ]
     },
     "execution_count": 19,
     "metadata": {},
     "output_type": "execute_result"
    }
   ],
   "source": [
    "census['CAMEO_DEU_2015'].isna().mean()"
   ]
  },
  {
   "attachments": {},
   "cell_type": "markdown",
   "metadata": {},
   "source": [
    "# Checking INT cols\n",
    "Checking especially if there are any NaNs/ problems that were not identified and if the amount of actual unique categories in each column is helpful to use them as scale"
   ]
  },
  {
   "cell_type": "code",
   "execution_count": 20,
   "metadata": {},
   "outputs": [],
   "source": [
    "int_col_list = list_cols_by_type(census, 'int64')"
   ]
  },
  {
   "cell_type": "code",
   "execution_count": 21,
   "metadata": {},
   "outputs": [
    {
     "name": "stdout",
     "output_type": "stream",
     "text": [
      "LNR\n",
      "# of unique values: 891221 min: 191653 max: 1082873\n",
      "\n",
      "GEBURTSJAHR\n",
      "# of unique values: 117 min: 0 max: 2017\n",
      "\n",
      "D19_BANKEN_DIREKT\n",
      "# of unique values: 8 min: 0 max: 7\n",
      "\n",
      "D19_BANKEN_GROSS\n",
      "# of unique values: 7 min: 0 max: 6\n",
      "\n",
      "D19_BANKEN_LOKAL\n",
      "# of unique values: 8 min: 0 max: 7\n",
      "\n",
      "D19_BANKEN_REST\n",
      "# of unique values: 8 min: 0 max: 7\n",
      "\n",
      "D19_BIO_OEKO\n",
      "# of unique values: 8 min: 0 max: 7\n",
      "\n",
      "D19_DIGIT_SERV\n",
      "# of unique values: 8 min: 0 max: 7\n",
      "\n",
      "D19_LEBENSMITTEL\n",
      "# of unique values: 8 min: 0 max: 7\n",
      "\n",
      "D19_VOLLSORTIMENT\n",
      "# of unique values: 8 min: 0 max: 7\n",
      "\n",
      "D19_VERSAND_REST\n",
      "# of unique values: 8 min: 0 max: 7\n",
      "\n",
      "D19_GESAMT_DATUM\n",
      "# of unique values: 10 min: 1 max: 10\n",
      "\n",
      "D19_BANKEN_DATUM\n",
      "# of unique values: 10 min: 1 max: 10\n",
      "\n",
      "D19_VERSAND_DATUM\n",
      "# of unique values: 10 min: 1 max: 10\n",
      "\n",
      "D19_GESAMT_ANZ_12\n",
      "# of unique values: 7 min: 0 max: 6\n",
      "\n",
      "D19_VERSAND_ANZ_12\n",
      "# of unique values: 7 min: 0 max: 6\n",
      "\n",
      "ALTERSKATEGORIE_GROB\n",
      "# of unique values: 5 min: 1 max: 9\n",
      "\n",
      "ANREDE_KZ\n",
      "# of unique values: 2 min: 1 max: 2\n",
      "\n",
      "FINANZ_MINIMALIST\n",
      "# of unique values: 5 min: 1 max: 5\n",
      "\n",
      "FINANZ_SPARER\n",
      "# of unique values: 5 min: 1 max: 5\n",
      "\n",
      "FINANZ_VORSORGER\n",
      "# of unique values: 5 min: 1 max: 5\n",
      "\n",
      "FINANZ_ANLEGER\n",
      "# of unique values: 5 min: 1 max: 5\n",
      "\n",
      "FINANZ_UNAUFFAELLIGER\n",
      "# of unique values: 5 min: 1 max: 5\n",
      "\n",
      "FINANZ_HAUSBAUER\n",
      "# of unique values: 5 min: 1 max: 5\n",
      "\n",
      "FINANZTYP\n",
      "# of unique values: 6 min: 1 max: 6\n",
      "\n",
      "GREEN_AVANTGARDE\n",
      "# of unique values: 2 min: 0 max: 1\n",
      "\n",
      "SEMIO_SOZ\n",
      "# of unique values: 7 min: 1 max: 7\n",
      "\n",
      "SEMIO_FAM\n",
      "# of unique values: 7 min: 1 max: 7\n",
      "\n",
      "SEMIO_REL\n",
      "# of unique values: 7 min: 1 max: 7\n",
      "\n",
      "SEMIO_MAT\n",
      "# of unique values: 7 min: 1 max: 7\n",
      "\n",
      "SEMIO_VERT\n",
      "# of unique values: 7 min: 1 max: 7\n",
      "\n",
      "SEMIO_LUST\n",
      "# of unique values: 7 min: 1 max: 7\n",
      "\n",
      "SEMIO_ERL\n",
      "# of unique values: 7 min: 1 max: 7\n",
      "\n",
      "SEMIO_KULT\n",
      "# of unique values: 7 min: 1 max: 7\n",
      "\n",
      "SEMIO_RAT\n",
      "# of unique values: 7 min: 1 max: 7\n",
      "\n",
      "SEMIO_KRIT\n",
      "# of unique values: 7 min: 1 max: 7\n",
      "\n",
      "SEMIO_DOM\n",
      "# of unique values: 7 min: 1 max: 7\n",
      "\n",
      "SEMIO_KAEM\n",
      "# of unique values: 7 min: 1 max: 7\n",
      "\n",
      "SEMIO_PFLICHT\n",
      "# of unique values: 7 min: 1 max: 7\n",
      "\n",
      "SEMIO_TRADV\n",
      "# of unique values: 7 min: 1 max: 7\n",
      "\n",
      "ZABEOTYP\n",
      "# of unique values: 6 min: 1 max: 6\n",
      "\n"
     ]
    }
   ],
   "source": [
    "for col in int_col_list:\n",
    "\n",
    "    print(col)\n",
    "\n",
    "    print('# of unique values:', census[col].nunique(), f'min: {census[col].min()}', f'max: {census[col].max()}', end = '\\n\\n')"
   ]
  },
  {
   "attachments": {},
   "cell_type": "markdown",
   "metadata": {},
   "source": [
    "Integer columns look OK, no out of ordinary values are in the maxima or minima"
   ]
  },
  {
   "attachments": {},
   "cell_type": "markdown",
   "metadata": {},
   "source": [
    "# Float columns\n",
    "Some columns are actually numeric, but not all of them. This happens especially because of float values"
   ]
  },
  {
   "cell_type": "code",
   "execution_count": 22,
   "metadata": {},
   "outputs": [],
   "source": [
    "num_cols = ['ANZ_HAUSHALTE_AKTIV',\n",
    "            'ANZ_HH_TITEL',\n",
    "            'ANZ_PERSONEN',\n",
    "            'ANZ_TITEL',\n",
    "            'GEBURTSJAHR',\n",
    "            'KBA13_ANZAHL_PKW',\n",
    "            'MIN_GEBAEUDEJAHR']\n",
    "\n",
    "num_cols = np.intersect1d(census.columns, num_cols)"
   ]
  },
  {
   "cell_type": "code",
   "execution_count": 23,
   "metadata": {},
   "outputs": [],
   "source": [
    "float_col_list = list_cols_by_type(census, 'float64')"
   ]
  },
  {
   "cell_type": "code",
   "execution_count": 24,
   "metadata": {},
   "outputs": [],
   "source": [
    "cat_cols_as_float = list(set(float_col_list) - set(num_cols)) "
   ]
  },
  {
   "cell_type": "code",
   "execution_count": 25,
   "metadata": {},
   "outputs": [
    {
     "data": {
      "text/plain": [
       "True"
      ]
     },
     "execution_count": 25,
     "metadata": {},
     "output_type": "execute_result"
    }
   ],
   "source": [
    "# Are all values >= 0?\n",
    "((census[float_col_list] < 0).any() == False).all()"
   ]
  },
  {
   "attachments": {},
   "cell_type": "markdown",
   "metadata": {},
   "source": [
    "## Numeric Cols"
   ]
  },
  {
   "cell_type": "code",
   "execution_count": 26,
   "metadata": {},
   "outputs": [
    {
     "data": {
      "text/html": [
       "<div>\n",
       "<style scoped>\n",
       "    .dataframe tbody tr th:only-of-type {\n",
       "        vertical-align: middle;\n",
       "    }\n",
       "\n",
       "    .dataframe tbody tr th {\n",
       "        vertical-align: top;\n",
       "    }\n",
       "\n",
       "    .dataframe thead th {\n",
       "        text-align: right;\n",
       "    }\n",
       "</style>\n",
       "<table border=\"1\" class=\"dataframe\">\n",
       "  <thead>\n",
       "    <tr style=\"text-align: right;\">\n",
       "      <th></th>\n",
       "      <th>ANZ_HAUSHALTE_AKTIV</th>\n",
       "      <th>ANZ_HH_TITEL</th>\n",
       "      <th>ANZ_PERSONEN</th>\n",
       "      <th>ANZ_TITEL</th>\n",
       "      <th>GEBURTSJAHR</th>\n",
       "      <th>KBA13_ANZAHL_PKW</th>\n",
       "      <th>MIN_GEBAEUDEJAHR</th>\n",
       "    </tr>\n",
       "  </thead>\n",
       "  <tbody>\n",
       "    <tr>\n",
       "      <th>count</th>\n",
       "      <td>798073.000000</td>\n",
       "      <td>794213.000000</td>\n",
       "      <td>817722.000000</td>\n",
       "      <td>817722.000000</td>\n",
       "      <td>891221.000000</td>\n",
       "      <td>785421.000000</td>\n",
       "      <td>798073.000000</td>\n",
       "    </tr>\n",
       "    <tr>\n",
       "      <th>mean</th>\n",
       "      <td>8.287263</td>\n",
       "      <td>0.040647</td>\n",
       "      <td>1.727637</td>\n",
       "      <td>0.004162</td>\n",
       "      <td>1101.178533</td>\n",
       "      <td>619.701439</td>\n",
       "      <td>1993.277011</td>\n",
       "    </tr>\n",
       "    <tr>\n",
       "      <th>std</th>\n",
       "      <td>15.628087</td>\n",
       "      <td>0.324028</td>\n",
       "      <td>1.155849</td>\n",
       "      <td>0.068855</td>\n",
       "      <td>976.583551</td>\n",
       "      <td>340.034318</td>\n",
       "      <td>3.332739</td>\n",
       "    </tr>\n",
       "    <tr>\n",
       "      <th>min</th>\n",
       "      <td>0.000000</td>\n",
       "      <td>0.000000</td>\n",
       "      <td>0.000000</td>\n",
       "      <td>0.000000</td>\n",
       "      <td>0.000000</td>\n",
       "      <td>0.000000</td>\n",
       "      <td>1985.000000</td>\n",
       "    </tr>\n",
       "    <tr>\n",
       "      <th>25%</th>\n",
       "      <td>1.000000</td>\n",
       "      <td>0.000000</td>\n",
       "      <td>1.000000</td>\n",
       "      <td>0.000000</td>\n",
       "      <td>0.000000</td>\n",
       "      <td>384.000000</td>\n",
       "      <td>1992.000000</td>\n",
       "    </tr>\n",
       "    <tr>\n",
       "      <th>50%</th>\n",
       "      <td>4.000000</td>\n",
       "      <td>0.000000</td>\n",
       "      <td>1.000000</td>\n",
       "      <td>0.000000</td>\n",
       "      <td>1943.000000</td>\n",
       "      <td>549.000000</td>\n",
       "      <td>1992.000000</td>\n",
       "    </tr>\n",
       "    <tr>\n",
       "      <th>75%</th>\n",
       "      <td>9.000000</td>\n",
       "      <td>0.000000</td>\n",
       "      <td>2.000000</td>\n",
       "      <td>0.000000</td>\n",
       "      <td>1970.000000</td>\n",
       "      <td>778.000000</td>\n",
       "      <td>1993.000000</td>\n",
       "    </tr>\n",
       "    <tr>\n",
       "      <th>max</th>\n",
       "      <td>595.000000</td>\n",
       "      <td>23.000000</td>\n",
       "      <td>45.000000</td>\n",
       "      <td>6.000000</td>\n",
       "      <td>2017.000000</td>\n",
       "      <td>2300.000000</td>\n",
       "      <td>2016.000000</td>\n",
       "    </tr>\n",
       "  </tbody>\n",
       "</table>\n",
       "</div>"
      ],
      "text/plain": [
       "       ANZ_HAUSHALTE_AKTIV   ANZ_HH_TITEL   ANZ_PERSONEN      ANZ_TITEL  \\\n",
       "count        798073.000000  794213.000000  817722.000000  817722.000000   \n",
       "mean              8.287263       0.040647       1.727637       0.004162   \n",
       "std              15.628087       0.324028       1.155849       0.068855   \n",
       "min               0.000000       0.000000       0.000000       0.000000   \n",
       "25%               1.000000       0.000000       1.000000       0.000000   \n",
       "50%               4.000000       0.000000       1.000000       0.000000   \n",
       "75%               9.000000       0.000000       2.000000       0.000000   \n",
       "max             595.000000      23.000000      45.000000       6.000000   \n",
       "\n",
       "         GEBURTSJAHR  KBA13_ANZAHL_PKW  MIN_GEBAEUDEJAHR  \n",
       "count  891221.000000     785421.000000     798073.000000  \n",
       "mean     1101.178533        619.701439       1993.277011  \n",
       "std       976.583551        340.034318          3.332739  \n",
       "min         0.000000          0.000000       1985.000000  \n",
       "25%         0.000000        384.000000       1992.000000  \n",
       "50%      1943.000000        549.000000       1992.000000  \n",
       "75%      1970.000000        778.000000       1993.000000  \n",
       "max      2017.000000       2300.000000       2016.000000  "
      ]
     },
     "execution_count": 26,
     "metadata": {},
     "output_type": "execute_result"
    }
   ],
   "source": [
    "census[num_cols].describe()"
   ]
  },
  {
   "attachments": {},
   "cell_type": "markdown",
   "metadata": {},
   "source": [
    "Some problems:\n",
    "\n",
    "- Birthyear 0\n",
    "- Number of persons in HOUSEHOLD having max at 45"
   ]
  },
  {
   "attachments": {},
   "cell_type": "markdown",
   "metadata": {},
   "source": [
    "#### Person count"
   ]
  },
  {
   "cell_type": "code",
   "execution_count": 27,
   "metadata": {},
   "outputs": [
    {
     "data": {
      "text/plain": [
       "30"
      ]
     },
     "execution_count": 27,
     "metadata": {},
     "output_type": "execute_result"
    }
   ],
   "source": [
    "census['ANZ_PERSONEN'].nunique()"
   ]
  },
  {
   "cell_type": "code",
   "execution_count": 28,
   "metadata": {},
   "outputs": [
    {
     "data": {
      "text/plain": [
       "array([nan,  2.,  1.,  0.,  4.,  3.,  5.,  7.,  6.,  8., 12.,  9., 21.,\n",
       "       10., 13., 11., 14., 45., 20., 31., 29., 37., 16., 22., 15., 23.,\n",
       "       18., 35., 17., 40., 38.])"
      ]
     },
     "execution_count": 28,
     "metadata": {},
     "output_type": "execute_result"
    }
   ],
   "source": [
    "census['ANZ_PERSONEN'].unique()"
   ]
  },
  {
   "cell_type": "code",
   "execution_count": 29,
   "metadata": {},
   "outputs": [
    {
     "data": {
      "text/plain": [
       "162"
      ]
     },
     "execution_count": 29,
     "metadata": {},
     "output_type": "execute_result"
    }
   ],
   "source": [
    "census[census['ANZ_PERSONEN'] >= 10].shape[0]"
   ]
  },
  {
   "attachments": {},
   "cell_type": "markdown",
   "metadata": {},
   "source": [
    "Only a few entries are greater than 10. Will not be handled"
   ]
  },
  {
   "attachments": {},
   "cell_type": "markdown",
   "metadata": {},
   "source": [
    "#### YoB "
   ]
  },
  {
   "cell_type": "code",
   "execution_count": 30,
   "metadata": {},
   "outputs": [
    {
     "data": {
      "text/plain": [
       "(392318, 196)"
      ]
     },
     "execution_count": 30,
     "metadata": {},
     "output_type": "execute_result"
    }
   ],
   "source": [
    "census[census['GEBURTSJAHR'] == 0].shape"
   ]
  },
  {
   "attachments": {},
   "cell_type": "markdown",
   "metadata": {},
   "source": [
    "Year of Birth on the other hand has a lot of invalid entries. They account to almost half of the database, actually."
   ]
  },
  {
   "cell_type": "code",
   "execution_count": 31,
   "metadata": {},
   "outputs": [
    {
     "data": {
      "text/plain": [
       "0.0"
      ]
     },
     "execution_count": 31,
     "metadata": {},
     "output_type": "execute_result"
    }
   ],
   "source": [
    "census['GEBURTSJAHR'].isna().mean()"
   ]
  },
  {
   "cell_type": "code",
   "execution_count": 32,
   "metadata": {},
   "outputs": [],
   "source": [
    "census['GEBURTSJAHR'] = census['GEBURTSJAHR'].replace(0, np.nan)"
   ]
  },
  {
   "cell_type": "code",
   "execution_count": 33,
   "metadata": {},
   "outputs": [
    {
     "data": {
      "text/plain": [
       "0.4402028228688507"
      ]
     },
     "execution_count": 33,
     "metadata": {},
     "output_type": "execute_result"
    }
   ],
   "source": [
    "census['GEBURTSJAHR'].isna().mean()"
   ]
  },
  {
   "attachments": {},
   "cell_type": "markdown",
   "metadata": {},
   "source": [
    "40% of the year of birth isn't filled "
   ]
  },
  {
   "cell_type": "code",
   "execution_count": 34,
   "metadata": {},
   "outputs": [
    {
     "data": {
      "text/plain": [
       "0.0"
      ]
     },
     "execution_count": 34,
     "metadata": {},
     "output_type": "execute_result"
    }
   ],
   "source": [
    "census['ALTERSKATEGORIE_GROB'].isna().mean()"
   ]
  },
  {
   "attachments": {},
   "cell_type": "markdown",
   "metadata": {},
   "source": [
    "but we do have a sense of age by the `ALTERSKATEGORIE_GROB` column. So birthyear might be dropped."
   ]
  },
  {
   "cell_type": "code",
   "execution_count": 35,
   "metadata": {},
   "outputs": [],
   "source": [
    "census.drop(columns = 'GEBURTSJAHR', inplace = True)"
   ]
  },
  {
   "attachments": {},
   "cell_type": "markdown",
   "metadata": {},
   "source": [
    "## Other Cols"
   ]
  },
  {
   "cell_type": "code",
   "execution_count": 36,
   "metadata": {},
   "outputs": [
    {
     "name": "stdout",
     "output_type": "stream",
     "text": [
      "VERS_TYP Binary\n",
      "SOHO_KZ Binary\n",
      "OST_WEST_KZ Binary\n"
     ]
    }
   ],
   "source": [
    "# Looking for binary cols\n",
    "for col in cat_cols_as_float:\n",
    "\n",
    "    column = census[col].dropna()\n",
    "\n",
    "    unique_values = column.unique()\n",
    "\n",
    "    if len(unique_values) == 2:\n",
    "\n",
    "        print(col, 'Binary')"
   ]
  },
  {
   "attachments": {},
   "cell_type": "markdown",
   "metadata": {},
   "source": [
    "These are in fact binary"
   ]
  },
  {
   "cell_type": "code",
   "execution_count": 37,
   "metadata": {},
   "outputs": [
    {
     "data": {
      "text/plain": [
       "0"
      ]
     },
     "execution_count": 37,
     "metadata": {},
     "output_type": "execute_result"
    }
   ],
   "source": [
    "(census[cat_cols_as_float] < 0).any().sum()"
   ]
  },
  {
   "attachments": {},
   "cell_type": "markdown",
   "metadata": {},
   "source": [
    "No columns present negative values"
   ]
  },
  {
   "attachments": {},
   "cell_type": "markdown",
   "metadata": {},
   "source": [
    "# Segregating columns by type\n",
    "\n",
    "Segregation was done manually on the 'Values' file"
   ]
  },
  {
   "cell_type": "code",
   "execution_count": 38,
   "metadata": {},
   "outputs": [],
   "source": [
    "att_info = pd.read_excel('data/raw/DIAS Attributes - Values 2017.xlsx', usecols = 'B:E', header = 1)"
   ]
  },
  {
   "cell_type": "code",
   "execution_count": 39,
   "metadata": {},
   "outputs": [],
   "source": [
    "var_types = att_info[['Attribute','Type']].dropna()"
   ]
  },
  {
   "cell_type": "code",
   "execution_count": 40,
   "metadata": {},
   "outputs": [
    {
     "data": {
      "text/plain": [
       "195"
      ]
     },
     "execution_count": 40,
     "metadata": {},
     "output_type": "execute_result"
    }
   ],
   "source": [
    "len(census.columns)"
   ]
  },
  {
   "cell_type": "code",
   "execution_count": 41,
   "metadata": {},
   "outputs": [
    {
     "data": {
      "text/html": [
       "<div>\n",
       "<style scoped>\n",
       "    .dataframe tbody tr th:only-of-type {\n",
       "        vertical-align: middle;\n",
       "    }\n",
       "\n",
       "    .dataframe tbody tr th {\n",
       "        vertical-align: top;\n",
       "    }\n",
       "\n",
       "    .dataframe thead th {\n",
       "        text-align: right;\n",
       "    }\n",
       "</style>\n",
       "<table border=\"1\" class=\"dataframe\">\n",
       "  <thead>\n",
       "    <tr style=\"text-align: right;\">\n",
       "      <th></th>\n",
       "      <th>Attribute</th>\n",
       "      <th>Type</th>\n",
       "    </tr>\n",
       "  </thead>\n",
       "  <tbody>\n",
       "    <tr>\n",
       "      <th>5</th>\n",
       "      <td>ALTERSKATEGORIE_GROB</td>\n",
       "      <td>interval</td>\n",
       "    </tr>\n",
       "    <tr>\n",
       "      <th>33</th>\n",
       "      <td>ANREDE_KZ</td>\n",
       "      <td>binary</td>\n",
       "    </tr>\n",
       "    <tr>\n",
       "      <th>36</th>\n",
       "      <td>ANZ_HAUSHALTE_AKTIV</td>\n",
       "      <td>numeric</td>\n",
       "    </tr>\n",
       "    <tr>\n",
       "      <th>37</th>\n",
       "      <td>ANZ_HH_TITEL</td>\n",
       "      <td>numeric</td>\n",
       "    </tr>\n",
       "    <tr>\n",
       "      <th>38</th>\n",
       "      <td>ANZ_PERSONEN</td>\n",
       "      <td>numeric</td>\n",
       "    </tr>\n",
       "    <tr>\n",
       "      <th>...</th>\n",
       "      <td>...</td>\n",
       "      <td>...</td>\n",
       "    </tr>\n",
       "    <tr>\n",
       "      <th>2216</th>\n",
       "      <td>VERS_TYP</td>\n",
       "      <td>binary</td>\n",
       "    </tr>\n",
       "    <tr>\n",
       "      <th>2219</th>\n",
       "      <td>WOHNDAUER_2008</td>\n",
       "      <td>interval</td>\n",
       "    </tr>\n",
       "    <tr>\n",
       "      <th>2229</th>\n",
       "      <td>WOHNLAGE</td>\n",
       "      <td>interval</td>\n",
       "    </tr>\n",
       "    <tr>\n",
       "      <th>2244</th>\n",
       "      <td>W_KEIT_KIND_HH</td>\n",
       "      <td>interval</td>\n",
       "    </tr>\n",
       "    <tr>\n",
       "      <th>2251</th>\n",
       "      <td>ZABEOTYP</td>\n",
       "      <td>interval</td>\n",
       "    </tr>\n",
       "  </tbody>\n",
       "</table>\n",
       "<p>167 rows × 2 columns</p>\n",
       "</div>"
      ],
      "text/plain": [
       "                 Attribute      Type\n",
       "5     ALTERSKATEGORIE_GROB  interval\n",
       "33               ANREDE_KZ    binary\n",
       "36     ANZ_HAUSHALTE_AKTIV   numeric\n",
       "37            ANZ_HH_TITEL   numeric\n",
       "38            ANZ_PERSONEN   numeric\n",
       "...                    ...       ...\n",
       "2216              VERS_TYP    binary\n",
       "2219        WOHNDAUER_2008  interval\n",
       "2229              WOHNLAGE  interval\n",
       "2244        W_KEIT_KIND_HH  interval\n",
       "2251              ZABEOTYP  interval\n",
       "\n",
       "[167 rows x 2 columns]"
      ]
     },
     "execution_count": 41,
     "metadata": {},
     "output_type": "execute_result"
    }
   ],
   "source": [
    "var_types[var_types['Attribute'].isin(census.columns.drop('LNR'))]"
   ]
  },
  {
   "cell_type": "code",
   "execution_count": 42,
   "metadata": {},
   "outputs": [
    {
     "name": "stdout",
     "output_type": "stream",
     "text": [
      "['ALTERSKATEGORIE_FEIN' 'ANZ_KINDER' 'ANZ_STATISTISCHE_HAUSHALTE' 'ARBEIT'\n",
      " 'CJT_KATALOGNUTZER' 'CJT_TYP_1' 'CJT_TYP_2' 'CJT_TYP_3' 'CJT_TYP_4'\n",
      " 'CJT_TYP_5' 'CJT_TYP_6' 'D19_BANKEN_DIREKT' 'D19_BANKEN_GROSS'\n",
      " 'D19_BANKEN_LOKAL' 'D19_BANKEN_REST' 'D19_BIO_OEKO' 'D19_DIGIT_SERV'\n",
      " 'D19_LEBENSMITTEL' 'D19_VERSAND_REST' 'D19_VOLLSORTIMENT' 'KBA13_BAUMAX'\n",
      " 'KBA13_CCM_1401_2500' 'KBA13_GBZ' 'KBA13_HHZ' 'KBA13_KMH_210' 'LNR'\n",
      " 'SOHO_KZ' 'STRUKTURTYP']\n"
     ]
    }
   ],
   "source": [
    "not_found = np.setdiff1d(census.columns, var_types['Attribute'])\n",
    "\n",
    "print(not_found)"
   ]
  },
  {
   "cell_type": "code",
   "execution_count": 43,
   "metadata": {},
   "outputs": [],
   "source": [
    "# Manually assigning types to variables not found because of name matching problems\n",
    "new_rows = [('ALTERSKATEGORIE_FEIN','interval'),\n",
    "            ('ANZ_KINDER','numeric'),\n",
    "            ('ANZ_STATISTISCHE_HAUSHALTE','numeric'),\n",
    "            ('ARBEIT',),\n",
    "            ('CJT_KATALOGNUTZER','interval'),\n",
    "            ('CJT_TYP_1','binary'),\n",
    "            ('CJT_TYP_2','binary'),\n",
    "            ('CJT_TYP_3','binary'),\n",
    "            ('CJT_TYP_4','binary'),\n",
    "            ('CJT_TYP_5','binary'),\n",
    "            ('CJT_TYP_6','binary'),\n",
    "            ('D19_BANKEN_DIREKT','interval'),\n",
    "            ('D19_BANKEN_GROSS','interval'),\n",
    "            ('D19_BANKEN_LOKAL','interval'),\n",
    "            ('D19_BANKEN_REST','interval'),\n",
    "            ('D19_BIO_OEKO','interval'),\n",
    "            ('D19_DIGIT_SERV','interval'),\n",
    "            ('D19_LEBENSMITTEL','interval'),\n",
    "            ('D19_VERSAND_REST','interval'),\n",
    "            ('D19_VOLLSORTIMENT','interval'),\n",
    "            ('KBA13_BAUMAX','interval'),\n",
    "            ('KBA13_CCM_1401_2500','interval'),\n",
    "            ('KBA13_GBZ','interval'),\n",
    "            ('KBA13_HHZ','interval'),\n",
    "            ('KBA13_KMH_210','interval'),\n",
    "            ('SOHO_KZ','binary'),\n",
    "            ('STRUKTURTYP','nominal')]"
   ]
  },
  {
   "cell_type": "code",
   "execution_count": 44,
   "metadata": {},
   "outputs": [],
   "source": [
    "new_rows_frame = pd.DataFrame(new_rows, columns = ['Attribute', 'Type'])"
   ]
  },
  {
   "cell_type": "code",
   "execution_count": 45,
   "metadata": {},
   "outputs": [],
   "source": [
    "var_types = pd.concat([var_types, new_rows_frame], axis = 0)"
   ]
  },
  {
   "cell_type": "code",
   "execution_count": 46,
   "metadata": {},
   "outputs": [
    {
     "data": {
      "text/plain": [
       "(891221, 195)"
      ]
     },
     "execution_count": 46,
     "metadata": {},
     "output_type": "execute_result"
    }
   ],
   "source": [
    "census.shape"
   ]
  },
  {
   "cell_type": "code",
   "execution_count": 47,
   "metadata": {},
   "outputs": [],
   "source": [
    "census_var_types = var_types[var_types['Attribute'].isin(census.columns.drop('LNR'))]"
   ]
  },
  {
   "cell_type": "code",
   "execution_count": 48,
   "metadata": {},
   "outputs": [
    {
     "data": {
      "text/plain": [
       "interval    160\n",
       "nominal      14\n",
       "binary       11\n",
       "numeric       8\n",
       "Name: Type, dtype: int64"
      ]
     },
     "execution_count": 48,
     "metadata": {},
     "output_type": "execute_result"
    }
   ],
   "source": [
    "census_var_types['Type'].value_counts()"
   ]
  },
  {
   "cell_type": "code",
   "execution_count": 49,
   "metadata": {},
   "outputs": [],
   "source": [
    "# Exporting for use in .py later-on\n",
    "census_var_types.to_csv('data/trusted/census_var_types.csv')"
   ]
  },
  {
   "attachments": {},
   "cell_type": "markdown",
   "metadata": {},
   "source": [
    "If we were only handling numeric and interval variables, it would be possible to use PCA. Since this is not possible, another method will be used: Factor Analysis of Mixed Data (FAMD).  \n",
    "\n",
    "Before we move on to modelling, we need to first adopt inputing strategies for the remaining cols"
   ]
  },
  {
   "attachments": {},
   "cell_type": "markdown",
   "metadata": {},
   "source": [
    "# Imputing strategy"
   ]
  },
  {
   "attachments": {},
   "cell_type": "markdown",
   "metadata": {},
   "source": [
    "Given the variable characteristics and the distribution of NaN proportion above, the following inputing strategy will be followed:\n",
    "\n",
    "Categorical variables include: Interval, Nominal and Binary  \n",
    "For categorical variables, inpute the mode\n",
    "\n",
    "\n",
    "Numerical will be replaced with mean, for simplicity"
   ]
  },
  {
   "attachments": {},
   "cell_type": "markdown",
   "metadata": {},
   "source": [
    "## Categorical Imputing"
   ]
  },
  {
   "cell_type": "code",
   "execution_count": 50,
   "metadata": {},
   "outputs": [],
   "source": [
    "cat_cols = census_var_types[census_var_types['Type'].isin(['interval', 'nominal', 'binary'])]['Attribute'].values\n",
    "\n",
    "cat_cols = list(np.intersect1d(cat_cols, census.columns))"
   ]
  },
  {
   "cell_type": "code",
   "execution_count": 51,
   "metadata": {},
   "outputs": [],
   "source": [
    "for col in cat_cols:\n",
    "\n",
    "    nan_rate = census[col].isna().mean()\n",
    "\n",
    "    if nan_rate <= 0.1:\n",
    "\n",
    "        census[col].fillna(census[col].mode()[0], inplace = True)\n",
    "    \n",
    "    else:\n",
    "\n",
    "        continue"
   ]
  },
  {
   "cell_type": "markdown",
   "metadata": {},
   "source": [
    "## Numerical Imputing"
   ]
  },
  {
   "cell_type": "code",
   "execution_count": 52,
   "metadata": {},
   "outputs": [],
   "source": [
    "num_cols = census_var_types[~census_var_types['Type'].isin(['interval', 'nominal', 'binary'])]['Attribute'].values"
   ]
  },
  {
   "cell_type": "code",
   "execution_count": 53,
   "metadata": {},
   "outputs": [],
   "source": [
    "for col in num_cols:\n",
    "\n",
    "    census[col].fillna(census[col].mean(), inplace = True)"
   ]
  },
  {
   "attachments": {},
   "cell_type": "markdown",
   "metadata": {},
   "source": [
    "# Preproc TO-DOs\n",
    "\n",
    "- Binarize ANZ_HH_TITEL\n",
    "- Drop YoB\n",
    "- Aggregate values:\n",
    "    - 125 Grid - D19 cols\n",
    "    - household - D19 cols\n",
    "- Person cols:\n",
    "    - Drop \"fein\" variables\n",
    "    - Drop Soho KZ\n",
    "- PLZ8\n",
    "    - Select relevant variable sets that will be kept\n",
    "        - Owner Age\n",
    "        - Speed"
   ]
  }
 ],
 "metadata": {
  "kernelspec": {
   "display_name": "arvato",
   "language": "python",
   "name": "python3"
  },
  "language_info": {
   "codemirror_mode": {
    "name": "ipython",
    "version": 3
   },
   "file_extension": ".py",
   "mimetype": "text/x-python",
   "name": "python",
   "nbconvert_exporter": "python",
   "pygments_lexer": "ipython3",
   "version": "3.10.9"
  },
  "orig_nbformat": 4,
  "vscode": {
   "interpreter": {
    "hash": "404e1532a79d19b6d50bcd59333a24b8142e74b80b18b64ea31bd32820d8acd4"
   }
  }
 },
 "nbformat": 4,
 "nbformat_minor": 2
}
