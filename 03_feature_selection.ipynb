{
 "cells": [
  {
   "attachments": {},
   "cell_type": "markdown",
   "metadata": {},
   "source": [
    "# Feature Selection Notebook\n",
    "\n",
    "## Introduction\n",
    "There is a very high amount of features in data. Depending on the clustering strategy this can lead to the Curse of Dimensionaliy in a clustering scenario. Refer to [this answer on Stack Exchange](https://stats.stackexchange.com/questions/232500/how-do-i-know-my-k-means-clustering-algorithm-is-suffering-from-the-curse-of-dim) for a more in-depth discussion about it.\n",
    "\n",
    "## Methodology\n",
    "A way to select features aiming towards reducing dimensionality is to use the information in the customers data that is not present in the general dataset (i.e. `CUSTOMER_GROUP, ONLINE_PURCHASE AND PRODUCT_GROUP` columns) to choose the columns that help the most in segmenting these columns. This way, we can choose the features that most likely segment customers and can use them to understand the behaviour of the general population and the customer population."
   ]
  },
  {
   "cell_type": "code",
   "execution_count": 37,
   "metadata": {},
   "outputs": [],
   "source": [
    "import pandas as pd\n",
    "import numpy as np\n",
    "\n",
    "import seaborn as sns\n",
    "import matplotlib.pyplot as plt\n",
    "\n",
    "from sklearn.feature_selection import SelectKBest, mutual_info_classif\n",
    "import pickle"
   ]
  },
  {
   "cell_type": "code",
   "execution_count": 2,
   "metadata": {},
   "outputs": [],
   "source": [
    "df_customers = pd.read_parquet('data/refined/customers_data.parquet')"
   ]
  },
  {
   "cell_type": "code",
   "execution_count": 3,
   "metadata": {},
   "outputs": [
    {
     "data": {
      "text/html": [
       "<div>\n",
       "<style scoped>\n",
       "    .dataframe tbody tr th:only-of-type {\n",
       "        vertical-align: middle;\n",
       "    }\n",
       "\n",
       "    .dataframe tbody tr th {\n",
       "        vertical-align: top;\n",
       "    }\n",
       "\n",
       "    .dataframe thead th {\n",
       "        text-align: right;\n",
       "    }\n",
       "</style>\n",
       "<table border=\"1\" class=\"dataframe\">\n",
       "  <thead>\n",
       "    <tr style=\"text-align: right;\">\n",
       "      <th></th>\n",
       "      <th>LNR</th>\n",
       "      <th>ANZ_HAUSHALTE_AKTIV</th>\n",
       "      <th>ANZ_HH_TITEL</th>\n",
       "      <th>ANZ_PERSONEN</th>\n",
       "      <th>ANZ_TITEL</th>\n",
       "      <th>KBA13_ANZAHL_PKW</th>\n",
       "      <th>MIN_GEBAEUDEJAHR</th>\n",
       "      <th>D19_BANKEN_DIREKT</th>\n",
       "      <th>D19_BANKEN_GROSS</th>\n",
       "      <th>D19_BANKEN_LOKAL</th>\n",
       "      <th>...</th>\n",
       "      <th>BALLRAUM</th>\n",
       "      <th>EWDICHTE</th>\n",
       "      <th>INNENSTADT</th>\n",
       "      <th>GEBAEUDETYP_RASTER</th>\n",
       "      <th>KKK</th>\n",
       "      <th>MOBI_REGIO</th>\n",
       "      <th>ONLINE_AFFINITAET</th>\n",
       "      <th>CUSTOMER_GROUP</th>\n",
       "      <th>ONLINE_PURCHASE</th>\n",
       "      <th>PRODUCT_GROUP</th>\n",
       "    </tr>\n",
       "  </thead>\n",
       "  <tbody>\n",
       "    <tr>\n",
       "      <th>0</th>\n",
       "      <td>9626</td>\n",
       "      <td>1.0</td>\n",
       "      <td>0.0</td>\n",
       "      <td>2.0</td>\n",
       "      <td>0.0</td>\n",
       "      <td>1201.0</td>\n",
       "      <td>1992.0</td>\n",
       "      <td>0.0</td>\n",
       "      <td>0.0</td>\n",
       "      <td>0.0</td>\n",
       "      <td>...</td>\n",
       "      <td>3.0</td>\n",
       "      <td>2.0</td>\n",
       "      <td>4.0</td>\n",
       "      <td>4.0</td>\n",
       "      <td>1.0</td>\n",
       "      <td>4.0</td>\n",
       "      <td>3.0</td>\n",
       "      <td>MULTI_BUYER</td>\n",
       "      <td>0</td>\n",
       "      <td>COSMETIC_AND_FOOD</td>\n",
       "    </tr>\n",
       "    <tr>\n",
       "      <th>2</th>\n",
       "      <td>143872</td>\n",
       "      <td>1.0</td>\n",
       "      <td>0.0</td>\n",
       "      <td>1.0</td>\n",
       "      <td>0.0</td>\n",
       "      <td>433.0</td>\n",
       "      <td>1992.0</td>\n",
       "      <td>0.0</td>\n",
       "      <td>0.0</td>\n",
       "      <td>0.0</td>\n",
       "      <td>...</td>\n",
       "      <td>7.0</td>\n",
       "      <td>4.0</td>\n",
       "      <td>1.0</td>\n",
       "      <td>3.0</td>\n",
       "      <td>3.0</td>\n",
       "      <td>3.0</td>\n",
       "      <td>1.0</td>\n",
       "      <td>MULTI_BUYER</td>\n",
       "      <td>0</td>\n",
       "      <td>COSMETIC_AND_FOOD</td>\n",
       "    </tr>\n",
       "    <tr>\n",
       "      <th>3</th>\n",
       "      <td>143873</td>\n",
       "      <td>0.0</td>\n",
       "      <td>0.0</td>\n",
       "      <td>0.0</td>\n",
       "      <td>0.0</td>\n",
       "      <td>755.0</td>\n",
       "      <td>1992.0</td>\n",
       "      <td>0.0</td>\n",
       "      <td>0.0</td>\n",
       "      <td>0.0</td>\n",
       "      <td>...</td>\n",
       "      <td>7.0</td>\n",
       "      <td>1.0</td>\n",
       "      <td>7.0</td>\n",
       "      <td>4.0</td>\n",
       "      <td>3.0</td>\n",
       "      <td>4.0</td>\n",
       "      <td>2.0</td>\n",
       "      <td>MULTI_BUYER</td>\n",
       "      <td>0</td>\n",
       "      <td>COSMETIC</td>\n",
       "    </tr>\n",
       "    <tr>\n",
       "      <th>4</th>\n",
       "      <td>143874</td>\n",
       "      <td>7.0</td>\n",
       "      <td>0.0</td>\n",
       "      <td>4.0</td>\n",
       "      <td>0.0</td>\n",
       "      <td>513.0</td>\n",
       "      <td>1992.0</td>\n",
       "      <td>2.0</td>\n",
       "      <td>0.0</td>\n",
       "      <td>1.0</td>\n",
       "      <td>...</td>\n",
       "      <td>3.0</td>\n",
       "      <td>4.0</td>\n",
       "      <td>4.0</td>\n",
       "      <td>3.0</td>\n",
       "      <td>4.0</td>\n",
       "      <td>3.0</td>\n",
       "      <td>5.0</td>\n",
       "      <td>MULTI_BUYER</td>\n",
       "      <td>0</td>\n",
       "      <td>FOOD</td>\n",
       "    </tr>\n",
       "    <tr>\n",
       "      <th>5</th>\n",
       "      <td>143888</td>\n",
       "      <td>1.0</td>\n",
       "      <td>0.0</td>\n",
       "      <td>2.0</td>\n",
       "      <td>0.0</td>\n",
       "      <td>1167.0</td>\n",
       "      <td>1992.0</td>\n",
       "      <td>0.0</td>\n",
       "      <td>0.0</td>\n",
       "      <td>0.0</td>\n",
       "      <td>...</td>\n",
       "      <td>7.0</td>\n",
       "      <td>5.0</td>\n",
       "      <td>8.0</td>\n",
       "      <td>4.0</td>\n",
       "      <td>2.0</td>\n",
       "      <td>3.0</td>\n",
       "      <td>3.0</td>\n",
       "      <td>MULTI_BUYER</td>\n",
       "      <td>0</td>\n",
       "      <td>COSMETIC_AND_FOOD</td>\n",
       "    </tr>\n",
       "  </tbody>\n",
       "</table>\n",
       "<p>5 rows × 175 columns</p>\n",
       "</div>"
      ],
      "text/plain": [
       "      LNR  ANZ_HAUSHALTE_AKTIV  ANZ_HH_TITEL  ANZ_PERSONEN  ANZ_TITEL  \\\n",
       "0    9626                  1.0           0.0           2.0        0.0   \n",
       "2  143872                  1.0           0.0           1.0        0.0   \n",
       "3  143873                  0.0           0.0           0.0        0.0   \n",
       "4  143874                  7.0           0.0           4.0        0.0   \n",
       "5  143888                  1.0           0.0           2.0        0.0   \n",
       "\n",
       "   KBA13_ANZAHL_PKW  MIN_GEBAEUDEJAHR  D19_BANKEN_DIREKT  D19_BANKEN_GROSS  \\\n",
       "0            1201.0            1992.0                0.0               0.0   \n",
       "2             433.0            1992.0                0.0               0.0   \n",
       "3             755.0            1992.0                0.0               0.0   \n",
       "4             513.0            1992.0                2.0               0.0   \n",
       "5            1167.0            1992.0                0.0               0.0   \n",
       "\n",
       "   D19_BANKEN_LOKAL  ...  BALLRAUM  EWDICHTE  INNENSTADT  GEBAEUDETYP_RASTER  \\\n",
       "0               0.0  ...       3.0       2.0         4.0                 4.0   \n",
       "2               0.0  ...       7.0       4.0         1.0                 3.0   \n",
       "3               0.0  ...       7.0       1.0         7.0                 4.0   \n",
       "4               1.0  ...       3.0       4.0         4.0                 3.0   \n",
       "5               0.0  ...       7.0       5.0         8.0                 4.0   \n",
       "\n",
       "   KKK  MOBI_REGIO  ONLINE_AFFINITAET  CUSTOMER_GROUP  ONLINE_PURCHASE  \\\n",
       "0  1.0         4.0                3.0     MULTI_BUYER                0   \n",
       "2  3.0         3.0                1.0     MULTI_BUYER                0   \n",
       "3  3.0         4.0                2.0     MULTI_BUYER                0   \n",
       "4  4.0         3.0                5.0     MULTI_BUYER                0   \n",
       "5  2.0         3.0                3.0     MULTI_BUYER                0   \n",
       "\n",
       "       PRODUCT_GROUP  \n",
       "0  COSMETIC_AND_FOOD  \n",
       "2  COSMETIC_AND_FOOD  \n",
       "3           COSMETIC  \n",
       "4               FOOD  \n",
       "5  COSMETIC_AND_FOOD  \n",
       "\n",
       "[5 rows x 175 columns]"
      ]
     },
     "execution_count": 3,
     "metadata": {},
     "output_type": "execute_result"
    }
   ],
   "source": [
    "df_customers.head()"
   ]
  },
  {
   "cell_type": "code",
   "execution_count": 26,
   "metadata": {},
   "outputs": [
    {
     "data": {
      "text/html": [
       "<div>\n",
       "<style scoped>\n",
       "    .dataframe tbody tr th:only-of-type {\n",
       "        vertical-align: middle;\n",
       "    }\n",
       "\n",
       "    .dataframe tbody tr th {\n",
       "        vertical-align: top;\n",
       "    }\n",
       "\n",
       "    .dataframe thead th {\n",
       "        text-align: right;\n",
       "    }\n",
       "</style>\n",
       "<table border=\"1\" class=\"dataframe\">\n",
       "  <thead>\n",
       "    <tr style=\"text-align: right;\">\n",
       "      <th></th>\n",
       "      <th>CUSTOMER_GROUP</th>\n",
       "      <th>PRODUCT_GROUP</th>\n",
       "    </tr>\n",
       "  </thead>\n",
       "  <tbody>\n",
       "    <tr>\n",
       "      <th>0</th>\n",
       "      <td>MULTI_BUYER</td>\n",
       "      <td>COSMETIC_AND_FOOD</td>\n",
       "    </tr>\n",
       "    <tr>\n",
       "      <th>2</th>\n",
       "      <td>MULTI_BUYER</td>\n",
       "      <td>COSMETIC_AND_FOOD</td>\n",
       "    </tr>\n",
       "    <tr>\n",
       "      <th>3</th>\n",
       "      <td>MULTI_BUYER</td>\n",
       "      <td>COSMETIC</td>\n",
       "    </tr>\n",
       "    <tr>\n",
       "      <th>4</th>\n",
       "      <td>MULTI_BUYER</td>\n",
       "      <td>FOOD</td>\n",
       "    </tr>\n",
       "    <tr>\n",
       "      <th>5</th>\n",
       "      <td>MULTI_BUYER</td>\n",
       "      <td>COSMETIC_AND_FOOD</td>\n",
       "    </tr>\n",
       "    <tr>\n",
       "      <th>...</th>\n",
       "      <td>...</td>\n",
       "      <td>...</td>\n",
       "    </tr>\n",
       "    <tr>\n",
       "      <th>191647</th>\n",
       "      <td>MULTI_BUYER</td>\n",
       "      <td>COSMETIC_AND_FOOD</td>\n",
       "    </tr>\n",
       "    <tr>\n",
       "      <th>191648</th>\n",
       "      <td>SINGLE_BUYER</td>\n",
       "      <td>COSMETIC</td>\n",
       "    </tr>\n",
       "    <tr>\n",
       "      <th>191649</th>\n",
       "      <td>MULTI_BUYER</td>\n",
       "      <td>COSMETIC_AND_FOOD</td>\n",
       "    </tr>\n",
       "    <tr>\n",
       "      <th>191650</th>\n",
       "      <td>SINGLE_BUYER</td>\n",
       "      <td>FOOD</td>\n",
       "    </tr>\n",
       "    <tr>\n",
       "      <th>191651</th>\n",
       "      <td>MULTI_BUYER</td>\n",
       "      <td>COSMETIC_AND_FOOD</td>\n",
       "    </tr>\n",
       "  </tbody>\n",
       "</table>\n",
       "<p>140298 rows × 2 columns</p>\n",
       "</div>"
      ],
      "text/plain": [
       "       CUSTOMER_GROUP      PRODUCT_GROUP\n",
       "0         MULTI_BUYER  COSMETIC_AND_FOOD\n",
       "2         MULTI_BUYER  COSMETIC_AND_FOOD\n",
       "3         MULTI_BUYER           COSMETIC\n",
       "4         MULTI_BUYER               FOOD\n",
       "5         MULTI_BUYER  COSMETIC_AND_FOOD\n",
       "...               ...                ...\n",
       "191647    MULTI_BUYER  COSMETIC_AND_FOOD\n",
       "191648   SINGLE_BUYER           COSMETIC\n",
       "191649    MULTI_BUYER  COSMETIC_AND_FOOD\n",
       "191650   SINGLE_BUYER               FOOD\n",
       "191651    MULTI_BUYER  COSMETIC_AND_FOOD\n",
       "\n",
       "[140298 rows x 2 columns]"
      ]
     },
     "execution_count": 26,
     "metadata": {},
     "output_type": "execute_result"
    }
   ],
   "source": [
    "df_customers[['CUSTOMER_GROUP','PRODUCT_GROUP']]"
   ]
  },
  {
   "cell_type": "code",
   "execution_count": 27,
   "metadata": {},
   "outputs": [
    {
     "data": {
      "text/plain": [
       "MULTI_BUYER     98547\n",
       "SINGLE_BUYER    41751\n",
       "Name: CUSTOMER_GROUP, dtype: int64"
      ]
     },
     "metadata": {},
     "output_type": "display_data"
    },
    {
     "data": {
      "text/plain": [
       "COSMETIC_AND_FOOD    75446\n",
       "FOOD                 33779\n",
       "COSMETIC             31073\n",
       "Name: PRODUCT_GROUP, dtype: int64"
      ]
     },
     "metadata": {},
     "output_type": "display_data"
    }
   ],
   "source": [
    "for col in ['CUSTOMER_GROUP','PRODUCT_GROUP']:\n",
    "\n",
    "    display(df_customers[col].value_counts(dropna = False))"
   ]
  },
  {
   "cell_type": "code",
   "execution_count": 15,
   "metadata": {},
   "outputs": [],
   "source": [
    "X = df_customers.drop(columns = ['LNR','CUSTOMER_GROUP','PRODUCT_GROUP','ONLINE_PURCHASE'])"
   ]
  },
  {
   "cell_type": "code",
   "execution_count": 50,
   "metadata": {},
   "outputs": [
    {
     "name": "stdout",
     "output_type": "stream",
     "text": [
      "Running for ONLINE_PURCHASE\n"
     ]
    }
   ],
   "source": [
    "# selected = []\n",
    "\n",
    "for col in ['ONLINE_PURCHASE']: #'PRODUCT_GROUP','CUSTOMER_GROUP',\n",
    "\n",
    "    print(f'Running for {col}')\n",
    "\n",
    "    y = df_customers[col]\n",
    "\n",
    "    selector = SelectKBest(mutual_info_classif, k = 50)\n",
    "\n",
    "    selector.fit(X, y)\n",
    "\n",
    "    selected.append(selector.get_feature_names_out())"
   ]
  },
  {
   "cell_type": "code",
   "execution_count": 39,
   "metadata": {},
   "outputs": [],
   "source": [
    "selected_features = list(np.append(selected[0],selected[1]))"
   ]
  },
  {
   "cell_type": "code",
   "execution_count": 53,
   "metadata": {},
   "outputs": [],
   "source": [
    "selected_features = list(set(selected_features))"
   ]
  },
  {
   "cell_type": "code",
   "execution_count": 54,
   "metadata": {},
   "outputs": [
    {
     "data": {
      "text/plain": [
       "73"
      ]
     },
     "execution_count": 54,
     "metadata": {},
     "output_type": "execute_result"
    }
   ],
   "source": [
    "len(selected_features)"
   ]
  },
  {
   "cell_type": "code",
   "execution_count": 56,
   "metadata": {},
   "outputs": [
    {
     "data": {
      "text/plain": [
       "['LP_FAMILIE_GROB',\n",
       " 'FINANZ_ANLEGER',\n",
       " 'LP_LEBENSPHASE_GROB',\n",
       " 'SEMIO_KULT',\n",
       " 'SEMIO_LUST',\n",
       " 'SEMIO_RAT',\n",
       " 'CJT_KATALOGNUTZER',\n",
       " 'SEMIO_KAEM',\n",
       " 'SEMIO_PFLICHT',\n",
       " 'SEMIO_MAT',\n",
       " 'KBA13_KRSSEG_VAN',\n",
       " 'CJT_TYP_2',\n",
       " 'SEMIO_SOZ',\n",
       " 'CJT_TYP_1',\n",
       " 'CJT_TYP_5',\n",
       " 'KBA13_CCM_2501',\n",
       " 'ALTERSKATEGORIE_GROB',\n",
       " 'STRUKTURTYP',\n",
       " 'FINANZ_UNAUFFAELLIGER',\n",
       " 'MIN_GEBAEUDEJAHR',\n",
       " 'FINANZ_SPARER',\n",
       " 'SEMIO_TRADV',\n",
       " 'SEMIO_DOM',\n",
       " 'KBA13_KRSZUL_NEU',\n",
       " 'OST_WEST_KZ',\n",
       " 'ZABEOTYP',\n",
       " 'KBA13_ALTERHALTER_30',\n",
       " 'D19_VERSAND_DATUM',\n",
       " 'ANREDE_KZ',\n",
       " 'VERS_TYP',\n",
       " 'GREEN_AVANTGARDE',\n",
       " 'KBA13_KRSSEG_KLEIN',\n",
       " 'D19_GESAMT_ANZ_12',\n",
       " 'NATIONALITAET_KZ',\n",
       " 'D19_GESAMT_ONLINE_QUOTE_12',\n",
       " 'WOHNDAUER_2008',\n",
       " 'HEALTH_TYP',\n",
       " 'KBA13_KMH_140_210',\n",
       " 'W_KEIT_KIND_HH',\n",
       " 'KBA13_VORB_0',\n",
       " 'FINANZ_VORSORGER',\n",
       " 'KBA13_SEG_OBEREMITTELKLASSE',\n",
       " 'D19_KONSUMTYP',\n",
       " 'D19_VERSAND_ANZ_12',\n",
       " 'KBA05_KRSZUL',\n",
       " 'KBA13_AUTOQUOTE',\n",
       " 'PRAEGENDE_JUGENDJAHRE',\n",
       " 'SEMIO_REL',\n",
       " 'CJT_TYP_6',\n",
       " 'CJT_TYP_3',\n",
       " 'SEMIO_KRIT',\n",
       " 'D19_BANKEN_DATUM',\n",
       " 'KBA05_KRSVAN',\n",
       " 'KBA13_KRSSEG_OBER',\n",
       " 'KBA13_SEG_WOHNMOBILE',\n",
       " 'D19_VERSAND_ONLINE_QUOTE_12',\n",
       " 'CJT_GESAMTTYP',\n",
       " 'FINANZ_HAUSBAUER',\n",
       " 'KBA13_VORB_1',\n",
       " 'KBA05_KRSKLEIN',\n",
       " 'KBA05_MOTOR',\n",
       " 'KBA05_MOTRAD',\n",
       " 'SEMIO_ERL',\n",
       " 'RETOURTYP_BK_S',\n",
       " 'KBA13_SEG_KOMPAKTKLASSE',\n",
       " 'D19_VOLLSORTIMENT',\n",
       " 'FINANZ_MINIMALIST',\n",
       " 'ONLINE_AFFINITAET',\n",
       " 'CJT_TYP_4',\n",
       " 'FINANZTYP',\n",
       " 'D19_GESAMT_DATUM',\n",
       " 'KBA13_SEG_SPORTWAGEN',\n",
       " 'EWDICHTE']"
      ]
     },
     "execution_count": 56,
     "metadata": {},
     "output_type": "execute_result"
    }
   ],
   "source": [
    "selected_features"
   ]
  },
  {
   "attachments": {},
   "cell_type": "markdown",
   "metadata": {},
   "source": [
    "From 100 possible variables, when we remove the intersections we are left with 73 candidates that are useful for segregating the categories in the customer data. We will try to cluster using these variables.  \n",
    "We need only to pay attention to the numeric columns afterwards, since the mutual information criterion might not be so useful for classifying this type of data to help segregate categories."
   ]
  },
  {
   "cell_type": "code",
   "execution_count": 57,
   "metadata": {},
   "outputs": [],
   "source": [
    "with open('data/trusted/selected_features.pkl','wb') as file:\n",
    "\n",
    "    pickle.dump(selected_features, file)"
   ]
  }
 ],
 "metadata": {
  "kernelspec": {
   "display_name": "arvato",
   "language": "python",
   "name": "python3"
  },
  "language_info": {
   "codemirror_mode": {
    "name": "ipython",
    "version": 3
   },
   "file_extension": ".py",
   "mimetype": "text/x-python",
   "name": "python",
   "nbconvert_exporter": "python",
   "pygments_lexer": "ipython3",
   "version": "3.10.9"
  },
  "orig_nbformat": 4
 },
 "nbformat": 4,
 "nbformat_minor": 2
}
