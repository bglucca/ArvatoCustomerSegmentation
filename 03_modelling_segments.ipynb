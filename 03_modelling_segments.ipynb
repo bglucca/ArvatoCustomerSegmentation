{
 "cells": [
  {
   "cell_type": "code",
   "execution_count": 1,
   "metadata": {},
   "outputs": [],
   "source": [
    "import pandas as pd\n",
    "import numpy as np\n",
    "\n",
    "import seaborn as sns\n",
    "import matplotlib.pyplot as plt\n",
    "\n",
    "from sklearn.preprocessing import StandardScaler\n",
    "from sklearn.decomposition import PCA\n",
    "\n",
    "from sklearn.cluster import MiniBatchKMeans\n",
    "from sklearn.metrics import silhouette_score\n",
    "\n",
    "import time\n",
    "from kmodes.kprototypes import KPrototypes\n",
    "\n",
    "import pickle"
   ]
  },
  {
   "cell_type": "code",
   "execution_count": 2,
   "metadata": {},
   "outputs": [],
   "source": [
    "sns.set(rc={'figure.figsize':(10,5)})"
   ]
  },
  {
   "cell_type": "code",
   "execution_count": 3,
   "metadata": {},
   "outputs": [],
   "source": [
    "CENSUS_PATH = 'data/refined/census_data.parquet'\n",
    "\n",
    "CUSTOMER_PATH = 'data/refined/customer_data.parquet'"
   ]
  },
  {
   "cell_type": "code",
   "execution_count": 18,
   "metadata": {},
   "outputs": [],
   "source": [
    "census = pd.read_parquet(CENSUS_PATH)"
   ]
  },
  {
   "cell_type": "code",
   "execution_count": 5,
   "metadata": {},
   "outputs": [
    {
     "data": {
      "text/html": [
       "<div>\n",
       "<style scoped>\n",
       "    .dataframe tbody tr th:only-of-type {\n",
       "        vertical-align: middle;\n",
       "    }\n",
       "\n",
       "    .dataframe tbody tr th {\n",
       "        vertical-align: top;\n",
       "    }\n",
       "\n",
       "    .dataframe thead th {\n",
       "        text-align: right;\n",
       "    }\n",
       "</style>\n",
       "<table border=\"1\" class=\"dataframe\">\n",
       "  <thead>\n",
       "    <tr style=\"text-align: right;\">\n",
       "      <th></th>\n",
       "      <th>LNR</th>\n",
       "      <th>ANZ_HAUSHALTE_AKTIV</th>\n",
       "      <th>ANZ_HH_TITEL</th>\n",
       "      <th>ANZ_PERSONEN</th>\n",
       "      <th>ANZ_TITEL</th>\n",
       "      <th>KBA13_ANZAHL_PKW</th>\n",
       "      <th>MIN_GEBAEUDEJAHR</th>\n",
       "      <th>D19_BANKEN_DIREKT</th>\n",
       "      <th>D19_BANKEN_GROSS</th>\n",
       "      <th>D19_BANKEN_LOKAL</th>\n",
       "      <th>...</th>\n",
       "      <th>KBA13_ALTERHALTER_45</th>\n",
       "      <th>KBA13_SEG_VAN</th>\n",
       "      <th>KBA13_BJ_2004</th>\n",
       "      <th>BALLRAUM</th>\n",
       "      <th>EWDICHTE</th>\n",
       "      <th>INNENSTADT</th>\n",
       "      <th>GEBAEUDETYP_RASTER</th>\n",
       "      <th>KKK</th>\n",
       "      <th>MOBI_REGIO</th>\n",
       "      <th>ONLINE_AFFINITAET</th>\n",
       "    </tr>\n",
       "  </thead>\n",
       "  <tbody>\n",
       "    <tr>\n",
       "      <th>1</th>\n",
       "      <td>910220</td>\n",
       "      <td>11.0</td>\n",
       "      <td>0.0</td>\n",
       "      <td>2.0</td>\n",
       "      <td>0.0</td>\n",
       "      <td>963.0</td>\n",
       "      <td>1992.0</td>\n",
       "      <td>0.0</td>\n",
       "      <td>0.0</td>\n",
       "      <td>0.0</td>\n",
       "      <td>...</td>\n",
       "      <td>2.0</td>\n",
       "      <td>4.0</td>\n",
       "      <td>3.0</td>\n",
       "      <td>6.0</td>\n",
       "      <td>3.0</td>\n",
       "      <td>8.0</td>\n",
       "      <td>3.0</td>\n",
       "      <td>2.0</td>\n",
       "      <td>1.0</td>\n",
       "      <td>3.0</td>\n",
       "    </tr>\n",
       "    <tr>\n",
       "      <th>2</th>\n",
       "      <td>910225</td>\n",
       "      <td>10.0</td>\n",
       "      <td>0.0</td>\n",
       "      <td>1.0</td>\n",
       "      <td>0.0</td>\n",
       "      <td>712.0</td>\n",
       "      <td>1992.0</td>\n",
       "      <td>0.0</td>\n",
       "      <td>0.0</td>\n",
       "      <td>0.0</td>\n",
       "      <td>...</td>\n",
       "      <td>2.0</td>\n",
       "      <td>3.0</td>\n",
       "      <td>4.0</td>\n",
       "      <td>2.0</td>\n",
       "      <td>4.0</td>\n",
       "      <td>4.0</td>\n",
       "      <td>4.0</td>\n",
       "      <td>2.0</td>\n",
       "      <td>3.0</td>\n",
       "      <td>2.0</td>\n",
       "    </tr>\n",
       "    <tr>\n",
       "      <th>3</th>\n",
       "      <td>910226</td>\n",
       "      <td>1.0</td>\n",
       "      <td>0.0</td>\n",
       "      <td>0.0</td>\n",
       "      <td>0.0</td>\n",
       "      <td>596.0</td>\n",
       "      <td>1997.0</td>\n",
       "      <td>0.0</td>\n",
       "      <td>0.0</td>\n",
       "      <td>0.0</td>\n",
       "      <td>...</td>\n",
       "      <td>3.0</td>\n",
       "      <td>4.0</td>\n",
       "      <td>3.0</td>\n",
       "      <td>4.0</td>\n",
       "      <td>2.0</td>\n",
       "      <td>6.0</td>\n",
       "      <td>4.0</td>\n",
       "      <td>3.0</td>\n",
       "      <td>4.0</td>\n",
       "      <td>1.0</td>\n",
       "    </tr>\n",
       "    <tr>\n",
       "      <th>4</th>\n",
       "      <td>910241</td>\n",
       "      <td>3.0</td>\n",
       "      <td>0.0</td>\n",
       "      <td>4.0</td>\n",
       "      <td>0.0</td>\n",
       "      <td>435.0</td>\n",
       "      <td>1992.0</td>\n",
       "      <td>1.0</td>\n",
       "      <td>1.0</td>\n",
       "      <td>0.0</td>\n",
       "      <td>...</td>\n",
       "      <td>3.0</td>\n",
       "      <td>2.0</td>\n",
       "      <td>3.0</td>\n",
       "      <td>2.0</td>\n",
       "      <td>5.0</td>\n",
       "      <td>1.0</td>\n",
       "      <td>5.0</td>\n",
       "      <td>3.0</td>\n",
       "      <td>3.0</td>\n",
       "      <td>5.0</td>\n",
       "    </tr>\n",
       "    <tr>\n",
       "      <th>5</th>\n",
       "      <td>910244</td>\n",
       "      <td>5.0</td>\n",
       "      <td>0.0</td>\n",
       "      <td>1.0</td>\n",
       "      <td>0.0</td>\n",
       "      <td>1300.0</td>\n",
       "      <td>1992.0</td>\n",
       "      <td>0.0</td>\n",
       "      <td>0.0</td>\n",
       "      <td>0.0</td>\n",
       "      <td>...</td>\n",
       "      <td>4.0</td>\n",
       "      <td>4.0</td>\n",
       "      <td>3.0</td>\n",
       "      <td>6.0</td>\n",
       "      <td>2.0</td>\n",
       "      <td>7.0</td>\n",
       "      <td>4.0</td>\n",
       "      <td>4.0</td>\n",
       "      <td>4.0</td>\n",
       "      <td>1.0</td>\n",
       "    </tr>\n",
       "  </tbody>\n",
       "</table>\n",
       "<p>5 rows × 172 columns</p>\n",
       "</div>"
      ],
      "text/plain": [
       "      LNR  ANZ_HAUSHALTE_AKTIV  ANZ_HH_TITEL  ANZ_PERSONEN  ANZ_TITEL  \\\n",
       "1  910220                 11.0           0.0           2.0        0.0   \n",
       "2  910225                 10.0           0.0           1.0        0.0   \n",
       "3  910226                  1.0           0.0           0.0        0.0   \n",
       "4  910241                  3.0           0.0           4.0        0.0   \n",
       "5  910244                  5.0           0.0           1.0        0.0   \n",
       "\n",
       "   KBA13_ANZAHL_PKW  MIN_GEBAEUDEJAHR  D19_BANKEN_DIREKT  D19_BANKEN_GROSS  \\\n",
       "1             963.0            1992.0                0.0               0.0   \n",
       "2             712.0            1992.0                0.0               0.0   \n",
       "3             596.0            1997.0                0.0               0.0   \n",
       "4             435.0            1992.0                1.0               1.0   \n",
       "5            1300.0            1992.0                0.0               0.0   \n",
       "\n",
       "   D19_BANKEN_LOKAL  ...  KBA13_ALTERHALTER_45  KBA13_SEG_VAN  KBA13_BJ_2004  \\\n",
       "1               0.0  ...                   2.0            4.0            3.0   \n",
       "2               0.0  ...                   2.0            3.0            4.0   \n",
       "3               0.0  ...                   3.0            4.0            3.0   \n",
       "4               0.0  ...                   3.0            2.0            3.0   \n",
       "5               0.0  ...                   4.0            4.0            3.0   \n",
       "\n",
       "   BALLRAUM  EWDICHTE  INNENSTADT  GEBAEUDETYP_RASTER  KKK  MOBI_REGIO  \\\n",
       "1       6.0       3.0         8.0                 3.0  2.0         1.0   \n",
       "2       2.0       4.0         4.0                 4.0  2.0         3.0   \n",
       "3       4.0       2.0         6.0                 4.0  3.0         4.0   \n",
       "4       2.0       5.0         1.0                 5.0  3.0         3.0   \n",
       "5       6.0       2.0         7.0                 4.0  4.0         4.0   \n",
       "\n",
       "   ONLINE_AFFINITAET  \n",
       "1                3.0  \n",
       "2                2.0  \n",
       "3                1.0  \n",
       "4                5.0  \n",
       "5                1.0  \n",
       "\n",
       "[5 rows x 172 columns]"
      ]
     },
     "execution_count": 5,
     "metadata": {},
     "output_type": "execute_result"
    }
   ],
   "source": [
    "census.head()"
   ]
  },
  {
   "cell_type": "code",
   "execution_count": 6,
   "metadata": {},
   "outputs": [],
   "source": [
    "census_var_types = pd.read_csv('data/trusted/census_var_types.csv').drop(columns='Unnamed: 0')"
   ]
  },
  {
   "cell_type": "code",
   "execution_count": 7,
   "metadata": {},
   "outputs": [
    {
     "data": {
      "text/html": [
       "<div>\n",
       "<style scoped>\n",
       "    .dataframe tbody tr th:only-of-type {\n",
       "        vertical-align: middle;\n",
       "    }\n",
       "\n",
       "    .dataframe tbody tr th {\n",
       "        vertical-align: top;\n",
       "    }\n",
       "\n",
       "    .dataframe thead th {\n",
       "        text-align: right;\n",
       "    }\n",
       "</style>\n",
       "<table border=\"1\" class=\"dataframe\">\n",
       "  <thead>\n",
       "    <tr style=\"text-align: right;\">\n",
       "      <th></th>\n",
       "      <th>Attribute</th>\n",
       "      <th>Type</th>\n",
       "    </tr>\n",
       "  </thead>\n",
       "  <tbody>\n",
       "    <tr>\n",
       "      <th>0</th>\n",
       "      <td>ALTERSKATEGORIE_GROB</td>\n",
       "      <td>interval</td>\n",
       "    </tr>\n",
       "    <tr>\n",
       "      <th>1</th>\n",
       "      <td>ANREDE_KZ</td>\n",
       "      <td>binary</td>\n",
       "    </tr>\n",
       "    <tr>\n",
       "      <th>2</th>\n",
       "      <td>ANZ_HAUSHALTE_AKTIV</td>\n",
       "      <td>numeric</td>\n",
       "    </tr>\n",
       "    <tr>\n",
       "      <th>3</th>\n",
       "      <td>ANZ_HH_TITEL</td>\n",
       "      <td>numeric</td>\n",
       "    </tr>\n",
       "    <tr>\n",
       "      <th>4</th>\n",
       "      <td>ANZ_PERSONEN</td>\n",
       "      <td>numeric</td>\n",
       "    </tr>\n",
       "  </tbody>\n",
       "</table>\n",
       "</div>"
      ],
      "text/plain": [
       "              Attribute      Type\n",
       "0  ALTERSKATEGORIE_GROB  interval\n",
       "1             ANREDE_KZ    binary\n",
       "2   ANZ_HAUSHALTE_AKTIV   numeric\n",
       "3          ANZ_HH_TITEL   numeric\n",
       "4          ANZ_PERSONEN   numeric"
      ]
     },
     "execution_count": 7,
     "metadata": {},
     "output_type": "execute_result"
    }
   ],
   "source": [
    "census_var_types.head()"
   ]
  },
  {
   "cell_type": "code",
   "execution_count": 8,
   "metadata": {},
   "outputs": [],
   "source": [
    "census_var_types.loc[census_var_types['Attribute'] == 'ANZ_HH_TITEL','Type'] = 'binary'"
   ]
  },
  {
   "cell_type": "code",
   "execution_count": 9,
   "metadata": {},
   "outputs": [
    {
     "data": {
      "text/plain": [
       "(784908, 172)"
      ]
     },
     "execution_count": 9,
     "metadata": {},
     "output_type": "execute_result"
    }
   ],
   "source": [
    "census.shape"
   ]
  },
  {
   "cell_type": "code",
   "execution_count": 10,
   "metadata": {},
   "outputs": [
    {
     "data": {
      "text/plain": [
       "interval    166\n",
       "nominal      14\n",
       "numeric       7\n",
       "binary        6\n",
       "Name: Type, dtype: int64"
      ]
     },
     "execution_count": 10,
     "metadata": {},
     "output_type": "execute_result"
    }
   ],
   "source": [
    "census_var_types['Type'].value_counts()"
   ]
  },
  {
   "attachments": {},
   "cell_type": "markdown",
   "metadata": {},
   "source": [
    "Variables considered as interval could be used in PCA. Unfortunately, this approach is not enough to handle nominal and binary features.  \n",
    "An alteranitve approach to solve this problem is [Factorial Analysis of Mixed Data (FAMD)](https://towardsdatascience.com/famd-how-to-generalize-pca-to-categorical-and-numerical-data-2ddbeb2b9210).  \n",
    "Using this approach, we will reduce the dimensions of the mixed data types prior to clustering it."
   ]
  },
  {
   "attachments": {},
   "cell_type": "markdown",
   "metadata": {},
   "source": [
    "# Clustering demographic data"
   ]
  },
  {
   "attachments": {},
   "cell_type": "markdown",
   "metadata": {},
   "source": [
    "## Adjustments to nominals and binaries"
   ]
  },
  {
   "cell_type": "code",
   "execution_count": 11,
   "metadata": {},
   "outputs": [],
   "source": [
    "binary_vars = census_var_types[census_var_types['Type'] == 'binary']['Attribute'].values\n",
    "\n",
    "binary_vars = np.intersect1d(binary_vars, census.columns)"
   ]
  },
  {
   "cell_type": "code",
   "execution_count": 12,
   "metadata": {},
   "outputs": [
    {
     "name": "stdout",
     "output_type": "stream",
     "text": [
      "ANREDE_KZ [2 1]\n",
      "ANZ_HH_TITEL [0. 1.]\n",
      "GREEN_AVANTGARDE [0 1]\n",
      "OST_WEST_KZ [1. 0.]\n",
      "VERS_TYP [2. 1.]\n"
     ]
    }
   ],
   "source": [
    "for col in binary_vars:\n",
    "    \n",
    "    try:\n",
    "        print(col, census[col].unique())\n",
    "\n",
    "    except:\n",
    "\n",
    "        print(f'Column not found: {col}')\n",
    "\n",
    "        continue"
   ]
  },
  {
   "cell_type": "code",
   "execution_count": 13,
   "metadata": {},
   "outputs": [],
   "source": [
    "census['ANREDE_KZ'] = census['ANREDE_KZ'] - 1\n",
    "\n",
    "census['VERS_TYP'] = census['VERS_TYP'] - 1"
   ]
  },
  {
   "cell_type": "code",
   "execution_count": 19,
   "metadata": {},
   "outputs": [],
   "source": [
    "is_subset = True\n",
    "\n",
    "if is_subset:\n",
    "\n",
    "    with open('data/trusted/selected_features.pkl', 'rb') as file:\n",
    "\n",
    "        selected_features = pickle.load(file)\n",
    "    \n",
    "    selected_features.append('LNR')\n",
    "\n",
    "    census = census[selected_features].copy()"
   ]
  },
  {
   "cell_type": "code",
   "execution_count": 20,
   "metadata": {},
   "outputs": [],
   "source": [
    "nominal_vars = census_var_types[census_var_types['Type'] == 'nominal']['Attribute'].values\n",
    "\n",
    "nominal_vars = np.intersect1d(nominal_vars, census.columns)"
   ]
  },
  {
   "cell_type": "code",
   "execution_count": 21,
   "metadata": {},
   "outputs": [],
   "source": [
    "interval_vars = census_var_types[census_var_types['Type'] == 'interval']['Attribute'].values\n",
    "\n",
    "interval_vars = np.intersect1d(interval_vars, census.columns)"
   ]
  },
  {
   "cell_type": "code",
   "execution_count": 22,
   "metadata": {},
   "outputs": [],
   "source": [
    "binary_vars = census_var_types[census_var_types['Type'] == 'binary']['Attribute'].values\n",
    "\n",
    "binary_vars = np.intersect1d(binary_vars, census.columns)"
   ]
  },
  {
   "cell_type": "code",
   "execution_count": 23,
   "metadata": {},
   "outputs": [],
   "source": [
    "num_cols = census.columns.drop(list(nominal_vars) + list(binary_vars) + list(interval_vars) + ['LNR'])"
   ]
  },
  {
   "cell_type": "code",
   "execution_count": 26,
   "metadata": {},
   "outputs": [],
   "source": [
    "assert (len(nominal_vars) + len(binary_vars) + len(interval_vars) + len(num_cols) + 1) == census.shape[1]"
   ]
  },
  {
   "attachments": {},
   "cell_type": "markdown",
   "metadata": {},
   "source": [
    "## Experimenting with K-Prototypes"
   ]
  },
  {
   "cell_type": "code",
   "execution_count": 17,
   "metadata": {},
   "outputs": [],
   "source": [
    "scaler = StandardScaler()"
   ]
  },
  {
   "cell_type": "code",
   "execution_count": 18,
   "metadata": {},
   "outputs": [],
   "source": [
    "census[num_cols] = scaler.fit_transform(census[num_cols])"
   ]
  },
  {
   "cell_type": "code",
   "execution_count": 20,
   "metadata": {},
   "outputs": [],
   "source": [
    "import gower"
   ]
  },
  {
   "cell_type": "code",
   "execution_count": 21,
   "metadata": {},
   "outputs": [],
   "source": [
    "drop_d19 = False\n",
    "\n",
    "if drop_d19:\n",
    "\n",
    "    sample = census.sample(5000,random_state=123)\\\n",
    "                    .drop(columns = drop_test)\n",
    "\n",
    "else:\n",
    "\n",
    "    sample = census.sample(5000,random_state=123)\n",
    "\n",
    "sample = sample[selected_features].copy()\n",
    "\n",
    "cat_cols_idx = [sample.columns.get_loc(col) for col in sample if (col in nominal_vars) or (col in binary_vars) or (col in interval_vars)]"
   ]
  },
  {
   "cell_type": "code",
   "execution_count": 22,
   "metadata": {},
   "outputs": [],
   "source": [
    "cat_cols = []\n",
    "\n",
    "for col in sample.columns:\n",
    "    \n",
    "    if (col in nominal_vars) or (col in binary_vars) or (col in interval_vars):\n",
    "\n",
    "        cat_cols.append(True)\n",
    "        \n",
    "    else:\n",
    "\n",
    "        cat_cols.append(False)"
   ]
  },
  {
   "cell_type": "code",
   "execution_count": 23,
   "metadata": {},
   "outputs": [],
   "source": [
    "X_dist = gower.gower_matrix(sample.values, cat_features = cat_cols)"
   ]
  },
  {
   "cell_type": "code",
   "execution_count": 24,
   "metadata": {},
   "outputs": [
    {
     "ename": "ValueError",
     "evalue": "Cannot describe a DataFrame without columns",
     "output_type": "error",
     "traceback": [
      "\u001b[1;31m---------------------------------------------------------------------------\u001b[0m",
      "\u001b[1;31mValueError\u001b[0m                                Traceback (most recent call last)",
      "Cell \u001b[1;32mIn[24], line 1\u001b[0m\n\u001b[1;32m----> 1\u001b[0m sample[num_cols]\u001b[39m.\u001b[39;49mdescribe()\u001b[39m.\u001b[39mloc[\u001b[39m'\u001b[39m\u001b[39mstd\u001b[39m\u001b[39m'\u001b[39m]\u001b[39m.\u001b[39mmean()\n",
      "File \u001b[1;32mc:\\Users\\Lucca\\anaconda3\\envs\\arvato\\lib\\site-packages\\pandas\\core\\generic.py:10940\u001b[0m, in \u001b[0;36mNDFrame.describe\u001b[1;34m(self, percentiles, include, exclude, datetime_is_numeric)\u001b[0m\n\u001b[0;32m  10691\u001b[0m \u001b[39m@final\u001b[39m\n\u001b[0;32m  10692\u001b[0m \u001b[39mdef\u001b[39;00m \u001b[39mdescribe\u001b[39m(\n\u001b[0;32m  10693\u001b[0m     \u001b[39mself\u001b[39m: NDFrameT,\n\u001b[1;32m   (...)\u001b[0m\n\u001b[0;32m  10697\u001b[0m     datetime_is_numeric: bool_t \u001b[39m=\u001b[39m \u001b[39mFalse\u001b[39;00m,\n\u001b[0;32m  10698\u001b[0m ) \u001b[39m-\u001b[39m\u001b[39m>\u001b[39m NDFrameT:\n\u001b[0;32m  10699\u001b[0m \u001b[39m    \u001b[39m\u001b[39m\"\"\"\u001b[39;00m\n\u001b[0;32m  10700\u001b[0m \u001b[39m    Generate descriptive statistics.\u001b[39;00m\n\u001b[0;32m  10701\u001b[0m \n\u001b[1;32m   (...)\u001b[0m\n\u001b[0;32m  10938\u001b[0m \u001b[39m    max            NaN      3.0\u001b[39;00m\n\u001b[0;32m  10939\u001b[0m \u001b[39m    \"\"\"\u001b[39;00m\n\u001b[1;32m> 10940\u001b[0m     \u001b[39mreturn\u001b[39;00m describe_ndframe(\n\u001b[0;32m  10941\u001b[0m         obj\u001b[39m=\u001b[39;49m\u001b[39mself\u001b[39;49m,\n\u001b[0;32m  10942\u001b[0m         include\u001b[39m=\u001b[39;49minclude,\n\u001b[0;32m  10943\u001b[0m         exclude\u001b[39m=\u001b[39;49mexclude,\n\u001b[0;32m  10944\u001b[0m         datetime_is_numeric\u001b[39m=\u001b[39;49mdatetime_is_numeric,\n\u001b[0;32m  10945\u001b[0m         percentiles\u001b[39m=\u001b[39;49mpercentiles,\n\u001b[0;32m  10946\u001b[0m     )\n",
      "File \u001b[1;32mc:\\Users\\Lucca\\anaconda3\\envs\\arvato\\lib\\site-packages\\pandas\\core\\describe.py:94\u001b[0m, in \u001b[0;36mdescribe_ndframe\u001b[1;34m(obj, include, exclude, datetime_is_numeric, percentiles)\u001b[0m\n\u001b[0;32m     89\u001b[0m     describer \u001b[39m=\u001b[39m SeriesDescriber(\n\u001b[0;32m     90\u001b[0m         obj\u001b[39m=\u001b[39mcast(\u001b[39m\"\u001b[39m\u001b[39mSeries\u001b[39m\u001b[39m\"\u001b[39m, obj),\n\u001b[0;32m     91\u001b[0m         datetime_is_numeric\u001b[39m=\u001b[39mdatetime_is_numeric,\n\u001b[0;32m     92\u001b[0m     )\n\u001b[0;32m     93\u001b[0m \u001b[39melse\u001b[39;00m:\n\u001b[1;32m---> 94\u001b[0m     describer \u001b[39m=\u001b[39m DataFrameDescriber(\n\u001b[0;32m     95\u001b[0m         obj\u001b[39m=\u001b[39;49mcast(\u001b[39m\"\u001b[39;49m\u001b[39mDataFrame\u001b[39;49m\u001b[39m\"\u001b[39;49m, obj),\n\u001b[0;32m     96\u001b[0m         include\u001b[39m=\u001b[39;49minclude,\n\u001b[0;32m     97\u001b[0m         exclude\u001b[39m=\u001b[39;49mexclude,\n\u001b[0;32m     98\u001b[0m         datetime_is_numeric\u001b[39m=\u001b[39;49mdatetime_is_numeric,\n\u001b[0;32m     99\u001b[0m     )\n\u001b[0;32m    101\u001b[0m result \u001b[39m=\u001b[39m describer\u001b[39m.\u001b[39mdescribe(percentiles\u001b[39m=\u001b[39mpercentiles)\n\u001b[0;32m    102\u001b[0m \u001b[39mreturn\u001b[39;00m cast(NDFrameT, result)\n",
      "File \u001b[1;32mc:\\Users\\Lucca\\anaconda3\\envs\\arvato\\lib\\site-packages\\pandas\\core\\describe.py:171\u001b[0m, in \u001b[0;36mDataFrameDescriber.__init__\u001b[1;34m(self, obj, include, exclude, datetime_is_numeric)\u001b[0m\n\u001b[0;32m    168\u001b[0m \u001b[39mself\u001b[39m\u001b[39m.\u001b[39mexclude \u001b[39m=\u001b[39m exclude\n\u001b[0;32m    170\u001b[0m \u001b[39mif\u001b[39;00m obj\u001b[39m.\u001b[39mndim \u001b[39m==\u001b[39m \u001b[39m2\u001b[39m \u001b[39mand\u001b[39;00m obj\u001b[39m.\u001b[39mcolumns\u001b[39m.\u001b[39msize \u001b[39m==\u001b[39m \u001b[39m0\u001b[39m:\n\u001b[1;32m--> 171\u001b[0m     \u001b[39mraise\u001b[39;00m \u001b[39mValueError\u001b[39;00m(\u001b[39m\"\u001b[39m\u001b[39mCannot describe a DataFrame without columns\u001b[39m\u001b[39m\"\u001b[39m)\n\u001b[0;32m    173\u001b[0m \u001b[39msuper\u001b[39m()\u001b[39m.\u001b[39m\u001b[39m__init__\u001b[39m(obj, datetime_is_numeric\u001b[39m=\u001b[39mdatetime_is_numeric)\n",
      "\u001b[1;31mValueError\u001b[0m: Cannot describe a DataFrame without columns"
     ]
    }
   ],
   "source": [
    "sample[num_cols].describe().loc['std'].mean()"
   ]
  },
  {
   "cell_type": "code",
   "execution_count": 25,
   "metadata": {},
   "outputs": [
    {
     "name": "stdout",
     "output_type": "stream",
     "text": [
      "Running for 2 clusters...\n",
      "SELF TIMED: 25.13 seconds\n",
      "\n",
      "Running for 3 clusters...\n",
      "SELF TIMED: 22.04 seconds\n",
      "\n",
      "Running for 4 clusters...\n",
      "SELF TIMED: 31.20 seconds\n",
      "\n",
      "Running for 5 clusters...\n",
      "SELF TIMED: 32.12 seconds\n",
      "\n",
      "Running for 6 clusters...\n",
      "SELF TIMED: 65.89 seconds\n",
      "\n",
      "Running for 7 clusters...\n",
      "SELF TIMED: 49.51 seconds\n",
      "\n",
      "Running for 8 clusters...\n",
      "SELF TIMED: 52.16 seconds\n",
      "\n",
      "Running for 9 clusters...\n",
      "SELF TIMED: 86.71 seconds\n",
      "\n"
     ]
    }
   ],
   "source": [
    "cost_list = []\n",
    "\n",
    "sil_score_list = []\n",
    "\n",
    "for k in range(2,10):\n",
    "\n",
    "    print(f'Running for {k} clusters...')\n",
    "    \n",
    "    start = time.time()\n",
    "\n",
    "    kp = KPrototypes(n_clusters= k, n_jobs=-1, gamma = 0.5)\n",
    "\n",
    "    kp.fit(sample, categorical=cat_cols_idx)\n",
    "\n",
    "    cost_list.append(kp.cost_)\n",
    "\n",
    "    sil_score = silhouette_score(X_dist, kp.labels_, metric = 'precomputed')\n",
    "\n",
    "    sil_score_list.append(sil_score)\n",
    "\n",
    "    finish = time.time()\n",
    "\n",
    "    print(f'SELF TIMED: {finish - start:.2f} seconds', end = '\\n\\n')"
   ]
  },
  {
   "cell_type": "code",
   "execution_count": 26,
   "metadata": {},
   "outputs": [
    {
     "data": {
      "text/plain": [
       "<AxesSubplot: >"
      ]
     },
     "execution_count": 26,
     "metadata": {},
     "output_type": "execute_result"
    },
    {
     "data": {
      "image/png": "[encoded data removed]",
      "text/plain": [
       "<Figure size 1000x500 with 1 Axes>"
      ]
     },
     "metadata": {},
     "output_type": "display_data"
    }
   ],
   "source": [
    "sns.lineplot(x = range(2,10), y = sil_score_list, marker = 'o')"
   ]
  },
  {
   "cell_type": "code",
   "execution_count": 28,
   "metadata": {},
   "outputs": [
    {
     "data": {
      "text/plain": [
       "<AxesSubplot: >"
      ]
     },
     "execution_count": 28,
     "metadata": {},
     "output_type": "execute_result"
    },
    {
     "data": {
      "image/png": "[encoded data removed]",
      "text/plain": [
       "<Figure size 1000x500 with 1 Axes>"
      ]
     },
     "metadata": {},
     "output_type": "display_data"
    }
   ],
   "source": [
    "sns.lineplot(x = range(2,10), y = cost_list, marker = 'o')"
   ]
  },
  {
   "attachments": {},
   "cell_type": "markdown",
   "metadata": {},
   "source": [
    "# PCA + KMeans"
   ]
  },
  {
   "cell_type": "code",
   "execution_count": 27,
   "metadata": {},
   "outputs": [],
   "source": [
    "census = pd.get_dummies(census, columns=list(nominal_vars))"
   ]
  },
  {
   "cell_type": "code",
   "execution_count": 28,
   "metadata": {},
   "outputs": [],
   "source": [
    "dummy_nominal_vars = []\n",
    "\n",
    "for name in list(nominal_vars):\n",
    "\n",
    "    for col in census.columns:\n",
    "\n",
    "        if name in col:\n",
    "\n",
    "            dummy_nominal_vars.append(col)\n",
    "\n",
    "# Fix for GEBAEUDETYP and GEBAUDETYP_RASTER\n",
    "dummy_nominal_vars = sorted(list(set(dummy_nominal_vars)))"
   ]
  },
  {
   "cell_type": "code",
   "execution_count": 29,
   "metadata": {},
   "outputs": [],
   "source": [
    "def weight_encoded_col(col):\n",
    "\n",
    "    # mean = probability of occurance for a binary col\n",
    "    mean = col.mean()\n",
    "\n",
    "    weight = np.sqrt(mean)\n",
    "\n",
    "    col = col / weight\n",
    "    \n",
    "    # Centering\n",
    "    center_ref = col.mean()\n",
    "\n",
    "    col = col - center_ref\n",
    "    \n",
    "    return col"
   ]
  },
  {
   "cell_type": "code",
   "execution_count": 30,
   "metadata": {},
   "outputs": [],
   "source": [
    "for col in list(binary_vars) + list(dummy_nominal_vars):\n",
    "\n",
    "    census[col] = weight_encoded_col(census[col])"
   ]
  },
  {
   "attachments": {},
   "cell_type": "markdown",
   "metadata": {},
   "source": [
    "## Numerical columns"
   ]
  },
  {
   "cell_type": "code",
   "execution_count": 31,
   "metadata": {},
   "outputs": [],
   "source": [
    "num_col_list = census.columns.drop(list(binary_vars) + dummy_nominal_vars + ['LNR'])"
   ]
  },
  {
   "cell_type": "code",
   "execution_count": 32,
   "metadata": {},
   "outputs": [],
   "source": [
    "scaler = StandardScaler()"
   ]
  },
  {
   "cell_type": "code",
   "execution_count": 33,
   "metadata": {},
   "outputs": [],
   "source": [
    "census[num_col_list] = scaler.fit_transform(census[num_col_list])"
   ]
  },
  {
   "attachments": {},
   "cell_type": "markdown",
   "metadata": {},
   "source": [
    "# PCA"
   ]
  },
  {
   "cell_type": "code",
   "execution_count": 34,
   "metadata": {},
   "outputs": [
    {
     "data": {
      "text/plain": [
       "(784908, 105)"
      ]
     },
     "execution_count": 34,
     "metadata": {},
     "output_type": "execute_result"
    }
   ],
   "source": [
    "census.shape"
   ]
  },
  {
   "cell_type": "code",
   "execution_count": 35,
   "metadata": {},
   "outputs": [
    {
     "name": "stdout",
     "output_type": "stream",
     "text": [
      "Running for 20 components...\n",
      "Explained Variance: 0.5790538237983482\n",
      "\n",
      "Running for 40 components...\n",
      "Explained Variance: 0.7848555044809882\n",
      "\n",
      "Running for 60 components...\n",
      "Explained Variance: 0.9221030932841603\n",
      "\n",
      "Running for 80 components...\n",
      "Explained Variance: 0.98239744905113\n",
      "\n"
     ]
    }
   ],
   "source": [
    "explained_var_list_step_2 = []\n",
    "\n",
    "for comp in range(20,100, 20):\n",
    "\n",
    "    print(f'Running for {comp} components...')\n",
    "    pca = PCA(n_components=comp, random_state=123)\n",
    "\n",
    "    pca.fit(census.drop(columns = 'LNR'))\n",
    "\n",
    "    expl_variance = pca.explained_variance_ratio_.sum()\n",
    "\n",
    "    print(f'Explained Variance: {expl_variance}', end = '\\n\\n')\n",
    "    \n",
    "    explained_var_list_step_2.append(expl_variance)\n",
    "\n",
    "    if expl_variance >= 0.95:\n",
    "\n",
    "        break\n",
    "    # explained_var_list.append(explained_var_list_step_2)"
   ]
  },
  {
   "cell_type": "code",
   "execution_count": 70,
   "metadata": {},
   "outputs": [
    {
     "data": {
      "text/plain": [
       "(784908, 231)"
      ]
     },
     "execution_count": 70,
     "metadata": {},
     "output_type": "execute_result"
    }
   ],
   "source": [
    "census.shape"
   ]
  },
  {
   "attachments": {},
   "cell_type": "markdown",
   "metadata": {},
   "source": [
    "If we consider a threshold for 95% of variance, 180 components are the first amount of components that match this threshold"
   ]
  },
  {
   "attachments": {},
   "cell_type": "markdown",
   "metadata": {},
   "source": [
    "MONTAR PLOT DEPOIS"
   ]
  },
  {
   "attachments": {},
   "cell_type": "markdown",
   "metadata": {},
   "source": [
    "# K-Means\n",
    "\n",
    "800k entries is too much for some machines to handle and/or take a long time for the algorithm to run.  \n",
    "Therefore, assuming the AZDIAS data as the population we want to model for, we will use a sample of it to find the centroids of our clusters to then propagate this information.  \n",
    "Using a simple [Sample Size Calculator](https://www.calculator.net/sample-size-calculator.html?type=1&cl=99.9&ci=1&pp=50&ps=891221&x=0&y=0), assuming a homogenous population, we find that for a confidence level of 99.9% and 1% margin of error, we can have approx. 26k points to model this population. \n",
    "To round up, we sample 30.000 points"
   ]
  },
  {
   "cell_type": "code",
   "execution_count": 36,
   "metadata": {},
   "outputs": [],
   "source": [
    "def score_kmeans(X,k_range):\n",
    "\n",
    "    for i, k in enumerate(k_range):\n",
    "\n",
    "        print(f'Running for K = {k} Clusters...')\n",
    "\n",
    "        # Using MiniBatch for performance\n",
    "        kmeans = MiniBatchKMeans(n_clusters=k,\n",
    "                                    init = 'k-means++',\n",
    "                                    random_state=123,\n",
    "                                    batch_size=2048,\n",
    "                                    max_iter=50,\n",
    "                                    n_init = 3)\n",
    "\n",
    "        clusters = kmeans.fit_predict(X)\n",
    "\n",
    "        score = silhouette_score(X, clusters)\n",
    "\n",
    "        print(f'Silhouette score of: {score}', end = '\\n\\n')\n",
    "\n",
    "        if i == 0:\n",
    "\n",
    "            silhouette_list = [score]\n",
    "\n",
    "            dist_list = [kmeans.inertia_]\n",
    "        \n",
    "        else:\n",
    "\n",
    "            silhouette_list.append(score)\n",
    "\n",
    "            dist_list.append(kmeans.inertia_)\n",
    "\n",
    "    return silhouette_list, dist_list"
   ]
  },
  {
   "cell_type": "code",
   "execution_count": 37,
   "metadata": {},
   "outputs": [],
   "source": [
    "pca = PCA(n_components=70, random_state=123)\n",
    "\n",
    "pca.fit(census.drop(columns = 'LNR'))\n",
    "\n",
    "X = pca.transform(census.drop(columns = 'LNR'))"
   ]
  },
  {
   "cell_type": "code",
   "execution_count": 73,
   "metadata": {},
   "outputs": [],
   "source": [
    "# Offloading memory\n",
    "# del census"
   ]
  },
  {
   "cell_type": "code",
   "execution_count": 38,
   "metadata": {},
   "outputs": [],
   "source": [
    "rng = np.random.default_rng()\n",
    "\n",
    "# Reproducibility\n",
    "np.random.seed = 123\n",
    "\n",
    "X_sample = rng.choice(X, size = 10000, replace = False)"
   ]
  },
  {
   "cell_type": "code",
   "execution_count": 39,
   "metadata": {},
   "outputs": [],
   "source": [
    "k_range = range(2,11)"
   ]
  },
  {
   "cell_type": "code",
   "execution_count": 40,
   "metadata": {},
   "outputs": [
    {
     "name": "stdout",
     "output_type": "stream",
     "text": [
      "Running for K = 2 Clusters...\n",
      "Silhouette score of: 0.11528387301680645\n",
      "\n",
      "Running for K = 3 Clusters...\n",
      "Silhouette score of: 0.10101108878643052\n",
      "\n",
      "Running for K = 4 Clusters...\n",
      "Silhouette score of: 0.06254323963347513\n",
      "\n",
      "Running for K = 5 Clusters...\n",
      "Silhouette score of: 0.049825699674288806\n",
      "\n",
      "Running for K = 6 Clusters...\n",
      "Silhouette score of: 0.05152979385650447\n",
      "\n",
      "Running for K = 7 Clusters...\n",
      "Silhouette score of: 0.04630318310686655\n",
      "\n",
      "Running for K = 8 Clusters...\n",
      "Silhouette score of: 0.04130596803448616\n",
      "\n",
      "Running for K = 9 Clusters...\n",
      "Silhouette score of: 0.04819080386100841\n",
      "\n",
      "Running for K = 10 Clusters...\n",
      "Silhouette score of: 0.04470643610025433\n",
      "\n"
     ]
    }
   ],
   "source": [
    "sample_30k_silhouette, sample_30k_distances = score_kmeans(X_sample, k_range)"
   ]
  },
  {
   "cell_type": "code",
   "execution_count": 44,
   "metadata": {},
   "outputs": [
    {
     "data": {
      "text/plain": [
       "<AxesSubplot: >"
      ]
     },
     "execution_count": 44,
     "metadata": {},
     "output_type": "execute_result"
    },
    {
     "data": {
      "image/png": "[encoded data removed]",
      "text/plain": [
       "<Figure size 1000x500 with 1 Axes>"
      ]
     },
     "metadata": {},
     "output_type": "display_data"
    }
   ],
   "source": [
    "sns.lineplot(x = range(2,11), y = sample_30k_distances, marker = 'o')"
   ]
  },
  {
   "cell_type": "code",
   "execution_count": null,
   "metadata": {},
   "outputs": [],
   "source": []
  }
 ],
 "metadata": {
  "kernelspec": {
   "display_name": "arvato",
   "language": "python",
   "name": "python3"
  },
  "language_info": {
   "codemirror_mode": {
    "name": "ipython",
    "version": 3
   },
   "file_extension": ".py",
   "mimetype": "text/x-python",
   "name": "python",
   "nbconvert_exporter": "python",
   "pygments_lexer": "ipython3",
   "version": "3.10.9"
  },
  "orig_nbformat": 4,
  "vscode": {
   "interpreter": {
    "hash": "404e1532a79d19b6d50bcd59333a24b8142e74b80b18b64ea31bd32820d8acd4"
   }
  }
 },
 "nbformat": 4,
 "nbformat_minor": 2
}
