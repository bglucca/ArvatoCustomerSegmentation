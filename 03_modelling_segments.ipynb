{
 "cells": [
  {
   "cell_type": "code",
   "execution_count": 102,
   "metadata": {},
   "outputs": [],
   "source": [
    "import pandas as pd\n",
    "import numpy as np\n",
    "\n",
    "import seaborn as sns\n",
    "import matplotlib.pyplot as plt\n",
    "\n",
    "from sklearn.preprocessing import StandardScaler\n",
    "from sklearn.decomposition import PCA\n",
    "\n",
    "from sklearn.cluster import MiniBatchKMeans\n",
    "from sklearn.metrics import silhouette_score"
   ]
  },
  {
   "cell_type": "code",
   "execution_count": 66,
   "metadata": {},
   "outputs": [],
   "source": [
    "sns.set(rc={'figure.figsize':(10,5)})"
   ]
  },
  {
   "cell_type": "code",
   "execution_count": 2,
   "metadata": {},
   "outputs": [],
   "source": [
    "CENSUS_PATH = 'data/refined/census_data.parquet'\n",
    "\n",
    "CUSTOMER_PATH = 'data/refined/customer_data.parquet'"
   ]
  },
  {
   "cell_type": "code",
   "execution_count": 160,
   "metadata": {},
   "outputs": [],
   "source": [
    "census = pd.read_parquet(CENSUS_PATH)"
   ]
  },
  {
   "cell_type": "code",
   "execution_count": 161,
   "metadata": {},
   "outputs": [
    {
     "data": {
      "text/html": [
       "<div>\n",
       "<style scoped>\n",
       "    .dataframe tbody tr th:only-of-type {\n",
       "        vertical-align: middle;\n",
       "    }\n",
       "\n",
       "    .dataframe tbody tr th {\n",
       "        vertical-align: top;\n",
       "    }\n",
       "\n",
       "    .dataframe thead th {\n",
       "        text-align: right;\n",
       "    }\n",
       "</style>\n",
       "<table border=\"1\" class=\"dataframe\">\n",
       "  <thead>\n",
       "    <tr style=\"text-align: right;\">\n",
       "      <th></th>\n",
       "      <th>LNR</th>\n",
       "      <th>ANZ_HAUSHALTE_AKTIV</th>\n",
       "      <th>ANZ_HH_TITEL</th>\n",
       "      <th>ANZ_PERSONEN</th>\n",
       "      <th>ANZ_TITEL</th>\n",
       "      <th>KBA13_ANZAHL_PKW</th>\n",
       "      <th>MIN_GEBAEUDEJAHR</th>\n",
       "      <th>D19_BANKEN_DIREKT</th>\n",
       "      <th>D19_BANKEN_GROSS</th>\n",
       "      <th>D19_BANKEN_LOKAL</th>\n",
       "      <th>...</th>\n",
       "      <th>KBA13_VORB_0</th>\n",
       "      <th>KBA13_HHZ</th>\n",
       "      <th>KBA13_SEG_GELAENDEWAGEN</th>\n",
       "      <th>BALLRAUM</th>\n",
       "      <th>EWDICHTE</th>\n",
       "      <th>INNENSTADT</th>\n",
       "      <th>GEBAEUDETYP_RASTER</th>\n",
       "      <th>KKK</th>\n",
       "      <th>MOBI_REGIO</th>\n",
       "      <th>ONLINE_AFFINITAET</th>\n",
       "    </tr>\n",
       "  </thead>\n",
       "  <tbody>\n",
       "    <tr>\n",
       "      <th>0</th>\n",
       "      <td>910215</td>\n",
       "      <td>8.287263</td>\n",
       "      <td>0.040647</td>\n",
       "      <td>1.727637</td>\n",
       "      <td>0.004162</td>\n",
       "      <td>619.701439</td>\n",
       "      <td>1993.277011</td>\n",
       "      <td>0</td>\n",
       "      <td>0</td>\n",
       "      <td>0</td>\n",
       "      <td>...</td>\n",
       "      <td>3.0</td>\n",
       "      <td>3.0</td>\n",
       "      <td>3.0</td>\n",
       "      <td>6.0</td>\n",
       "      <td>6.0</td>\n",
       "      <td>5.0</td>\n",
       "      <td>4.0</td>\n",
       "      <td>3.0</td>\n",
       "      <td>1.0</td>\n",
       "      <td>1.0</td>\n",
       "    </tr>\n",
       "    <tr>\n",
       "      <th>1</th>\n",
       "      <td>910220</td>\n",
       "      <td>11.000000</td>\n",
       "      <td>0.000000</td>\n",
       "      <td>2.000000</td>\n",
       "      <td>0.000000</td>\n",
       "      <td>963.000000</td>\n",
       "      <td>1992.000000</td>\n",
       "      <td>0</td>\n",
       "      <td>0</td>\n",
       "      <td>0</td>\n",
       "      <td>...</td>\n",
       "      <td>3.0</td>\n",
       "      <td>5.0</td>\n",
       "      <td>2.0</td>\n",
       "      <td>6.0</td>\n",
       "      <td>3.0</td>\n",
       "      <td>8.0</td>\n",
       "      <td>3.0</td>\n",
       "      <td>2.0</td>\n",
       "      <td>1.0</td>\n",
       "      <td>3.0</td>\n",
       "    </tr>\n",
       "    <tr>\n",
       "      <th>2</th>\n",
       "      <td>910225</td>\n",
       "      <td>10.000000</td>\n",
       "      <td>0.000000</td>\n",
       "      <td>1.000000</td>\n",
       "      <td>0.000000</td>\n",
       "      <td>712.000000</td>\n",
       "      <td>1992.000000</td>\n",
       "      <td>0</td>\n",
       "      <td>0</td>\n",
       "      <td>0</td>\n",
       "      <td>...</td>\n",
       "      <td>3.0</td>\n",
       "      <td>4.0</td>\n",
       "      <td>5.0</td>\n",
       "      <td>2.0</td>\n",
       "      <td>4.0</td>\n",
       "      <td>4.0</td>\n",
       "      <td>4.0</td>\n",
       "      <td>2.0</td>\n",
       "      <td>3.0</td>\n",
       "      <td>2.0</td>\n",
       "    </tr>\n",
       "    <tr>\n",
       "      <th>3</th>\n",
       "      <td>910226</td>\n",
       "      <td>1.000000</td>\n",
       "      <td>0.000000</td>\n",
       "      <td>0.000000</td>\n",
       "      <td>0.000000</td>\n",
       "      <td>596.000000</td>\n",
       "      <td>1997.000000</td>\n",
       "      <td>0</td>\n",
       "      <td>0</td>\n",
       "      <td>0</td>\n",
       "      <td>...</td>\n",
       "      <td>4.0</td>\n",
       "      <td>3.0</td>\n",
       "      <td>3.0</td>\n",
       "      <td>4.0</td>\n",
       "      <td>2.0</td>\n",
       "      <td>6.0</td>\n",
       "      <td>4.0</td>\n",
       "      <td>3.0</td>\n",
       "      <td>4.0</td>\n",
       "      <td>1.0</td>\n",
       "    </tr>\n",
       "    <tr>\n",
       "      <th>4</th>\n",
       "      <td>910241</td>\n",
       "      <td>3.000000</td>\n",
       "      <td>0.000000</td>\n",
       "      <td>4.000000</td>\n",
       "      <td>0.000000</td>\n",
       "      <td>435.000000</td>\n",
       "      <td>1992.000000</td>\n",
       "      <td>1</td>\n",
       "      <td>2</td>\n",
       "      <td>0</td>\n",
       "      <td>...</td>\n",
       "      <td>4.0</td>\n",
       "      <td>3.0</td>\n",
       "      <td>3.0</td>\n",
       "      <td>2.0</td>\n",
       "      <td>5.0</td>\n",
       "      <td>1.0</td>\n",
       "      <td>5.0</td>\n",
       "      <td>3.0</td>\n",
       "      <td>3.0</td>\n",
       "      <td>5.0</td>\n",
       "    </tr>\n",
       "  </tbody>\n",
       "</table>\n",
       "<p>5 rows × 196 columns</p>\n",
       "</div>"
      ],
      "text/plain": [
       "      LNR  ANZ_HAUSHALTE_AKTIV  ANZ_HH_TITEL  ANZ_PERSONEN  ANZ_TITEL  \\\n",
       "0  910215             8.287263      0.040647      1.727637   0.004162   \n",
       "1  910220            11.000000      0.000000      2.000000   0.000000   \n",
       "2  910225            10.000000      0.000000      1.000000   0.000000   \n",
       "3  910226             1.000000      0.000000      0.000000   0.000000   \n",
       "4  910241             3.000000      0.000000      4.000000   0.000000   \n",
       "\n",
       "   KBA13_ANZAHL_PKW  MIN_GEBAEUDEJAHR  D19_BANKEN_DIREKT  D19_BANKEN_GROSS  \\\n",
       "0        619.701439       1993.277011                  0                 0   \n",
       "1        963.000000       1992.000000                  0                 0   \n",
       "2        712.000000       1992.000000                  0                 0   \n",
       "3        596.000000       1997.000000                  0                 0   \n",
       "4        435.000000       1992.000000                  1                 2   \n",
       "\n",
       "   D19_BANKEN_LOKAL  ...  KBA13_VORB_0  KBA13_HHZ  KBA13_SEG_GELAENDEWAGEN  \\\n",
       "0                 0  ...           3.0        3.0                      3.0   \n",
       "1                 0  ...           3.0        5.0                      2.0   \n",
       "2                 0  ...           3.0        4.0                      5.0   \n",
       "3                 0  ...           4.0        3.0                      3.0   \n",
       "4                 0  ...           4.0        3.0                      3.0   \n",
       "\n",
       "   BALLRAUM  EWDICHTE  INNENSTADT  GEBAEUDETYP_RASTER  KKK  MOBI_REGIO  \\\n",
       "0       6.0       6.0         5.0                 4.0  3.0         1.0   \n",
       "1       6.0       3.0         8.0                 3.0  2.0         1.0   \n",
       "2       2.0       4.0         4.0                 4.0  2.0         3.0   \n",
       "3       4.0       2.0         6.0                 4.0  3.0         4.0   \n",
       "4       2.0       5.0         1.0                 5.0  3.0         3.0   \n",
       "\n",
       "   ONLINE_AFFINITAET  \n",
       "0                1.0  \n",
       "1                3.0  \n",
       "2                2.0  \n",
       "3                1.0  \n",
       "4                5.0  \n",
       "\n",
       "[5 rows x 196 columns]"
      ]
     },
     "execution_count": 161,
     "metadata": {},
     "output_type": "execute_result"
    }
   ],
   "source": [
    "census.head()"
   ]
  },
  {
   "cell_type": "code",
   "execution_count": 162,
   "metadata": {},
   "outputs": [],
   "source": [
    "census_var_types = pd.read_csv('data/trusted/census_var_types.csv').drop(columns='Unnamed: 0')"
   ]
  },
  {
   "cell_type": "code",
   "execution_count": 163,
   "metadata": {},
   "outputs": [
    {
     "data": {
      "text/html": [
       "<div>\n",
       "<style scoped>\n",
       "    .dataframe tbody tr th:only-of-type {\n",
       "        vertical-align: middle;\n",
       "    }\n",
       "\n",
       "    .dataframe tbody tr th {\n",
       "        vertical-align: top;\n",
       "    }\n",
       "\n",
       "    .dataframe thead th {\n",
       "        text-align: right;\n",
       "    }\n",
       "</style>\n",
       "<table border=\"1\" class=\"dataframe\">\n",
       "  <thead>\n",
       "    <tr style=\"text-align: right;\">\n",
       "      <th></th>\n",
       "      <th>Attribute</th>\n",
       "      <th>Type</th>\n",
       "    </tr>\n",
       "  </thead>\n",
       "  <tbody>\n",
       "    <tr>\n",
       "      <th>0</th>\n",
       "      <td>ALTERSKATEGORIE_GROB</td>\n",
       "      <td>interval</td>\n",
       "    </tr>\n",
       "    <tr>\n",
       "      <th>1</th>\n",
       "      <td>ALTER_HH</td>\n",
       "      <td>interval</td>\n",
       "    </tr>\n",
       "    <tr>\n",
       "      <th>2</th>\n",
       "      <td>ANREDE_KZ</td>\n",
       "      <td>binary</td>\n",
       "    </tr>\n",
       "    <tr>\n",
       "      <th>3</th>\n",
       "      <td>ANZ_HAUSHALTE_AKTIV</td>\n",
       "      <td>numeric</td>\n",
       "    </tr>\n",
       "    <tr>\n",
       "      <th>4</th>\n",
       "      <td>ANZ_HH_TITEL</td>\n",
       "      <td>numeric</td>\n",
       "    </tr>\n",
       "  </tbody>\n",
       "</table>\n",
       "</div>"
      ],
      "text/plain": [
       "              Attribute      Type\n",
       "0  ALTERSKATEGORIE_GROB  interval\n",
       "1              ALTER_HH  interval\n",
       "2             ANREDE_KZ    binary\n",
       "3   ANZ_HAUSHALTE_AKTIV   numeric\n",
       "4          ANZ_HH_TITEL   numeric"
      ]
     },
     "execution_count": 163,
     "metadata": {},
     "output_type": "execute_result"
    }
   ],
   "source": [
    "census_var_types.head()"
   ]
  },
  {
   "cell_type": "code",
   "execution_count": 164,
   "metadata": {},
   "outputs": [
    {
     "data": {
      "text/plain": [
       "interval    167\n",
       "nominal      14\n",
       "numeric       8\n",
       "binary        5\n",
       "Name: Type, dtype: int64"
      ]
     },
     "execution_count": 164,
     "metadata": {},
     "output_type": "execute_result"
    }
   ],
   "source": [
    "census_var_types['Type'].value_counts()"
   ]
  },
  {
   "attachments": {},
   "cell_type": "markdown",
   "metadata": {},
   "source": [
    "Variables considered as interval could be used in PCA. Unfortunately, this approach is not enough to handle nominal and binary features. An alteranitve approach to solve this problem is [Factorial Analysis of Mixed Data (FAMD)](https://towardsdatascience.com/famd-how-to-generalize-pca-to-categorical-and-numerical-data-2ddbeb2b9210).  \n",
    "Using this approach, we will reduce the dimensions of Data prior to clustering it. It builds on top of sklearn's `TransformerMixIn` , so the implementation will be pretty straightfoward. "
   ]
  },
  {
   "attachments": {},
   "cell_type": "markdown",
   "metadata": {},
   "source": [
    "# Clustering demographic data"
   ]
  },
  {
   "attachments": {},
   "cell_type": "markdown",
   "metadata": {},
   "source": [
    "## Adjustments to nominals and binaries"
   ]
  },
  {
   "cell_type": "code",
   "execution_count": 165,
   "metadata": {},
   "outputs": [],
   "source": [
    "binary_vars = census_var_types[census_var_types['Type'] == 'binary']['Attribute'].values"
   ]
  },
  {
   "cell_type": "code",
   "execution_count": 166,
   "metadata": {},
   "outputs": [
    {
     "name": "stdout",
     "output_type": "stream",
     "text": [
      "ANREDE_KZ [1 2]\n",
      "GREEN_AVANTGARDE [0 1]\n",
      "OST_WEST_KZ [1. 0.]\n",
      "VERS_TYP [2. 1.]\n",
      "SOHO_KZ [0. 1.]\n"
     ]
    }
   ],
   "source": [
    "for col in binary_vars:\n",
    "\n",
    "    print(col, census[col].unique())"
   ]
  },
  {
   "cell_type": "code",
   "execution_count": 167,
   "metadata": {},
   "outputs": [],
   "source": [
    "census['ANREDE_KZ'] = census['ANREDE_KZ'] - 1\n",
    "\n",
    "census['VERS_TYP'] = census['VERS_TYP'] - 1"
   ]
  },
  {
   "cell_type": "code",
   "execution_count": 168,
   "metadata": {},
   "outputs": [],
   "source": [
    "nominal_vars = census_var_types[census_var_types['Type'] == 'nominal']['Attribute'].values"
   ]
  },
  {
   "cell_type": "code",
   "execution_count": 169,
   "metadata": {},
   "outputs": [
    {
     "data": {
      "text/plain": [
       "array(['CJT_GESAMTTYP', 'D19_KONSUMTYP', 'FINANZTYP', 'GEBAEUDETYP',\n",
       "       'GEBAEUDETYP_RASTER', 'GFK_URLAUBERTYP', 'HEALTH_TYP',\n",
       "       'KBA05_MAXHERST', 'LP_FAMILIE_FEIN', 'LP_FAMILIE_GROB',\n",
       "       'NATIONALITAET_KZ', 'RETOURTYP_BK_S', 'SHOPPER_TYP', 'STRUKTURTYP'],\n",
       "      dtype=object)"
      ]
     },
     "execution_count": 169,
     "metadata": {},
     "output_type": "execute_result"
    }
   ],
   "source": [
    "nominal_vars"
   ]
  },
  {
   "cell_type": "code",
   "execution_count": 170,
   "metadata": {},
   "outputs": [],
   "source": [
    "census = pd.get_dummies(census, columns=nominal_vars)"
   ]
  },
  {
   "cell_type": "code",
   "execution_count": 171,
   "metadata": {},
   "outputs": [],
   "source": [
    "dummy_nominal_vars = []\n",
    "\n",
    "for name in nominal_vars:\n",
    "\n",
    "    for col in census.columns:\n",
    "\n",
    "        if name in col:\n",
    "\n",
    "            dummy_nominal_vars.append(col)\n",
    "\n",
    "# Fix for GEBAEUDETYP and GEBAUDETYP_RASTER\n",
    "dummy_nominal_vars = sorted(list(set(dummy_nominal_vars)))"
   ]
  },
  {
   "cell_type": "code",
   "execution_count": 172,
   "metadata": {},
   "outputs": [],
   "source": [
    "def weight_encoded_col(col):\n",
    "\n",
    "    # mean = probability of occurance for a binary col\n",
    "    mean = col.mean()\n",
    "\n",
    "    weight = np.sqrt(mean)\n",
    "\n",
    "    col = (col / weight) - mean\n",
    "    \n",
    "    # Centering\n",
    "    center_ref = col.mean()\n",
    "\n",
    "    col = col - center_ref\n",
    "    \n",
    "    return col"
   ]
  },
  {
   "cell_type": "code",
   "execution_count": 132,
   "metadata": {},
   "outputs": [],
   "source": [
    "for col in list(binary_vars) + list(dummy_nominal_vars):\n",
    "\n",
    "    census[col] = weight_encoded_col(census[col])"
   ]
  },
  {
   "attachments": {},
   "cell_type": "markdown",
   "metadata": {},
   "source": [
    "## Numerical columns"
   ]
  },
  {
   "cell_type": "code",
   "execution_count": 173,
   "metadata": {},
   "outputs": [],
   "source": [
    "num_col_list = census.columns.drop(list(binary_vars) + dummy_nominal_vars + ['LNR'])"
   ]
  },
  {
   "cell_type": "code",
   "execution_count": 174,
   "metadata": {},
   "outputs": [],
   "source": [
    "scaler = StandardScaler()"
   ]
  },
  {
   "cell_type": "code",
   "execution_count": 175,
   "metadata": {},
   "outputs": [],
   "source": [
    "census[num_col_list] = scaler.fit_transform(census[num_col_list])"
   ]
  },
  {
   "attachments": {},
   "cell_type": "markdown",
   "metadata": {},
   "source": [
    "# PCA"
   ]
  },
  {
   "cell_type": "code",
   "execution_count": 152,
   "metadata": {},
   "outputs": [],
   "source": [
    "comp_range = range(10,120,10)"
   ]
  },
  {
   "cell_type": "code",
   "execution_count": 68,
   "metadata": {},
   "outputs": [
    {
     "name": "stdout",
     "output_type": "stream",
     "text": [
      "Running for 10 components...\n",
      "Explained Variance: 0.3329549247682982\n",
      "Running for 20 components...\n",
      "Explained Variance: 0.4407196988382206\n",
      "Running for 30 components...\n",
      "Explained Variance: 0.5100926743553953\n",
      "Running for 40 components...\n",
      "Explained Variance: 0.5635581773771263\n",
      "Running for 50 components...\n",
      "Explained Variance: 0.6098664859246127\n",
      "Running for 60 components...\n",
      "Explained Variance: 0.6528997067897863\n",
      "Running for 70 components...\n",
      "Explained Variance: 0.6927238250236533\n",
      "Running for 80 components...\n",
      "Explained Variance: 0.7313262849332327\n",
      "Running for 90 components...\n",
      "Explained Variance: 0.7679039478030857\n",
      "Running for 100 components...\n",
      "Explained Variance: 0.8023333682623003\n",
      "Running for 110 components...\n",
      "Explained Variance: 0.8339299759860345\n"
     ]
    }
   ],
   "source": [
    "explained_var_list = []\n",
    "\n",
    "for comp in range(10,120, 10):\n",
    "\n",
    "    print(f'Running for {comp} components...')\n",
    "    pca = PCA(n_components=comp, random_state=123)\n",
    "\n",
    "    pca.fit(census.drop(columns = 'LNR'))\n",
    "\n",
    "    expl_variance = pca.explained_variance_ratio_.sum()\n",
    "\n",
    "    print(f'Explained Variance: {expl_variance}')\n",
    "    \n",
    "    explained_var_list.append(expl_variance)"
   ]
  },
  {
   "cell_type": "code",
   "execution_count": 153,
   "metadata": {},
   "outputs": [
    {
     "name": "stdout",
     "output_type": "stream",
     "text": [
      "Running for 120 components...\n",
      "Explained Variance: 0.859781526484537\n",
      "Running for 140 components...\n",
      "Explained Variance: 0.9074555001751886\n",
      "Running for 160 components...\n",
      "Explained Variance: 0.9423711376640285\n",
      "Running for 180 components...\n",
      "Explained Variance: 0.9661005559717599\n"
     ]
    }
   ],
   "source": [
    "explained_var_list_step_2 = []\n",
    "\n",
    "for comp in range(120,200, 20):\n",
    "\n",
    "    print(f'Running for {comp} components...')\n",
    "    pca = PCA(n_components=comp, random_state=123)\n",
    "\n",
    "    pca.fit(census.drop(columns = 'LNR'))\n",
    "\n",
    "    expl_variance = pca.explained_variance_ratio_.sum()\n",
    "\n",
    "    print(f'Explained Variance: {expl_variance}')\n",
    "    \n",
    "    explained_var_list.append(explained_var_list_step_2)"
   ]
  },
  {
   "attachments": {},
   "cell_type": "markdown",
   "metadata": {},
   "source": [
    "If we consider a threshold for 95% of variance, 180 components are the first amount of components that match this threshold"
   ]
  },
  {
   "attachments": {},
   "cell_type": "markdown",
   "metadata": {},
   "source": [
    "MONTAR PLOT DEPOIS"
   ]
  },
  {
   "attachments": {},
   "cell_type": "markdown",
   "metadata": {},
   "source": [
    "# K-Means\n",
    "\n",
    "800k entries is too much for some machines to handle and/or take a long time for the algorithm to run.  \n",
    "Therefore, assuming the AZDIAS data as the population we want to model for, we will use a sample of it to find the centroids of our clusters to then propagate this information.  \n",
    "Using a simple [Sample Size Calculator](https://www.calculator.net/sample-size-calculator.html?type=1&cl=99.9&ci=1&pp=50&ps=891221&x=0&y=0), assuming a homogenous population, we find that for a confidence level of 99.9% and 1% margin of error, we can have approx. 26k points to model this population. \n",
    "To round up, we sample 30.000 points"
   ]
  },
  {
   "cell_type": "code",
   "execution_count": 110,
   "metadata": {},
   "outputs": [],
   "source": [
    "def score_kmeans(X,k_range):\n",
    "\n",
    "    for i, k in enumerate(k_range):\n",
    "\n",
    "        print(f'Running for K = {k} Clusters...')\n",
    "\n",
    "        # Using MiniBatch for performance\n",
    "        kmeans = MiniBatchKMeans(n_clusters=k,\n",
    "                                    init = 'k-means++',\n",
    "                                    random_state=123,\n",
    "                                    batch_size=2048,\n",
    "                                    max_iter=50,\n",
    "                                    n_init = 3)\n",
    "\n",
    "        clusters = kmeans.fit_predict(X)\n",
    "\n",
    "        score = silhouette_score(X, clusters)\n",
    "\n",
    "        print(f'Silhouette score of: {score}', end = '\\n\\n')\n",
    "\n",
    "        if i == 0:\n",
    "\n",
    "            silhouette_list = [score]\n",
    "        \n",
    "        else:\n",
    "\n",
    "            silhouette_list.append(score)\n",
    "\n",
    "    return silhouette_list"
   ]
  },
  {
   "cell_type": "code",
   "execution_count": 154,
   "metadata": {},
   "outputs": [],
   "source": [
    "X = pca.transform(census.drop(columns = 'LNR'))"
   ]
  },
  {
   "cell_type": "code",
   "execution_count": 155,
   "metadata": {},
   "outputs": [],
   "source": [
    "# Offloading memory\n",
    "del census"
   ]
  },
  {
   "cell_type": "code",
   "execution_count": 156,
   "metadata": {},
   "outputs": [],
   "source": [
    "rng = np.random.default_rng()\n",
    "\n",
    "# Reproducibility\n",
    "np.random.seed = 123\n",
    "\n",
    "X_sample = rng.choice(X, size = 30000, replace = False)"
   ]
  },
  {
   "cell_type": "code",
   "execution_count": 157,
   "metadata": {},
   "outputs": [],
   "source": [
    "k_range = range(2,6)"
   ]
  },
  {
   "cell_type": "code",
   "execution_count": 158,
   "metadata": {},
   "outputs": [
    {
     "name": "stdout",
     "output_type": "stream",
     "text": [
      "Running for K = 2 Clusters...\n",
      "Silhouette score of: 0.06474196033605022\n",
      "\n",
      "Running for K = 3 Clusters...\n",
      "Silhouette score of: 0.05339766298397601\n",
      "\n",
      "Running for K = 4 Clusters...\n",
      "Silhouette score of: 0.04063090921371187\n",
      "\n",
      "Running for K = 5 Clusters...\n",
      "Silhouette score of: 0.0330306754032392\n",
      "\n"
     ]
    }
   ],
   "source": [
    "sample_30k_silhouette = score_kmeans(X_sample, k_range)"
   ]
  },
  {
   "cell_type": "code",
   "execution_count": 92,
   "metadata": {},
   "outputs": [
    {
     "name": "stdout",
     "output_type": "stream",
     "text": [
      "Running for K = 2 Clusters...\n",
      "Silhouette score of: 0.06395817226549276\n",
      "\n",
      "Running for K = 3 Clusters...\n",
      "Silhouette score of: 0.04702968907123202\n",
      "\n",
      "Running for K = 4 Clusters...\n",
      "Silhouette score of: 0.036985504875285895\n",
      "\n",
      "Running for K = 5 Clusters...\n",
      "Silhouette score of: 0.042770758409021406\n",
      "\n",
      "Running for K = 6 Clusters...\n",
      "Silhouette score of: 0.02250999771998223\n",
      "\n",
      "Running for K = 7 Clusters...\n",
      "Silhouette score of: -0.007969501755134679\n",
      "\n",
      "Running for K = 8 Clusters...\n",
      "Silhouette score of: -0.015460733694349568\n",
      "\n",
      "Running for K = 9 Clusters...\n",
      "Silhouette score of: -0.025490453709149256\n",
      "\n",
      "Running for K = 10 Clusters...\n",
      "Silhouette score of: -0.01028427739921058\n",
      "\n",
      "Running for K = 11 Clusters...\n",
      "Silhouette score of: -0.007315642448827877\n",
      "\n",
      "Running for K = 12 Clusters...\n",
      "Silhouette score of: -0.006361906995516497\n",
      "\n",
      "Running for K = 13 Clusters...\n",
      "Silhouette score of: -0.004087184113442582\n",
      "\n",
      "Running for K = 14 Clusters...\n",
      "Silhouette score of: -0.007402079612865776\n",
      "\n",
      "Running for K = 15 Clusters...\n",
      "Silhouette score of: -0.00253404416543515\n",
      "\n",
      "Running for K = 16 Clusters...\n",
      "Silhouette score of: -0.0004576571969883997\n",
      "\n",
      "Running for K = 17 Clusters...\n",
      "Silhouette score of: 0.00049815731575043\n",
      "\n",
      "Running for K = 18 Clusters...\n",
      "Silhouette score of: -0.01278342758355513\n",
      "\n",
      "Running for K = 19 Clusters...\n",
      "Silhouette score of: 0.0012245098152764062\n",
      "\n",
      "Running for K = 20 Clusters...\n",
      "Silhouette score of: 0.005329074765904258\n",
      "\n"
     ]
    }
   ],
   "source": [
    "for i, k in enumerate(k_range):\n",
    "\n",
    "    print(f'Running for K = {k} Clusters...')\n",
    "\n",
    "    # Using MiniBatch for performance\n",
    "    kmeans = MiniBatchKMeans(n_clusters=k,\n",
    "                                init = 'k-means++',\n",
    "                                random_state=123,\n",
    "                                batch_size=2048,\n",
    "                                max_iter=50,\n",
    "                                n_init = 3)\n",
    "\n",
    "    clusters = kmeans.fit_predict(X_sample)\n",
    "\n",
    "    score = silhouette_score(X_sample, clusters)\n",
    "\n",
    "    print(f'Silhouette score of: {score}', end = '\\n\\n')\n",
    "\n",
    "    if i == 0:\n",
    "\n",
    "        silhouette_list = [score]\n",
    "    \n",
    "    else:\n",
    "\n",
    "        silhouette_list.append(score)"
   ]
  },
  {
   "cell_type": "code",
   "execution_count": 108,
   "metadata": {},
   "outputs": [
    {
     "data": {
      "image/png": "[encoded data removed]",
      "text/plain": [
       "<Figure size 1000x500 with 1 Axes>"
      ]
     },
     "metadata": {},
     "output_type": "display_data"
    }
   ],
   "source": [
    "g = sns.lineplot(x = k_range, y = sample_30k_silhouette)\n",
    "\n",
    "g.set(ylim = (-1,1))\n",
    "\n",
    "plt.title('Silhouette Score Average for N = 30.000')\n",
    "\n",
    "plt.show()"
   ]
  },
  {
   "attachments": {},
   "cell_type": "markdown",
   "metadata": {},
   "source": [
    "The plot clearly shows overlapping clusters (Score = 0). We can try to increase information to the algorithm by providing more data to it, i.e. increase sample size"
   ]
  },
  {
   "cell_type": "code",
   "execution_count": 111,
   "metadata": {},
   "outputs": [],
   "source": [
    "X_sample = rng.choice(X, size = 50000, replace = False)"
   ]
  },
  {
   "cell_type": "code",
   "execution_count": 112,
   "metadata": {},
   "outputs": [
    {
     "name": "stdout",
     "output_type": "stream",
     "text": [
      "Running for K = 2 Clusters...\n",
      "Silhouette score of: 0.06284699991256591\n",
      "\n",
      "Running for K = 3 Clusters...\n",
      "Silhouette score of: 0.04475893699842627\n",
      "\n",
      "Running for K = 4 Clusters...\n",
      "Silhouette score of: 0.02804108009105736\n",
      "\n",
      "Running for K = 5 Clusters...\n",
      "Silhouette score of: -0.028459711216973736\n",
      "\n",
      "Running for K = 6 Clusters...\n",
      "Silhouette score of: 0.012697826207335111\n",
      "\n",
      "Running for K = 7 Clusters...\n",
      "Silhouette score of: -0.021756046218411013\n",
      "\n",
      "Running for K = 8 Clusters...\n",
      "Silhouette score of: -0.010585970993355813\n",
      "\n",
      "Running for K = 9 Clusters...\n",
      "Silhouette score of: -0.010919694714641158\n",
      "\n",
      "Running for K = 10 Clusters...\n",
      "Silhouette score of: -0.009365197394872805\n",
      "\n",
      "Running for K = 11 Clusters...\n",
      "Silhouette score of: -0.007173869371622293\n",
      "\n",
      "Running for K = 12 Clusters...\n",
      "Silhouette score of: -0.004822670187907108\n",
      "\n",
      "Running for K = 13 Clusters...\n",
      "Silhouette score of: -0.05896160204795633\n",
      "\n",
      "Running for K = 14 Clusters...\n",
      "Silhouette score of: 0.0001178135796899852\n",
      "\n",
      "Running for K = 15 Clusters...\n",
      "Silhouette score of: -0.004195528009176591\n",
      "\n",
      "Running for K = 16 Clusters...\n",
      "Silhouette score of: -0.0031286516761159775\n",
      "\n",
      "Running for K = 17 Clusters...\n",
      "Silhouette score of: -0.006113071632061141\n",
      "\n",
      "Running for K = 18 Clusters...\n",
      "Silhouette score of: -0.003595246347824765\n",
      "\n",
      "Running for K = 19 Clusters...\n",
      "Silhouette score of: 0.0022316305831571637\n",
      "\n",
      "Running for K = 20 Clusters...\n",
      "Silhouette score of: 0.0020806808265841793\n",
      "\n"
     ]
    }
   ],
   "source": [
    "sample_50k_silhouette = score_kmeans(X_sample,k_range)"
   ]
  },
  {
   "cell_type": "code",
   "execution_count": 113,
   "metadata": {},
   "outputs": [
    {
     "data": {
      "image/png": "[encoded data removed]",
      "text/plain": [
       "<Figure size 1000x500 with 1 Axes>"
      ]
     },
     "metadata": {},
     "output_type": "display_data"
    }
   ],
   "source": [
    "g = sns.lineplot(x = k_range, y = sample_50k_silhouette)\n",
    "\n",
    "g.set(ylim = (-1,1))\n",
    "\n",
    "plt.title('Silhouette Score Average for N = 30.000')\n",
    "\n",
    "plt.show()"
   ]
  },
  {
   "attachments": {},
   "cell_type": "markdown",
   "metadata": {},
   "source": [
    "Even with more data the clustering doesn't show good results. Further/ Different preprocessing is required."
   ]
  },
  {
   "attachments": {},
   "cell_type": "markdown",
   "metadata": {},
   "source": [
    "# PCA + K-Means - Second Approach\n",
    "Using only interval and numeric Data"
   ]
  },
  {
   "cell_type": "code",
   "execution_count": 177,
   "metadata": {},
   "outputs": [
    {
     "name": "stdout",
     "output_type": "stream",
     "text": [
      "Running for 100 components...\n",
      "Explained Variance: 0.927116116749541\n",
      "Running for 120 components...\n",
      "Explained Variance: 0.9595880784426121\n",
      "Running for 140 components...\n",
      "Explained Variance: 0.9821781176916982\n",
      "Running for 160 components...\n",
      "Explained Variance: 0.9959858334215564\n",
      "Running for 180 components...\n"
     ]
    },
    {
     "ename": "KeyboardInterrupt",
     "evalue": "",
     "output_type": "error",
     "traceback": [
      "\u001b[1;31m---------------------------------------------------------------------------\u001b[0m",
      "\u001b[1;31mKeyboardInterrupt\u001b[0m                         Traceback (most recent call last)",
      "Cell \u001b[1;32mIn[177], line 8\u001b[0m\n\u001b[0;32m      5\u001b[0m \u001b[39mprint\u001b[39m(\u001b[39mf\u001b[39m\u001b[39m'\u001b[39m\u001b[39mRunning for \u001b[39m\u001b[39m{\u001b[39;00mcomp\u001b[39m}\u001b[39;00m\u001b[39m components...\u001b[39m\u001b[39m'\u001b[39m)\n\u001b[0;32m      6\u001b[0m pca \u001b[39m=\u001b[39m PCA(n_components\u001b[39m=\u001b[39mcomp, random_state\u001b[39m=\u001b[39m\u001b[39m123\u001b[39m)\n\u001b[1;32m----> 8\u001b[0m pca\u001b[39m.\u001b[39mfit(census[num_col_list])\n\u001b[0;32m     10\u001b[0m expl_variance \u001b[39m=\u001b[39m pca\u001b[39m.\u001b[39mexplained_variance_ratio_\u001b[39m.\u001b[39msum()\n\u001b[0;32m     12\u001b[0m \u001b[39mprint\u001b[39m(\u001b[39mf\u001b[39m\u001b[39m'\u001b[39m\u001b[39mExplained Variance: \u001b[39m\u001b[39m{\u001b[39;00mexpl_variance\u001b[39m}\u001b[39;00m\u001b[39m'\u001b[39m)\n",
      "File \u001b[1;32mc:\\Users\\Lucca\\anaconda3\\envs\\arvato\\lib\\site-packages\\pandas\\core\\frame.py:3817\u001b[0m, in \u001b[0;36mDataFrame.__getitem__\u001b[1;34m(self, key)\u001b[0m\n\u001b[0;32m   3814\u001b[0m \u001b[39mif\u001b[39;00m \u001b[39mgetattr\u001b[39m(indexer, \u001b[39m\"\u001b[39m\u001b[39mdtype\u001b[39m\u001b[39m\"\u001b[39m, \u001b[39mNone\u001b[39;00m) \u001b[39m==\u001b[39m \u001b[39mbool\u001b[39m:\n\u001b[0;32m   3815\u001b[0m     indexer \u001b[39m=\u001b[39m np\u001b[39m.\u001b[39mwhere(indexer)[\u001b[39m0\u001b[39m]\n\u001b[1;32m-> 3817\u001b[0m data \u001b[39m=\u001b[39m \u001b[39mself\u001b[39;49m\u001b[39m.\u001b[39;49m_take_with_is_copy(indexer, axis\u001b[39m=\u001b[39;49m\u001b[39m1\u001b[39;49m)\n\u001b[0;32m   3819\u001b[0m \u001b[39mif\u001b[39;00m is_single_key:\n\u001b[0;32m   3820\u001b[0m     \u001b[39m# What does looking for a single key in a non-unique index return?\u001b[39;00m\n\u001b[0;32m   3821\u001b[0m     \u001b[39m# The behavior is inconsistent. It returns a Series, except when\u001b[39;00m\n\u001b[0;32m   3822\u001b[0m     \u001b[39m# - the key itself is repeated (test on data.shape, #9519), or\u001b[39;00m\n\u001b[0;32m   3823\u001b[0m     \u001b[39m# - we have a MultiIndex on columns (test on self.columns, #21309)\u001b[39;00m\n\u001b[0;32m   3824\u001b[0m     \u001b[39mif\u001b[39;00m data\u001b[39m.\u001b[39mshape[\u001b[39m1\u001b[39m] \u001b[39m==\u001b[39m \u001b[39m1\u001b[39m \u001b[39mand\u001b[39;00m \u001b[39mnot\u001b[39;00m \u001b[39misinstance\u001b[39m(\u001b[39mself\u001b[39m\u001b[39m.\u001b[39mcolumns, MultiIndex):\n\u001b[0;32m   3825\u001b[0m         \u001b[39m# GH#26490 using data[key] can cause RecursionError\u001b[39;00m\n",
      "File \u001b[1;32mc:\\Users\\Lucca\\anaconda3\\envs\\arvato\\lib\\site-packages\\pandas\\core\\generic.py:3902\u001b[0m, in \u001b[0;36mNDFrame._take_with_is_copy\u001b[1;34m(self, indices, axis)\u001b[0m\n\u001b[0;32m   3894\u001b[0m \u001b[39mdef\u001b[39;00m \u001b[39m_take_with_is_copy\u001b[39m(\u001b[39mself\u001b[39m: NDFrameT, indices, axis\u001b[39m=\u001b[39m\u001b[39m0\u001b[39m) \u001b[39m-\u001b[39m\u001b[39m>\u001b[39m NDFrameT:\n\u001b[0;32m   3895\u001b[0m \u001b[39m    \u001b[39m\u001b[39m\"\"\"\u001b[39;00m\n\u001b[0;32m   3896\u001b[0m \u001b[39m    Internal version of the `take` method that sets the `_is_copy`\u001b[39;00m\n\u001b[0;32m   3897\u001b[0m \u001b[39m    attribute to keep track of the parent dataframe (using in indexing\u001b[39;00m\n\u001b[1;32m   (...)\u001b[0m\n\u001b[0;32m   3900\u001b[0m \u001b[39m    See the docstring of `take` for full explanation of the parameters.\u001b[39;00m\n\u001b[0;32m   3901\u001b[0m \u001b[39m    \"\"\"\u001b[39;00m\n\u001b[1;32m-> 3902\u001b[0m     result \u001b[39m=\u001b[39m \u001b[39mself\u001b[39;49m\u001b[39m.\u001b[39;49m_take(indices\u001b[39m=\u001b[39;49mindices, axis\u001b[39m=\u001b[39;49maxis)\n\u001b[0;32m   3903\u001b[0m     \u001b[39m# Maybe set copy if we didn't actually change the index.\u001b[39;00m\n\u001b[0;32m   3904\u001b[0m     \u001b[39mif\u001b[39;00m \u001b[39mnot\u001b[39;00m result\u001b[39m.\u001b[39m_get_axis(axis)\u001b[39m.\u001b[39mequals(\u001b[39mself\u001b[39m\u001b[39m.\u001b[39m_get_axis(axis)):\n",
      "File \u001b[1;32mc:\\Users\\Lucca\\anaconda3\\envs\\arvato\\lib\\site-packages\\pandas\\core\\generic.py:3886\u001b[0m, in \u001b[0;36mNDFrame._take\u001b[1;34m(self, indices, axis, convert_indices)\u001b[0m\n\u001b[0;32m   3879\u001b[0m \u001b[39m\u001b[39m\u001b[39m\"\"\"\u001b[39;00m\n\u001b[0;32m   3880\u001b[0m \u001b[39mInternal version of the `take` allowing specification of additional args.\u001b[39;00m\n\u001b[0;32m   3881\u001b[0m \n\u001b[0;32m   3882\u001b[0m \u001b[39mSee the docstring of `take` for full explanation of the parameters.\u001b[39;00m\n\u001b[0;32m   3883\u001b[0m \u001b[39m\"\"\"\u001b[39;00m\n\u001b[0;32m   3884\u001b[0m \u001b[39mself\u001b[39m\u001b[39m.\u001b[39m_consolidate_inplace()\n\u001b[1;32m-> 3886\u001b[0m new_data \u001b[39m=\u001b[39m \u001b[39mself\u001b[39;49m\u001b[39m.\u001b[39;49m_mgr\u001b[39m.\u001b[39;49mtake(\n\u001b[0;32m   3887\u001b[0m     indices,\n\u001b[0;32m   3888\u001b[0m     axis\u001b[39m=\u001b[39;49m\u001b[39mself\u001b[39;49m\u001b[39m.\u001b[39;49m_get_block_manager_axis(axis),\n\u001b[0;32m   3889\u001b[0m     verify\u001b[39m=\u001b[39;49m\u001b[39mTrue\u001b[39;49;00m,\n\u001b[0;32m   3890\u001b[0m     convert_indices\u001b[39m=\u001b[39;49mconvert_indices,\n\u001b[0;32m   3891\u001b[0m )\n\u001b[0;32m   3892\u001b[0m \u001b[39mreturn\u001b[39;00m \u001b[39mself\u001b[39m\u001b[39m.\u001b[39m_constructor(new_data)\u001b[39m.\u001b[39m__finalize__(\u001b[39mself\u001b[39m, method\u001b[39m=\u001b[39m\u001b[39m\"\u001b[39m\u001b[39mtake\u001b[39m\u001b[39m\"\u001b[39m)\n",
      "File \u001b[1;32mc:\\Users\\Lucca\\anaconda3\\envs\\arvato\\lib\\site-packages\\pandas\\core\\internals\\managers.py:980\u001b[0m, in \u001b[0;36mBaseBlockManager.take\u001b[1;34m(self, indexer, axis, verify, convert_indices)\u001b[0m\n\u001b[0;32m    977\u001b[0m     indexer \u001b[39m=\u001b[39m maybe_convert_indices(indexer, n, verify\u001b[39m=\u001b[39mverify)\n\u001b[0;32m    979\u001b[0m new_labels \u001b[39m=\u001b[39m \u001b[39mself\u001b[39m\u001b[39m.\u001b[39maxes[axis]\u001b[39m.\u001b[39mtake(indexer)\n\u001b[1;32m--> 980\u001b[0m \u001b[39mreturn\u001b[39;00m \u001b[39mself\u001b[39;49m\u001b[39m.\u001b[39;49mreindex_indexer(\n\u001b[0;32m    981\u001b[0m     new_axis\u001b[39m=\u001b[39;49mnew_labels,\n\u001b[0;32m    982\u001b[0m     indexer\u001b[39m=\u001b[39;49mindexer,\n\u001b[0;32m    983\u001b[0m     axis\u001b[39m=\u001b[39;49maxis,\n\u001b[0;32m    984\u001b[0m     allow_dups\u001b[39m=\u001b[39;49m\u001b[39mTrue\u001b[39;49;00m,\n\u001b[0;32m    985\u001b[0m     copy\u001b[39m=\u001b[39;49m\u001b[39mNone\u001b[39;49;00m,\n\u001b[0;32m    986\u001b[0m )\n",
      "File \u001b[1;32mc:\\Users\\Lucca\\anaconda3\\envs\\arvato\\lib\\site-packages\\pandas\\core\\internals\\managers.py:745\u001b[0m, in \u001b[0;36mBaseBlockManager.reindex_indexer\u001b[1;34m(self, new_axis, indexer, axis, fill_value, allow_dups, copy, only_slice, use_na_proxy)\u001b[0m\n\u001b[0;32m    742\u001b[0m     \u001b[39mraise\u001b[39;00m \u001b[39mIndexError\u001b[39;00m(\u001b[39m\"\u001b[39m\u001b[39mRequested axis not found in manager\u001b[39m\u001b[39m\"\u001b[39m)\n\u001b[0;32m    744\u001b[0m \u001b[39mif\u001b[39;00m axis \u001b[39m==\u001b[39m \u001b[39m0\u001b[39m:\n\u001b[1;32m--> 745\u001b[0m     new_blocks, new_refs \u001b[39m=\u001b[39m \u001b[39mself\u001b[39;49m\u001b[39m.\u001b[39;49m_slice_take_blocks_ax0(\n\u001b[0;32m    746\u001b[0m         indexer,\n\u001b[0;32m    747\u001b[0m         fill_value\u001b[39m=\u001b[39;49mfill_value,\n\u001b[0;32m    748\u001b[0m         only_slice\u001b[39m=\u001b[39;49monly_slice,\n\u001b[0;32m    749\u001b[0m         use_na_proxy\u001b[39m=\u001b[39;49muse_na_proxy,\n\u001b[0;32m    750\u001b[0m     )\n\u001b[0;32m    751\u001b[0m     parent \u001b[39m=\u001b[39m \u001b[39mNone\u001b[39;00m \u001b[39mif\u001b[39;00m com\u001b[39m.\u001b[39mall_none(\u001b[39m*\u001b[39mnew_refs) \u001b[39melse\u001b[39;00m \u001b[39mself\u001b[39m\n\u001b[0;32m    752\u001b[0m \u001b[39melse\u001b[39;00m:\n",
      "File \u001b[1;32mc:\\Users\\Lucca\\anaconda3\\envs\\arvato\\lib\\site-packages\\pandas\\core\\internals\\managers.py:914\u001b[0m, in \u001b[0;36mBaseBlockManager._slice_take_blocks_ax0\u001b[1;34m(self, slice_or_indexer, fill_value, only_slice, use_na_proxy)\u001b[0m\n\u001b[0;32m    912\u001b[0m         refs\u001b[39m.\u001b[39mappend(weakref\u001b[39m.\u001b[39mref(blk))\n\u001b[0;32m    913\u001b[0m \u001b[39melse\u001b[39;00m:\n\u001b[1;32m--> 914\u001b[0m     nb \u001b[39m=\u001b[39m blk\u001b[39m.\u001b[39;49mtake_nd(taker, axis\u001b[39m=\u001b[39;49m\u001b[39m0\u001b[39;49m, new_mgr_locs\u001b[39m=\u001b[39;49mmgr_locs)\n\u001b[0;32m    915\u001b[0m     blocks\u001b[39m.\u001b[39mappend(nb)\n\u001b[0;32m    916\u001b[0m     refs\u001b[39m.\u001b[39mappend(\u001b[39mNone\u001b[39;00m)\n",
      "File \u001b[1;32mc:\\Users\\Lucca\\anaconda3\\envs\\arvato\\lib\\site-packages\\pandas\\core\\internals\\blocks.py:880\u001b[0m, in \u001b[0;36mBlock.take_nd\u001b[1;34m(self, indexer, axis, new_mgr_locs, fill_value)\u001b[0m\n\u001b[0;32m    877\u001b[0m     allow_fill \u001b[39m=\u001b[39m \u001b[39mTrue\u001b[39;00m\n\u001b[0;32m    879\u001b[0m \u001b[39m# Note: algos.take_nd has upcast logic similar to coerce_to_target_dtype\u001b[39;00m\n\u001b[1;32m--> 880\u001b[0m new_values \u001b[39m=\u001b[39m algos\u001b[39m.\u001b[39;49mtake_nd(\n\u001b[0;32m    881\u001b[0m     values, indexer, axis\u001b[39m=\u001b[39;49maxis, allow_fill\u001b[39m=\u001b[39;49mallow_fill, fill_value\u001b[39m=\u001b[39;49mfill_value\n\u001b[0;32m    882\u001b[0m )\n\u001b[0;32m    884\u001b[0m \u001b[39m# Called from three places in managers, all of which satisfy\u001b[39;00m\n\u001b[0;32m    885\u001b[0m \u001b[39m#  this assertion\u001b[39;00m\n\u001b[0;32m    886\u001b[0m \u001b[39massert\u001b[39;00m \u001b[39mnot\u001b[39;00m (axis \u001b[39m==\u001b[39m \u001b[39m0\u001b[39m \u001b[39mand\u001b[39;00m new_mgr_locs \u001b[39mis\u001b[39;00m \u001b[39mNone\u001b[39;00m)\n",
      "File \u001b[1;32mc:\\Users\\Lucca\\anaconda3\\envs\\arvato\\lib\\site-packages\\pandas\\core\\array_algos\\take.py:117\u001b[0m, in \u001b[0;36mtake_nd\u001b[1;34m(arr, indexer, axis, fill_value, allow_fill)\u001b[0m\n\u001b[0;32m    114\u001b[0m     \u001b[39mreturn\u001b[39;00m arr\u001b[39m.\u001b[39mtake(indexer, fill_value\u001b[39m=\u001b[39mfill_value, allow_fill\u001b[39m=\u001b[39mallow_fill)\n\u001b[0;32m    116\u001b[0m arr \u001b[39m=\u001b[39m np\u001b[39m.\u001b[39masarray(arr)\n\u001b[1;32m--> 117\u001b[0m \u001b[39mreturn\u001b[39;00m _take_nd_ndarray(arr, indexer, axis, fill_value, allow_fill)\n",
      "File \u001b[1;32mc:\\Users\\Lucca\\anaconda3\\envs\\arvato\\lib\\site-packages\\pandas\\core\\array_algos\\take.py:165\u001b[0m, in \u001b[0;36m_take_nd_ndarray\u001b[1;34m(arr, indexer, axis, fill_value, allow_fill)\u001b[0m\n\u001b[0;32m    160\u001b[0m func \u001b[39m=\u001b[39m _get_take_nd_function(\n\u001b[0;32m    161\u001b[0m     arr\u001b[39m.\u001b[39mndim, arr\u001b[39m.\u001b[39mdtype, out\u001b[39m.\u001b[39mdtype, axis\u001b[39m=\u001b[39maxis, mask_info\u001b[39m=\u001b[39mmask_info\n\u001b[0;32m    162\u001b[0m )\n\u001b[0;32m    163\u001b[0m func(arr, indexer, out, fill_value)\n\u001b[1;32m--> 165\u001b[0m \u001b[39mif\u001b[39;00m flip_order:\n\u001b[0;32m    166\u001b[0m     out \u001b[39m=\u001b[39m out\u001b[39m.\u001b[39mT\n\u001b[0;32m    167\u001b[0m \u001b[39mreturn\u001b[39;00m out\n",
      "\u001b[1;31mKeyboardInterrupt\u001b[0m: "
     ]
    }
   ],
   "source": [
    "explained_var_list_step_2 = []\n",
    "\n",
    "for comp in range(100,200, 20):\n",
    "\n",
    "    print(f'Running for {comp} components...')\n",
    "    pca = PCA(n_components=comp, random_state=123)\n",
    "\n",
    "    pca.fit(census[num_col_list])\n",
    "\n",
    "    expl_variance = pca.explained_variance_ratio_.sum()\n",
    "\n",
    "    print(f'Explained Variance: {expl_variance}')\n",
    "    \n",
    "    explained_var_list.append(explained_var_list_step_2)"
   ]
  },
  {
   "cell_type": "code",
   "execution_count": 178,
   "metadata": {},
   "outputs": [],
   "source": [
    "pca = PCA(n_components=120, random_state=123)\n",
    "\n",
    "X = pca.fit_transform(census[num_col_list])"
   ]
  },
  {
   "cell_type": "code",
   "execution_count": 181,
   "metadata": {},
   "outputs": [],
   "source": [
    "X_sample = rng.choice(X, size = 30000, replace = False)"
   ]
  },
  {
   "cell_type": "code",
   "execution_count": 183,
   "metadata": {},
   "outputs": [
    {
     "name": "stdout",
     "output_type": "stream",
     "text": [
      "Running for K = 2 Clusters...\n",
      "Silhouette score of: 0.07886697445769733\n",
      "\n",
      "Running for K = 3 Clusters...\n",
      "Silhouette score of: 0.06523842728456439\n",
      "\n",
      "Running for K = 4 Clusters...\n",
      "Silhouette score of: 0.058429719864345156\n",
      "\n",
      "Running for K = 5 Clusters...\n",
      "Silhouette score of: 0.04430354708615158\n",
      "\n"
     ]
    }
   ],
   "source": [
    "sample_30k_silhouette = score_kmeans(X_sample,k_range)"
   ]
  },
  {
   "cell_type": "code",
   "execution_count": null,
   "metadata": {},
   "outputs": [],
   "source": []
  },
  {
   "cell_type": "code",
   "execution_count": null,
   "metadata": {},
   "outputs": [],
   "source": []
  },
  {
   "cell_type": "code",
   "execution_count": null,
   "metadata": {},
   "outputs": [],
   "source": []
  },
  {
   "cell_type": "code",
   "execution_count": null,
   "metadata": {},
   "outputs": [],
   "source": []
  },
  {
   "cell_type": "code",
   "execution_count": null,
   "metadata": {},
   "outputs": [],
   "source": []
  },
  {
   "attachments": {},
   "cell_type": "markdown",
   "metadata": {},
   "source": [
    "Pipeline:\n",
    "\n",
    "**No completo**\n",
    "- KNN Imputer\n",
    "- FAMD (biblioteca prince)\n",
    "- K-Means (ou batch)\n",
    "\n",
    "**No customer**\n",
    "- FAMD - **TREINADO NO COMPLETO**\n",
    "- K-Means.predict()\n",
    "- Analisar colunas"
   ]
  },
  {
   "cell_type": "markdown",
   "metadata": {},
   "source": []
  }
 ],
 "metadata": {
  "kernelspec": {
   "display_name": "arvato",
   "language": "python",
   "name": "python3"
  },
  "language_info": {
   "codemirror_mode": {
    "name": "ipython",
    "version": 3
   },
   "file_extension": ".py",
   "mimetype": "text/x-python",
   "name": "python",
   "nbconvert_exporter": "python",
   "pygments_lexer": "ipython3",
   "version": "3.10.9"
  },
  "orig_nbformat": 4,
  "vscode": {
   "interpreter": {
    "hash": "404e1532a79d19b6d50bcd59333a24b8142e74b80b18b64ea31bd32820d8acd4"
   }
  }
 },
 "nbformat": 4,
 "nbformat_minor": 2
}
