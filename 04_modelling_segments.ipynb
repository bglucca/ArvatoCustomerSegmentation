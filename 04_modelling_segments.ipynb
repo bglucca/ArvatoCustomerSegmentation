{
 "cells": [
  {
   "cell_type": "code",
   "execution_count": 3,
   "metadata": {},
   "outputs": [],
   "source": [
    "import pandas as pd\n",
    "import numpy as np\n",
    "\n",
    "import seaborn as sns\n",
    "import matplotlib.pyplot as plt\n",
    "\n",
    "from sklearn.preprocessing import StandardScaler\n",
    "from sklearn.decomposition import PCA\n",
    "\n",
    "from sklearn.cluster import MiniBatchKMeans\n",
    "\n",
    "import pickle"
   ]
  },
  {
   "cell_type": "code",
   "execution_count": 38,
   "metadata": {},
   "outputs": [],
   "source": [
    "sns.set(rc={'figure.figsize':(10,5)})\n",
    "sns.set_style('whitegrid')"
   ]
  },
  {
   "cell_type": "code",
   "execution_count": 3,
   "metadata": {},
   "outputs": [],
   "source": [
    "# CENSUS_PATH = 'data/refined/census_data.parquet'\n",
    "\n",
    "# CUSTOMER_PATH = 'data/refined/customer_data.parquet'"
   ]
  },
  {
   "cell_type": "code",
   "execution_count": 1,
   "metadata": {},
   "outputs": [],
   "source": [
    "CENSUS_PATH = 'data/refined/full_census_data.parquet'\n",
    "\n",
    "CUSTOMER_PATH = 'data/refined/full_customer_data.parquet'"
   ]
  },
  {
   "cell_type": "code",
   "execution_count": 4,
   "metadata": {},
   "outputs": [],
   "source": [
    "census = pd.read_parquet(CENSUS_PATH)"
   ]
  },
  {
   "cell_type": "code",
   "execution_count": 5,
   "metadata": {},
   "outputs": [
    {
     "data": {
      "text/html": [
       "<div>\n",
       "<style scoped>\n",
       "    .dataframe tbody tr th:only-of-type {\n",
       "        vertical-align: middle;\n",
       "    }\n",
       "\n",
       "    .dataframe tbody tr th {\n",
       "        vertical-align: top;\n",
       "    }\n",
       "\n",
       "    .dataframe thead th {\n",
       "        text-align: right;\n",
       "    }\n",
       "</style>\n",
       "<table border=\"1\" class=\"dataframe\">\n",
       "  <thead>\n",
       "    <tr style=\"text-align: right;\">\n",
       "      <th></th>\n",
       "      <th>LNR</th>\n",
       "      <th>AGER_TYP</th>\n",
       "      <th>ALTER_HH</th>\n",
       "      <th>ALTER_KIND1</th>\n",
       "      <th>ALTER_KIND2</th>\n",
       "      <th>ALTER_KIND3</th>\n",
       "      <th>ALTER_KIND4</th>\n",
       "      <th>ANZ_HAUSHALTE_AKTIV</th>\n",
       "      <th>ANZ_HH_TITEL</th>\n",
       "      <th>ANZ_KINDER</th>\n",
       "      <th>...</th>\n",
       "      <th>SEMIO_VERT</th>\n",
       "      <th>SHOPPER_TYP</th>\n",
       "      <th>TITEL_KZ</th>\n",
       "      <th>VERS_TYP</th>\n",
       "      <th>W_KEIT_KIND_HH</th>\n",
       "      <th>WOHNDAUER_2008</th>\n",
       "      <th>WOHNLAGE</th>\n",
       "      <th>ZABEOTYP</th>\n",
       "      <th>ANREDE_KZ</th>\n",
       "      <th>ALTERSKATEGORIE_GROB</th>\n",
       "    </tr>\n",
       "  </thead>\n",
       "  <tbody>\n",
       "    <tr>\n",
       "      <th>1</th>\n",
       "      <td>910220</td>\n",
       "      <td>2.0</td>\n",
       "      <td>18.0</td>\n",
       "      <td>11.834014</td>\n",
       "      <td>13.46175</td>\n",
       "      <td>14.515307</td>\n",
       "      <td>15.114754</td>\n",
       "      <td>11.0</td>\n",
       "      <td>0.0</td>\n",
       "      <td>0.0</td>\n",
       "      <td>...</td>\n",
       "      <td>1</td>\n",
       "      <td>3.0</td>\n",
       "      <td>1.0</td>\n",
       "      <td>2.0</td>\n",
       "      <td>3.0</td>\n",
       "      <td>9.0</td>\n",
       "      <td>4.0</td>\n",
       "      <td>5</td>\n",
       "      <td>2</td>\n",
       "      <td>1</td>\n",
       "    </tr>\n",
       "    <tr>\n",
       "      <th>2</th>\n",
       "      <td>910225</td>\n",
       "      <td>2.0</td>\n",
       "      <td>17.0</td>\n",
       "      <td>11.834014</td>\n",
       "      <td>13.46175</td>\n",
       "      <td>14.515307</td>\n",
       "      <td>15.114754</td>\n",
       "      <td>10.0</td>\n",
       "      <td>0.0</td>\n",
       "      <td>0.0</td>\n",
       "      <td>...</td>\n",
       "      <td>4</td>\n",
       "      <td>2.0</td>\n",
       "      <td>1.0</td>\n",
       "      <td>1.0</td>\n",
       "      <td>3.0</td>\n",
       "      <td>9.0</td>\n",
       "      <td>2.0</td>\n",
       "      <td>5</td>\n",
       "      <td>2</td>\n",
       "      <td>3</td>\n",
       "    </tr>\n",
       "    <tr>\n",
       "      <th>3</th>\n",
       "      <td>910226</td>\n",
       "      <td>2.0</td>\n",
       "      <td>13.0</td>\n",
       "      <td>11.834014</td>\n",
       "      <td>13.46175</td>\n",
       "      <td>14.515307</td>\n",
       "      <td>15.114754</td>\n",
       "      <td>1.0</td>\n",
       "      <td>0.0</td>\n",
       "      <td>0.0</td>\n",
       "      <td>...</td>\n",
       "      <td>4</td>\n",
       "      <td>1.0</td>\n",
       "      <td>1.0</td>\n",
       "      <td>1.0</td>\n",
       "      <td>6.0</td>\n",
       "      <td>9.0</td>\n",
       "      <td>7.0</td>\n",
       "      <td>3</td>\n",
       "      <td>2</td>\n",
       "      <td>4</td>\n",
       "    </tr>\n",
       "    <tr>\n",
       "      <th>4</th>\n",
       "      <td>910241</td>\n",
       "      <td>2.0</td>\n",
       "      <td>20.0</td>\n",
       "      <td>11.834014</td>\n",
       "      <td>13.46175</td>\n",
       "      <td>14.515307</td>\n",
       "      <td>15.114754</td>\n",
       "      <td>3.0</td>\n",
       "      <td>0.0</td>\n",
       "      <td>0.0</td>\n",
       "      <td>...</td>\n",
       "      <td>7</td>\n",
       "      <td>2.0</td>\n",
       "      <td>1.0</td>\n",
       "      <td>2.0</td>\n",
       "      <td>2.0</td>\n",
       "      <td>9.0</td>\n",
       "      <td>3.0</td>\n",
       "      <td>4</td>\n",
       "      <td>1</td>\n",
       "      <td>3</td>\n",
       "    </tr>\n",
       "    <tr>\n",
       "      <th>5</th>\n",
       "      <td>910244</td>\n",
       "      <td>3.0</td>\n",
       "      <td>10.0</td>\n",
       "      <td>11.834014</td>\n",
       "      <td>13.46175</td>\n",
       "      <td>14.515307</td>\n",
       "      <td>15.114754</td>\n",
       "      <td>5.0</td>\n",
       "      <td>0.0</td>\n",
       "      <td>0.0</td>\n",
       "      <td>...</td>\n",
       "      <td>2</td>\n",
       "      <td>0.0</td>\n",
       "      <td>1.0</td>\n",
       "      <td>2.0</td>\n",
       "      <td>6.0</td>\n",
       "      <td>9.0</td>\n",
       "      <td>7.0</td>\n",
       "      <td>4</td>\n",
       "      <td>2</td>\n",
       "      <td>1</td>\n",
       "    </tr>\n",
       "  </tbody>\n",
       "</table>\n",
       "<p>5 rows × 311 columns</p>\n",
       "</div>"
      ],
      "text/plain": [
       "      LNR  AGER_TYP  ALTER_HH  ALTER_KIND1  ALTER_KIND2  ALTER_KIND3  \\\n",
       "1  910220       2.0      18.0    11.834014     13.46175    14.515307   \n",
       "2  910225       2.0      17.0    11.834014     13.46175    14.515307   \n",
       "3  910226       2.0      13.0    11.834014     13.46175    14.515307   \n",
       "4  910241       2.0      20.0    11.834014     13.46175    14.515307   \n",
       "5  910244       3.0      10.0    11.834014     13.46175    14.515307   \n",
       "\n",
       "   ALTER_KIND4  ANZ_HAUSHALTE_AKTIV  ANZ_HH_TITEL  ANZ_KINDER  ...  \\\n",
       "1    15.114754                 11.0           0.0         0.0  ...   \n",
       "2    15.114754                 10.0           0.0         0.0  ...   \n",
       "3    15.114754                  1.0           0.0         0.0  ...   \n",
       "4    15.114754                  3.0           0.0         0.0  ...   \n",
       "5    15.114754                  5.0           0.0         0.0  ...   \n",
       "\n",
       "   SEMIO_VERT  SHOPPER_TYP  TITEL_KZ  VERS_TYP  W_KEIT_KIND_HH  \\\n",
       "1           1          3.0       1.0       2.0             3.0   \n",
       "2           4          2.0       1.0       1.0             3.0   \n",
       "3           4          1.0       1.0       1.0             6.0   \n",
       "4           7          2.0       1.0       2.0             2.0   \n",
       "5           2          0.0       1.0       2.0             6.0   \n",
       "\n",
       "   WOHNDAUER_2008  WOHNLAGE  ZABEOTYP  ANREDE_KZ  ALTERSKATEGORIE_GROB  \n",
       "1             9.0       4.0         5          2                     1  \n",
       "2             9.0       2.0         5          2                     3  \n",
       "3             9.0       7.0         3          2                     4  \n",
       "4             9.0       3.0         4          1                     3  \n",
       "5             9.0       7.0         4          2                     1  \n",
       "\n",
       "[5 rows x 311 columns]"
      ]
     },
     "execution_count": 5,
     "metadata": {},
     "output_type": "execute_result"
    }
   ],
   "source": [
    "census.head()"
   ]
  },
  {
   "cell_type": "code",
   "execution_count": 9,
   "metadata": {},
   "outputs": [],
   "source": [
    "census_var_types = pd.read_excel('data/raw/DIAS Attributes - Values 2017.xlsx', sheet_name='Tabelle1_fixed', usecols='B:C', header=1)\n",
    "\n",
    "census_var_types.dropna(inplace = True)"
   ]
  },
  {
   "cell_type": "code",
   "execution_count": 11,
   "metadata": {},
   "outputs": [],
   "source": [
    "census_var_types.loc[census_var_types['Attribute'] == 'ANZ_HH_TITEL','Type'] = 'binary'"
   ]
  },
  {
   "cell_type": "code",
   "execution_count": 12,
   "metadata": {},
   "outputs": [
    {
     "data": {
      "text/plain": [
       "(737494, 311)"
      ]
     },
     "execution_count": 12,
     "metadata": {},
     "output_type": "execute_result"
    }
   ],
   "source": [
    "census.shape"
   ]
  },
  {
   "cell_type": "code",
   "execution_count": 13,
   "metadata": {},
   "outputs": [
    {
     "data": {
      "text/plain": [
       "interval    300\n",
       "nominal      19\n",
       "numeric      11\n",
       "binary        8\n",
       "Name: Type, dtype: int64"
      ]
     },
     "execution_count": 13,
     "metadata": {},
     "output_type": "execute_result"
    }
   ],
   "source": [
    "census_var_types['Type'].value_counts()"
   ]
  },
  {
   "attachments": {},
   "cell_type": "markdown",
   "metadata": {},
   "source": [
    "Variables considered as interval could be used in PCA. Unfortunately, this approach is not enough to handle nominal and binary features.  \n",
    "An alteranitve approach to solve this problem is [Factorial Analysis of Mixed Data (FAMD)](https://towardsdatascience.com/famd-how-to-generalize-pca-to-categorical-and-numerical-data-2ddbeb2b9210).  \n",
    "Using this approach, we will reduce the dimensions of the mixed data types prior to clustering it."
   ]
  },
  {
   "attachments": {},
   "cell_type": "markdown",
   "metadata": {},
   "source": [
    "# Clustering demographic data"
   ]
  },
  {
   "attachments": {},
   "cell_type": "markdown",
   "metadata": {},
   "source": [
    "## Adjustments to nominals and binaries"
   ]
  },
  {
   "cell_type": "code",
   "execution_count": 14,
   "metadata": {},
   "outputs": [],
   "source": [
    "binary_vars = census_var_types[census_var_types['Type'] == 'binary']['Attribute'].values\n",
    "\n",
    "binary_vars = np.intersect1d(binary_vars, census.columns)"
   ]
  },
  {
   "cell_type": "code",
   "execution_count": 15,
   "metadata": {},
   "outputs": [
    {
     "name": "stdout",
     "output_type": "stream",
     "text": [
      "ANREDE_KZ [2 1]\n",
      "ANZ_HH_TITEL [0. 1.]\n",
      "GREEN_AVANTGARDE [0 1]\n",
      "KBA05_SEG6 [1. 0.]\n",
      "OST_WEST_KZ [1. 0.]\n",
      "VERS_TYP [2. 1.]\n"
     ]
    }
   ],
   "source": [
    "for col in binary_vars:\n",
    "    \n",
    "    try:\n",
    "        print(col, census[col].unique())\n",
    "\n",
    "    except:\n",
    "\n",
    "        print(f'Column not found: {col}')\n",
    "\n",
    "        continue"
   ]
  },
  {
   "cell_type": "code",
   "execution_count": 16,
   "metadata": {},
   "outputs": [],
   "source": [
    "census['ANREDE_KZ'] = census['ANREDE_KZ'] - 1\n",
    "\n",
    "census['VERS_TYP'] = census['VERS_TYP'] - 1"
   ]
  },
  {
   "attachments": {},
   "cell_type": "markdown",
   "metadata": {},
   "source": [
    "## Subsetting dataframe"
   ]
  },
  {
   "cell_type": "code",
   "execution_count": 14,
   "metadata": {},
   "outputs": [],
   "source": [
    "# is_subset = True\n",
    "\n",
    "# if is_subset:\n",
    "\n",
    "#     with open('data/trusted/selected_features.pkl', 'rb') as file:\n",
    "\n",
    "#         selected_features = pickle.load(file)\n",
    "    \n",
    "#     selected_features.append('LNR')\n",
    "\n",
    "#     census = census[selected_features].copy()"
   ]
  },
  {
   "cell_type": "code",
   "execution_count": 17,
   "metadata": {},
   "outputs": [],
   "source": [
    "nominal_vars = census_var_types[census_var_types['Type'] == 'nominal']['Attribute'].values\n",
    "\n",
    "nominal_vars = np.intersect1d(nominal_vars, census.columns)"
   ]
  },
  {
   "cell_type": "code",
   "execution_count": 18,
   "metadata": {},
   "outputs": [],
   "source": [
    "interval_vars = census_var_types[census_var_types['Type'] == 'interval']['Attribute'].values\n",
    "\n",
    "interval_vars = np.intersect1d(interval_vars, census.columns)"
   ]
  },
  {
   "cell_type": "code",
   "execution_count": 19,
   "metadata": {},
   "outputs": [],
   "source": [
    "binary_vars = census_var_types[census_var_types['Type'] == 'binary']['Attribute'].values\n",
    "\n",
    "binary_vars = np.intersect1d(binary_vars, census.columns)"
   ]
  },
  {
   "cell_type": "code",
   "execution_count": 20,
   "metadata": {},
   "outputs": [],
   "source": [
    "num_cols = census.columns.drop(list(nominal_vars) + list(binary_vars) + list(interval_vars) + ['LNR'])"
   ]
  },
  {
   "cell_type": "code",
   "execution_count": 21,
   "metadata": {},
   "outputs": [],
   "source": [
    "assert (len(nominal_vars) + len(binary_vars) + len(interval_vars) + len(num_cols) + 1) == census.shape[1]"
   ]
  },
  {
   "attachments": {},
   "cell_type": "markdown",
   "metadata": {},
   "source": [
    "# PCA + KMeans\n",
    "- FAMD Implementation\n",
    "- Using K-Means so we can leverage the centroid position to predict the populations' clusters without necessarily having to cluster the whole population"
   ]
  },
  {
   "cell_type": "code",
   "execution_count": 22,
   "metadata": {},
   "outputs": [],
   "source": [
    "census = pd.get_dummies(census, columns=list(nominal_vars))"
   ]
  },
  {
   "cell_type": "code",
   "execution_count": 23,
   "metadata": {},
   "outputs": [],
   "source": [
    "dummy_nominal_vars = []\n",
    "\n",
    "for name in list(nominal_vars):\n",
    "\n",
    "    for col in census.columns:\n",
    "\n",
    "        if name in col:\n",
    "\n",
    "            dummy_nominal_vars.append(col)\n",
    "\n",
    "# Fix for GEBAEUDETYP and GEBAUDETYP_RASTER\n",
    "dummy_nominal_vars = sorted(list(set(dummy_nominal_vars)))"
   ]
  },
  {
   "cell_type": "code",
   "execution_count": 24,
   "metadata": {},
   "outputs": [],
   "source": [
    "def weight_encoded_col(col):\n",
    "\n",
    "    '''\n",
    "    Generates weights according to FAMD implementation. Works in binary variables.\n",
    "    The weight is given as the division of the 1 values by the square-root of the probability of occurance of the effect in the column.\n",
    "\n",
    "    :param col: column to be adjusted\n",
    "\n",
    "    :return col: column after adjustments\n",
    "    '''\n",
    "\n",
    "    # mean = probability of occurance for a binary col\n",
    "    mean = col.mean()\n",
    "\n",
    "    weight = np.sqrt(mean)\n",
    "\n",
    "    col = col / weight\n",
    "    \n",
    "    # Centering\n",
    "    center_ref = col.mean()\n",
    "\n",
    "    col = col - center_ref\n",
    "    \n",
    "    return col"
   ]
  },
  {
   "cell_type": "code",
   "execution_count": 25,
   "metadata": {},
   "outputs": [],
   "source": [
    "for col in list(binary_vars) + list(dummy_nominal_vars):\n",
    "\n",
    "    census[col] = weight_encoded_col(census[col])"
   ]
  },
  {
   "attachments": {},
   "cell_type": "markdown",
   "metadata": {},
   "source": [
    "## Numerical columns"
   ]
  },
  {
   "cell_type": "code",
   "execution_count": 26,
   "metadata": {},
   "outputs": [],
   "source": [
    "num_col_list = census.columns.drop(list(binary_vars) + dummy_nominal_vars + ['LNR'])"
   ]
  },
  {
   "cell_type": "code",
   "execution_count": 27,
   "metadata": {},
   "outputs": [],
   "source": [
    "scaler = StandardScaler()"
   ]
  },
  {
   "cell_type": "code",
   "execution_count": 28,
   "metadata": {},
   "outputs": [],
   "source": [
    "census[num_col_list] = scaler.fit_transform(census[num_col_list])"
   ]
  },
  {
   "attachments": {},
   "cell_type": "markdown",
   "metadata": {},
   "source": [
    "# PCA"
   ]
  },
  {
   "cell_type": "code",
   "execution_count": 29,
   "metadata": {},
   "outputs": [
    {
     "data": {
      "text/plain": [
       "(737494, 413)"
      ]
     },
     "execution_count": 29,
     "metadata": {},
     "output_type": "execute_result"
    }
   ],
   "source": [
    "census.shape"
   ]
  },
  {
   "attachments": {},
   "cell_type": "markdown",
   "metadata": {},
   "source": [
    "**Warning: Running the cell below might take a while. Beware of that**"
   ]
  },
  {
   "cell_type": "code",
   "execution_count": 30,
   "metadata": {},
   "outputs": [
    {
     "name": "stdout",
     "output_type": "stream",
     "text": [
      "Running for 200 components...\n",
      "Explained Variance: 0.8565111987215395\n",
      "\n",
      "Running for 250 components...\n",
      "Explained Variance: 0.9279100234525915\n",
      "\n",
      "Running for 300 components...\n",
      "Explained Variance: 0.9704484173211994\n",
      "\n"
     ]
    }
   ],
   "source": [
    "explained_var_list_step_2 = []\n",
    "\n",
    "for comp in range(200,350, 50):\n",
    "\n",
    "    print(f'Running for {comp} components...')\n",
    "    pca = PCA(n_components=comp, random_state=123)\n",
    "\n",
    "    pca.fit(census.drop(columns = 'LNR'))\n",
    "\n",
    "    expl_variance = pca.explained_variance_ratio_.sum()\n",
    "\n",
    "    print(f'Explained Variance: {expl_variance}', end = '\\n\\n')\n",
    "    \n",
    "    explained_var_list_step_2.append(expl_variance)\n",
    "\n",
    "    if expl_variance >= 0.95:\n",
    "\n",
    "        break\n",
    "    # explained_var_list.append(explained_var_list_step_2)"
   ]
  },
  {
   "attachments": {},
   "cell_type": "markdown",
   "metadata": {},
   "source": [
    "# K-Means\n",
    "\n",
    "800k entries is too much for some machines to handle and/or take a long time for the algorithm to run.  \n",
    "Therefore, assuming the AZDIAS data as the population we want to model for, we will use a sample of it to find the centroids of our clusters to then propagate this information.  \n",
    "Using a simple [Sample Size Calculator](https://www.calculator.net/sample-size-calculator.html?type=1&cl=99.9&ci=1&pp=50&ps=891221&x=0&y=0), assuming a homogenous population we can find that starting from 5000 random samples we can have a good enough representation of the general population."
   ]
  },
  {
   "cell_type": "code",
   "execution_count": 31,
   "metadata": {},
   "outputs": [],
   "source": [
    "def score_kmeans(X,k_range):\n",
    "\n",
    "    '''\n",
    "    Function that iteratively scores K-Means based on point distance to centroids.\n",
    "\n",
    "    :param X: Data that the Kmeans should be fitted to\n",
    "    :param k_range: range to be used for experimentation.\n",
    "\n",
    "    :return dist_list: List of total inertia for each step in the ranges\n",
    "    '''\n",
    "\n",
    "    for i, k in enumerate(k_range):\n",
    "\n",
    "        print(f'Running for K = {k} Clusters...')\n",
    "\n",
    "        # Using MiniBatch for performance\n",
    "        kmeans = MiniBatchKMeans(n_clusters=k,\n",
    "                                    init = 'k-means++',\n",
    "                                    random_state=123,\n",
    "                                    batch_size=2048,\n",
    "                                    max_iter=50,\n",
    "                                    n_init = 3)\n",
    "\n",
    "        kmeans.fit(X)\n",
    "\n",
    "        if i == 0:\n",
    "\n",
    "            dist_list = [kmeans.inertia_]\n",
    "        \n",
    "        else:\n",
    "\n",
    "            dist_list.append(kmeans.inertia_)\n",
    "\n",
    "    return dist_list"
   ]
  },
  {
   "cell_type": "code",
   "execution_count": 32,
   "metadata": {},
   "outputs": [],
   "source": [
    "pca = PCA(n_components=275, random_state=123)\n",
    "\n",
    "pca.fit(census.drop(columns = 'LNR'))\n",
    "\n",
    "X = pca.transform(census.drop(columns = 'LNR'))"
   ]
  },
  {
   "cell_type": "code",
   "execution_count": 33,
   "metadata": {},
   "outputs": [],
   "source": [
    "rng = np.random.default_rng()\n",
    "\n",
    "# Reproducibility\n",
    "np.random.seed = 123\n",
    "\n",
    "X_sample = rng.choice(X, size = 20000, replace = False)"
   ]
  },
  {
   "cell_type": "code",
   "execution_count": 42,
   "metadata": {},
   "outputs": [],
   "source": [
    "k_range = range(2,21)"
   ]
  },
  {
   "cell_type": "code",
   "execution_count": 43,
   "metadata": {},
   "outputs": [
    {
     "name": "stdout",
     "output_type": "stream",
     "text": [
      "Running for K = 2 Clusters...\n",
      "Running for K = 3 Clusters...\n",
      "Running for K = 4 Clusters...\n",
      "Running for K = 5 Clusters...\n",
      "Running for K = 6 Clusters...\n",
      "Running for K = 7 Clusters...\n",
      "Running for K = 8 Clusters...\n",
      "Running for K = 9 Clusters...\n",
      "Running for K = 10 Clusters...\n",
      "Running for K = 11 Clusters...\n",
      "Running for K = 12 Clusters...\n",
      "Running for K = 13 Clusters...\n",
      "Running for K = 14 Clusters...\n",
      "Running for K = 15 Clusters...\n",
      "Running for K = 16 Clusters...\n",
      "Running for K = 17 Clusters...\n",
      "Running for K = 18 Clusters...\n",
      "Running for K = 19 Clusters...\n",
      "Running for K = 20 Clusters...\n"
     ]
    }
   ],
   "source": [
    "distances = score_kmeans(X_sample, k_range)"
   ]
  },
  {
   "cell_type": "code",
   "execution_count": 45,
   "metadata": {},
   "outputs": [
    {
     "data": {
      "image/png": "[encoded data removed]",
      "text/plain": [
       "<Figure size 1000x500 with 1 Axes>"
      ]
     },
     "metadata": {},
     "output_type": "display_data"
    }
   ],
   "source": [
    "sns.lineplot(x = range(2,len(distances) + 2),\n",
    "             y = distances,\n",
    "             marker = 'o')\n",
    "\n",
    "plt.xlabel('# of Clusters')\n",
    "\n",
    "plt.xticks(ticks = range(2,21))\n",
    "\n",
    "plt.ylabel('Overall Inertia')\n",
    "\n",
    "plt.title('Elbow Method using Cluster Inertia')\n",
    "\n",
    "plt.show()"
   ]
  },
  {
   "attachments": {},
   "cell_type": "markdown",
   "metadata": {},
   "source": [
    "Using the Elbow Method we can choose 12 as an appropriate number of clusters"
   ]
  },
  {
   "attachments": {},
   "cell_type": "markdown",
   "metadata": {},
   "source": [
    "## Instantiating selected clustering method"
   ]
  },
  {
   "cell_type": "code",
   "execution_count": 46,
   "metadata": {},
   "outputs": [
    {
     "data": {
      "text/html": [
       "<style>#sk-container-id-1 {color: black;background-color: white;}#sk-container-id-1 pre{padding: 0;}#sk-container-id-1 div.sk-toggleable {background-color: white;}#sk-container-id-1 label.sk-toggleable__label {cursor: pointer;display: block;width: 100%;margin-bottom: 0;padding: 0.3em;box-sizing: border-box;text-align: center;}#sk-container-id-1 label.sk-toggleable__label-arrow:before {content: \"▸\";float: left;margin-right: 0.25em;color: #696969;}#sk-container-id-1 label.sk-toggleable__label-arrow:hover:before {color: black;}#sk-container-id-1 div.sk-estimator:hover label.sk-toggleable__label-arrow:before {color: black;}#sk-container-id-1 div.sk-toggleable__content {max-height: 0;max-width: 0;overflow: hidden;text-align: left;background-color: #f0f8ff;}#sk-container-id-1 div.sk-toggleable__content pre {margin: 0.2em;color: black;border-radius: 0.25em;background-color: #f0f8ff;}#sk-container-id-1 input.sk-toggleable__control:checked~div.sk-toggleable__content {max-height: 200px;max-width: 100%;overflow: auto;}#sk-container-id-1 input.sk-toggleable__control:checked~label.sk-toggleable__label-arrow:before {content: \"▾\";}#sk-container-id-1 div.sk-estimator input.sk-toggleable__control:checked~label.sk-toggleable__label {background-color: #d4ebff;}#sk-container-id-1 div.sk-label input.sk-toggleable__control:checked~label.sk-toggleable__label {background-color: #d4ebff;}#sk-container-id-1 input.sk-hidden--visually {border: 0;clip: rect(1px 1px 1px 1px);clip: rect(1px, 1px, 1px, 1px);height: 1px;margin: -1px;overflow: hidden;padding: 0;position: absolute;width: 1px;}#sk-container-id-1 div.sk-estimator {font-family: monospace;background-color: #f0f8ff;border: 1px dotted black;border-radius: 0.25em;box-sizing: border-box;margin-bottom: 0.5em;}#sk-container-id-1 div.sk-estimator:hover {background-color: #d4ebff;}#sk-container-id-1 div.sk-parallel-item::after {content: \"\";width: 100%;border-bottom: 1px solid gray;flex-grow: 1;}#sk-container-id-1 div.sk-label:hover label.sk-toggleable__label {background-color: #d4ebff;}#sk-container-id-1 div.sk-serial::before {content: \"\";position: absolute;border-left: 1px solid gray;box-sizing: border-box;top: 0;bottom: 0;left: 50%;z-index: 0;}#sk-container-id-1 div.sk-serial {display: flex;flex-direction: column;align-items: center;background-color: white;padding-right: 0.2em;padding-left: 0.2em;position: relative;}#sk-container-id-1 div.sk-item {position: relative;z-index: 1;}#sk-container-id-1 div.sk-parallel {display: flex;align-items: stretch;justify-content: center;background-color: white;position: relative;}#sk-container-id-1 div.sk-item::before, #sk-container-id-1 div.sk-parallel-item::before {content: \"\";position: absolute;border-left: 1px solid gray;box-sizing: border-box;top: 0;bottom: 0;left: 50%;z-index: -1;}#sk-container-id-1 div.sk-parallel-item {display: flex;flex-direction: column;z-index: 1;position: relative;background-color: white;}#sk-container-id-1 div.sk-parallel-item:first-child::after {align-self: flex-end;width: 50%;}#sk-container-id-1 div.sk-parallel-item:last-child::after {align-self: flex-start;width: 50%;}#sk-container-id-1 div.sk-parallel-item:only-child::after {width: 0;}#sk-container-id-1 div.sk-dashed-wrapped {border: 1px dashed gray;margin: 0 0.4em 0.5em 0.4em;box-sizing: border-box;padding-bottom: 0.4em;background-color: white;}#sk-container-id-1 div.sk-label label {font-family: monospace;font-weight: bold;display: inline-block;line-height: 1.2em;}#sk-container-id-1 div.sk-label-container {text-align: center;}#sk-container-id-1 div.sk-container {/* jupyter's `normalize.less` sets `[hidden] { display: none; }` but bootstrap.min.css set `[hidden] { display: none !important; }` so we also need the `!important` here to be able to override the default hidden behavior on the sphinx rendered scikit-learn.org. See: https://github.com/scikit-learn/scikit-learn/issues/21755 */display: inline-block !important;position: relative;}#sk-container-id-1 div.sk-text-repr-fallback {display: none;}</style><div id=\"sk-container-id-1\" class=\"sk-top-container\"><div class=\"sk-text-repr-fallback\"><pre>MiniBatchKMeans(batch_size=2048, max_iter=50, n_clusters=12, n_init=3,\n",
       "                random_state=123)</pre><b>In a Jupyter environment, please rerun this cell to show the HTML representation or trust the notebook. <br />On GitHub, the HTML representation is unable to render, please try loading this page with nbviewer.org.</b></div><div class=\"sk-container\" hidden><div class=\"sk-item\"><div class=\"sk-estimator sk-toggleable\"><input class=\"sk-toggleable__control sk-hidden--visually\" id=\"sk-estimator-id-1\" type=\"checkbox\" checked><label for=\"sk-estimator-id-1\" class=\"sk-toggleable__label sk-toggleable__label-arrow\">MiniBatchKMeans</label><div class=\"sk-toggleable__content\"><pre>MiniBatchKMeans(batch_size=2048, max_iter=50, n_clusters=12, n_init=3,\n",
       "                random_state=123)</pre></div></div></div></div></div>"
      ],
      "text/plain": [
       "MiniBatchKMeans(batch_size=2048, max_iter=50, n_clusters=12, n_init=3,\n",
       "                random_state=123)"
      ]
     },
     "execution_count": 46,
     "metadata": {},
     "output_type": "execute_result"
    }
   ],
   "source": [
    "kmeans_model = MiniBatchKMeans(n_clusters=12,\n",
    "                                init = 'k-means++',\n",
    "                                random_state=123,\n",
    "                                batch_size=2048,\n",
    "                                max_iter=50,\n",
    "                                n_init = 3)\n",
    "\n",
    "kmeans_model.fit(X_sample)"
   ]
  },
  {
   "cell_type": "code",
   "execution_count": 47,
   "metadata": {},
   "outputs": [],
   "source": [
    "# with open('models/demographic_clusters.pkl','wb') as file:\n",
    "\n",
    "#     pickle.dump(kmeans_model, file)"
   ]
  },
  {
   "attachments": {},
   "cell_type": "markdown",
   "metadata": {},
   "source": [
    "# Comparing Datasets"
   ]
  },
  {
   "attachments": {},
   "cell_type": "markdown",
   "metadata": {},
   "source": [
    "## Customer data Preprocessing"
   ]
  },
  {
   "cell_type": "code",
   "execution_count": 54,
   "metadata": {},
   "outputs": [],
   "source": [
    "customers = pd.read_parquet(CUSTOMER_PATH)"
   ]
  },
  {
   "cell_type": "code",
   "execution_count": 55,
   "metadata": {},
   "outputs": [
    {
     "name": "stdout",
     "output_type": "stream",
     "text": [
      "Category Not Found: GEBAEUDETYP_5.0\n"
     ]
    },
    {
     "name": "stderr",
     "output_type": "stream",
     "text": [
      "C:\\Users\\Lucca\\AppData\\Local\\Temp\\ipykernel_10272\\3512993594.py:11: PerformanceWarning: DataFrame is highly fragmented.  This is usually the result of calling `frame.insert` many times, which has poor performance.  Consider joining all columns at once using pd.concat(axis=1) instead. To get a de-fragmented frame, use `newframe = frame.copy()`\n",
      "  customers[col] = 0\n"
     ]
    },
    {
     "name": "stdout",
     "output_type": "stream",
     "text": [
      "Category Not Found: TITEL_KZ_2.0\n"
     ]
    },
    {
     "name": "stderr",
     "output_type": "stream",
     "text": [
      "C:\\Users\\Lucca\\AppData\\Local\\Temp\\ipykernel_10272\\3512993594.py:11: PerformanceWarning: DataFrame is highly fragmented.  This is usually the result of calling `frame.insert` many times, which has poor performance.  Consider joining all columns at once using pd.concat(axis=1) instead. To get a de-fragmented frame, use `newframe = frame.copy()`\n",
      "  customers[col] = 0\n"
     ]
    }
   ],
   "source": [
    "# Preprocessing customers data like we did census data\n",
    "customers = pd.get_dummies(customers, columns=list(nominal_vars))\n",
    "\n",
    "for col in list(binary_vars) + list(dummy_nominal_vars):\n",
    "    try:\n",
    "        customers[col] = weight_encoded_col(customers[col])\n",
    "    except:\n",
    "        \n",
    "        print('Category Not Found:',col)\n",
    "        \n",
    "        customers[col] = 0\n",
    "        \n",
    "        continue\n",
    "\n",
    "customers[num_col_list] = scaler.fit_transform(customers[num_col_list])"
   ]
  },
  {
   "cell_type": "code",
   "execution_count": 59,
   "metadata": {},
   "outputs": [],
   "source": [
    "X_cust = pca.transform(customers[census.columns].drop(columns = ['LNR']))"
   ]
  },
  {
   "cell_type": "code",
   "execution_count": 60,
   "metadata": {},
   "outputs": [],
   "source": [
    "customers['cluster'] = kmeans_model.predict(X_cust)"
   ]
  },
  {
   "cell_type": "code",
   "execution_count": 61,
   "metadata": {},
   "outputs": [
    {
     "name": "stderr",
     "output_type": "stream",
     "text": [
      "C:\\Users\\Lucca\\AppData\\Local\\Temp\\ipykernel_10272\\1116290004.py:1: PerformanceWarning: DataFrame is highly fragmented.  This is usually the result of calling `frame.insert` many times, which has poor performance.  Consider joining all columns at once using pd.concat(axis=1) instead. To get a de-fragmented frame, use `newframe = frame.copy()`\n",
      "  census['cluster'] = kmeans_model.predict(X)\n"
     ]
    }
   ],
   "source": [
    "census['cluster'] = kmeans_model.predict(X)"
   ]
  },
  {
   "attachments": {},
   "cell_type": "markdown",
   "metadata": {},
   "source": [
    "## Plotting Comparison"
   ]
  },
  {
   "cell_type": "code",
   "execution_count": 62,
   "metadata": {},
   "outputs": [],
   "source": [
    "cluster_prop_plot = pd.concat([customers['cluster'].value_counts(normalize = True),\n",
    "                                census['cluster'].value_counts(normalize = True)],\n",
    "                                axis = 1)\n",
    "\n",
    "cluster_prop_plot.columns = ['customers','azdias']\n",
    "\n",
    "cluster_prop_plot = cluster_prop_plot.melt(ignore_index=False)\n",
    "\n",
    "cluster_prop_plot.reset_index(inplace = True)\n",
    "\n",
    "# cluster_prop_plot"
   ]
  },
  {
   "cell_type": "code",
   "execution_count": 63,
   "metadata": {},
   "outputs": [],
   "source": [
    "import matplotlib.ticker as mtick"
   ]
  },
  {
   "cell_type": "code",
   "execution_count": 64,
   "metadata": {},
   "outputs": [
    {
     "data": {
      "image/png": "[encoded data removed]",
      "text/plain": [
       "<Figure size 1500x750 with 1 Axes>"
      ]
     },
     "metadata": {},
     "output_type": "display_data"
    }
   ],
   "source": [
    "fig, ax = plt.subplots(figsize = (15,7.5))\n",
    "\n",
    "g = sns.barplot(\n",
    "                    data = cluster_prop_plot,\n",
    "                    x = 'index',\n",
    "                    y = 'value',\n",
    "                    hue = 'variable',\n",
    "                    hue_order=['azdias','customers'],\n",
    "                    ax = ax\n",
    "                )\n",
    "\n",
    "g.yaxis.set_major_formatter(mtick.PercentFormatter(xmax = 1))\n",
    "\n",
    "plt.title('Proportion of entries by Dataset by Cluster - AZDIAS and Customers')\n",
    "\n",
    "plt.xlabel('Proportion')\n",
    "\n",
    "plt.ylabel('Cluster')\n",
    "\n",
    "plt.legend(title = 'Dataset')\n",
    "\n",
    "plt.show()"
   ]
  },
  {
   "attachments": {},
   "cell_type": "markdown",
   "metadata": {},
   "source": [
    "As we can see from the plot. It looks like the clusters 0, 3, 4 and 9 are those who concentrate more customers profile. People that are assigned in those clusters are more likely to turn into potential leads.  \n",
    "\n",
    "Let's dig a little deeper on the 4 cluster since it is the cluster that contains the most entries for customer data"
   ]
  },
  {
   "attachments": {},
   "cell_type": "markdown",
   "metadata": {},
   "source": [
    "## Cluster interpretations"
   ]
  },
  {
   "cell_type": "code",
   "execution_count": 65,
   "metadata": {},
   "outputs": [],
   "source": [
    "def get_main_components(cluster_model = kmeans_model, n_largest = 5, cluster_id = 0, return_frame = False):\n",
    "\n",
    "    '''\n",
    "    Lists main components for a given cluster in 'cluster_id' in a given model. A main component is considered a component that is centered away from 0 in either direction (positive or negative).\n",
    "    Defaults to the 5 largest distances from 0.\n",
    "    To work, the clustering method needs to have distance-based centroids.\n",
    "\n",
    "    :param cluster_model: Clustering model (WITH CENTROIDS) to be evaluated for components.\n",
    "    :param n_largest: Number of components to return for a cluster\n",
    "    :param cluster_id: Id (index) of the cluster\n",
    "    :param return_frame: Boolean to define if whole dataframe needs to be returned.\n",
    "    \n",
    "    :return temp: Full dataframe with components' coordinates\n",
    "    :return main_components: Frame with only the n_largest defined amount of componets\n",
    "    '''\n",
    "\n",
    "    temp = pd.DataFrame(cluster_model.cluster_centers_[cluster_id],\n",
    "                        columns=['component_coordinate'])\n",
    "    \n",
    "    temp['abs_comp_coordinate'] = temp['component_coordinate'].abs()\n",
    "\n",
    "    if return_frame:\n",
    "\n",
    "        return temp\n",
    "    \n",
    "    else:\n",
    "\n",
    "        main_components = temp.nlargest(columns = 'abs_comp_coordinate', n = n_largest)\n",
    "\n",
    "    return main_components\n",
    "\n",
    "def describe_component(component_id, base_df = census, n_features = 10, pca_object = pca, return_frame = False):\n",
    "\n",
    "    '''\n",
    "    Describes a component within the PCA. Defaults to the 10 features with largest ABSOLUTE indices.\n",
    "\n",
    "    :param component_id: Id (index) of the component\n",
    "    :param base_df: Frame with the column names used in the PCA\n",
    "    :param n_features: Amount of features to be extracted - Defaults to 10\n",
    "    :param pca_object: PCA fitted on the base_df\n",
    "    :param return_frame: Boolean that indicates if the whole variable list of indices should be returned\n",
    "\n",
    "    :return weights_frame: Complete frame with all indices by variable:\n",
    "    :return weights_frame.nlargest: Frame subsetted to only n biggest absolute indices\n",
    "    '''\n",
    "\n",
    "    base_dict = dict(zip(base_df.columns.drop('cluster'),\n",
    "                         pca.components_[component_id]))\n",
    "    \n",
    "    weights_frame = pd.DataFrame.from_dict(base_dict, orient = 'index', columns = ['pca_weight'])\n",
    "\n",
    "    if return_frame:\n",
    "\n",
    "        return weights_frame\n",
    "    \n",
    "    else:\n",
    "\n",
    "        weights_frame['abs_pca_weight'] = weights_frame['pca_weight'].abs()\n",
    "\n",
    "        return weights_frame.nlargest(n_features, columns = 'abs_pca_weight')"
   ]
  },
  {
   "cell_type": "code",
   "execution_count": 66,
   "metadata": {},
   "outputs": [
    {
     "name": "stdout",
     "output_type": "stream",
     "text": [
      "Cluster 4 main components:\n"
     ]
    },
    {
     "data": {
      "text/html": [
       "<div>\n",
       "<style scoped>\n",
       "    .dataframe tbody tr th:only-of-type {\n",
       "        vertical-align: middle;\n",
       "    }\n",
       "\n",
       "    .dataframe tbody tr th {\n",
       "        vertical-align: top;\n",
       "    }\n",
       "\n",
       "    .dataframe thead th {\n",
       "        text-align: right;\n",
       "    }\n",
       "</style>\n",
       "<table border=\"1\" class=\"dataframe\">\n",
       "  <thead>\n",
       "    <tr style=\"text-align: right;\">\n",
       "      <th></th>\n",
       "      <th>component_coordinate</th>\n",
       "      <th>abs_comp_coordinate</th>\n",
       "    </tr>\n",
       "  </thead>\n",
       "  <tbody>\n",
       "    <tr>\n",
       "      <th>1</th>\n",
       "      <td>-3.730538</td>\n",
       "      <td>3.730538</td>\n",
       "    </tr>\n",
       "    <tr>\n",
       "      <th>3</th>\n",
       "      <td>-2.290869</td>\n",
       "      <td>2.290869</td>\n",
       "    </tr>\n",
       "    <tr>\n",
       "      <th>2</th>\n",
       "      <td>-1.474709</td>\n",
       "      <td>1.474709</td>\n",
       "    </tr>\n",
       "    <tr>\n",
       "      <th>4</th>\n",
       "      <td>-0.895588</td>\n",
       "      <td>0.895588</td>\n",
       "    </tr>\n",
       "    <tr>\n",
       "      <th>0</th>\n",
       "      <td>0.774478</td>\n",
       "      <td>0.774478</td>\n",
       "    </tr>\n",
       "  </tbody>\n",
       "</table>\n",
       "</div>"
      ],
      "text/plain": [
       "   component_coordinate  abs_comp_coordinate\n",
       "1             -3.730538             3.730538\n",
       "3             -2.290869             2.290869\n",
       "2             -1.474709             1.474709\n",
       "4             -0.895588             0.895588\n",
       "0              0.774478             0.774478"
      ]
     },
     "metadata": {},
     "output_type": "display_data"
    }
   ],
   "source": [
    "main_comps = get_main_components(cluster_id=4)\n",
    "\n",
    "print(f'Cluster 4 main components:')\n",
    "\n",
    "display(main_comps)"
   ]
  },
  {
   "cell_type": "code",
   "execution_count": 67,
   "metadata": {},
   "outputs": [
    {
     "name": "stdout",
     "output_type": "stream",
     "text": [
      "Top 10 Main features for Component 1:\n"
     ]
    },
    {
     "data": {
      "text/html": [
       "<style type=\"text/css\">\n",
       "#T_d1547_row0_col0, #T_d1547_row1_col0 {\n",
       "  background-color: #023858;\n",
       "  color: #f1f1f1;\n",
       "}\n",
       "#T_d1547_row2_col0 {\n",
       "  background-color: #02395a;\n",
       "  color: #f1f1f1;\n",
       "}\n",
       "#T_d1547_row3_col0, #T_d1547_row4_col0 {\n",
       "  background-color: #023b5d;\n",
       "  color: #f1f1f1;\n",
       "}\n",
       "#T_d1547_row5_col0, #T_d1547_row6_col0 {\n",
       "  background-color: #fff7fb;\n",
       "  color: #000000;\n",
       "}\n",
       "#T_d1547_row7_col0 {\n",
       "  background-color: #fdf5fa;\n",
       "  color: #000000;\n",
       "}\n",
       "#T_d1547_row8_col0 {\n",
       "  background-color: #034871;\n",
       "  color: #f1f1f1;\n",
       "}\n",
       "#T_d1547_row9_col0 {\n",
       "  background-color: #fbf3f9;\n",
       "  color: #000000;\n",
       "}\n",
       "</style>\n",
       "<table id=\"T_d1547\">\n",
       "  <thead>\n",
       "    <tr>\n",
       "      <th class=\"blank level0\" >&nbsp;</th>\n",
       "      <th id=\"T_d1547_level0_col0\" class=\"col_heading level0 col0\" >pca_weight</th>\n",
       "      <th id=\"T_d1547_level0_col1\" class=\"col_heading level0 col1\" >abs_pca_weight</th>\n",
       "    </tr>\n",
       "  </thead>\n",
       "  <tbody>\n",
       "    <tr>\n",
       "      <th id=\"T_d1547_level0_row0\" class=\"row_heading level0 row0\" >PLZ8_HHZ</th>\n",
       "      <td id=\"T_d1547_row0_col0\" class=\"data row0 col0\" >0.156135</td>\n",
       "      <td id=\"T_d1547_row0_col1\" class=\"data row0 col1\" >0.156135</td>\n",
       "    </tr>\n",
       "    <tr>\n",
       "      <th id=\"T_d1547_level0_row1\" class=\"row_heading level0 row1\" >FINANZ_MINIMALIST</th>\n",
       "      <td id=\"T_d1547_row1_col0\" class=\"data row1 col0\" >0.155006</td>\n",
       "      <td id=\"T_d1547_row1_col1\" class=\"data row1 col1\" >0.155006</td>\n",
       "    </tr>\n",
       "    <tr>\n",
       "      <th id=\"T_d1547_level0_row2\" class=\"row_heading level0 row2\" >CJT_TYP_1</th>\n",
       "      <td id=\"T_d1547_row2_col0\" class=\"data row2 col0\" >0.154158</td>\n",
       "      <td id=\"T_d1547_row2_col1\" class=\"data row2 col1\" >0.154158</td>\n",
       "    </tr>\n",
       "    <tr>\n",
       "      <th id=\"T_d1547_level0_row3\" class=\"row_heading level0 row3\" >CJT_KATALOGNUTZER</th>\n",
       "      <td id=\"T_d1547_row3_col0\" class=\"data row3 col0\" >0.151975</td>\n",
       "      <td id=\"T_d1547_row3_col1\" class=\"data row3 col1\" >0.151975</td>\n",
       "    </tr>\n",
       "    <tr>\n",
       "      <th id=\"T_d1547_level0_row4\" class=\"row_heading level0 row4\" >MOBI_REGIO</th>\n",
       "      <td id=\"T_d1547_row4_col0\" class=\"data row4 col0\" >0.151665</td>\n",
       "      <td id=\"T_d1547_row4_col1\" class=\"data row4 col1\" >0.151665</td>\n",
       "    </tr>\n",
       "    <tr>\n",
       "      <th id=\"T_d1547_level0_row5\" class=\"row_heading level0 row5\" >CJT_TYP_4</th>\n",
       "      <td id=\"T_d1547_row5_col0\" class=\"data row5 col0\" >-0.146956</td>\n",
       "      <td id=\"T_d1547_row5_col1\" class=\"data row5 col1\" >0.146956</td>\n",
       "    </tr>\n",
       "    <tr>\n",
       "      <th id=\"T_d1547_level0_row6\" class=\"row_heading level0 row6\" >FINANZ_UNAUFFAELLIGER</th>\n",
       "      <td id=\"T_d1547_row6_col0\" class=\"data row6 col0\" >-0.146919</td>\n",
       "      <td id=\"T_d1547_row6_col1\" class=\"data row6 col1\" >0.146919</td>\n",
       "    </tr>\n",
       "    <tr>\n",
       "      <th id=\"T_d1547_level0_row7\" class=\"row_heading level0 row7\" >CJT_TYP_3</th>\n",
       "      <td id=\"T_d1547_row7_col0\" class=\"data row7 col0\" >-0.142232</td>\n",
       "      <td id=\"T_d1547_row7_col1\" class=\"data row7 col1\" >0.142232</td>\n",
       "    </tr>\n",
       "    <tr>\n",
       "      <th id=\"T_d1547_level0_row8\" class=\"row_heading level0 row8\" >EWDICHTE</th>\n",
       "      <td id=\"T_d1547_row8_col0\" class=\"data row8 col0\" >0.138111</td>\n",
       "      <td id=\"T_d1547_row8_col1\" class=\"data row8 col1\" >0.138111</td>\n",
       "    </tr>\n",
       "    <tr>\n",
       "      <th id=\"T_d1547_level0_row9\" class=\"row_heading level0 row9\" >CJT_TYP_5</th>\n",
       "      <td id=\"T_d1547_row9_col0\" class=\"data row9 col0\" >-0.138082</td>\n",
       "      <td id=\"T_d1547_row9_col1\" class=\"data row9 col1\" >0.138082</td>\n",
       "    </tr>\n",
       "  </tbody>\n",
       "</table>\n"
      ],
      "text/plain": [
       "<pandas.io.formats.style.Styler at 0x1c88688ec80>"
      ]
     },
     "metadata": {},
     "output_type": "display_data"
    },
    {
     "name": "stdout",
     "output_type": "stream",
     "text": [
      "\n",
      "\n",
      "Top 10 Main features for Component 3:\n"
     ]
    },
    {
     "data": {
      "text/html": [
       "<style type=\"text/css\">\n",
       "#T_8726d_row0_col0 {\n",
       "  background-color: #023858;\n",
       "  color: #f1f1f1;\n",
       "}\n",
       "#T_8726d_row1_col0 {\n",
       "  background-color: #023b5d;\n",
       "  color: #f1f1f1;\n",
       "}\n",
       "#T_8726d_row2_col0 {\n",
       "  background-color: #fff7fb;\n",
       "  color: #000000;\n",
       "}\n",
       "#T_8726d_row3_col0 {\n",
       "  background-color: #034369;\n",
       "  color: #f1f1f1;\n",
       "}\n",
       "#T_8726d_row4_col0 {\n",
       "  background-color: #fef6fa;\n",
       "  color: #000000;\n",
       "}\n",
       "#T_8726d_row5_col0 {\n",
       "  background-color: #03466e;\n",
       "  color: #f1f1f1;\n",
       "}\n",
       "#T_8726d_row6_col0 {\n",
       "  background-color: #034973;\n",
       "  color: #f1f1f1;\n",
       "}\n",
       "#T_8726d_row7_col0 {\n",
       "  background-color: #faf3f9;\n",
       "  color: #000000;\n",
       "}\n",
       "#T_8726d_row8_col0, #T_8726d_row9_col0 {\n",
       "  background-color: #f7f0f7;\n",
       "  color: #000000;\n",
       "}\n",
       "</style>\n",
       "<table id=\"T_8726d\">\n",
       "  <thead>\n",
       "    <tr>\n",
       "      <th class=\"blank level0\" >&nbsp;</th>\n",
       "      <th id=\"T_8726d_level0_col0\" class=\"col_heading level0 col0\" >pca_weight</th>\n",
       "      <th id=\"T_8726d_level0_col1\" class=\"col_heading level0 col1\" >abs_pca_weight</th>\n",
       "    </tr>\n",
       "  </thead>\n",
       "  <tbody>\n",
       "    <tr>\n",
       "      <th id=\"T_8726d_level0_row0\" class=\"row_heading level0 row0\" >D19_WEIN_FEINKOST_RZ</th>\n",
       "      <td id=\"T_8726d_row0_col0\" class=\"data row0 col0\" >0.149511</td>\n",
       "      <td id=\"T_8726d_row0_col1\" class=\"data row0 col1\" >0.149511</td>\n",
       "    </tr>\n",
       "    <tr>\n",
       "      <th id=\"T_8726d_level0_row1\" class=\"row_heading level0 row1\" >ONLINE_AFFINITAET</th>\n",
       "      <td id=\"T_8726d_row1_col0\" class=\"data row1 col0\" >0.146013</td>\n",
       "      <td id=\"T_8726d_row1_col1\" class=\"data row1 col1\" >0.146013</td>\n",
       "    </tr>\n",
       "    <tr>\n",
       "      <th id=\"T_8726d_level0_row2\" class=\"row_heading level0 row2\" >EWDICHTE</th>\n",
       "      <td id=\"T_8726d_row2_col0\" class=\"data row2 col0\" >-0.139229</td>\n",
       "      <td id=\"T_8726d_row2_col1\" class=\"data row2 col1\" >0.139229</td>\n",
       "    </tr>\n",
       "    <tr>\n",
       "      <th id=\"T_8726d_level0_row3\" class=\"row_heading level0 row3\" >PLZ8_ANTG2</th>\n",
       "      <td id=\"T_8726d_row3_col0\" class=\"data row3 col0\" >0.137778</td>\n",
       "      <td id=\"T_8726d_row3_col1\" class=\"data row3 col1\" >0.137778</td>\n",
       "    </tr>\n",
       "    <tr>\n",
       "      <th id=\"T_8726d_level0_row4\" class=\"row_heading level0 row4\" >KBA13_AUDI</th>\n",
       "      <td id=\"T_8726d_row4_col0\" class=\"data row4 col0\" >-0.135928</td>\n",
       "      <td id=\"T_8726d_row4_col1\" class=\"data row4 col1\" >0.135928</td>\n",
       "    </tr>\n",
       "    <tr>\n",
       "      <th id=\"T_8726d_level0_row5\" class=\"row_heading level0 row5\" >PLZ8_ANTG3</th>\n",
       "      <td id=\"T_8726d_row5_col0\" class=\"data row5 col0\" >0.134713</td>\n",
       "      <td id=\"T_8726d_row5_col1\" class=\"data row5 col1\" >0.134713</td>\n",
       "    </tr>\n",
       "    <tr>\n",
       "      <th id=\"T_8726d_level0_row6\" class=\"row_heading level0 row6\" >PLZ8_ANTG4</th>\n",
       "      <td id=\"T_8726d_row6_col0\" class=\"data row6 col0\" >0.130759</td>\n",
       "      <td id=\"T_8726d_row6_col1\" class=\"data row6 col1\" >0.130759</td>\n",
       "    </tr>\n",
       "    <tr>\n",
       "      <th id=\"T_8726d_level0_row7\" class=\"row_heading level0 row7\" >OST_WEST_KZ</th>\n",
       "      <td id=\"T_8726d_row7_col0\" class=\"data row7 col0\" >-0.130043</td>\n",
       "      <td id=\"T_8726d_row7_col1\" class=\"data row7 col1\" >0.130043</td>\n",
       "    </tr>\n",
       "    <tr>\n",
       "      <th id=\"T_8726d_level0_row8\" class=\"row_heading level0 row8\" >KBA13_ALTERHALTER_45</th>\n",
       "      <td id=\"T_8726d_row8_col0\" class=\"data row8 col0\" >-0.123191</td>\n",
       "      <td id=\"T_8726d_row8_col1\" class=\"data row8 col1\" >0.123191</td>\n",
       "    </tr>\n",
       "    <tr>\n",
       "      <th id=\"T_8726d_level0_row9\" class=\"row_heading level0 row9\" >HH_EINKOMMEN_SCORE</th>\n",
       "      <td id=\"T_8726d_row9_col0\" class=\"data row9 col0\" >-0.122740</td>\n",
       "      <td id=\"T_8726d_row9_col1\" class=\"data row9 col1\" >0.122740</td>\n",
       "    </tr>\n",
       "  </tbody>\n",
       "</table>\n"
      ],
      "text/plain": [
       "<pandas.io.formats.style.Styler at 0x1c75ac4aec0>"
      ]
     },
     "metadata": {},
     "output_type": "display_data"
    },
    {
     "name": "stdout",
     "output_type": "stream",
     "text": [
      "\n",
      "\n",
      "Top 10 Main features for Component 2:\n"
     ]
    },
    {
     "data": {
      "text/html": [
       "<style type=\"text/css\">\n",
       "#T_4c3e9_row0_col0 {\n",
       "  background-color: #023858;\n",
       "  color: #f1f1f1;\n",
       "}\n",
       "#T_4c3e9_row1_col0 {\n",
       "  background-color: #034b76;\n",
       "  color: #f1f1f1;\n",
       "}\n",
       "#T_4c3e9_row2_col0 {\n",
       "  background-color: #034d79;\n",
       "  color: #f1f1f1;\n",
       "}\n",
       "#T_4c3e9_row3_col0 {\n",
       "  background-color: #045280;\n",
       "  color: #f1f1f1;\n",
       "}\n",
       "#T_4c3e9_row4_col0 {\n",
       "  background-color: #fff7fb;\n",
       "  color: #000000;\n",
       "}\n",
       "#T_4c3e9_row5_col0 {\n",
       "  background-color: #045a8d;\n",
       "  color: #f1f1f1;\n",
       "}\n",
       "#T_4c3e9_row6_col0 {\n",
       "  background-color: #045d92;\n",
       "  color: #f1f1f1;\n",
       "}\n",
       "#T_4c3e9_row7_col0 {\n",
       "  background-color: #faf2f8;\n",
       "  color: #000000;\n",
       "}\n",
       "#T_4c3e9_row8_col0 {\n",
       "  background-color: #046096;\n",
       "  color: #f1f1f1;\n",
       "}\n",
       "#T_4c3e9_row9_col0 {\n",
       "  background-color: #f7f0f7;\n",
       "  color: #000000;\n",
       "}\n",
       "</style>\n",
       "<table id=\"T_4c3e9\">\n",
       "  <thead>\n",
       "    <tr>\n",
       "      <th class=\"blank level0\" >&nbsp;</th>\n",
       "      <th id=\"T_4c3e9_level0_col0\" class=\"col_heading level0 col0\" >pca_weight</th>\n",
       "      <th id=\"T_4c3e9_level0_col1\" class=\"col_heading level0 col1\" >abs_pca_weight</th>\n",
       "    </tr>\n",
       "  </thead>\n",
       "  <tbody>\n",
       "    <tr>\n",
       "      <th id=\"T_4c3e9_level0_row0\" class=\"row_heading level0 row0\" >KBA13_HERST_AUDI_VW</th>\n",
       "      <td id=\"T_4c3e9_row0_col0\" class=\"data row0 col0\" >0.182218</td>\n",
       "      <td id=\"T_4c3e9_row0_col1\" class=\"data row0 col1\" >0.182218</td>\n",
       "    </tr>\n",
       "    <tr>\n",
       "      <th id=\"T_4c3e9_level0_row1\" class=\"row_heading level0 row1\" >KBA13_SEG_MITTELKLASSE</th>\n",
       "      <td id=\"T_4c3e9_row1_col0\" class=\"data row1 col0\" >0.158976</td>\n",
       "      <td id=\"T_4c3e9_row1_col1\" class=\"data row1 col1\" >0.158976</td>\n",
       "    </tr>\n",
       "    <tr>\n",
       "      <th id=\"T_4c3e9_level0_row2\" class=\"row_heading level0 row2\" >KBA13_MAZDA</th>\n",
       "      <td id=\"T_4c3e9_row2_col0\" class=\"data row2 col0\" >0.155617</td>\n",
       "      <td id=\"T_4c3e9_row2_col1\" class=\"data row2 col1\" >0.155617</td>\n",
       "    </tr>\n",
       "    <tr>\n",
       "      <th id=\"T_4c3e9_level0_row3\" class=\"row_heading level0 row3\" >KBA13_BJ_2009</th>\n",
       "      <td id=\"T_4c3e9_row3_col0\" class=\"data row3 col0\" >0.151371</td>\n",
       "      <td id=\"T_4c3e9_row3_col1\" class=\"data row3 col1\" >0.151371</td>\n",
       "    </tr>\n",
       "    <tr>\n",
       "      <th id=\"T_4c3e9_level0_row4\" class=\"row_heading level0 row4\" >KBA13_SITZE_4</th>\n",
       "      <td id=\"T_4c3e9_row4_col0\" class=\"data row4 col0\" >-0.146659</td>\n",
       "      <td id=\"T_4c3e9_row4_col1\" class=\"data row4 col1\" >0.146659</td>\n",
       "    </tr>\n",
       "    <tr>\n",
       "      <th id=\"T_4c3e9_level0_row5\" class=\"row_heading level0 row5\" >KBA13_SEG_WOHNMOBILE</th>\n",
       "      <td id=\"T_4c3e9_row5_col0\" class=\"data row5 col0\" >0.140695</td>\n",
       "      <td id=\"T_4c3e9_row5_col1\" class=\"data row5 col1\" >0.140695</td>\n",
       "    </tr>\n",
       "    <tr>\n",
       "      <th id=\"T_4c3e9_level0_row6\" class=\"row_heading level0 row6\" >KBA13_SEG_SONSTIGE</th>\n",
       "      <td id=\"T_4c3e9_row6_col0\" class=\"data row6 col0\" >0.135921</td>\n",
       "      <td id=\"T_4c3e9_row6_col1\" class=\"data row6 col1\" >0.135921</td>\n",
       "    </tr>\n",
       "    <tr>\n",
       "      <th id=\"T_4c3e9_level0_row7\" class=\"row_heading level0 row7\" >KBA13_SEG_KLEINST</th>\n",
       "      <td id=\"T_4c3e9_row7_col0\" class=\"data row7 col0\" >-0.134127</td>\n",
       "      <td id=\"T_4c3e9_row7_col1\" class=\"data row7 col1\" >0.134127</td>\n",
       "    </tr>\n",
       "    <tr>\n",
       "      <th id=\"T_4c3e9_level0_row8\" class=\"row_heading level0 row8\" >KBA05_GBZ</th>\n",
       "      <td id=\"T_4c3e9_row8_col0\" class=\"data row8 col0\" >0.130219</td>\n",
       "      <td id=\"T_4c3e9_row8_col1\" class=\"data row8 col1\" >0.130219</td>\n",
       "    </tr>\n",
       "    <tr>\n",
       "      <th id=\"T_4c3e9_level0_row9\" class=\"row_heading level0 row9\" >KBA13_KMH_0_140</th>\n",
       "      <td id=\"T_4c3e9_row9_col0\" class=\"data row9 col0\" >-0.128685</td>\n",
       "      <td id=\"T_4c3e9_row9_col1\" class=\"data row9 col1\" >0.128685</td>\n",
       "    </tr>\n",
       "  </tbody>\n",
       "</table>\n"
      ],
      "text/plain": [
       "<pandas.io.formats.style.Styler at 0x1c886ce9f30>"
      ]
     },
     "metadata": {},
     "output_type": "display_data"
    },
    {
     "name": "stdout",
     "output_type": "stream",
     "text": [
      "\n",
      "\n"
     ]
    }
   ],
   "source": [
    "for comp in [1,3,2]:\n",
    "\n",
    "    print(f'Top 10 Main features for Component {comp}:')\n",
    "    \n",
    "    temp = describe_component(component_id = comp)\n",
    "\n",
    "    display(temp.style.background_gradient(subset = 'pca_weight'))\n",
    "\n",
    "    print(end = '\\n\\n')"
   ]
  },
  {
   "attachments": {},
   "cell_type": "markdown",
   "metadata": {},
   "source": [
    "Component 0:\n",
    "- is heavily centered around Customer Journey definitions. Even within customer journeys, it segments the population.  \n",
    "- Has a strong relationship to \"dutyfull traditional minded\" persons (SEMIO_PFLICHT)\n",
    "- Has a strong relationship to the dominating movement in a persons youth (PRAEGENDE_JUGENDJAHRE)\n",
    "- Focuses on Moneysavers that are not necessairly prepared (FINANZ_SPARER - positive sign and FINANZ_VORSORGER - negative sign)\n",
    "\n",
    "**Component 0 can be understood as a component that describes the general consumption journey of different generations and their financial decisions**\n",
    "\n",
    "Component 1:\n",
    "- Heavily influenced by transaction activity (_DATUM and _ANZ cols)\n",
    "- Considers the person online affinty (ONLINE_AFFINITAET and _QUOTE cols)\n",
    "- Considers the persons life-phase (LP_LEBENSPHASE_GROB)\n",
    "- Focuses on modern consumers (D19_KONSUMTYP_6.0) that are ad enthusiasts byt don't show cross-channel adherence (CJT_GESAMTTYP_6.0)\n",
    "\n",
    "**Component 1 can be seen as a component that quantifies the consumpion patterns especially for modern consumers**"
   ]
  }
 ],
 "metadata": {
  "kernelspec": {
   "display_name": "arvato",
   "language": "python",
   "name": "python3"
  },
  "language_info": {
   "codemirror_mode": {
    "name": "ipython",
    "version": 3
   },
   "file_extension": ".py",
   "mimetype": "text/x-python",
   "name": "python",
   "nbconvert_exporter": "python",
   "pygments_lexer": "ipython3",
   "version": "3.10.9"
  },
  "orig_nbformat": 4,
  "vscode": {
   "interpreter": {
    "hash": "404e1532a79d19b6d50bcd59333a24b8142e74b80b18b64ea31bd32820d8acd4"
   }
  }
 },
 "nbformat": 4,
 "nbformat_minor": 2
}
