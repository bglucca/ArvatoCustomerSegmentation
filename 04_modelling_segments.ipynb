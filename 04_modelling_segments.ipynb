{
 "cells": [
  {
   "cell_type": "code",
   "execution_count": 1,
   "metadata": {},
   "outputs": [],
   "source": [
    "import pandas as pd\n",
    "import numpy as np\n",
    "\n",
    "import seaborn as sns\n",
    "import matplotlib.pyplot as plt\n",
    "\n",
    "from sklearn.preprocessing import StandardScaler\n",
    "from sklearn.decomposition import PCA\n",
    "\n",
    "from sklearn.cluster import MiniBatchKMeans\n",
    "\n",
    "import pickle"
   ]
  },
  {
   "cell_type": "code",
   "execution_count": 2,
   "metadata": {},
   "outputs": [],
   "source": [
    "sns.set(rc={'figure.figsize':(10,5)})"
   ]
  },
  {
   "cell_type": "code",
   "execution_count": 3,
   "metadata": {},
   "outputs": [],
   "source": [
    "CENSUS_PATH = 'data/refined/census_data.parquet'\n",
    "\n",
    "CUSTOMER_PATH = 'data/refined/customer_data.parquet'"
   ]
  },
  {
   "cell_type": "code",
   "execution_count": 4,
   "metadata": {},
   "outputs": [],
   "source": [
    "census = pd.read_parquet(CENSUS_PATH)"
   ]
  },
  {
   "cell_type": "code",
   "execution_count": 5,
   "metadata": {},
   "outputs": [
    {
     "data": {
      "text/html": [
       "<div>\n",
       "<style scoped>\n",
       "    .dataframe tbody tr th:only-of-type {\n",
       "        vertical-align: middle;\n",
       "    }\n",
       "\n",
       "    .dataframe tbody tr th {\n",
       "        vertical-align: top;\n",
       "    }\n",
       "\n",
       "    .dataframe thead th {\n",
       "        text-align: right;\n",
       "    }\n",
       "</style>\n",
       "<table border=\"1\" class=\"dataframe\">\n",
       "  <thead>\n",
       "    <tr style=\"text-align: right;\">\n",
       "      <th></th>\n",
       "      <th>LNR</th>\n",
       "      <th>ANZ_HAUSHALTE_AKTIV</th>\n",
       "      <th>ANZ_HH_TITEL</th>\n",
       "      <th>ANZ_PERSONEN</th>\n",
       "      <th>ANZ_TITEL</th>\n",
       "      <th>KBA13_ANZAHL_PKW</th>\n",
       "      <th>MIN_GEBAEUDEJAHR</th>\n",
       "      <th>D19_BANKEN_DIREKT</th>\n",
       "      <th>D19_BANKEN_GROSS</th>\n",
       "      <th>D19_BANKEN_LOKAL</th>\n",
       "      <th>...</th>\n",
       "      <th>KBA13_ALTERHALTER_45</th>\n",
       "      <th>KBA13_SEG_VAN</th>\n",
       "      <th>KBA13_BJ_2004</th>\n",
       "      <th>BALLRAUM</th>\n",
       "      <th>EWDICHTE</th>\n",
       "      <th>INNENSTADT</th>\n",
       "      <th>GEBAEUDETYP_RASTER</th>\n",
       "      <th>KKK</th>\n",
       "      <th>MOBI_REGIO</th>\n",
       "      <th>ONLINE_AFFINITAET</th>\n",
       "    </tr>\n",
       "  </thead>\n",
       "  <tbody>\n",
       "    <tr>\n",
       "      <th>1</th>\n",
       "      <td>910220</td>\n",
       "      <td>11.0</td>\n",
       "      <td>0.0</td>\n",
       "      <td>2.0</td>\n",
       "      <td>0.0</td>\n",
       "      <td>963.0</td>\n",
       "      <td>1992.0</td>\n",
       "      <td>0.0</td>\n",
       "      <td>0.0</td>\n",
       "      <td>0.0</td>\n",
       "      <td>...</td>\n",
       "      <td>2.0</td>\n",
       "      <td>4.0</td>\n",
       "      <td>3.0</td>\n",
       "      <td>6.0</td>\n",
       "      <td>3.0</td>\n",
       "      <td>8.0</td>\n",
       "      <td>3.0</td>\n",
       "      <td>2.0</td>\n",
       "      <td>1.0</td>\n",
       "      <td>3.0</td>\n",
       "    </tr>\n",
       "    <tr>\n",
       "      <th>2</th>\n",
       "      <td>910225</td>\n",
       "      <td>10.0</td>\n",
       "      <td>0.0</td>\n",
       "      <td>1.0</td>\n",
       "      <td>0.0</td>\n",
       "      <td>712.0</td>\n",
       "      <td>1992.0</td>\n",
       "      <td>0.0</td>\n",
       "      <td>0.0</td>\n",
       "      <td>0.0</td>\n",
       "      <td>...</td>\n",
       "      <td>2.0</td>\n",
       "      <td>3.0</td>\n",
       "      <td>4.0</td>\n",
       "      <td>2.0</td>\n",
       "      <td>4.0</td>\n",
       "      <td>4.0</td>\n",
       "      <td>4.0</td>\n",
       "      <td>2.0</td>\n",
       "      <td>3.0</td>\n",
       "      <td>2.0</td>\n",
       "    </tr>\n",
       "    <tr>\n",
       "      <th>3</th>\n",
       "      <td>910226</td>\n",
       "      <td>1.0</td>\n",
       "      <td>0.0</td>\n",
       "      <td>0.0</td>\n",
       "      <td>0.0</td>\n",
       "      <td>596.0</td>\n",
       "      <td>1997.0</td>\n",
       "      <td>0.0</td>\n",
       "      <td>0.0</td>\n",
       "      <td>0.0</td>\n",
       "      <td>...</td>\n",
       "      <td>3.0</td>\n",
       "      <td>4.0</td>\n",
       "      <td>3.0</td>\n",
       "      <td>4.0</td>\n",
       "      <td>2.0</td>\n",
       "      <td>6.0</td>\n",
       "      <td>4.0</td>\n",
       "      <td>3.0</td>\n",
       "      <td>4.0</td>\n",
       "      <td>1.0</td>\n",
       "    </tr>\n",
       "    <tr>\n",
       "      <th>4</th>\n",
       "      <td>910241</td>\n",
       "      <td>3.0</td>\n",
       "      <td>0.0</td>\n",
       "      <td>4.0</td>\n",
       "      <td>0.0</td>\n",
       "      <td>435.0</td>\n",
       "      <td>1992.0</td>\n",
       "      <td>1.0</td>\n",
       "      <td>1.0</td>\n",
       "      <td>0.0</td>\n",
       "      <td>...</td>\n",
       "      <td>3.0</td>\n",
       "      <td>2.0</td>\n",
       "      <td>3.0</td>\n",
       "      <td>2.0</td>\n",
       "      <td>5.0</td>\n",
       "      <td>1.0</td>\n",
       "      <td>5.0</td>\n",
       "      <td>3.0</td>\n",
       "      <td>3.0</td>\n",
       "      <td>5.0</td>\n",
       "    </tr>\n",
       "    <tr>\n",
       "      <th>5</th>\n",
       "      <td>910244</td>\n",
       "      <td>5.0</td>\n",
       "      <td>0.0</td>\n",
       "      <td>1.0</td>\n",
       "      <td>0.0</td>\n",
       "      <td>1300.0</td>\n",
       "      <td>1992.0</td>\n",
       "      <td>0.0</td>\n",
       "      <td>0.0</td>\n",
       "      <td>0.0</td>\n",
       "      <td>...</td>\n",
       "      <td>4.0</td>\n",
       "      <td>4.0</td>\n",
       "      <td>3.0</td>\n",
       "      <td>6.0</td>\n",
       "      <td>2.0</td>\n",
       "      <td>7.0</td>\n",
       "      <td>4.0</td>\n",
       "      <td>4.0</td>\n",
       "      <td>4.0</td>\n",
       "      <td>1.0</td>\n",
       "    </tr>\n",
       "  </tbody>\n",
       "</table>\n",
       "<p>5 rows × 172 columns</p>\n",
       "</div>"
      ],
      "text/plain": [
       "      LNR  ANZ_HAUSHALTE_AKTIV  ANZ_HH_TITEL  ANZ_PERSONEN  ANZ_TITEL  \\\n",
       "1  910220                 11.0           0.0           2.0        0.0   \n",
       "2  910225                 10.0           0.0           1.0        0.0   \n",
       "3  910226                  1.0           0.0           0.0        0.0   \n",
       "4  910241                  3.0           0.0           4.0        0.0   \n",
       "5  910244                  5.0           0.0           1.0        0.0   \n",
       "\n",
       "   KBA13_ANZAHL_PKW  MIN_GEBAEUDEJAHR  D19_BANKEN_DIREKT  D19_BANKEN_GROSS  \\\n",
       "1             963.0            1992.0                0.0               0.0   \n",
       "2             712.0            1992.0                0.0               0.0   \n",
       "3             596.0            1997.0                0.0               0.0   \n",
       "4             435.0            1992.0                1.0               1.0   \n",
       "5            1300.0            1992.0                0.0               0.0   \n",
       "\n",
       "   D19_BANKEN_LOKAL  ...  KBA13_ALTERHALTER_45  KBA13_SEG_VAN  KBA13_BJ_2004  \\\n",
       "1               0.0  ...                   2.0            4.0            3.0   \n",
       "2               0.0  ...                   2.0            3.0            4.0   \n",
       "3               0.0  ...                   3.0            4.0            3.0   \n",
       "4               0.0  ...                   3.0            2.0            3.0   \n",
       "5               0.0  ...                   4.0            4.0            3.0   \n",
       "\n",
       "   BALLRAUM  EWDICHTE  INNENSTADT  GEBAEUDETYP_RASTER  KKK  MOBI_REGIO  \\\n",
       "1       6.0       3.0         8.0                 3.0  2.0         1.0   \n",
       "2       2.0       4.0         4.0                 4.0  2.0         3.0   \n",
       "3       4.0       2.0         6.0                 4.0  3.0         4.0   \n",
       "4       2.0       5.0         1.0                 5.0  3.0         3.0   \n",
       "5       6.0       2.0         7.0                 4.0  4.0         4.0   \n",
       "\n",
       "   ONLINE_AFFINITAET  \n",
       "1                3.0  \n",
       "2                2.0  \n",
       "3                1.0  \n",
       "4                5.0  \n",
       "5                1.0  \n",
       "\n",
       "[5 rows x 172 columns]"
      ]
     },
     "execution_count": 5,
     "metadata": {},
     "output_type": "execute_result"
    }
   ],
   "source": [
    "census.head()"
   ]
  },
  {
   "cell_type": "code",
   "execution_count": 6,
   "metadata": {},
   "outputs": [],
   "source": [
    "census_var_types = pd.read_csv('data/trusted/census_var_types.csv').drop(columns='Unnamed: 0')"
   ]
  },
  {
   "cell_type": "code",
   "execution_count": 7,
   "metadata": {},
   "outputs": [
    {
     "data": {
      "text/html": [
       "<div>\n",
       "<style scoped>\n",
       "    .dataframe tbody tr th:only-of-type {\n",
       "        vertical-align: middle;\n",
       "    }\n",
       "\n",
       "    .dataframe tbody tr th {\n",
       "        vertical-align: top;\n",
       "    }\n",
       "\n",
       "    .dataframe thead th {\n",
       "        text-align: right;\n",
       "    }\n",
       "</style>\n",
       "<table border=\"1\" class=\"dataframe\">\n",
       "  <thead>\n",
       "    <tr style=\"text-align: right;\">\n",
       "      <th></th>\n",
       "      <th>Attribute</th>\n",
       "      <th>Type</th>\n",
       "    </tr>\n",
       "  </thead>\n",
       "  <tbody>\n",
       "    <tr>\n",
       "      <th>0</th>\n",
       "      <td>ALTERSKATEGORIE_GROB</td>\n",
       "      <td>interval</td>\n",
       "    </tr>\n",
       "    <tr>\n",
       "      <th>1</th>\n",
       "      <td>ANREDE_KZ</td>\n",
       "      <td>binary</td>\n",
       "    </tr>\n",
       "    <tr>\n",
       "      <th>2</th>\n",
       "      <td>ANZ_HAUSHALTE_AKTIV</td>\n",
       "      <td>numeric</td>\n",
       "    </tr>\n",
       "    <tr>\n",
       "      <th>3</th>\n",
       "      <td>ANZ_HH_TITEL</td>\n",
       "      <td>numeric</td>\n",
       "    </tr>\n",
       "    <tr>\n",
       "      <th>4</th>\n",
       "      <td>ANZ_PERSONEN</td>\n",
       "      <td>numeric</td>\n",
       "    </tr>\n",
       "  </tbody>\n",
       "</table>\n",
       "</div>"
      ],
      "text/plain": [
       "              Attribute      Type\n",
       "0  ALTERSKATEGORIE_GROB  interval\n",
       "1             ANREDE_KZ    binary\n",
       "2   ANZ_HAUSHALTE_AKTIV   numeric\n",
       "3          ANZ_HH_TITEL   numeric\n",
       "4          ANZ_PERSONEN   numeric"
      ]
     },
     "execution_count": 7,
     "metadata": {},
     "output_type": "execute_result"
    }
   ],
   "source": [
    "census_var_types.head()"
   ]
  },
  {
   "cell_type": "code",
   "execution_count": 8,
   "metadata": {},
   "outputs": [],
   "source": [
    "census_var_types.loc[census_var_types['Attribute'] == 'ANZ_HH_TITEL','Type'] = 'binary'"
   ]
  },
  {
   "cell_type": "code",
   "execution_count": 9,
   "metadata": {},
   "outputs": [
    {
     "data": {
      "text/plain": [
       "(784908, 172)"
      ]
     },
     "execution_count": 9,
     "metadata": {},
     "output_type": "execute_result"
    }
   ],
   "source": [
    "census.shape"
   ]
  },
  {
   "cell_type": "code",
   "execution_count": 10,
   "metadata": {},
   "outputs": [
    {
     "data": {
      "text/plain": [
       "interval    166\n",
       "nominal      14\n",
       "numeric       7\n",
       "binary        6\n",
       "Name: Type, dtype: int64"
      ]
     },
     "execution_count": 10,
     "metadata": {},
     "output_type": "execute_result"
    }
   ],
   "source": [
    "census_var_types['Type'].value_counts()"
   ]
  },
  {
   "attachments": {},
   "cell_type": "markdown",
   "metadata": {},
   "source": [
    "Variables considered as interval could be used in PCA. Unfortunately, this approach is not enough to handle nominal and binary features.  \n",
    "An alteranitve approach to solve this problem is [Factorial Analysis of Mixed Data (FAMD)](https://towardsdatascience.com/famd-how-to-generalize-pca-to-categorical-and-numerical-data-2ddbeb2b9210).  \n",
    "Using this approach, we will reduce the dimensions of the mixed data types prior to clustering it."
   ]
  },
  {
   "attachments": {},
   "cell_type": "markdown",
   "metadata": {},
   "source": [
    "# Clustering demographic data"
   ]
  },
  {
   "attachments": {},
   "cell_type": "markdown",
   "metadata": {},
   "source": [
    "## Adjustments to nominals and binaries"
   ]
  },
  {
   "cell_type": "code",
   "execution_count": 11,
   "metadata": {},
   "outputs": [],
   "source": [
    "binary_vars = census_var_types[census_var_types['Type'] == 'binary']['Attribute'].values\n",
    "\n",
    "binary_vars = np.intersect1d(binary_vars, census.columns)"
   ]
  },
  {
   "cell_type": "code",
   "execution_count": 12,
   "metadata": {},
   "outputs": [
    {
     "name": "stdout",
     "output_type": "stream",
     "text": [
      "ANREDE_KZ [2 1]\n",
      "ANZ_HH_TITEL [0. 1.]\n",
      "GREEN_AVANTGARDE [0 1]\n",
      "OST_WEST_KZ [1. 0.]\n",
      "VERS_TYP [2. 1.]\n"
     ]
    }
   ],
   "source": [
    "for col in binary_vars:\n",
    "    \n",
    "    try:\n",
    "        print(col, census[col].unique())\n",
    "\n",
    "    except:\n",
    "\n",
    "        print(f'Column not found: {col}')\n",
    "\n",
    "        continue"
   ]
  },
  {
   "cell_type": "code",
   "execution_count": 13,
   "metadata": {},
   "outputs": [],
   "source": [
    "census['ANREDE_KZ'] = census['ANREDE_KZ'] - 1\n",
    "\n",
    "census['VERS_TYP'] = census['VERS_TYP'] - 1"
   ]
  },
  {
   "attachments": {},
   "cell_type": "markdown",
   "metadata": {},
   "source": [
    "## Subsetting dataframe"
   ]
  },
  {
   "cell_type": "code",
   "execution_count": 14,
   "metadata": {},
   "outputs": [],
   "source": [
    "is_subset = True\n",
    "\n",
    "if is_subset:\n",
    "\n",
    "    with open('data/trusted/selected_features.pkl', 'rb') as file:\n",
    "\n",
    "        selected_features = pickle.load(file)\n",
    "    \n",
    "    selected_features.append('LNR')\n",
    "\n",
    "    census = census[selected_features].copy()"
   ]
  },
  {
   "cell_type": "code",
   "execution_count": 15,
   "metadata": {},
   "outputs": [],
   "source": [
    "nominal_vars = census_var_types[census_var_types['Type'] == 'nominal']['Attribute'].values\n",
    "\n",
    "nominal_vars = np.intersect1d(nominal_vars, census.columns)"
   ]
  },
  {
   "cell_type": "code",
   "execution_count": 16,
   "metadata": {},
   "outputs": [],
   "source": [
    "interval_vars = census_var_types[census_var_types['Type'] == 'interval']['Attribute'].values\n",
    "\n",
    "interval_vars = np.intersect1d(interval_vars, census.columns)"
   ]
  },
  {
   "cell_type": "code",
   "execution_count": 17,
   "metadata": {},
   "outputs": [],
   "source": [
    "binary_vars = census_var_types[census_var_types['Type'] == 'binary']['Attribute'].values\n",
    "\n",
    "binary_vars = np.intersect1d(binary_vars, census.columns)"
   ]
  },
  {
   "cell_type": "code",
   "execution_count": 18,
   "metadata": {},
   "outputs": [],
   "source": [
    "num_cols = census.columns.drop(list(nominal_vars) + list(binary_vars) + list(interval_vars) + ['LNR'])"
   ]
  },
  {
   "cell_type": "code",
   "execution_count": 19,
   "metadata": {},
   "outputs": [],
   "source": [
    "assert (len(nominal_vars) + len(binary_vars) + len(interval_vars) + len(num_cols) + 1) == census.shape[1]"
   ]
  },
  {
   "attachments": {},
   "cell_type": "markdown",
   "metadata": {},
   "source": [
    "# PCA + KMeans\n",
    "- FAMD Implementation\n",
    "- Using K-Means so we can leverage the centroid position to predict the populations' clusters without necessarily having to cluster the whole population"
   ]
  },
  {
   "cell_type": "code",
   "execution_count": 20,
   "metadata": {},
   "outputs": [],
   "source": [
    "census = pd.get_dummies(census, columns=list(nominal_vars))"
   ]
  },
  {
   "cell_type": "code",
   "execution_count": 21,
   "metadata": {},
   "outputs": [],
   "source": [
    "dummy_nominal_vars = []\n",
    "\n",
    "for name in list(nominal_vars):\n",
    "\n",
    "    for col in census.columns:\n",
    "\n",
    "        if name in col:\n",
    "\n",
    "            dummy_nominal_vars.append(col)\n",
    "\n",
    "# Fix for GEBAEUDETYP and GEBAUDETYP_RASTER\n",
    "dummy_nominal_vars = sorted(list(set(dummy_nominal_vars)))"
   ]
  },
  {
   "cell_type": "code",
   "execution_count": 22,
   "metadata": {},
   "outputs": [],
   "source": [
    "def weight_encoded_col(col):\n",
    "\n",
    "    '''\n",
    "    Generates weights according to FAMD implementation. Works in binary variables.\n",
    "    The weight is given as the division of the 1 values by the square-root of the probability of occurance of the effect in the column.\n",
    "\n",
    "    :param col: column to be adjusted\n",
    "\n",
    "    :return col: column after adjustments\n",
    "    '''\n",
    "\n",
    "    # mean = probability of occurance for a binary col\n",
    "    mean = col.mean()\n",
    "\n",
    "    weight = np.sqrt(mean)\n",
    "\n",
    "    col = col / weight\n",
    "    \n",
    "    # Centering\n",
    "    center_ref = col.mean()\n",
    "\n",
    "    col = col - center_ref\n",
    "    \n",
    "    return col"
   ]
  },
  {
   "cell_type": "code",
   "execution_count": 23,
   "metadata": {},
   "outputs": [],
   "source": [
    "for col in list(binary_vars) + list(dummy_nominal_vars):\n",
    "\n",
    "    census[col] = weight_encoded_col(census[col])"
   ]
  },
  {
   "attachments": {},
   "cell_type": "markdown",
   "metadata": {},
   "source": [
    "## Numerical columns"
   ]
  },
  {
   "cell_type": "code",
   "execution_count": 24,
   "metadata": {},
   "outputs": [],
   "source": [
    "num_col_list = census.columns.drop(list(binary_vars) + dummy_nominal_vars + ['LNR'])"
   ]
  },
  {
   "cell_type": "code",
   "execution_count": 25,
   "metadata": {},
   "outputs": [],
   "source": [
    "scaler = StandardScaler()"
   ]
  },
  {
   "cell_type": "code",
   "execution_count": 26,
   "metadata": {},
   "outputs": [],
   "source": [
    "census[num_col_list] = scaler.fit_transform(census[num_col_list])"
   ]
  },
  {
   "attachments": {},
   "cell_type": "markdown",
   "metadata": {},
   "source": [
    "# PCA"
   ]
  },
  {
   "cell_type": "code",
   "execution_count": 27,
   "metadata": {},
   "outputs": [
    {
     "data": {
      "text/plain": [
       "(784908, 105)"
      ]
     },
     "execution_count": 27,
     "metadata": {},
     "output_type": "execute_result"
    }
   ],
   "source": [
    "census.shape"
   ]
  },
  {
   "attachments": {},
   "cell_type": "markdown",
   "metadata": {},
   "source": [
    "**Warning: Running the cell below might take a while. Beware of that**"
   ]
  },
  {
   "cell_type": "code",
   "execution_count": 35,
   "metadata": {},
   "outputs": [
    {
     "name": "stdout",
     "output_type": "stream",
     "text": [
      "Running for 20 components...\n",
      "Explained Variance: 0.5790538237983482\n",
      "\n",
      "Running for 40 components...\n",
      "Explained Variance: 0.7848555044809882\n",
      "\n",
      "Running for 60 components...\n",
      "Explained Variance: 0.9221030932841603\n",
      "\n",
      "Running for 80 components...\n",
      "Explained Variance: 0.98239744905113\n",
      "\n"
     ]
    }
   ],
   "source": [
    "explained_var_list_step_2 = []\n",
    "\n",
    "for comp in range(20,100, 20):\n",
    "\n",
    "    print(f'Running for {comp} components...')\n",
    "    pca = PCA(n_components=comp, random_state=123)\n",
    "\n",
    "    pca.fit(census.drop(columns = 'LNR'))\n",
    "\n",
    "    expl_variance = pca.explained_variance_ratio_.sum()\n",
    "\n",
    "    print(f'Explained Variance: {expl_variance}', end = '\\n\\n')\n",
    "    \n",
    "    explained_var_list_step_2.append(expl_variance)\n",
    "\n",
    "    if expl_variance >= 0.95:\n",
    "\n",
    "        break\n",
    "    # explained_var_list.append(explained_var_list_step_2)"
   ]
  },
  {
   "attachments": {},
   "cell_type": "markdown",
   "metadata": {},
   "source": [
    "# K-Means\n",
    "\n",
    "800k entries is too much for some machines to handle and/or take a long time for the algorithm to run.  \n",
    "Therefore, assuming the AZDIAS data as the population we want to model for, we will use a sample of it to find the centroids of our clusters to then propagate this information.  \n",
    "Using a simple [Sample Size Calculator](https://www.calculator.net/sample-size-calculator.html?type=1&cl=99.9&ci=1&pp=50&ps=891221&x=0&y=0), assuming a homogenous population we can find that starting from 5000 random samples we can have a good enough representation of the general population."
   ]
  },
  {
   "cell_type": "code",
   "execution_count": 28,
   "metadata": {},
   "outputs": [],
   "source": [
    "def score_kmeans(X,k_range):\n",
    "\n",
    "    '''\n",
    "    Function that iteratively scores K-Means based on point distance to centroids.\n",
    "\n",
    "    :param X: Data that the Kmeans should be fitted to\n",
    "    :param k_range: range to be used for experimentation.\n",
    "\n",
    "    :return dist_list: List of total inertia for each step in the ranges\n",
    "    '''\n",
    "\n",
    "    for i, k in enumerate(k_range):\n",
    "\n",
    "        print(f'Running for K = {k} Clusters...')\n",
    "\n",
    "        # Using MiniBatch for performance\n",
    "        kmeans = MiniBatchKMeans(n_clusters=k,\n",
    "                                    init = 'k-means++',\n",
    "                                    random_state=123,\n",
    "                                    batch_size=2048,\n",
    "                                    max_iter=50,\n",
    "                                    n_init = 3)\n",
    "\n",
    "        kmeans.fit(X)\n",
    "\n",
    "        if i == 0:\n",
    "\n",
    "            dist_list = [kmeans.inertia_]\n",
    "        \n",
    "        else:\n",
    "\n",
    "            dist_list.append(kmeans.inertia_)\n",
    "\n",
    "    return dist_list"
   ]
  },
  {
   "cell_type": "code",
   "execution_count": 29,
   "metadata": {},
   "outputs": [],
   "source": [
    "pca = PCA(n_components=70, random_state=123)\n",
    "\n",
    "pca.fit(census.drop(columns = 'LNR'))\n",
    "\n",
    "X = pca.transform(census.drop(columns = 'LNR'))"
   ]
  },
  {
   "cell_type": "code",
   "execution_count": 30,
   "metadata": {},
   "outputs": [],
   "source": [
    "rng = np.random.default_rng()\n",
    "\n",
    "# Reproducibility\n",
    "np.random.seed = 123\n",
    "\n",
    "X_sample = rng.choice(X, size = 10000, replace = False)"
   ]
  },
  {
   "cell_type": "code",
   "execution_count": 31,
   "metadata": {},
   "outputs": [],
   "source": [
    "k_range = range(2,11)"
   ]
  },
  {
   "cell_type": "code",
   "execution_count": 32,
   "metadata": {},
   "outputs": [
    {
     "name": "stdout",
     "output_type": "stream",
     "text": [
      "Running for K = 2 Clusters...\n",
      "Running for K = 3 Clusters...\n",
      "Running for K = 4 Clusters...\n",
      "Running for K = 5 Clusters...\n",
      "Running for K = 6 Clusters...\n",
      "Running for K = 7 Clusters...\n",
      "Running for K = 8 Clusters...\n",
      "Running for K = 9 Clusters...\n",
      "Running for K = 10 Clusters...\n"
     ]
    }
   ],
   "source": [
    "distances = score_kmeans(X_sample, k_range)"
   ]
  },
  {
   "cell_type": "code",
   "execution_count": 41,
   "metadata": {},
   "outputs": [
    {
     "data": {
      "image/png": "[encoded data removed]",
      "text/plain": [
       "<Figure size 1000x500 with 1 Axes>"
      ]
     },
     "metadata": {},
     "output_type": "display_data"
    }
   ],
   "source": [
    "sns.lineplot(x = range(2,len(distances) + 2),\n",
    "             y = distances,\n",
    "             marker = 'o')\n",
    "\n",
    "plt.xlabel('# of Clusters')\n",
    "\n",
    "plt.ylabel('Overall Inertia')\n",
    "\n",
    "plt.title('Elbow Method using Cluster Inertia')\n",
    "\n",
    "plt.show()"
   ]
  },
  {
   "attachments": {},
   "cell_type": "markdown",
   "metadata": {},
   "source": [
    "Using the Elbow Method we can choose 9 as an appropriate number of clusters"
   ]
  },
  {
   "attachments": {},
   "cell_type": "markdown",
   "metadata": {},
   "source": [
    "## Instantiating selected clustering method"
   ]
  },
  {
   "cell_type": "code",
   "execution_count": 43,
   "metadata": {},
   "outputs": [
    {
     "data": {
      "text/html": [
       "<style>#sk-container-id-1 {color: black;background-color: white;}#sk-container-id-1 pre{padding: 0;}#sk-container-id-1 div.sk-toggleable {background-color: white;}#sk-container-id-1 label.sk-toggleable__label {cursor: pointer;display: block;width: 100%;margin-bottom: 0;padding: 0.3em;box-sizing: border-box;text-align: center;}#sk-container-id-1 label.sk-toggleable__label-arrow:before {content: \"▸\";float: left;margin-right: 0.25em;color: #696969;}#sk-container-id-1 label.sk-toggleable__label-arrow:hover:before {color: black;}#sk-container-id-1 div.sk-estimator:hover label.sk-toggleable__label-arrow:before {color: black;}#sk-container-id-1 div.sk-toggleable__content {max-height: 0;max-width: 0;overflow: hidden;text-align: left;background-color: #f0f8ff;}#sk-container-id-1 div.sk-toggleable__content pre {margin: 0.2em;color: black;border-radius: 0.25em;background-color: #f0f8ff;}#sk-container-id-1 input.sk-toggleable__control:checked~div.sk-toggleable__content {max-height: 200px;max-width: 100%;overflow: auto;}#sk-container-id-1 input.sk-toggleable__control:checked~label.sk-toggleable__label-arrow:before {content: \"▾\";}#sk-container-id-1 div.sk-estimator input.sk-toggleable__control:checked~label.sk-toggleable__label {background-color: #d4ebff;}#sk-container-id-1 div.sk-label input.sk-toggleable__control:checked~label.sk-toggleable__label {background-color: #d4ebff;}#sk-container-id-1 input.sk-hidden--visually {border: 0;clip: rect(1px 1px 1px 1px);clip: rect(1px, 1px, 1px, 1px);height: 1px;margin: -1px;overflow: hidden;padding: 0;position: absolute;width: 1px;}#sk-container-id-1 div.sk-estimator {font-family: monospace;background-color: #f0f8ff;border: 1px dotted black;border-radius: 0.25em;box-sizing: border-box;margin-bottom: 0.5em;}#sk-container-id-1 div.sk-estimator:hover {background-color: #d4ebff;}#sk-container-id-1 div.sk-parallel-item::after {content: \"\";width: 100%;border-bottom: 1px solid gray;flex-grow: 1;}#sk-container-id-1 div.sk-label:hover label.sk-toggleable__label {background-color: #d4ebff;}#sk-container-id-1 div.sk-serial::before {content: \"\";position: absolute;border-left: 1px solid gray;box-sizing: border-box;top: 0;bottom: 0;left: 50%;z-index: 0;}#sk-container-id-1 div.sk-serial {display: flex;flex-direction: column;align-items: center;background-color: white;padding-right: 0.2em;padding-left: 0.2em;position: relative;}#sk-container-id-1 div.sk-item {position: relative;z-index: 1;}#sk-container-id-1 div.sk-parallel {display: flex;align-items: stretch;justify-content: center;background-color: white;position: relative;}#sk-container-id-1 div.sk-item::before, #sk-container-id-1 div.sk-parallel-item::before {content: \"\";position: absolute;border-left: 1px solid gray;box-sizing: border-box;top: 0;bottom: 0;left: 50%;z-index: -1;}#sk-container-id-1 div.sk-parallel-item {display: flex;flex-direction: column;z-index: 1;position: relative;background-color: white;}#sk-container-id-1 div.sk-parallel-item:first-child::after {align-self: flex-end;width: 50%;}#sk-container-id-1 div.sk-parallel-item:last-child::after {align-self: flex-start;width: 50%;}#sk-container-id-1 div.sk-parallel-item:only-child::after {width: 0;}#sk-container-id-1 div.sk-dashed-wrapped {border: 1px dashed gray;margin: 0 0.4em 0.5em 0.4em;box-sizing: border-box;padding-bottom: 0.4em;background-color: white;}#sk-container-id-1 div.sk-label label {font-family: monospace;font-weight: bold;display: inline-block;line-height: 1.2em;}#sk-container-id-1 div.sk-label-container {text-align: center;}#sk-container-id-1 div.sk-container {/* jupyter's `normalize.less` sets `[hidden] { display: none; }` but bootstrap.min.css set `[hidden] { display: none !important; }` so we also need the `!important` here to be able to override the default hidden behavior on the sphinx rendered scikit-learn.org. See: https://github.com/scikit-learn/scikit-learn/issues/21755 */display: inline-block !important;position: relative;}#sk-container-id-1 div.sk-text-repr-fallback {display: none;}</style><div id=\"sk-container-id-1\" class=\"sk-top-container\"><div class=\"sk-text-repr-fallback\"><pre>MiniBatchKMeans(batch_size=2048, max_iter=50, n_clusters=9, n_init=3,\n",
       "                random_state=123)</pre><b>In a Jupyter environment, please rerun this cell to show the HTML representation or trust the notebook. <br />On GitHub, the HTML representation is unable to render, please try loading this page with nbviewer.org.</b></div><div class=\"sk-container\" hidden><div class=\"sk-item\"><div class=\"sk-estimator sk-toggleable\"><input class=\"sk-toggleable__control sk-hidden--visually\" id=\"sk-estimator-id-1\" type=\"checkbox\" checked><label for=\"sk-estimator-id-1\" class=\"sk-toggleable__label sk-toggleable__label-arrow\">MiniBatchKMeans</label><div class=\"sk-toggleable__content\"><pre>MiniBatchKMeans(batch_size=2048, max_iter=50, n_clusters=9, n_init=3,\n",
       "                random_state=123)</pre></div></div></div></div></div>"
      ],
      "text/plain": [
       "MiniBatchKMeans(batch_size=2048, max_iter=50, n_clusters=9, n_init=3,\n",
       "                random_state=123)"
      ]
     },
     "execution_count": 43,
     "metadata": {},
     "output_type": "execute_result"
    }
   ],
   "source": [
    "kmeans_model = MiniBatchKMeans(n_clusters=9,\n",
    "                                init = 'k-means++',\n",
    "                                random_state=123,\n",
    "                                batch_size=2048,\n",
    "                                max_iter=50,\n",
    "                                n_init = 3)\n",
    "\n",
    "kmeans_model.fit(X_sample)"
   ]
  },
  {
   "cell_type": "code",
   "execution_count": 45,
   "metadata": {},
   "outputs": [],
   "source": [
    "# with open('models/demographic_clusters.pkl','wb') as file:\n",
    "\n",
    "#     pickle.dump(kmeans_model, file)"
   ]
  },
  {
   "attachments": {},
   "cell_type": "markdown",
   "metadata": {},
   "source": [
    "# Comparing Datasets"
   ]
  },
  {
   "attachments": {},
   "cell_type": "markdown",
   "metadata": {},
   "source": [
    "## Customer data Preprocessing"
   ]
  },
  {
   "cell_type": "code",
   "execution_count": 46,
   "metadata": {},
   "outputs": [],
   "source": [
    "customers = pd.read_parquet('data/refined/customer_data.parquet')"
   ]
  },
  {
   "cell_type": "code",
   "execution_count": 49,
   "metadata": {},
   "outputs": [],
   "source": [
    "customers = customers[selected_features].copy()"
   ]
  },
  {
   "cell_type": "code",
   "execution_count": 50,
   "metadata": {},
   "outputs": [],
   "source": [
    "# Preprocessing customers data like we did census data\n",
    "customers = pd.get_dummies(customers, columns=list(nominal_vars))\n",
    "\n",
    "for col in list(binary_vars) + list(dummy_nominal_vars):\n",
    "\n",
    "    customers[col] = weight_encoded_col(customers[col])\n",
    "\n",
    "customers[num_col_list] = scaler.fit_transform(customers[num_col_list])"
   ]
  },
  {
   "cell_type": "code",
   "execution_count": 52,
   "metadata": {},
   "outputs": [],
   "source": [
    "X_cust = pca.transform(customers.drop(columns = 'LNR'))"
   ]
  },
  {
   "cell_type": "code",
   "execution_count": 54,
   "metadata": {},
   "outputs": [],
   "source": [
    "customers['cluster'] = kmeans_model.predict(X_cust)"
   ]
  },
  {
   "cell_type": "code",
   "execution_count": 56,
   "metadata": {},
   "outputs": [],
   "source": [
    "census['cluster'] = kmeans_model.predict(X)"
   ]
  },
  {
   "attachments": {},
   "cell_type": "markdown",
   "metadata": {},
   "source": [
    "## Plotting Comparison"
   ]
  },
  {
   "cell_type": "code",
   "execution_count": 94,
   "metadata": {},
   "outputs": [],
   "source": [
    "cluster_prop_plot = pd.concat([customers['cluster'].value_counts(normalize = True),\n",
    "                                census['cluster'].value_counts(normalize = True)],\n",
    "                                axis = 1)\n",
    "\n",
    "cluster_prop_plot.columns = ['customers','azdias']\n",
    "\n",
    "cluster_prop_plot = cluster_prop_plot.melt(ignore_index=False)\n",
    "\n",
    "cluster_prop_plot.reset_index(inplace = True)\n",
    "\n",
    "# cluster_prop_plot"
   ]
  },
  {
   "cell_type": "code",
   "execution_count": 100,
   "metadata": {},
   "outputs": [],
   "source": [
    "import matplotlib.ticker as mtick"
   ]
  },
  {
   "cell_type": "code",
   "execution_count": 109,
   "metadata": {},
   "outputs": [
    {
     "data": {
      "image/png": "[encoded data removed]",
      "text/plain": [
       "<Figure size 1500x750 with 1 Axes>"
      ]
     },
     "metadata": {},
     "output_type": "display_data"
    }
   ],
   "source": [
    "fig, ax = plt.subplots(figsize = (15,7.5))\n",
    "\n",
    "g = sns.barplot(\n",
    "                    data = cluster_prop_plot,\n",
    "                    x = 'index',\n",
    "                    y = 'value',\n",
    "                    hue = 'variable',\n",
    "                    hue_order=['azdias','customers'],\n",
    "                    ax = ax\n",
    "                )\n",
    "\n",
    "g.yaxis.set_major_formatter(mtick.PercentFormatter(xmax = 1))\n",
    "\n",
    "plt.title('Proportion of entries by Dataset by Cluster - AZDIAS and Customers')\n",
    "\n",
    "plt.xlabel('Proportion')\n",
    "\n",
    "plt.ylabel('Cluster')\n",
    "\n",
    "plt.legend(title = 'Dataset')\n",
    "\n",
    "plt.show()"
   ]
  },
  {
   "attachments": {},
   "cell_type": "markdown",
   "metadata": {},
   "source": [
    "As we can see from the plot. It looks like the clusters 4, 6, 7 and 8 are those who concentrate more customers profile. People that are assigned in those clusters are more likely to turn into potential leads.  \n",
    "\n",
    "Let's dig a little deeper on the 4 and 6 clusters since:\n",
    "- 4 has proportionally double the amount of records in the customer data then in azdias data and;\n",
    "-  6 since it's the proportionally biggest cluster for the customer data."
   ]
  },
  {
   "attachments": {},
   "cell_type": "markdown",
   "metadata": {},
   "source": [
    "## Cluster interpretations"
   ]
  },
  {
   "cell_type": "code",
   "execution_count": 191,
   "metadata": {},
   "outputs": [],
   "source": [
    "def get_main_components(cluster_model = kmeans_model, n_largest = 5, cluster_id = 0, return_frame = False):\n",
    "\n",
    "    '''\n",
    "    Lists main components for a given cluster in 'cluster_id' in a given model. A main component is considered a component that is centered away from 0 in either direction (positive or negative).\n",
    "    Defaults to the 5 largest distances from 0.\n",
    "    To work, the clustering method needs to have distance-based centroids.\n",
    "\n",
    "    :param cluster_model: Clustering model (WITH CENTROIDS) to be evaluated for components.\n",
    "    :param n_largest: Number of components to return for a cluster\n",
    "    :param cluster_id: Id (index) of the cluster\n",
    "    :param return_frame: Boolean to define if whole dataframe needs to be returned.\n",
    "    \n",
    "    :return temp: Full dataframe with components' coordinates\n",
    "    :return main_components: Frame with only the n_largest defined amount of componets\n",
    "    '''\n",
    "\n",
    "    temp = pd.DataFrame(cluster_model.cluster_centers_[cluster_id],\n",
    "                        columns=['component_coordinate'])\n",
    "    \n",
    "    temp['abs_comp_coordinate'] = temp['component_coordinate'].abs()\n",
    "\n",
    "    if return_frame:\n",
    "\n",
    "        return temp\n",
    "    \n",
    "    else:\n",
    "\n",
    "        main_components = temp.nlargest(columns = 'abs_comp_coordinate', n = n_largest)\n",
    "\n",
    "    return main_components\n",
    "\n",
    "def describe_component(component_id, base_df = census, n_features = 10, pca_object = pca, return_frame = False):\n",
    "\n",
    "    '''\n",
    "    Describes a component within the PCA. Defaults to the 10 features with largest ABSOLUTE indices.\n",
    "\n",
    "    :param component_id: Id (index) of the component\n",
    "    :param base_df: Frame with the column names used in the PCA\n",
    "    :param n_features: Amount of features to be extracted - Defaults to 10\n",
    "    :param pca_object: PCA fitted on the base_df\n",
    "    :param return_frame: Boolean that indicates if the whole variable list of indices should be returned\n",
    "\n",
    "    :return weights_frame: Complete frame with all indices by variable:\n",
    "    :return weights_frame.nlargest: Frame subsetted to only n biggest absolute indices\n",
    "    '''\n",
    "\n",
    "    base_dict = dict(zip(base_df.columns.drop('cluster'),\n",
    "                         pca.components_[component_id]))\n",
    "    \n",
    "    weights_frame = pd.DataFrame.from_dict(base_dict, orient = 'index', columns = ['pca_weight'])\n",
    "\n",
    "    if return_frame:\n",
    "\n",
    "        return weights_frame\n",
    "    \n",
    "    else:\n",
    "\n",
    "        weights_frame['abs_pca_weight'] = weights_frame['pca_weight'].abs()\n",
    "\n",
    "        return weights_frame.nlargest(n_features, columns = 'abs_pca_weight')"
   ]
  },
  {
   "cell_type": "code",
   "execution_count": 193,
   "metadata": {},
   "outputs": [
    {
     "name": "stdout",
     "output_type": "stream",
     "text": [
      "Cluster 4 main components:\n"
     ]
    },
    {
     "data": {
      "text/html": [
       "<div>\n",
       "<style scoped>\n",
       "    .dataframe tbody tr th:only-of-type {\n",
       "        vertical-align: middle;\n",
       "    }\n",
       "\n",
       "    .dataframe tbody tr th {\n",
       "        vertical-align: top;\n",
       "    }\n",
       "\n",
       "    .dataframe thead th {\n",
       "        text-align: right;\n",
       "    }\n",
       "</style>\n",
       "<table border=\"1\" class=\"dataframe\">\n",
       "  <thead>\n",
       "    <tr style=\"text-align: right;\">\n",
       "      <th></th>\n",
       "      <th>component_coordinate</th>\n",
       "      <th>abs_comp_coordinate</th>\n",
       "    </tr>\n",
       "  </thead>\n",
       "  <tbody>\n",
       "    <tr>\n",
       "      <th>0</th>\n",
       "      <td>1.728778</td>\n",
       "      <td>1.728778</td>\n",
       "    </tr>\n",
       "    <tr>\n",
       "      <th>1</th>\n",
       "      <td>-1.413436</td>\n",
       "      <td>1.413436</td>\n",
       "    </tr>\n",
       "    <tr>\n",
       "      <th>4</th>\n",
       "      <td>-1.082348</td>\n",
       "      <td>1.082348</td>\n",
       "    </tr>\n",
       "    <tr>\n",
       "      <th>7</th>\n",
       "      <td>-1.026743</td>\n",
       "      <td>1.026743</td>\n",
       "    </tr>\n",
       "    <tr>\n",
       "      <th>8</th>\n",
       "      <td>0.653640</td>\n",
       "      <td>0.653640</td>\n",
       "    </tr>\n",
       "  </tbody>\n",
       "</table>\n",
       "</div>"
      ],
      "text/plain": [
       "   component_coordinate  abs_comp_coordinate\n",
       "0              1.728778             1.728778\n",
       "1             -1.413436             1.413436\n",
       "4             -1.082348             1.082348\n",
       "7             -1.026743             1.026743\n",
       "8              0.653640             0.653640"
      ]
     },
     "metadata": {},
     "output_type": "display_data"
    },
    {
     "name": "stdout",
     "output_type": "stream",
     "text": [
      "Cluster 6 main components:\n"
     ]
    },
    {
     "data": {
      "text/html": [
       "<div>\n",
       "<style scoped>\n",
       "    .dataframe tbody tr th:only-of-type {\n",
       "        vertical-align: middle;\n",
       "    }\n",
       "\n",
       "    .dataframe tbody tr th {\n",
       "        vertical-align: top;\n",
       "    }\n",
       "\n",
       "    .dataframe thead th {\n",
       "        text-align: right;\n",
       "    }\n",
       "</style>\n",
       "<table border=\"1\" class=\"dataframe\">\n",
       "  <thead>\n",
       "    <tr style=\"text-align: right;\">\n",
       "      <th></th>\n",
       "      <th>component_coordinate</th>\n",
       "      <th>abs_comp_coordinate</th>\n",
       "    </tr>\n",
       "  </thead>\n",
       "  <tbody>\n",
       "    <tr>\n",
       "      <th>1</th>\n",
       "      <td>4.184858</td>\n",
       "      <td>4.184858</td>\n",
       "    </tr>\n",
       "    <tr>\n",
       "      <th>0</th>\n",
       "      <td>-0.524761</td>\n",
       "      <td>0.524761</td>\n",
       "    </tr>\n",
       "    <tr>\n",
       "      <th>9</th>\n",
       "      <td>-0.414880</td>\n",
       "      <td>0.414880</td>\n",
       "    </tr>\n",
       "    <tr>\n",
       "      <th>4</th>\n",
       "      <td>0.377505</td>\n",
       "      <td>0.377505</td>\n",
       "    </tr>\n",
       "    <tr>\n",
       "      <th>6</th>\n",
       "      <td>-0.360164</td>\n",
       "      <td>0.360164</td>\n",
       "    </tr>\n",
       "  </tbody>\n",
       "</table>\n",
       "</div>"
      ],
      "text/plain": [
       "   component_coordinate  abs_comp_coordinate\n",
       "1              4.184858             4.184858\n",
       "0             -0.524761             0.524761\n",
       "9             -0.414880             0.414880\n",
       "4              0.377505             0.377505\n",
       "6             -0.360164             0.360164"
      ]
     },
     "metadata": {},
     "output_type": "display_data"
    }
   ],
   "source": [
    "for i, cluster_id in enumerate([4,6]):\n",
    "\n",
    "    main_comps = get_main_components(cluster_id=cluster_id)\n",
    "\n",
    "    print(f'Cluster {cluster_id} main components:')\n",
    "\n",
    "    display(main_comps)"
   ]
  },
  {
   "attachments": {},
   "cell_type": "markdown",
   "metadata": {},
   "source": [
    "The components 0 and 1 dominate both clusters, even though cluster 6 is more heavily centered around PC 1 and cluster 4 has a more balanced relationship between both variables.  \n",
    "Also, it is worth to note that the signal for both Components are different."
   ]
  },
  {
   "cell_type": "code",
   "execution_count": 197,
   "metadata": {},
   "outputs": [
    {
     "name": "stdout",
     "output_type": "stream",
     "text": [
      "Top 10 Main features for Component 0:\n"
     ]
    },
    {
     "data": {
      "text/html": [
       "<style type=\"text/css\">\n",
       "#T_3bf42_row0_col0 {\n",
       "  background-color: #023858;\n",
       "  color: #f1f1f1;\n",
       "}\n",
       "#T_3bf42_row1_col0, #T_3bf42_row2_col0 {\n",
       "  background-color: #023a5b;\n",
       "  color: #f1f1f1;\n",
       "}\n",
       "#T_3bf42_row3_col0 {\n",
       "  background-color: #023d60;\n",
       "  color: #f1f1f1;\n",
       "}\n",
       "#T_3bf42_row4_col0 {\n",
       "  background-color: #fff7fb;\n",
       "  color: #000000;\n",
       "}\n",
       "#T_3bf42_row5_col0 {\n",
       "  background-color: #fef6fa;\n",
       "  color: #000000;\n",
       "}\n",
       "#T_3bf42_row6_col0, #T_3bf42_row7_col0 {\n",
       "  background-color: #fbf4f9;\n",
       "  color: #000000;\n",
       "}\n",
       "#T_3bf42_row8_col0 {\n",
       "  background-color: #f9f2f8;\n",
       "  color: #000000;\n",
       "}\n",
       "#T_3bf42_row9_col0 {\n",
       "  background-color: #034d79;\n",
       "  color: #f1f1f1;\n",
       "}\n",
       "</style>\n",
       "<table id=\"T_3bf42\">\n",
       "  <thead>\n",
       "    <tr>\n",
       "      <th class=\"blank level0\" >&nbsp;</th>\n",
       "      <th id=\"T_3bf42_level0_col0\" class=\"col_heading level0 col0\" >pca_weight</th>\n",
       "      <th id=\"T_3bf42_level0_col1\" class=\"col_heading level0 col1\" >abs_pca_weight</th>\n",
       "    </tr>\n",
       "  </thead>\n",
       "  <tbody>\n",
       "    <tr>\n",
       "      <th id=\"T_3bf42_level0_row0\" class=\"row_heading level0 row0\" >CJT_TYP_2</th>\n",
       "      <td id=\"T_3bf42_row0_col0\" class=\"data row0 col0\" >0.240268</td>\n",
       "      <td id=\"T_3bf42_row0_col1\" class=\"data row0 col1\" >0.240268</td>\n",
       "    </tr>\n",
       "    <tr>\n",
       "      <th id=\"T_3bf42_level0_row1\" class=\"row_heading level0 row1\" >FINANZ_SPARER</th>\n",
       "      <td id=\"T_3bf42_row1_col0\" class=\"data row1 col0\" >0.235902</td>\n",
       "      <td id=\"T_3bf42_row1_col1\" class=\"data row1 col1\" >0.235902</td>\n",
       "    </tr>\n",
       "    <tr>\n",
       "      <th id=\"T_3bf42_level0_row2\" class=\"row_heading level0 row2\" >CJT_TYP_1</th>\n",
       "      <td id=\"T_3bf42_row2_col0\" class=\"data row2 col0\" >0.235577</td>\n",
       "      <td id=\"T_3bf42_row2_col1\" class=\"data row2 col1\" >0.235577</td>\n",
       "    </tr>\n",
       "    <tr>\n",
       "      <th id=\"T_3bf42_level0_row3\" class=\"row_heading level0 row3\" >PRAEGENDE_JUGENDJAHRE</th>\n",
       "      <td id=\"T_3bf42_row3_col0\" class=\"data row3 col0\" >0.230985</td>\n",
       "      <td id=\"T_3bf42_row3_col1\" class=\"data row3 col1\" >0.230985</td>\n",
       "    </tr>\n",
       "    <tr>\n",
       "      <th id=\"T_3bf42_level0_row4\" class=\"row_heading level0 row4\" >FINANZ_VORSORGER</th>\n",
       "      <td id=\"T_3bf42_row4_col0\" class=\"data row4 col0\" >-0.223019</td>\n",
       "      <td id=\"T_3bf42_row4_col1\" class=\"data row4 col1\" >0.223019</td>\n",
       "    </tr>\n",
       "    <tr>\n",
       "      <th id=\"T_3bf42_level0_row5\" class=\"row_heading level0 row5\" >CJT_TYP_5</th>\n",
       "      <td id=\"T_3bf42_row5_col0\" class=\"data row5 col0\" >-0.219320</td>\n",
       "      <td id=\"T_3bf42_row5_col1\" class=\"data row5 col1\" >0.219320</td>\n",
       "    </tr>\n",
       "    <tr>\n",
       "      <th id=\"T_3bf42_level0_row6\" class=\"row_heading level0 row6\" >ALTERSKATEGORIE_GROB</th>\n",
       "      <td id=\"T_3bf42_row6_col0\" class=\"data row6 col0\" >-0.211331</td>\n",
       "      <td id=\"T_3bf42_row6_col1\" class=\"data row6 col1\" >0.211331</td>\n",
       "    </tr>\n",
       "    <tr>\n",
       "      <th id=\"T_3bf42_level0_row7\" class=\"row_heading level0 row7\" >CJT_TYP_3</th>\n",
       "      <td id=\"T_3bf42_row7_col0\" class=\"data row7 col0\" >-0.210833</td>\n",
       "      <td id=\"T_3bf42_row7_col1\" class=\"data row7 col1\" >0.210833</td>\n",
       "    </tr>\n",
       "    <tr>\n",
       "      <th id=\"T_3bf42_level0_row8\" class=\"row_heading level0 row8\" >CJT_TYP_6</th>\n",
       "      <td id=\"T_3bf42_row8_col0\" class=\"data row8 col0\" >-0.203913</td>\n",
       "      <td id=\"T_3bf42_row8_col1\" class=\"data row8 col1\" >0.203913</td>\n",
       "    </tr>\n",
       "    <tr>\n",
       "      <th id=\"T_3bf42_level0_row9\" class=\"row_heading level0 row9\" >SEMIO_PFLICHT</th>\n",
       "      <td id=\"T_3bf42_row9_col0\" class=\"data row9 col0\" >0.202693</td>\n",
       "      <td id=\"T_3bf42_row9_col1\" class=\"data row9 col1\" >0.202693</td>\n",
       "    </tr>\n",
       "  </tbody>\n",
       "</table>\n"
      ],
      "text/plain": [
       "<pandas.io.formats.style.Styler at 0x2d841a1ba00>"
      ]
     },
     "metadata": {},
     "output_type": "display_data"
    },
    {
     "name": "stdout",
     "output_type": "stream",
     "text": [
      "\n",
      "\n",
      "Top 10 Main features for Component 1:\n"
     ]
    },
    {
     "data": {
      "text/html": [
       "<style type=\"text/css\">\n",
       "#T_05e47_row0_col0 {\n",
       "  background-color: #fff7fb;\n",
       "  color: #000000;\n",
       "}\n",
       "#T_05e47_row1_col0 {\n",
       "  background-color: #023858;\n",
       "  color: #f1f1f1;\n",
       "}\n",
       "#T_05e47_row2_col0 {\n",
       "  background-color: #fef6fa;\n",
       "  color: #000000;\n",
       "}\n",
       "#T_05e47_row3_col0 {\n",
       "  background-color: #023c5f;\n",
       "  color: #f1f1f1;\n",
       "}\n",
       "#T_05e47_row4_col0 {\n",
       "  background-color: #03456c;\n",
       "  color: #f1f1f1;\n",
       "}\n",
       "#T_05e47_row5_col0 {\n",
       "  background-color: #04588a;\n",
       "  color: #f1f1f1;\n",
       "}\n",
       "#T_05e47_row6_col0 {\n",
       "  background-color: #045f95;\n",
       "  color: #f1f1f1;\n",
       "}\n",
       "#T_05e47_row7_col0 {\n",
       "  background-color: #046096;\n",
       "  color: #f1f1f1;\n",
       "}\n",
       "#T_05e47_row8_col0 {\n",
       "  background-color: #046299;\n",
       "  color: #f1f1f1;\n",
       "}\n",
       "#T_05e47_row9_col0 {\n",
       "  background-color: #dedcec;\n",
       "  color: #000000;\n",
       "}\n",
       "</style>\n",
       "<table id=\"T_05e47\">\n",
       "  <thead>\n",
       "    <tr>\n",
       "      <th class=\"blank level0\" >&nbsp;</th>\n",
       "      <th id=\"T_05e47_level0_col0\" class=\"col_heading level0 col0\" >pca_weight</th>\n",
       "      <th id=\"T_05e47_level0_col1\" class=\"col_heading level0 col1\" >abs_pca_weight</th>\n",
       "    </tr>\n",
       "  </thead>\n",
       "  <tbody>\n",
       "    <tr>\n",
       "      <th id=\"T_05e47_level0_row0\" class=\"row_heading level0 row0\" >D19_VERSAND_DATUM</th>\n",
       "      <td id=\"T_05e47_row0_col0\" class=\"data row0 col0\" >-0.300445</td>\n",
       "      <td id=\"T_05e47_row0_col1\" class=\"data row0 col1\" >0.300445</td>\n",
       "    </tr>\n",
       "    <tr>\n",
       "      <th id=\"T_05e47_level0_row1\" class=\"row_heading level0 row1\" >D19_GESAMT_ANZ_12</th>\n",
       "      <td id=\"T_05e47_row1_col0\" class=\"data row1 col0\" >0.295204</td>\n",
       "      <td id=\"T_05e47_row1_col1\" class=\"data row1 col1\" >0.295204</td>\n",
       "    </tr>\n",
       "    <tr>\n",
       "      <th id=\"T_05e47_level0_row2\" class=\"row_heading level0 row2\" >D19_GESAMT_DATUM</th>\n",
       "      <td id=\"T_05e47_row2_col0\" class=\"data row2 col0\" >-0.294172</td>\n",
       "      <td id=\"T_05e47_row2_col1\" class=\"data row2 col1\" >0.294172</td>\n",
       "    </tr>\n",
       "    <tr>\n",
       "      <th id=\"T_05e47_level0_row3\" class=\"row_heading level0 row3\" >D19_VERSAND_ANZ_12</th>\n",
       "      <td id=\"T_05e47_row3_col0\" class=\"data row3 col0\" >0.284418</td>\n",
       "      <td id=\"T_05e47_row3_col1\" class=\"data row3 col1\" >0.284418</td>\n",
       "    </tr>\n",
       "    <tr>\n",
       "      <th id=\"T_05e47_level0_row4\" class=\"row_heading level0 row4\" >ONLINE_AFFINITAET</th>\n",
       "      <td id=\"T_05e47_row4_col0\" class=\"data row4 col0\" >0.266443</td>\n",
       "      <td id=\"T_05e47_row4_col1\" class=\"data row4 col1\" >0.266443</td>\n",
       "    </tr>\n",
       "    <tr>\n",
       "      <th id=\"T_05e47_level0_row5\" class=\"row_heading level0 row5\" >LP_LEBENSPHASE_GROB</th>\n",
       "      <td id=\"T_05e47_row5_col0\" class=\"data row5 col0\" >0.224899</td>\n",
       "      <td id=\"T_05e47_row5_col1\" class=\"data row5 col1\" >0.224899</td>\n",
       "    </tr>\n",
       "    <tr>\n",
       "      <th id=\"T_05e47_level0_row6\" class=\"row_heading level0 row6\" >D19_GESAMT_ONLINE_QUOTE_12</th>\n",
       "      <td id=\"T_05e47_row6_col0\" class=\"data row6 col0\" >0.203568</td>\n",
       "      <td id=\"T_05e47_row6_col1\" class=\"data row6 col1\" >0.203568</td>\n",
       "    </tr>\n",
       "    <tr>\n",
       "      <th id=\"T_05e47_level0_row7\" class=\"row_heading level0 row7\" >CJT_GESAMTTYP_6.0</th>\n",
       "      <td id=\"T_05e47_row7_col0\" class=\"data row7 col0\" >0.201215</td>\n",
       "      <td id=\"T_05e47_row7_col1\" class=\"data row7 col1\" >0.201215</td>\n",
       "    </tr>\n",
       "    <tr>\n",
       "      <th id=\"T_05e47_level0_row8\" class=\"row_heading level0 row8\" >D19_VERSAND_ONLINE_QUOTE_12</th>\n",
       "      <td id=\"T_05e47_row8_col0\" class=\"data row8 col0\" >0.194292</td>\n",
       "      <td id=\"T_05e47_row8_col1\" class=\"data row8 col1\" >0.194292</td>\n",
       "    </tr>\n",
       "    <tr>\n",
       "      <th id=\"T_05e47_level0_row9\" class=\"row_heading level0 row9\" >D19_KONSUMTYP_6.0</th>\n",
       "      <td id=\"T_05e47_row9_col0\" class=\"data row9 col0\" >-0.188178</td>\n",
       "      <td id=\"T_05e47_row9_col1\" class=\"data row9 col1\" >0.188178</td>\n",
       "    </tr>\n",
       "  </tbody>\n",
       "</table>\n"
      ],
      "text/plain": [
       "<pandas.io.formats.style.Styler at 0x2d87db64ca0>"
      ]
     },
     "metadata": {},
     "output_type": "display_data"
    },
    {
     "name": "stdout",
     "output_type": "stream",
     "text": [
      "\n",
      "\n"
     ]
    }
   ],
   "source": [
    "for comp in [0,1]:\n",
    "\n",
    "    print(f'Top 10 Main features for Component {comp}:')\n",
    "    \n",
    "    temp = describe_component(component_id = comp)\n",
    "\n",
    "    display(temp.style.background_gradient(subset = 'pca_weight'))\n",
    "\n",
    "    print(end = '\\n\\n')"
   ]
  },
  {
   "attachments": {},
   "cell_type": "markdown",
   "metadata": {},
   "source": [
    "Component 0:\n",
    "- is heavily centered around Customer Journey definitions. Even within customer journeys, it segments the population.  \n",
    "- Has a strong relationship to \"dutyfull traditional minded\" persons (SEMIO_PFLICHT)\n",
    "- Has a strong relationship to the dominating movement in a persons youth (PRAEGENDE_JUGENDJAHRE)\n",
    "- Focuses on Moneysavers that are not necessairly prepared (FINANZ_SPARER - positive sign and FINANZ_VORSORGER - negative sign)\n",
    "\n",
    "**Component 0 can be understood as a component that describes the general consumption journey of different generations and their financial decisions**\n",
    "\n",
    "Component 1:\n",
    "- Heavily influenced by transaction activity (_DATUM and _ANZ cols)\n",
    "- Considers the person online affinty (ONLINE_AFFINITAET and _QUOTE cols)\n",
    "- Considers the persons life-phase (LP_LEBENSPHASE_GROB)\n",
    "- Focuses on modern consumers (D19_KONSUMTYP_6.0) that are ad enthusiasts byt don't show cross-channel adherence (CJT_GESAMTTYP_6.0)\n",
    "\n",
    "**Component 1 can be seen as a component that quantifies the consumpion patterns especially for modern consumers**"
   ]
  }
 ],
 "metadata": {
  "kernelspec": {
   "display_name": "arvato",
   "language": "python",
   "name": "python3"
  },
  "language_info": {
   "codemirror_mode": {
    "name": "ipython",
    "version": 3
   },
   "file_extension": ".py",
   "mimetype": "text/x-python",
   "name": "python",
   "nbconvert_exporter": "python",
   "pygments_lexer": "ipython3",
   "version": "3.10.9"
  },
  "orig_nbformat": 4,
  "vscode": {
   "interpreter": {
    "hash": "404e1532a79d19b6d50bcd59333a24b8142e74b80b18b64ea31bd32820d8acd4"
   }
  }
 },
 "nbformat": 4,
 "nbformat_minor": 2
}
