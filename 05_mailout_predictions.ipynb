{
 "cells": [
  {
   "cell_type": "code",
   "execution_count": 109,
   "metadata": {},
   "outputs": [],
   "source": [
    "import pandas as pd\n",
    "import numpy as np\n",
    "\n",
    "import seaborn as sns\n",
    "import matplotlib.pyplot as plt\n",
    "import plotly.express as px\n",
    "\n",
    "from sklearn.tree import DecisionTreeClassifier\n",
    "from sklearn.ensemble import RandomForestClassifier\n",
    "from sklearn.model_selection import StratifiedKFold, train_test_split,GridSearchCV, RandomizedSearchCV, cross_validate\n",
    "from sklearn.metrics import roc_auc_score, roc_curve\n",
    "from sklearn.linear_model import LogisticRegression\n",
    "from sklearn.preprocessing import OneHotEncoder, StandardScaler, OrdinalEncoder\n",
    "from sklearn.compose import make_column_transformer\n",
    "from sklearn.pipeline import Pipeline\n",
    "import imblearn\n",
    "from prince import FAMD\n",
    "\n",
    "import pickle\n",
    "\n",
    "from xgboost import XGBClassifier"
   ]
  },
  {
   "cell_type": "code",
   "execution_count": 2,
   "metadata": {},
   "outputs": [],
   "source": [
    "sns.set_style('whitegrid')"
   ]
  },
  {
   "cell_type": "code",
   "execution_count": 3,
   "metadata": {},
   "outputs": [],
   "source": [
    "df_mailout = pd.read_parquet('data/refined/full_mailout_train_data_final.parquet')"
   ]
  },
  {
   "cell_type": "code",
   "execution_count": 4,
   "metadata": {},
   "outputs": [
    {
     "data": {
      "text/plain": [
       "(35007, 303)"
      ]
     },
     "execution_count": 4,
     "metadata": {},
     "output_type": "execute_result"
    }
   ],
   "source": [
    "df_mailout.shape"
   ]
  },
  {
   "attachments": {},
   "cell_type": "markdown",
   "metadata": {},
   "source": [
    "# Response variable"
   ]
  },
  {
   "cell_type": "code",
   "execution_count": 5,
   "metadata": {},
   "outputs": [
    {
     "data": {
      "image/png": "[encoded data removed]",
      "text/plain": [
       "<Figure size 640x480 with 1 Axes>"
      ]
     },
     "metadata": {},
     "output_type": "display_data"
    }
   ],
   "source": [
    "g = sns.countplot(data = df_mailout,\n",
    "                    x = 'RESPONSE')\n",
    "\n",
    "g.bar_label(g.containers[-1])\n",
    "\n",
    "plt.title('Count of Response Variable')\n",
    "\n",
    "plt.ylabel('Count')\n",
    "\n",
    "plt.xlabel('Response Variable')\n",
    "\n",
    "plt.show()"
   ]
  },
  {
   "cell_type": "code",
   "execution_count": 6,
   "metadata": {},
   "outputs": [
    {
     "data": {
      "text/plain": [
       "0    0.987574\n",
       "1    0.012426\n",
       "Name: RESPONSE, dtype: float64"
      ]
     },
     "execution_count": 6,
     "metadata": {},
     "output_type": "execute_result"
    }
   ],
   "source": [
    "df_mailout['RESPONSE'].value_counts(normalize = True)"
   ]
  },
  {
   "attachments": {},
   "cell_type": "markdown",
   "metadata": {},
   "source": [
    "The data is HEAVILY imbalanced. A little more than 1% actually responded to the mailing.  \n",
    "This is not inherently bad. Some methods can be used like up- or downsampling but not necessairly.  \n",
    "Either way, given this hard imbalace, accuracy should not be used since in this context it is a biased metric"
   ]
  },
  {
   "attachments": {},
   "cell_type": "markdown",
   "metadata": {},
   "source": [
    "# Segmenting variable types"
   ]
  },
  {
   "cell_type": "code",
   "execution_count": 7,
   "metadata": {},
   "outputs": [],
   "source": [
    "census_var_types = pd.read_csv('data/trusted/var_type_list.csv')"
   ]
  },
  {
   "cell_type": "code",
   "execution_count": 8,
   "metadata": {},
   "outputs": [
    {
     "data": {
      "text/html": [
       "<div>\n",
       "<style scoped>\n",
       "    .dataframe tbody tr th:only-of-type {\n",
       "        vertical-align: middle;\n",
       "    }\n",
       "\n",
       "    .dataframe tbody tr th {\n",
       "        vertical-align: top;\n",
       "    }\n",
       "\n",
       "    .dataframe thead th {\n",
       "        text-align: right;\n",
       "    }\n",
       "</style>\n",
       "<table border=\"1\" class=\"dataframe\">\n",
       "  <thead>\n",
       "    <tr style=\"text-align: right;\">\n",
       "      <th></th>\n",
       "      <th>Attribute</th>\n",
       "      <th>Type</th>\n",
       "      <th>dtype</th>\n",
       "    </tr>\n",
       "  </thead>\n",
       "  <tbody>\n",
       "    <tr>\n",
       "      <th>0</th>\n",
       "      <td>AGER_TYP</td>\n",
       "      <td>nominal</td>\n",
       "      <td>int</td>\n",
       "    </tr>\n",
       "    <tr>\n",
       "      <th>1</th>\n",
       "      <td>ALTERSKATEGORIE_GROB</td>\n",
       "      <td>interval</td>\n",
       "      <td>int</td>\n",
       "    </tr>\n",
       "    <tr>\n",
       "      <th>2</th>\n",
       "      <td>ALTER_HH</td>\n",
       "      <td>interval</td>\n",
       "      <td>int</td>\n",
       "    </tr>\n",
       "    <tr>\n",
       "      <th>3</th>\n",
       "      <td>ANREDE_KZ</td>\n",
       "      <td>binary</td>\n",
       "      <td>int</td>\n",
       "    </tr>\n",
       "    <tr>\n",
       "      <th>4</th>\n",
       "      <td>ANZ_HAUSHALTE_AKTIV</td>\n",
       "      <td>numeric</td>\n",
       "      <td>float</td>\n",
       "    </tr>\n",
       "  </tbody>\n",
       "</table>\n",
       "</div>"
      ],
      "text/plain": [
       "              Attribute      Type  dtype\n",
       "0              AGER_TYP   nominal    int\n",
       "1  ALTERSKATEGORIE_GROB  interval    int\n",
       "2              ALTER_HH  interval    int\n",
       "3             ANREDE_KZ    binary    int\n",
       "4   ANZ_HAUSHALTE_AKTIV   numeric  float"
      ]
     },
     "execution_count": 8,
     "metadata": {},
     "output_type": "execute_result"
    }
   ],
   "source": [
    "census_var_types.head()"
   ]
  },
  {
   "cell_type": "code",
   "execution_count": 9,
   "metadata": {},
   "outputs": [],
   "source": [
    "binary_vars = census_var_types[census_var_types['Type'] == 'binary']['Attribute'].values\n",
    "\n",
    "binary_vars = np.intersect1d(binary_vars, df_mailout.columns)"
   ]
  },
  {
   "cell_type": "code",
   "execution_count": 10,
   "metadata": {},
   "outputs": [
    {
     "name": "stdout",
     "output_type": "stream",
     "text": [
      "ANREDE_KZ [2 1]\n",
      "ANZ_HH_TITEL [0 1]\n",
      "ANZ_KINDER [0 1]\n",
      "GREEN_AVANTGARDE [0 1]\n",
      "KBA05_SEG6 [0 1]\n",
      "OST_WEST_KZ [1 0]\n",
      "VERS_TYP [2 1]\n"
     ]
    }
   ],
   "source": [
    "for col in binary_vars:\n",
    "    \n",
    "    try:\n",
    "        print(col, df_mailout[col].unique())\n",
    "\n",
    "    except:\n",
    "\n",
    "        print(f'Column not found: {col}')\n",
    "\n",
    "        continue"
   ]
  },
  {
   "cell_type": "code",
   "execution_count": 11,
   "metadata": {},
   "outputs": [],
   "source": [
    "df_mailout['ANREDE_KZ'] = df_mailout['ANREDE_KZ'] - 1\n",
    "\n",
    "df_mailout['VERS_TYP'] = df_mailout['VERS_TYP'] - 1"
   ]
  },
  {
   "cell_type": "code",
   "execution_count": 12,
   "metadata": {},
   "outputs": [],
   "source": [
    "nominal_vars = census_var_types[census_var_types['Type'] == 'nominal']['Attribute'].values\n",
    "\n",
    "nominal_vars = np.intersect1d(nominal_vars, df_mailout.columns)"
   ]
  },
  {
   "cell_type": "code",
   "execution_count": 13,
   "metadata": {},
   "outputs": [],
   "source": [
    "interval_vars = census_var_types[census_var_types['Type'] == 'interval']['Attribute'].values\n",
    "\n",
    "interval_vars = np.intersect1d(interval_vars, df_mailout.columns)"
   ]
  },
  {
   "cell_type": "code",
   "execution_count": 14,
   "metadata": {},
   "outputs": [],
   "source": [
    "binary_vars = census_var_types[census_var_types['Type'] == 'binary']['Attribute'].values\n",
    "\n",
    "binary_vars = np.intersect1d(binary_vars, df_mailout.columns)"
   ]
  },
  {
   "cell_type": "code",
   "execution_count": 15,
   "metadata": {},
   "outputs": [],
   "source": [
    "num_cols = df_mailout.columns.drop(list(nominal_vars) + list(binary_vars) + list(interval_vars) + ['LNR','RESPONSE'])"
   ]
  },
  {
   "cell_type": "code",
   "execution_count": 16,
   "metadata": {},
   "outputs": [],
   "source": [
    "assert (len(nominal_vars) + len(binary_vars) + len(interval_vars) + len(num_cols) + 1) == len(df_mailout.columns.drop('RESPONSE'))"
   ]
  },
  {
   "attachments": {},
   "cell_type": "markdown",
   "metadata": {},
   "source": [
    "# Splitting Data"
   ]
  },
  {
   "cell_type": "code",
   "execution_count": 17,
   "metadata": {},
   "outputs": [],
   "source": [
    "X = df_mailout.drop(columns = ['LNR','RESPONSE']).reset_index(drop = True)\n",
    "\n",
    "y = df_mailout['RESPONSE'].reset_index(drop = True)"
   ]
  },
  {
   "cell_type": "code",
   "execution_count": 18,
   "metadata": {},
   "outputs": [],
   "source": [
    "feature_list = df_mailout.columns.drop(['LNR','RESPONSE'])\n",
    "\n",
    "nominal_vars_pos = [feature_list.get_loc(col) for col in X.columns if col in nominal_vars]\n",
    "\n",
    "interval_vars_pos = [feature_list.get_loc(col) for col in X.columns if col in interval_vars]\n",
    "\n",
    "num_vars_pos = [feature_list.get_loc(col) for col in X.columns if col in num_cols]"
   ]
  },
  {
   "cell_type": "code",
   "execution_count": 19,
   "metadata": {},
   "outputs": [],
   "source": [
    "df_mailout[interval_vars] = df_mailout[interval_vars].astype(int)"
   ]
  },
  {
   "cell_type": "code",
   "execution_count": 42,
   "metadata": {},
   "outputs": [],
   "source": [
    "for col in nominal_vars:\n",
    "\n",
    "    if col == 'D19_LETZTER_KAUF_BRANCHE_RZ':\n",
    "\n",
    "        continue\n",
    "\n",
    "    df_mailout[col] = df_mailout[col].astype(int)"
   ]
  },
  {
   "cell_type": "code",
   "execution_count": 20,
   "metadata": {},
   "outputs": [],
   "source": [
    "X_train, X_test, y_train, y_test = train_test_split(X, y, test_size=0.2,stratify = y,random_state=42)"
   ]
  },
  {
   "cell_type": "code",
   "execution_count": 21,
   "metadata": {},
   "outputs": [
    {
     "data": {
      "text/plain": [
       "0    0.987574\n",
       "1    0.012426\n",
       "Name: RESPONSE, dtype: float64"
      ]
     },
     "execution_count": 21,
     "metadata": {},
     "output_type": "execute_result"
    }
   ],
   "source": [
    "y_train.value_counts(normalize = True)"
   ]
  },
  {
   "cell_type": "code",
   "execution_count": 22,
   "metadata": {},
   "outputs": [
    {
     "data": {
      "text/plain": [
       "0    0.987575\n",
       "1    0.012425\n",
       "Name: RESPONSE, dtype: float64"
      ]
     },
     "execution_count": 22,
     "metadata": {},
     "output_type": "execute_result"
    }
   ],
   "source": [
    "y_test.value_counts(normalize = True)"
   ]
  },
  {
   "attachments": {},
   "cell_type": "markdown",
   "metadata": {},
   "source": [
    "# Testing base models\n",
    "Vanilla models to pick best option for tuning"
   ]
  },
  {
   "cell_type": "code",
   "execution_count": 23,
   "metadata": {},
   "outputs": [],
   "source": [
    "# Models to be tested\n",
    "dt = DecisionTreeClassifier(max_depth=3, class_weight='balanced')\n",
    "\n",
    "rf = RandomForestClassifier(max_depth = 3,class_weight='balanced_subsample',random_state=42, n_jobs=-1)\n",
    "\n",
    "# Instantiating an XGB to match the closest possible characteristics with balanced class_weights\n",
    "xgb = XGBClassifier(scale_pos_weight = 80,\n",
    "                    max_depth = 2,\n",
    "                    eta = 0.1,\n",
    "                    n_jobs = -1,\n",
    "                    random_state = 42,\n",
    "                    objective = 'binary:logistic',\n",
    "                    eval_metric = 'auc' )\n",
    "\n",
    "# Baseline\n",
    "lr = LogisticRegression(n_jobs = -1,class_weight='balanced',random_state=42)"
   ]
  },
  {
   "attachments": {},
   "cell_type": "markdown",
   "metadata": {},
   "source": [
    "Initial models with a few parameters to avoid overfitting.  \n",
    "Comparison Baseline: Logistic Regression"
   ]
  },
  {
   "cell_type": "code",
   "execution_count": 24,
   "metadata": {},
   "outputs": [],
   "source": [
    "transformer_no_ohe_interval = make_column_transformer(\n",
    "                                                        (StandardScaler(), list(interval_vars) + list(num_cols)),\n",
    "                                                        (OneHotEncoder(),sorted(nominal_vars_pos)),\n",
    "                                                        remainder = 'passthrough'\n",
    "                                                        )\n",
    "\n",
    "transformer_ohe_interval = make_column_transformer(\n",
    "                                                    (StandardScaler(), num_vars_pos),\n",
    "                                                    (OneHotEncoder(handle_unknown = 'ignore'), sorted(nominal_vars_pos + interval_vars_pos)), #  Using LE for imblearn purposes\n",
    "                                                    remainder = 'passthrough'\n",
    "                                                    )"
   ]
  },
  {
   "cell_type": "code",
   "execution_count": 25,
   "metadata": {},
   "outputs": [],
   "source": [
    "# Models to be tested\n",
    "pipe_dt = Pipeline([('scaler_ohe',transformer_no_ohe_interval),('DT',dt)])\n",
    "\n",
    "pipe_rf = Pipeline([('scaler_ohe',transformer_no_ohe_interval),('RF',rf)])\n",
    "\n",
    "# Instantiating an XGB to match the closest possible characteristics with balanced class_weights\n",
    "pipe_xgb = Pipeline([('scaler_ohe',transformer_no_ohe_interval),('XGB',xgb)])\n",
    "\n",
    "pipe_lr = Pipeline([('scaler_ohe',transformer_no_ohe_interval),('LR',lr)])"
   ]
  },
  {
   "cell_type": "code",
   "execution_count": 26,
   "metadata": {},
   "outputs": [],
   "source": [
    "models_dict = {'Decision Tree':pipe_dt, 'Random Forest':pipe_rf,'XGBoost':pipe_xgb, 'LogisticRegression':pipe_lr}"
   ]
  },
  {
   "cell_type": "code",
   "execution_count": 27,
   "metadata": {},
   "outputs": [],
   "source": [
    "skfold = StratifiedKFold(n_splits = 5)"
   ]
  },
  {
   "cell_type": "code",
   "execution_count": 28,
   "metadata": {},
   "outputs": [],
   "source": [
    "def evaluate_models(X,y,dict_models,cv):\n",
    "\n",
    "    for i, (name, model) in enumerate(dict_models.items()):\n",
    "\n",
    "        scores = cross_validate(model, X, y, cv=cv, scoring='roc_auc', n_jobs= -1, verbose = 1, return_train_score=True)\n",
    "\n",
    "        scores['model'] = name\n",
    "\n",
    "        if i == 0:\n",
    "\n",
    "            records = [scores]\n",
    "\n",
    "        else:\n",
    "\n",
    "            records.append(scores)\n",
    "\n",
    "    for i, r in enumerate(records):\n",
    "\n",
    "        temp = pd.DataFrame.from_dict(r)\n",
    "\n",
    "        if i == 0:\n",
    "\n",
    "            results_df = temp\n",
    "        \n",
    "        else:\n",
    "\n",
    "            results_df = pd.concat([results_df, temp])\n",
    "        \n",
    "    results_df.reset_index(inplace = True)\n",
    "\n",
    "    results_df.rename(columns = {'index':'Fold'}, inplace = True)\n",
    "\n",
    "    return results_df"
   ]
  },
  {
   "attachments": {},
   "cell_type": "markdown",
   "metadata": {},
   "source": [
    "## Testing interval vars w/o OHE"
   ]
  },
  {
   "cell_type": "code",
   "execution_count": 29,
   "metadata": {},
   "outputs": [
    {
     "name": "stderr",
     "output_type": "stream",
     "text": [
      "[Parallel(n_jobs=-1)]: Using backend LokyBackend with 8 concurrent workers.\n",
      "[Parallel(n_jobs=-1)]: Done   2 out of   5 | elapsed:    9.5s remaining:   14.3s\n",
      "[Parallel(n_jobs=-1)]: Done   5 out of   5 | elapsed:    9.6s finished\n",
      "[Parallel(n_jobs=-1)]: Using backend LokyBackend with 8 concurrent workers.\n",
      "[Parallel(n_jobs=-1)]: Done   2 out of   5 | elapsed:    6.8s remaining:   10.2s\n",
      "[Parallel(n_jobs=-1)]: Done   5 out of   5 | elapsed:   13.6s finished\n",
      "[Parallel(n_jobs=-1)]: Using backend LokyBackend with 8 concurrent workers.\n",
      "[Parallel(n_jobs=-1)]: Done   2 out of   5 | elapsed:   19.8s remaining:   29.7s\n",
      "[Parallel(n_jobs=-1)]: Done   5 out of   5 | elapsed:   20.1s finished\n",
      "[Parallel(n_jobs=-1)]: Using backend LokyBackend with 8 concurrent workers.\n",
      "[Parallel(n_jobs=-1)]: Done   2 out of   5 | elapsed:    7.2s remaining:   10.9s\n",
      "[Parallel(n_jobs=-1)]: Done   5 out of   5 | elapsed:    7.3s finished\n"
     ]
    }
   ],
   "source": [
    "results_df = evaluate_models(X_train, y_train, dict_models = models_dict, cv = skfold)"
   ]
  },
  {
   "cell_type": "code",
   "execution_count": 30,
   "metadata": {},
   "outputs": [
    {
     "data": {
      "image/png": "[encoded data removed]",
      "text/plain": [
       "<Figure size 1500x500 with 2 Axes>"
      ]
     },
     "metadata": {},
     "output_type": "display_data"
    }
   ],
   "source": [
    "fig, ax = plt.subplots(1,2,figsize = (15,5), sharey=True)\n",
    "\n",
    "sns.barplot(data = results_df,\n",
    "                    x = 'Fold',\n",
    "                    y = 'train_score',\n",
    "                    hue = 'model',\n",
    "                    ax = ax[0])\n",
    "\n",
    "sns.barplot(data = results_df,\n",
    "                    x = 'Fold',\n",
    "                    y = 'test_score',\n",
    "                    hue = 'model',\n",
    "                    ax = ax[1])\n",
    "\n",
    "ax[0].set_ylabel('ROC-AUC Score')\n",
    "\n",
    "ax[0].get_legend().remove()\n",
    "\n",
    "ax[0].set_title('Train data')\n",
    "\n",
    "ax[1].set_title('Test data')\n",
    "\n",
    "ax[1].legend(title = 'Model',bbox_to_anchor = (1.01,1), loc = 'upper left')\n",
    "\n",
    "ax[1].set_ylabel('')\n",
    "\n",
    "for a in ax:\n",
    "\n",
    "    a.set_xlabel('Fold')\n",
    "\n",
    "plt.suptitle('Model Performance (ROC-AUC) Over K = 5 Folds for training data')\n",
    "\n",
    "plt.show()"
   ]
  },
  {
   "cell_type": "code",
   "execution_count": 31,
   "metadata": {},
   "outputs": [
    {
     "data": {
      "text/html": [
       "<div>\n",
       "<style scoped>\n",
       "    .dataframe tbody tr th:only-of-type {\n",
       "        vertical-align: middle;\n",
       "    }\n",
       "\n",
       "    .dataframe tbody tr th {\n",
       "        vertical-align: top;\n",
       "    }\n",
       "\n",
       "    .dataframe thead th {\n",
       "        text-align: right;\n",
       "    }\n",
       "</style>\n",
       "<table border=\"1\" class=\"dataframe\">\n",
       "  <thead>\n",
       "    <tr style=\"text-align: right;\">\n",
       "      <th></th>\n",
       "      <th>test_score</th>\n",
       "      <th>train_score</th>\n",
       "    </tr>\n",
       "    <tr>\n",
       "      <th>model</th>\n",
       "      <th></th>\n",
       "      <th></th>\n",
       "    </tr>\n",
       "  </thead>\n",
       "  <tbody>\n",
       "    <tr>\n",
       "      <th>Decision Tree</th>\n",
       "      <td>0.700377</td>\n",
       "      <td>0.738477</td>\n",
       "    </tr>\n",
       "    <tr>\n",
       "      <th>LogisticRegression</th>\n",
       "      <td>0.637067</td>\n",
       "      <td>0.889336</td>\n",
       "    </tr>\n",
       "    <tr>\n",
       "      <th>Random Forest</th>\n",
       "      <td>0.691386</td>\n",
       "      <td>0.838235</td>\n",
       "    </tr>\n",
       "    <tr>\n",
       "      <th>XGBoost</th>\n",
       "      <td>0.728122</td>\n",
       "      <td>0.903537</td>\n",
       "    </tr>\n",
       "  </tbody>\n",
       "</table>\n",
       "</div>"
      ],
      "text/plain": [
       "                    test_score  train_score\n",
       "model                                      \n",
       "Decision Tree         0.700377     0.738477\n",
       "LogisticRegression    0.637067     0.889336\n",
       "Random Forest         0.691386     0.838235\n",
       "XGBoost               0.728122     0.903537"
      ]
     },
     "execution_count": 31,
     "metadata": {},
     "output_type": "execute_result"
    }
   ],
   "source": [
    "results_df.groupby('model')[['test_score','train_score']].mean()"
   ]
  },
  {
   "attachments": {},
   "cell_type": "markdown",
   "metadata": {},
   "source": [
    "Due to the difference between train and test set performance, the models seem to overfit on training data.  \n",
    "This is somewhat expected, since there is a heavy unbalance in data."
   ]
  },
  {
   "attachments": {},
   "cell_type": "markdown",
   "metadata": {},
   "source": [
    "## Testing interval vars w/ OHE"
   ]
  },
  {
   "cell_type": "code",
   "execution_count": 32,
   "metadata": {},
   "outputs": [],
   "source": [
    "# Models to be tested\n",
    "pipe_dt_ohe_int = Pipeline([('scaler_ohe',transformer_ohe_interval),('DT',dt)])\n",
    "\n",
    "pipe_rf_ohe_int = Pipeline([('scaler_ohe',transformer_ohe_interval),('RF',rf)])\n",
    "\n",
    "# Instantiating an XGB to match the closest possible characteristics with balanced class_weights\n",
    "pipe_xgb_ohe_int = Pipeline([('scaler_ohe',transformer_ohe_interval),('XGB',xgb)])\n",
    "\n",
    "pipe_lr_ohe_int = Pipeline([('scaler_ohe',transformer_ohe_interval),('LR',lr)])"
   ]
  },
  {
   "cell_type": "code",
   "execution_count": 33,
   "metadata": {},
   "outputs": [],
   "source": [
    "models_dict_ohe_interval = {'Decision Tree':pipe_dt_ohe_int,\n",
    "                            'Random Forest':pipe_rf_ohe_int,\n",
    "                            'XGBoost':pipe_xgb_ohe_int,\n",
    "                            'LogisticRegression':pipe_lr_ohe_int}"
   ]
  },
  {
   "cell_type": "code",
   "execution_count": 34,
   "metadata": {},
   "outputs": [
    {
     "name": "stderr",
     "output_type": "stream",
     "text": [
      "[Parallel(n_jobs=-1)]: Using backend LokyBackend with 8 concurrent workers.\n"
     ]
    },
    {
     "name": "stderr",
     "output_type": "stream",
     "text": [
      "[Parallel(n_jobs=-1)]: Done   2 out of   5 | elapsed:    5.1s remaining:    7.7s\n",
      "[Parallel(n_jobs=-1)]: Done   5 out of   5 | elapsed:    5.1s finished\n",
      "[Parallel(n_jobs=-1)]: Using backend LokyBackend with 8 concurrent workers.\n",
      "[Parallel(n_jobs=-1)]: Done   2 out of   5 | elapsed:    9.4s remaining:   14.1s\n",
      "[Parallel(n_jobs=-1)]: Done   5 out of   5 | elapsed:   10.1s finished\n",
      "[Parallel(n_jobs=-1)]: Using backend LokyBackend with 8 concurrent workers.\n",
      "[Parallel(n_jobs=-1)]: Done   2 out of   5 | elapsed:   18.5s remaining:   27.7s\n",
      "[Parallel(n_jobs=-1)]: Done   5 out of   5 | elapsed:   18.7s finished\n",
      "[Parallel(n_jobs=-1)]: Using backend LokyBackend with 8 concurrent workers.\n",
      "[Parallel(n_jobs=-1)]: Done   2 out of   5 | elapsed:   10.2s remaining:   15.4s\n",
      "[Parallel(n_jobs=-1)]: Done   5 out of   5 | elapsed:   10.4s finished\n"
     ]
    }
   ],
   "source": [
    "results_df = evaluate_models(X_train, y_train, dict_models = models_dict_ohe_interval, cv = skfold)"
   ]
  },
  {
   "cell_type": "code",
   "execution_count": 35,
   "metadata": {},
   "outputs": [
    {
     "data": {
      "image/png": "[encoded data removed]",
      "text/plain": [
       "<Figure size 1500x500 with 2 Axes>"
      ]
     },
     "metadata": {},
     "output_type": "display_data"
    }
   ],
   "source": [
    "fig, ax = plt.subplots(1,2,figsize = (15,5), sharey=True)\n",
    "\n",
    "sns.barplot(data = results_df,\n",
    "                    x = 'Fold',\n",
    "                    y = 'train_score',\n",
    "                    hue = 'model',\n",
    "                    ax = ax[0])\n",
    "\n",
    "sns.barplot(data = results_df,\n",
    "                    x = 'Fold',\n",
    "                    y = 'test_score',\n",
    "                    hue = 'model',\n",
    "                    ax = ax[1])\n",
    "\n",
    "ax[0].set_ylabel('ROC-AUC Score')\n",
    "\n",
    "ax[0].get_legend().remove()\n",
    "\n",
    "ax[0].set_title('Train data')\n",
    "\n",
    "ax[1].set_title('Test data')\n",
    "\n",
    "ax[1].legend(title = 'Model',bbox_to_anchor = (1.01,1), loc = 'upper left')\n",
    "\n",
    "ax[1].set_ylabel('')\n",
    "\n",
    "for a in ax:\n",
    "\n",
    "    a.set_xlabel('Fold')\n",
    "\n",
    "plt.suptitle('Model Performance (ROC-AUC) Over K = 5 Folds for training data')\n",
    "\n",
    "plt.show()"
   ]
  },
  {
   "cell_type": "code",
   "execution_count": 36,
   "metadata": {},
   "outputs": [
    {
     "data": {
      "text/html": [
       "<div>\n",
       "<style scoped>\n",
       "    .dataframe tbody tr th:only-of-type {\n",
       "        vertical-align: middle;\n",
       "    }\n",
       "\n",
       "    .dataframe tbody tr th {\n",
       "        vertical-align: top;\n",
       "    }\n",
       "\n",
       "    .dataframe thead th {\n",
       "        text-align: right;\n",
       "    }\n",
       "</style>\n",
       "<table border=\"1\" class=\"dataframe\">\n",
       "  <thead>\n",
       "    <tr style=\"text-align: right;\">\n",
       "      <th></th>\n",
       "      <th>test_score</th>\n",
       "      <th>train_score</th>\n",
       "    </tr>\n",
       "    <tr>\n",
       "      <th>model</th>\n",
       "      <th></th>\n",
       "      <th></th>\n",
       "    </tr>\n",
       "  </thead>\n",
       "  <tbody>\n",
       "    <tr>\n",
       "      <th>Decision Tree</th>\n",
       "      <td>0.701264</td>\n",
       "      <td>0.763959</td>\n",
       "    </tr>\n",
       "    <tr>\n",
       "      <th>LogisticRegression</th>\n",
       "      <td>0.645299</td>\n",
       "      <td>0.989073</td>\n",
       "    </tr>\n",
       "    <tr>\n",
       "      <th>Random Forest</th>\n",
       "      <td>0.724597</td>\n",
       "      <td>0.845105</td>\n",
       "    </tr>\n",
       "    <tr>\n",
       "      <th>XGBoost</th>\n",
       "      <td>0.733472</td>\n",
       "      <td>0.900662</td>\n",
       "    </tr>\n",
       "  </tbody>\n",
       "</table>\n",
       "</div>"
      ],
      "text/plain": [
       "                    test_score  train_score\n",
       "model                                      \n",
       "Decision Tree         0.701264     0.763959\n",
       "LogisticRegression    0.645299     0.989073\n",
       "Random Forest         0.724597     0.845105\n",
       "XGBoost               0.733472     0.900662"
      ]
     },
     "execution_count": 36,
     "metadata": {},
     "output_type": "execute_result"
    }
   ],
   "source": [
    "results_df.groupby('model')[['test_score','train_score']].mean()"
   ]
  },
  {
   "attachments": {},
   "cell_type": "markdown",
   "metadata": {},
   "source": [
    "# Testing models with dimensionality reduction\n",
    "Taking input from clustering notebook"
   ]
  },
  {
   "cell_type": "code",
   "execution_count": 37,
   "metadata": {},
   "outputs": [
    {
     "name": "stderr",
     "output_type": "stream",
     "text": [
      "c:\\Users\\Lucca\\anaconda3\\envs\\arvato\\lib\\site-packages\\prince\\famd.py:84: PerformanceWarning: DataFrame is highly fragmented.  This is usually the result of calling `frame.insert` many times, which has poor performance.  Consider joining all columns at once using pd.concat(axis=1) instead. To get a de-fragmented frame, use `newframe = frame.copy()`\n",
      "  eta2[col] = (\n",
      "c:\\Users\\Lucca\\anaconda3\\envs\\arvato\\lib\\site-packages\\prince\\famd.py:84: PerformanceWarning: DataFrame is highly fragmented.  This is usually the result of calling `frame.insert` many times, which has poor performance.  Consider joining all columns at once using pd.concat(axis=1) instead. To get a de-fragmented frame, use `newframe = frame.copy()`\n",
      "  eta2[col] = (\n",
      "c:\\Users\\Lucca\\anaconda3\\envs\\arvato\\lib\\site-packages\\prince\\famd.py:84: PerformanceWarning: DataFrame is highly fragmented.  This is usually the result of calling `frame.insert` many times, which has poor performance.  Consider joining all columns at once using pd.concat(axis=1) instead. To get a de-fragmented frame, use `newframe = frame.copy()`\n",
      "  eta2[col] = (\n",
      "c:\\Users\\Lucca\\anaconda3\\envs\\arvato\\lib\\site-packages\\prince\\famd.py:84: PerformanceWarning: DataFrame is highly fragmented.  This is usually the result of calling `frame.insert` many times, which has poor performance.  Consider joining all columns at once using pd.concat(axis=1) instead. To get a de-fragmented frame, use `newframe = frame.copy()`\n",
      "  eta2[col] = (\n",
      "c:\\Users\\Lucca\\anaconda3\\envs\\arvato\\lib\\site-packages\\prince\\famd.py:84: PerformanceWarning: DataFrame is highly fragmented.  This is usually the result of calling `frame.insert` many times, which has poor performance.  Consider joining all columns at once using pd.concat(axis=1) instead. To get a de-fragmented frame, use `newframe = frame.copy()`\n",
      "  eta2[col] = (\n",
      "c:\\Users\\Lucca\\anaconda3\\envs\\arvato\\lib\\site-packages\\prince\\famd.py:84: PerformanceWarning: DataFrame is highly fragmented.  This is usually the result of calling `frame.insert` many times, which has poor performance.  Consider joining all columns at once using pd.concat(axis=1) instead. To get a de-fragmented frame, use `newframe = frame.copy()`\n",
      "  eta2[col] = (\n",
      "c:\\Users\\Lucca\\anaconda3\\envs\\arvato\\lib\\site-packages\\prince\\famd.py:84: PerformanceWarning: DataFrame is highly fragmented.  This is usually the result of calling `frame.insert` many times, which has poor performance.  Consider joining all columns at once using pd.concat(axis=1) instead. To get a de-fragmented frame, use `newframe = frame.copy()`\n",
      "  eta2[col] = (\n",
      "c:\\Users\\Lucca\\anaconda3\\envs\\arvato\\lib\\site-packages\\prince\\famd.py:84: PerformanceWarning: DataFrame is highly fragmented.  This is usually the result of calling `frame.insert` many times, which has poor performance.  Consider joining all columns at once using pd.concat(axis=1) instead. To get a de-fragmented frame, use `newframe = frame.copy()`\n",
      "  eta2[col] = (\n",
      "c:\\Users\\Lucca\\anaconda3\\envs\\arvato\\lib\\site-packages\\prince\\famd.py:84: PerformanceWarning: DataFrame is highly fragmented.  This is usually the result of calling `frame.insert` many times, which has poor performance.  Consider joining all columns at once using pd.concat(axis=1) instead. To get a de-fragmented frame, use `newframe = frame.copy()`\n",
      "  eta2[col] = (\n",
      "c:\\Users\\Lucca\\anaconda3\\envs\\arvato\\lib\\site-packages\\prince\\famd.py:84: PerformanceWarning: DataFrame is highly fragmented.  This is usually the result of calling `frame.insert` many times, which has poor performance.  Consider joining all columns at once using pd.concat(axis=1) instead. To get a de-fragmented frame, use `newframe = frame.copy()`\n",
      "  eta2[col] = (\n",
      "c:\\Users\\Lucca\\anaconda3\\envs\\arvato\\lib\\site-packages\\prince\\famd.py:84: PerformanceWarning: DataFrame is highly fragmented.  This is usually the result of calling `frame.insert` many times, which has poor performance.  Consider joining all columns at once using pd.concat(axis=1) instead. To get a de-fragmented frame, use `newframe = frame.copy()`\n",
      "  eta2[col] = (\n",
      "c:\\Users\\Lucca\\anaconda3\\envs\\arvato\\lib\\site-packages\\prince\\famd.py:84: PerformanceWarning: DataFrame is highly fragmented.  This is usually the result of calling `frame.insert` many times, which has poor performance.  Consider joining all columns at once using pd.concat(axis=1) instead. To get a de-fragmented frame, use `newframe = frame.copy()`\n",
      "  eta2[col] = (\n",
      "c:\\Users\\Lucca\\anaconda3\\envs\\arvato\\lib\\site-packages\\prince\\famd.py:84: PerformanceWarning: DataFrame is highly fragmented.  This is usually the result of calling `frame.insert` many times, which has poor performance.  Consider joining all columns at once using pd.concat(axis=1) instead. To get a de-fragmented frame, use `newframe = frame.copy()`\n",
      "  eta2[col] = (\n",
      "c:\\Users\\Lucca\\anaconda3\\envs\\arvato\\lib\\site-packages\\prince\\famd.py:84: PerformanceWarning: DataFrame is highly fragmented.  This is usually the result of calling `frame.insert` many times, which has poor performance.  Consider joining all columns at once using pd.concat(axis=1) instead. To get a de-fragmented frame, use `newframe = frame.copy()`\n",
      "  eta2[col] = (\n",
      "c:\\Users\\Lucca\\anaconda3\\envs\\arvato\\lib\\site-packages\\prince\\famd.py:84: PerformanceWarning: DataFrame is highly fragmented.  This is usually the result of calling `frame.insert` many times, which has poor performance.  Consider joining all columns at once using pd.concat(axis=1) instead. To get a de-fragmented frame, use `newframe = frame.copy()`\n",
      "  eta2[col] = (\n",
      "c:\\Users\\Lucca\\anaconda3\\envs\\arvato\\lib\\site-packages\\prince\\famd.py:84: PerformanceWarning: DataFrame is highly fragmented.  This is usually the result of calling `frame.insert` many times, which has poor performance.  Consider joining all columns at once using pd.concat(axis=1) instead. To get a de-fragmented frame, use `newframe = frame.copy()`\n",
      "  eta2[col] = (\n",
      "c:\\Users\\Lucca\\anaconda3\\envs\\arvato\\lib\\site-packages\\prince\\famd.py:84: PerformanceWarning: DataFrame is highly fragmented.  This is usually the result of calling `frame.insert` many times, which has poor performance.  Consider joining all columns at once using pd.concat(axis=1) instead. To get a de-fragmented frame, use `newframe = frame.copy()`\n",
      "  eta2[col] = (\n",
      "c:\\Users\\Lucca\\anaconda3\\envs\\arvato\\lib\\site-packages\\prince\\famd.py:84: PerformanceWarning: DataFrame is highly fragmented.  This is usually the result of calling `frame.insert` many times, which has poor performance.  Consider joining all columns at once using pd.concat(axis=1) instead. To get a de-fragmented frame, use `newframe = frame.copy()`\n",
      "  eta2[col] = (\n",
      "c:\\Users\\Lucca\\anaconda3\\envs\\arvato\\lib\\site-packages\\prince\\famd.py:84: PerformanceWarning: DataFrame is highly fragmented.  This is usually the result of calling `frame.insert` many times, which has poor performance.  Consider joining all columns at once using pd.concat(axis=1) instead. To get a de-fragmented frame, use `newframe = frame.copy()`\n",
      "  eta2[col] = (\n",
      "c:\\Users\\Lucca\\anaconda3\\envs\\arvato\\lib\\site-packages\\prince\\famd.py:84: PerformanceWarning: DataFrame is highly fragmented.  This is usually the result of calling `frame.insert` many times, which has poor performance.  Consider joining all columns at once using pd.concat(axis=1) instead. To get a de-fragmented frame, use `newframe = frame.copy()`\n",
      "  eta2[col] = (\n",
      "c:\\Users\\Lucca\\anaconda3\\envs\\arvato\\lib\\site-packages\\prince\\famd.py:84: PerformanceWarning: DataFrame is highly fragmented.  This is usually the result of calling `frame.insert` many times, which has poor performance.  Consider joining all columns at once using pd.concat(axis=1) instead. To get a de-fragmented frame, use `newframe = frame.copy()`\n",
      "  eta2[col] = (\n",
      "c:\\Users\\Lucca\\anaconda3\\envs\\arvato\\lib\\site-packages\\prince\\famd.py:84: PerformanceWarning: DataFrame is highly fragmented.  This is usually the result of calling `frame.insert` many times, which has poor performance.  Consider joining all columns at once using pd.concat(axis=1) instead. To get a de-fragmented frame, use `newframe = frame.copy()`\n",
      "  eta2[col] = (\n",
      "c:\\Users\\Lucca\\anaconda3\\envs\\arvato\\lib\\site-packages\\prince\\famd.py:84: PerformanceWarning: DataFrame is highly fragmented.  This is usually the result of calling `frame.insert` many times, which has poor performance.  Consider joining all columns at once using pd.concat(axis=1) instead. To get a de-fragmented frame, use `newframe = frame.copy()`\n",
      "  eta2[col] = (\n",
      "c:\\Users\\Lucca\\anaconda3\\envs\\arvato\\lib\\site-packages\\prince\\famd.py:84: PerformanceWarning: DataFrame is highly fragmented.  This is usually the result of calling `frame.insert` many times, which has poor performance.  Consider joining all columns at once using pd.concat(axis=1) instead. To get a de-fragmented frame, use `newframe = frame.copy()`\n",
      "  eta2[col] = (\n",
      "c:\\Users\\Lucca\\anaconda3\\envs\\arvato\\lib\\site-packages\\prince\\famd.py:84: PerformanceWarning: DataFrame is highly fragmented.  This is usually the result of calling `frame.insert` many times, which has poor performance.  Consider joining all columns at once using pd.concat(axis=1) instead. To get a de-fragmented frame, use `newframe = frame.copy()`\n",
      "  eta2[col] = (\n",
      "c:\\Users\\Lucca\\anaconda3\\envs\\arvato\\lib\\site-packages\\prince\\famd.py:84: PerformanceWarning: DataFrame is highly fragmented.  This is usually the result of calling `frame.insert` many times, which has poor performance.  Consider joining all columns at once using pd.concat(axis=1) instead. To get a de-fragmented frame, use `newframe = frame.copy()`\n",
      "  eta2[col] = (\n",
      "c:\\Users\\Lucca\\anaconda3\\envs\\arvato\\lib\\site-packages\\prince\\famd.py:84: PerformanceWarning: DataFrame is highly fragmented.  This is usually the result of calling `frame.insert` many times, which has poor performance.  Consider joining all columns at once using pd.concat(axis=1) instead. To get a de-fragmented frame, use `newframe = frame.copy()`\n",
      "  eta2[col] = (\n",
      "c:\\Users\\Lucca\\anaconda3\\envs\\arvato\\lib\\site-packages\\prince\\famd.py:84: PerformanceWarning: DataFrame is highly fragmented.  This is usually the result of calling `frame.insert` many times, which has poor performance.  Consider joining all columns at once using pd.concat(axis=1) instead. To get a de-fragmented frame, use `newframe = frame.copy()`\n",
      "  eta2[col] = (\n",
      "c:\\Users\\Lucca\\anaconda3\\envs\\arvato\\lib\\site-packages\\prince\\famd.py:84: PerformanceWarning: DataFrame is highly fragmented.  This is usually the result of calling `frame.insert` many times, which has poor performance.  Consider joining all columns at once using pd.concat(axis=1) instead. To get a de-fragmented frame, use `newframe = frame.copy()`\n",
      "  eta2[col] = (\n",
      "c:\\Users\\Lucca\\anaconda3\\envs\\arvato\\lib\\site-packages\\prince\\famd.py:84: PerformanceWarning: DataFrame is highly fragmented.  This is usually the result of calling `frame.insert` many times, which has poor performance.  Consider joining all columns at once using pd.concat(axis=1) instead. To get a de-fragmented frame, use `newframe = frame.copy()`\n",
      "  eta2[col] = (\n",
      "c:\\Users\\Lucca\\anaconda3\\envs\\arvato\\lib\\site-packages\\prince\\famd.py:84: PerformanceWarning: DataFrame is highly fragmented.  This is usually the result of calling `frame.insert` many times, which has poor performance.  Consider joining all columns at once using pd.concat(axis=1) instead. To get a de-fragmented frame, use `newframe = frame.copy()`\n",
      "  eta2[col] = (\n",
      "c:\\Users\\Lucca\\anaconda3\\envs\\arvato\\lib\\site-packages\\prince\\famd.py:84: PerformanceWarning: DataFrame is highly fragmented.  This is usually the result of calling `frame.insert` many times, which has poor performance.  Consider joining all columns at once using pd.concat(axis=1) instead. To get a de-fragmented frame, use `newframe = frame.copy()`\n",
      "  eta2[col] = (\n",
      "c:\\Users\\Lucca\\anaconda3\\envs\\arvato\\lib\\site-packages\\prince\\famd.py:84: PerformanceWarning: DataFrame is highly fragmented.  This is usually the result of calling `frame.insert` many times, which has poor performance.  Consider joining all columns at once using pd.concat(axis=1) instead. To get a de-fragmented frame, use `newframe = frame.copy()`\n",
      "  eta2[col] = (\n",
      "c:\\Users\\Lucca\\anaconda3\\envs\\arvato\\lib\\site-packages\\prince\\famd.py:84: PerformanceWarning: DataFrame is highly fragmented.  This is usually the result of calling `frame.insert` many times, which has poor performance.  Consider joining all columns at once using pd.concat(axis=1) instead. To get a de-fragmented frame, use `newframe = frame.copy()`\n",
      "  eta2[col] = (\n",
      "c:\\Users\\Lucca\\anaconda3\\envs\\arvato\\lib\\site-packages\\prince\\famd.py:84: PerformanceWarning: DataFrame is highly fragmented.  This is usually the result of calling `frame.insert` many times, which has poor performance.  Consider joining all columns at once using pd.concat(axis=1) instead. To get a de-fragmented frame, use `newframe = frame.copy()`\n",
      "  eta2[col] = (\n",
      "c:\\Users\\Lucca\\anaconda3\\envs\\arvato\\lib\\site-packages\\prince\\famd.py:84: PerformanceWarning: DataFrame is highly fragmented.  This is usually the result of calling `frame.insert` many times, which has poor performance.  Consider joining all columns at once using pd.concat(axis=1) instead. To get a de-fragmented frame, use `newframe = frame.copy()`\n",
      "  eta2[col] = (\n",
      "c:\\Users\\Lucca\\anaconda3\\envs\\arvato\\lib\\site-packages\\prince\\famd.py:84: PerformanceWarning: DataFrame is highly fragmented.  This is usually the result of calling `frame.insert` many times, which has poor performance.  Consider joining all columns at once using pd.concat(axis=1) instead. To get a de-fragmented frame, use `newframe = frame.copy()`\n",
      "  eta2[col] = (\n",
      "c:\\Users\\Lucca\\anaconda3\\envs\\arvato\\lib\\site-packages\\prince\\famd.py:84: PerformanceWarning: DataFrame is highly fragmented.  This is usually the result of calling `frame.insert` many times, which has poor performance.  Consider joining all columns at once using pd.concat(axis=1) instead. To get a de-fragmented frame, use `newframe = frame.copy()`\n",
      "  eta2[col] = (\n",
      "c:\\Users\\Lucca\\anaconda3\\envs\\arvato\\lib\\site-packages\\prince\\famd.py:84: PerformanceWarning: DataFrame is highly fragmented.  This is usually the result of calling `frame.insert` many times, which has poor performance.  Consider joining all columns at once using pd.concat(axis=1) instead. To get a de-fragmented frame, use `newframe = frame.copy()`\n",
      "  eta2[col] = (\n",
      "c:\\Users\\Lucca\\anaconda3\\envs\\arvato\\lib\\site-packages\\prince\\famd.py:84: PerformanceWarning: DataFrame is highly fragmented.  This is usually the result of calling `frame.insert` many times, which has poor performance.  Consider joining all columns at once using pd.concat(axis=1) instead. To get a de-fragmented frame, use `newframe = frame.copy()`\n",
      "  eta2[col] = (\n",
      "c:\\Users\\Lucca\\anaconda3\\envs\\arvato\\lib\\site-packages\\prince\\famd.py:84: PerformanceWarning: DataFrame is highly fragmented.  This is usually the result of calling `frame.insert` many times, which has poor performance.  Consider joining all columns at once using pd.concat(axis=1) instead. To get a de-fragmented frame, use `newframe = frame.copy()`\n",
      "  eta2[col] = (\n",
      "c:\\Users\\Lucca\\anaconda3\\envs\\arvato\\lib\\site-packages\\prince\\famd.py:84: PerformanceWarning: DataFrame is highly fragmented.  This is usually the result of calling `frame.insert` many times, which has poor performance.  Consider joining all columns at once using pd.concat(axis=1) instead. To get a de-fragmented frame, use `newframe = frame.copy()`\n",
      "  eta2[col] = (\n",
      "c:\\Users\\Lucca\\anaconda3\\envs\\arvato\\lib\\site-packages\\prince\\famd.py:84: PerformanceWarning: DataFrame is highly fragmented.  This is usually the result of calling `frame.insert` many times, which has poor performance.  Consider joining all columns at once using pd.concat(axis=1) instead. To get a de-fragmented frame, use `newframe = frame.copy()`\n",
      "  eta2[col] = (\n",
      "c:\\Users\\Lucca\\anaconda3\\envs\\arvato\\lib\\site-packages\\prince\\famd.py:84: PerformanceWarning: DataFrame is highly fragmented.  This is usually the result of calling `frame.insert` many times, which has poor performance.  Consider joining all columns at once using pd.concat(axis=1) instead. To get a de-fragmented frame, use `newframe = frame.copy()`\n",
      "  eta2[col] = (\n",
      "c:\\Users\\Lucca\\anaconda3\\envs\\arvato\\lib\\site-packages\\prince\\famd.py:84: PerformanceWarning: DataFrame is highly fragmented.  This is usually the result of calling `frame.insert` many times, which has poor performance.  Consider joining all columns at once using pd.concat(axis=1) instead. To get a de-fragmented frame, use `newframe = frame.copy()`\n",
      "  eta2[col] = (\n",
      "c:\\Users\\Lucca\\anaconda3\\envs\\arvato\\lib\\site-packages\\prince\\famd.py:84: PerformanceWarning: DataFrame is highly fragmented.  This is usually the result of calling `frame.insert` many times, which has poor performance.  Consider joining all columns at once using pd.concat(axis=1) instead. To get a de-fragmented frame, use `newframe = frame.copy()`\n",
      "  eta2[col] = (\n",
      "c:\\Users\\Lucca\\anaconda3\\envs\\arvato\\lib\\site-packages\\prince\\famd.py:84: PerformanceWarning: DataFrame is highly fragmented.  This is usually the result of calling `frame.insert` many times, which has poor performance.  Consider joining all columns at once using pd.concat(axis=1) instead. To get a de-fragmented frame, use `newframe = frame.copy()`\n",
      "  eta2[col] = (\n",
      "c:\\Users\\Lucca\\anaconda3\\envs\\arvato\\lib\\site-packages\\prince\\famd.py:84: PerformanceWarning: DataFrame is highly fragmented.  This is usually the result of calling `frame.insert` many times, which has poor performance.  Consider joining all columns at once using pd.concat(axis=1) instead. To get a de-fragmented frame, use `newframe = frame.copy()`\n",
      "  eta2[col] = (\n",
      "c:\\Users\\Lucca\\anaconda3\\envs\\arvato\\lib\\site-packages\\prince\\famd.py:84: PerformanceWarning: DataFrame is highly fragmented.  This is usually the result of calling `frame.insert` many times, which has poor performance.  Consider joining all columns at once using pd.concat(axis=1) instead. To get a de-fragmented frame, use `newframe = frame.copy()`\n",
      "  eta2[col] = (\n",
      "c:\\Users\\Lucca\\anaconda3\\envs\\arvato\\lib\\site-packages\\prince\\famd.py:84: PerformanceWarning: DataFrame is highly fragmented.  This is usually the result of calling `frame.insert` many times, which has poor performance.  Consider joining all columns at once using pd.concat(axis=1) instead. To get a de-fragmented frame, use `newframe = frame.copy()`\n",
      "  eta2[col] = (\n",
      "c:\\Users\\Lucca\\anaconda3\\envs\\arvato\\lib\\site-packages\\prince\\famd.py:84: PerformanceWarning: DataFrame is highly fragmented.  This is usually the result of calling `frame.insert` many times, which has poor performance.  Consider joining all columns at once using pd.concat(axis=1) instead. To get a de-fragmented frame, use `newframe = frame.copy()`\n",
      "  eta2[col] = (\n",
      "c:\\Users\\Lucca\\anaconda3\\envs\\arvato\\lib\\site-packages\\prince\\famd.py:84: PerformanceWarning: DataFrame is highly fragmented.  This is usually the result of calling `frame.insert` many times, which has poor performance.  Consider joining all columns at once using pd.concat(axis=1) instead. To get a de-fragmented frame, use `newframe = frame.copy()`\n",
      "  eta2[col] = (\n",
      "c:\\Users\\Lucca\\anaconda3\\envs\\arvato\\lib\\site-packages\\prince\\famd.py:84: PerformanceWarning: DataFrame is highly fragmented.  This is usually the result of calling `frame.insert` many times, which has poor performance.  Consider joining all columns at once using pd.concat(axis=1) instead. To get a de-fragmented frame, use `newframe = frame.copy()`\n",
      "  eta2[col] = (\n",
      "c:\\Users\\Lucca\\anaconda3\\envs\\arvato\\lib\\site-packages\\prince\\famd.py:84: PerformanceWarning: DataFrame is highly fragmented.  This is usually the result of calling `frame.insert` many times, which has poor performance.  Consider joining all columns at once using pd.concat(axis=1) instead. To get a de-fragmented frame, use `newframe = frame.copy()`\n",
      "  eta2[col] = (\n",
      "c:\\Users\\Lucca\\anaconda3\\envs\\arvato\\lib\\site-packages\\prince\\famd.py:84: PerformanceWarning: DataFrame is highly fragmented.  This is usually the result of calling `frame.insert` many times, which has poor performance.  Consider joining all columns at once using pd.concat(axis=1) instead. To get a de-fragmented frame, use `newframe = frame.copy()`\n",
      "  eta2[col] = (\n",
      "c:\\Users\\Lucca\\anaconda3\\envs\\arvato\\lib\\site-packages\\prince\\famd.py:84: PerformanceWarning: DataFrame is highly fragmented.  This is usually the result of calling `frame.insert` many times, which has poor performance.  Consider joining all columns at once using pd.concat(axis=1) instead. To get a de-fragmented frame, use `newframe = frame.copy()`\n",
      "  eta2[col] = (\n",
      "c:\\Users\\Lucca\\anaconda3\\envs\\arvato\\lib\\site-packages\\prince\\famd.py:84: PerformanceWarning: DataFrame is highly fragmented.  This is usually the result of calling `frame.insert` many times, which has poor performance.  Consider joining all columns at once using pd.concat(axis=1) instead. To get a de-fragmented frame, use `newframe = frame.copy()`\n",
      "  eta2[col] = (\n",
      "c:\\Users\\Lucca\\anaconda3\\envs\\arvato\\lib\\site-packages\\prince\\famd.py:84: PerformanceWarning: DataFrame is highly fragmented.  This is usually the result of calling `frame.insert` many times, which has poor performance.  Consider joining all columns at once using pd.concat(axis=1) instead. To get a de-fragmented frame, use `newframe = frame.copy()`\n",
      "  eta2[col] = (\n",
      "c:\\Users\\Lucca\\anaconda3\\envs\\arvato\\lib\\site-packages\\prince\\famd.py:84: PerformanceWarning: DataFrame is highly fragmented.  This is usually the result of calling `frame.insert` many times, which has poor performance.  Consider joining all columns at once using pd.concat(axis=1) instead. To get a de-fragmented frame, use `newframe = frame.copy()`\n",
      "  eta2[col] = (\n",
      "c:\\Users\\Lucca\\anaconda3\\envs\\arvato\\lib\\site-packages\\prince\\famd.py:84: PerformanceWarning: DataFrame is highly fragmented.  This is usually the result of calling `frame.insert` many times, which has poor performance.  Consider joining all columns at once using pd.concat(axis=1) instead. To get a de-fragmented frame, use `newframe = frame.copy()`\n",
      "  eta2[col] = (\n",
      "c:\\Users\\Lucca\\anaconda3\\envs\\arvato\\lib\\site-packages\\prince\\famd.py:84: PerformanceWarning: DataFrame is highly fragmented.  This is usually the result of calling `frame.insert` many times, which has poor performance.  Consider joining all columns at once using pd.concat(axis=1) instead. To get a de-fragmented frame, use `newframe = frame.copy()`\n",
      "  eta2[col] = (\n",
      "c:\\Users\\Lucca\\anaconda3\\envs\\arvato\\lib\\site-packages\\prince\\famd.py:84: PerformanceWarning: DataFrame is highly fragmented.  This is usually the result of calling `frame.insert` many times, which has poor performance.  Consider joining all columns at once using pd.concat(axis=1) instead. To get a de-fragmented frame, use `newframe = frame.copy()`\n",
      "  eta2[col] = (\n",
      "c:\\Users\\Lucca\\anaconda3\\envs\\arvato\\lib\\site-packages\\prince\\famd.py:84: PerformanceWarning: DataFrame is highly fragmented.  This is usually the result of calling `frame.insert` many times, which has poor performance.  Consider joining all columns at once using pd.concat(axis=1) instead. To get a de-fragmented frame, use `newframe = frame.copy()`\n",
      "  eta2[col] = (\n",
      "c:\\Users\\Lucca\\anaconda3\\envs\\arvato\\lib\\site-packages\\prince\\famd.py:84: PerformanceWarning: DataFrame is highly fragmented.  This is usually the result of calling `frame.insert` many times, which has poor performance.  Consider joining all columns at once using pd.concat(axis=1) instead. To get a de-fragmented frame, use `newframe = frame.copy()`\n",
      "  eta2[col] = (\n",
      "c:\\Users\\Lucca\\anaconda3\\envs\\arvato\\lib\\site-packages\\prince\\famd.py:84: PerformanceWarning: DataFrame is highly fragmented.  This is usually the result of calling `frame.insert` many times, which has poor performance.  Consider joining all columns at once using pd.concat(axis=1) instead. To get a de-fragmented frame, use `newframe = frame.copy()`\n",
      "  eta2[col] = (\n",
      "c:\\Users\\Lucca\\anaconda3\\envs\\arvato\\lib\\site-packages\\prince\\famd.py:84: PerformanceWarning: DataFrame is highly fragmented.  This is usually the result of calling `frame.insert` many times, which has poor performance.  Consider joining all columns at once using pd.concat(axis=1) instead. To get a de-fragmented frame, use `newframe = frame.copy()`\n",
      "  eta2[col] = (\n",
      "c:\\Users\\Lucca\\anaconda3\\envs\\arvato\\lib\\site-packages\\prince\\famd.py:84: PerformanceWarning: DataFrame is highly fragmented.  This is usually the result of calling `frame.insert` many times, which has poor performance.  Consider joining all columns at once using pd.concat(axis=1) instead. To get a de-fragmented frame, use `newframe = frame.copy()`\n",
      "  eta2[col] = (\n",
      "c:\\Users\\Lucca\\anaconda3\\envs\\arvato\\lib\\site-packages\\prince\\famd.py:84: PerformanceWarning: DataFrame is highly fragmented.  This is usually the result of calling `frame.insert` many times, which has poor performance.  Consider joining all columns at once using pd.concat(axis=1) instead. To get a de-fragmented frame, use `newframe = frame.copy()`\n",
      "  eta2[col] = (\n",
      "c:\\Users\\Lucca\\anaconda3\\envs\\arvato\\lib\\site-packages\\prince\\famd.py:84: PerformanceWarning: DataFrame is highly fragmented.  This is usually the result of calling `frame.insert` many times, which has poor performance.  Consider joining all columns at once using pd.concat(axis=1) instead. To get a de-fragmented frame, use `newframe = frame.copy()`\n",
      "  eta2[col] = (\n",
      "c:\\Users\\Lucca\\anaconda3\\envs\\arvato\\lib\\site-packages\\prince\\famd.py:84: PerformanceWarning: DataFrame is highly fragmented.  This is usually the result of calling `frame.insert` many times, which has poor performance.  Consider joining all columns at once using pd.concat(axis=1) instead. To get a de-fragmented frame, use `newframe = frame.copy()`\n",
      "  eta2[col] = (\n",
      "c:\\Users\\Lucca\\anaconda3\\envs\\arvato\\lib\\site-packages\\prince\\famd.py:84: PerformanceWarning: DataFrame is highly fragmented.  This is usually the result of calling `frame.insert` many times, which has poor performance.  Consider joining all columns at once using pd.concat(axis=1) instead. To get a de-fragmented frame, use `newframe = frame.copy()`\n",
      "  eta2[col] = (\n",
      "c:\\Users\\Lucca\\anaconda3\\envs\\arvato\\lib\\site-packages\\prince\\famd.py:84: PerformanceWarning: DataFrame is highly fragmented.  This is usually the result of calling `frame.insert` many times, which has poor performance.  Consider joining all columns at once using pd.concat(axis=1) instead. To get a de-fragmented frame, use `newframe = frame.copy()`\n",
      "  eta2[col] = (\n",
      "c:\\Users\\Lucca\\anaconda3\\envs\\arvato\\lib\\site-packages\\prince\\famd.py:84: PerformanceWarning: DataFrame is highly fragmented.  This is usually the result of calling `frame.insert` many times, which has poor performance.  Consider joining all columns at once using pd.concat(axis=1) instead. To get a de-fragmented frame, use `newframe = frame.copy()`\n",
      "  eta2[col] = (\n",
      "c:\\Users\\Lucca\\anaconda3\\envs\\arvato\\lib\\site-packages\\prince\\famd.py:84: PerformanceWarning: DataFrame is highly fragmented.  This is usually the result of calling `frame.insert` many times, which has poor performance.  Consider joining all columns at once using pd.concat(axis=1) instead. To get a de-fragmented frame, use `newframe = frame.copy()`\n",
      "  eta2[col] = (\n",
      "c:\\Users\\Lucca\\anaconda3\\envs\\arvato\\lib\\site-packages\\prince\\famd.py:84: PerformanceWarning: DataFrame is highly fragmented.  This is usually the result of calling `frame.insert` many times, which has poor performance.  Consider joining all columns at once using pd.concat(axis=1) instead. To get a de-fragmented frame, use `newframe = frame.copy()`\n",
      "  eta2[col] = (\n",
      "c:\\Users\\Lucca\\anaconda3\\envs\\arvato\\lib\\site-packages\\prince\\famd.py:84: PerformanceWarning: DataFrame is highly fragmented.  This is usually the result of calling `frame.insert` many times, which has poor performance.  Consider joining all columns at once using pd.concat(axis=1) instead. To get a de-fragmented frame, use `newframe = frame.copy()`\n",
      "  eta2[col] = (\n",
      "c:\\Users\\Lucca\\anaconda3\\envs\\arvato\\lib\\site-packages\\prince\\famd.py:84: PerformanceWarning: DataFrame is highly fragmented.  This is usually the result of calling `frame.insert` many times, which has poor performance.  Consider joining all columns at once using pd.concat(axis=1) instead. To get a de-fragmented frame, use `newframe = frame.copy()`\n",
      "  eta2[col] = (\n",
      "c:\\Users\\Lucca\\anaconda3\\envs\\arvato\\lib\\site-packages\\prince\\famd.py:84: PerformanceWarning: DataFrame is highly fragmented.  This is usually the result of calling `frame.insert` many times, which has poor performance.  Consider joining all columns at once using pd.concat(axis=1) instead. To get a de-fragmented frame, use `newframe = frame.copy()`\n",
      "  eta2[col] = (\n",
      "c:\\Users\\Lucca\\anaconda3\\envs\\arvato\\lib\\site-packages\\prince\\famd.py:84: PerformanceWarning: DataFrame is highly fragmented.  This is usually the result of calling `frame.insert` many times, which has poor performance.  Consider joining all columns at once using pd.concat(axis=1) instead. To get a de-fragmented frame, use `newframe = frame.copy()`\n",
      "  eta2[col] = (\n",
      "c:\\Users\\Lucca\\anaconda3\\envs\\arvato\\lib\\site-packages\\prince\\famd.py:84: PerformanceWarning: DataFrame is highly fragmented.  This is usually the result of calling `frame.insert` many times, which has poor performance.  Consider joining all columns at once using pd.concat(axis=1) instead. To get a de-fragmented frame, use `newframe = frame.copy()`\n",
      "  eta2[col] = (\n",
      "c:\\Users\\Lucca\\anaconda3\\envs\\arvato\\lib\\site-packages\\prince\\famd.py:84: PerformanceWarning: DataFrame is highly fragmented.  This is usually the result of calling `frame.insert` many times, which has poor performance.  Consider joining all columns at once using pd.concat(axis=1) instead. To get a de-fragmented frame, use `newframe = frame.copy()`\n",
      "  eta2[col] = (\n",
      "c:\\Users\\Lucca\\anaconda3\\envs\\arvato\\lib\\site-packages\\prince\\famd.py:84: PerformanceWarning: DataFrame is highly fragmented.  This is usually the result of calling `frame.insert` many times, which has poor performance.  Consider joining all columns at once using pd.concat(axis=1) instead. To get a de-fragmented frame, use `newframe = frame.copy()`\n",
      "  eta2[col] = (\n",
      "c:\\Users\\Lucca\\anaconda3\\envs\\arvato\\lib\\site-packages\\prince\\famd.py:84: PerformanceWarning: DataFrame is highly fragmented.  This is usually the result of calling `frame.insert` many times, which has poor performance.  Consider joining all columns at once using pd.concat(axis=1) instead. To get a de-fragmented frame, use `newframe = frame.copy()`\n",
      "  eta2[col] = (\n",
      "c:\\Users\\Lucca\\anaconda3\\envs\\arvato\\lib\\site-packages\\prince\\famd.py:84: PerformanceWarning: DataFrame is highly fragmented.  This is usually the result of calling `frame.insert` many times, which has poor performance.  Consider joining all columns at once using pd.concat(axis=1) instead. To get a de-fragmented frame, use `newframe = frame.copy()`\n",
      "  eta2[col] = (\n",
      "c:\\Users\\Lucca\\anaconda3\\envs\\arvato\\lib\\site-packages\\prince\\famd.py:84: PerformanceWarning: DataFrame is highly fragmented.  This is usually the result of calling `frame.insert` many times, which has poor performance.  Consider joining all columns at once using pd.concat(axis=1) instead. To get a de-fragmented frame, use `newframe = frame.copy()`\n",
      "  eta2[col] = (\n",
      "c:\\Users\\Lucca\\anaconda3\\envs\\arvato\\lib\\site-packages\\prince\\famd.py:84: PerformanceWarning: DataFrame is highly fragmented.  This is usually the result of calling `frame.insert` many times, which has poor performance.  Consider joining all columns at once using pd.concat(axis=1) instead. To get a de-fragmented frame, use `newframe = frame.copy()`\n",
      "  eta2[col] = (\n",
      "c:\\Users\\Lucca\\anaconda3\\envs\\arvato\\lib\\site-packages\\prince\\famd.py:84: PerformanceWarning: DataFrame is highly fragmented.  This is usually the result of calling `frame.insert` many times, which has poor performance.  Consider joining all columns at once using pd.concat(axis=1) instead. To get a de-fragmented frame, use `newframe = frame.copy()`\n",
      "  eta2[col] = (\n",
      "c:\\Users\\Lucca\\anaconda3\\envs\\arvato\\lib\\site-packages\\prince\\famd.py:84: PerformanceWarning: DataFrame is highly fragmented.  This is usually the result of calling `frame.insert` many times, which has poor performance.  Consider joining all columns at once using pd.concat(axis=1) instead. To get a de-fragmented frame, use `newframe = frame.copy()`\n",
      "  eta2[col] = (\n",
      "c:\\Users\\Lucca\\anaconda3\\envs\\arvato\\lib\\site-packages\\prince\\famd.py:84: PerformanceWarning: DataFrame is highly fragmented.  This is usually the result of calling `frame.insert` many times, which has poor performance.  Consider joining all columns at once using pd.concat(axis=1) instead. To get a de-fragmented frame, use `newframe = frame.copy()`\n",
      "  eta2[col] = (\n",
      "c:\\Users\\Lucca\\anaconda3\\envs\\arvato\\lib\\site-packages\\prince\\famd.py:84: PerformanceWarning: DataFrame is highly fragmented.  This is usually the result of calling `frame.insert` many times, which has poor performance.  Consider joining all columns at once using pd.concat(axis=1) instead. To get a de-fragmented frame, use `newframe = frame.copy()`\n",
      "  eta2[col] = (\n",
      "c:\\Users\\Lucca\\anaconda3\\envs\\arvato\\lib\\site-packages\\prince\\famd.py:84: PerformanceWarning: DataFrame is highly fragmented.  This is usually the result of calling `frame.insert` many times, which has poor performance.  Consider joining all columns at once using pd.concat(axis=1) instead. To get a de-fragmented frame, use `newframe = frame.copy()`\n",
      "  eta2[col] = (\n",
      "c:\\Users\\Lucca\\anaconda3\\envs\\arvato\\lib\\site-packages\\prince\\famd.py:84: PerformanceWarning: DataFrame is highly fragmented.  This is usually the result of calling `frame.insert` many times, which has poor performance.  Consider joining all columns at once using pd.concat(axis=1) instead. To get a de-fragmented frame, use `newframe = frame.copy()`\n",
      "  eta2[col] = (\n",
      "c:\\Users\\Lucca\\anaconda3\\envs\\arvato\\lib\\site-packages\\prince\\famd.py:84: PerformanceWarning: DataFrame is highly fragmented.  This is usually the result of calling `frame.insert` many times, which has poor performance.  Consider joining all columns at once using pd.concat(axis=1) instead. To get a de-fragmented frame, use `newframe = frame.copy()`\n",
      "  eta2[col] = (\n",
      "c:\\Users\\Lucca\\anaconda3\\envs\\arvato\\lib\\site-packages\\prince\\famd.py:84: PerformanceWarning: DataFrame is highly fragmented.  This is usually the result of calling `frame.insert` many times, which has poor performance.  Consider joining all columns at once using pd.concat(axis=1) instead. To get a de-fragmented frame, use `newframe = frame.copy()`\n",
      "  eta2[col] = (\n",
      "c:\\Users\\Lucca\\anaconda3\\envs\\arvato\\lib\\site-packages\\prince\\famd.py:84: PerformanceWarning: DataFrame is highly fragmented.  This is usually the result of calling `frame.insert` many times, which has poor performance.  Consider joining all columns at once using pd.concat(axis=1) instead. To get a de-fragmented frame, use `newframe = frame.copy()`\n",
      "  eta2[col] = (\n",
      "c:\\Users\\Lucca\\anaconda3\\envs\\arvato\\lib\\site-packages\\prince\\famd.py:84: PerformanceWarning: DataFrame is highly fragmented.  This is usually the result of calling `frame.insert` many times, which has poor performance.  Consider joining all columns at once using pd.concat(axis=1) instead. To get a de-fragmented frame, use `newframe = frame.copy()`\n",
      "  eta2[col] = (\n",
      "c:\\Users\\Lucca\\anaconda3\\envs\\arvato\\lib\\site-packages\\prince\\famd.py:84: PerformanceWarning: DataFrame is highly fragmented.  This is usually the result of calling `frame.insert` many times, which has poor performance.  Consider joining all columns at once using pd.concat(axis=1) instead. To get a de-fragmented frame, use `newframe = frame.copy()`\n",
      "  eta2[col] = (\n",
      "c:\\Users\\Lucca\\anaconda3\\envs\\arvato\\lib\\site-packages\\prince\\famd.py:84: PerformanceWarning: DataFrame is highly fragmented.  This is usually the result of calling `frame.insert` many times, which has poor performance.  Consider joining all columns at once using pd.concat(axis=1) instead. To get a de-fragmented frame, use `newframe = frame.copy()`\n",
      "  eta2[col] = (\n",
      "c:\\Users\\Lucca\\anaconda3\\envs\\arvato\\lib\\site-packages\\prince\\famd.py:84: PerformanceWarning: DataFrame is highly fragmented.  This is usually the result of calling `frame.insert` many times, which has poor performance.  Consider joining all columns at once using pd.concat(axis=1) instead. To get a de-fragmented frame, use `newframe = frame.copy()`\n",
      "  eta2[col] = (\n",
      "c:\\Users\\Lucca\\anaconda3\\envs\\arvato\\lib\\site-packages\\prince\\famd.py:84: PerformanceWarning: DataFrame is highly fragmented.  This is usually the result of calling `frame.insert` many times, which has poor performance.  Consider joining all columns at once using pd.concat(axis=1) instead. To get a de-fragmented frame, use `newframe = frame.copy()`\n",
      "  eta2[col] = (\n",
      "c:\\Users\\Lucca\\anaconda3\\envs\\arvato\\lib\\site-packages\\prince\\famd.py:84: PerformanceWarning: DataFrame is highly fragmented.  This is usually the result of calling `frame.insert` many times, which has poor performance.  Consider joining all columns at once using pd.concat(axis=1) instead. To get a de-fragmented frame, use `newframe = frame.copy()`\n",
      "  eta2[col] = (\n",
      "c:\\Users\\Lucca\\anaconda3\\envs\\arvato\\lib\\site-packages\\prince\\famd.py:84: PerformanceWarning: DataFrame is highly fragmented.  This is usually the result of calling `frame.insert` many times, which has poor performance.  Consider joining all columns at once using pd.concat(axis=1) instead. To get a de-fragmented frame, use `newframe = frame.copy()`\n",
      "  eta2[col] = (\n",
      "c:\\Users\\Lucca\\anaconda3\\envs\\arvato\\lib\\site-packages\\prince\\famd.py:84: PerformanceWarning: DataFrame is highly fragmented.  This is usually the result of calling `frame.insert` many times, which has poor performance.  Consider joining all columns at once using pd.concat(axis=1) instead. To get a de-fragmented frame, use `newframe = frame.copy()`\n",
      "  eta2[col] = (\n",
      "c:\\Users\\Lucca\\anaconda3\\envs\\arvato\\lib\\site-packages\\prince\\famd.py:84: PerformanceWarning: DataFrame is highly fragmented.  This is usually the result of calling `frame.insert` many times, which has poor performance.  Consider joining all columns at once using pd.concat(axis=1) instead. To get a de-fragmented frame, use `newframe = frame.copy()`\n",
      "  eta2[col] = (\n",
      "c:\\Users\\Lucca\\anaconda3\\envs\\arvato\\lib\\site-packages\\prince\\famd.py:84: PerformanceWarning: DataFrame is highly fragmented.  This is usually the result of calling `frame.insert` many times, which has poor performance.  Consider joining all columns at once using pd.concat(axis=1) instead. To get a de-fragmented frame, use `newframe = frame.copy()`\n",
      "  eta2[col] = (\n",
      "c:\\Users\\Lucca\\anaconda3\\envs\\arvato\\lib\\site-packages\\prince\\famd.py:84: PerformanceWarning: DataFrame is highly fragmented.  This is usually the result of calling `frame.insert` many times, which has poor performance.  Consider joining all columns at once using pd.concat(axis=1) instead. To get a de-fragmented frame, use `newframe = frame.copy()`\n",
      "  eta2[col] = (\n",
      "c:\\Users\\Lucca\\anaconda3\\envs\\arvato\\lib\\site-packages\\prince\\famd.py:84: PerformanceWarning: DataFrame is highly fragmented.  This is usually the result of calling `frame.insert` many times, which has poor performance.  Consider joining all columns at once using pd.concat(axis=1) instead. To get a de-fragmented frame, use `newframe = frame.copy()`\n",
      "  eta2[col] = (\n",
      "c:\\Users\\Lucca\\anaconda3\\envs\\arvato\\lib\\site-packages\\prince\\famd.py:84: PerformanceWarning: DataFrame is highly fragmented.  This is usually the result of calling `frame.insert` many times, which has poor performance.  Consider joining all columns at once using pd.concat(axis=1) instead. To get a de-fragmented frame, use `newframe = frame.copy()`\n",
      "  eta2[col] = (\n",
      "c:\\Users\\Lucca\\anaconda3\\envs\\arvato\\lib\\site-packages\\prince\\famd.py:84: PerformanceWarning: DataFrame is highly fragmented.  This is usually the result of calling `frame.insert` many times, which has poor performance.  Consider joining all columns at once using pd.concat(axis=1) instead. To get a de-fragmented frame, use `newframe = frame.copy()`\n",
      "  eta2[col] = (\n",
      "c:\\Users\\Lucca\\anaconda3\\envs\\arvato\\lib\\site-packages\\prince\\famd.py:84: PerformanceWarning: DataFrame is highly fragmented.  This is usually the result of calling `frame.insert` many times, which has poor performance.  Consider joining all columns at once using pd.concat(axis=1) instead. To get a de-fragmented frame, use `newframe = frame.copy()`\n",
      "  eta2[col] = (\n",
      "c:\\Users\\Lucca\\anaconda3\\envs\\arvato\\lib\\site-packages\\prince\\famd.py:84: PerformanceWarning: DataFrame is highly fragmented.  This is usually the result of calling `frame.insert` many times, which has poor performance.  Consider joining all columns at once using pd.concat(axis=1) instead. To get a de-fragmented frame, use `newframe = frame.copy()`\n",
      "  eta2[col] = (\n",
      "c:\\Users\\Lucca\\anaconda3\\envs\\arvato\\lib\\site-packages\\prince\\famd.py:84: PerformanceWarning: DataFrame is highly fragmented.  This is usually the result of calling `frame.insert` many times, which has poor performance.  Consider joining all columns at once using pd.concat(axis=1) instead. To get a de-fragmented frame, use `newframe = frame.copy()`\n",
      "  eta2[col] = (\n",
      "c:\\Users\\Lucca\\anaconda3\\envs\\arvato\\lib\\site-packages\\prince\\famd.py:84: PerformanceWarning: DataFrame is highly fragmented.  This is usually the result of calling `frame.insert` many times, which has poor performance.  Consider joining all columns at once using pd.concat(axis=1) instead. To get a de-fragmented frame, use `newframe = frame.copy()`\n",
      "  eta2[col] = (\n",
      "c:\\Users\\Lucca\\anaconda3\\envs\\arvato\\lib\\site-packages\\prince\\famd.py:84: PerformanceWarning: DataFrame is highly fragmented.  This is usually the result of calling `frame.insert` many times, which has poor performance.  Consider joining all columns at once using pd.concat(axis=1) instead. To get a de-fragmented frame, use `newframe = frame.copy()`\n",
      "  eta2[col] = (\n",
      "c:\\Users\\Lucca\\anaconda3\\envs\\arvato\\lib\\site-packages\\prince\\famd.py:84: PerformanceWarning: DataFrame is highly fragmented.  This is usually the result of calling `frame.insert` many times, which has poor performance.  Consider joining all columns at once using pd.concat(axis=1) instead. To get a de-fragmented frame, use `newframe = frame.copy()`\n",
      "  eta2[col] = (\n",
      "c:\\Users\\Lucca\\anaconda3\\envs\\arvato\\lib\\site-packages\\prince\\famd.py:84: PerformanceWarning: DataFrame is highly fragmented.  This is usually the result of calling `frame.insert` many times, which has poor performance.  Consider joining all columns at once using pd.concat(axis=1) instead. To get a de-fragmented frame, use `newframe = frame.copy()`\n",
      "  eta2[col] = (\n",
      "c:\\Users\\Lucca\\anaconda3\\envs\\arvato\\lib\\site-packages\\prince\\famd.py:84: PerformanceWarning: DataFrame is highly fragmented.  This is usually the result of calling `frame.insert` many times, which has poor performance.  Consider joining all columns at once using pd.concat(axis=1) instead. To get a de-fragmented frame, use `newframe = frame.copy()`\n",
      "  eta2[col] = (\n",
      "c:\\Users\\Lucca\\anaconda3\\envs\\arvato\\lib\\site-packages\\prince\\famd.py:84: PerformanceWarning: DataFrame is highly fragmented.  This is usually the result of calling `frame.insert` many times, which has poor performance.  Consider joining all columns at once using pd.concat(axis=1) instead. To get a de-fragmented frame, use `newframe = frame.copy()`\n",
      "  eta2[col] = (\n",
      "c:\\Users\\Lucca\\anaconda3\\envs\\arvato\\lib\\site-packages\\prince\\famd.py:84: PerformanceWarning: DataFrame is highly fragmented.  This is usually the result of calling `frame.insert` many times, which has poor performance.  Consider joining all columns at once using pd.concat(axis=1) instead. To get a de-fragmented frame, use `newframe = frame.copy()`\n",
      "  eta2[col] = (\n",
      "c:\\Users\\Lucca\\anaconda3\\envs\\arvato\\lib\\site-packages\\prince\\famd.py:84: PerformanceWarning: DataFrame is highly fragmented.  This is usually the result of calling `frame.insert` many times, which has poor performance.  Consider joining all columns at once using pd.concat(axis=1) instead. To get a de-fragmented frame, use `newframe = frame.copy()`\n",
      "  eta2[col] = (\n",
      "c:\\Users\\Lucca\\anaconda3\\envs\\arvato\\lib\\site-packages\\prince\\famd.py:84: PerformanceWarning: DataFrame is highly fragmented.  This is usually the result of calling `frame.insert` many times, which has poor performance.  Consider joining all columns at once using pd.concat(axis=1) instead. To get a de-fragmented frame, use `newframe = frame.copy()`\n",
      "  eta2[col] = (\n",
      "c:\\Users\\Lucca\\anaconda3\\envs\\arvato\\lib\\site-packages\\prince\\famd.py:84: PerformanceWarning: DataFrame is highly fragmented.  This is usually the result of calling `frame.insert` many times, which has poor performance.  Consider joining all columns at once using pd.concat(axis=1) instead. To get a de-fragmented frame, use `newframe = frame.copy()`\n",
      "  eta2[col] = (\n",
      "c:\\Users\\Lucca\\anaconda3\\envs\\arvato\\lib\\site-packages\\prince\\famd.py:84: PerformanceWarning: DataFrame is highly fragmented.  This is usually the result of calling `frame.insert` many times, which has poor performance.  Consider joining all columns at once using pd.concat(axis=1) instead. To get a de-fragmented frame, use `newframe = frame.copy()`\n",
      "  eta2[col] = (\n",
      "c:\\Users\\Lucca\\anaconda3\\envs\\arvato\\lib\\site-packages\\prince\\famd.py:84: PerformanceWarning: DataFrame is highly fragmented.  This is usually the result of calling `frame.insert` many times, which has poor performance.  Consider joining all columns at once using pd.concat(axis=1) instead. To get a de-fragmented frame, use `newframe = frame.copy()`\n",
      "  eta2[col] = (\n",
      "c:\\Users\\Lucca\\anaconda3\\envs\\arvato\\lib\\site-packages\\prince\\famd.py:84: PerformanceWarning: DataFrame is highly fragmented.  This is usually the result of calling `frame.insert` many times, which has poor performance.  Consider joining all columns at once using pd.concat(axis=1) instead. To get a de-fragmented frame, use `newframe = frame.copy()`\n",
      "  eta2[col] = (\n",
      "c:\\Users\\Lucca\\anaconda3\\envs\\arvato\\lib\\site-packages\\prince\\famd.py:84: PerformanceWarning: DataFrame is highly fragmented.  This is usually the result of calling `frame.insert` many times, which has poor performance.  Consider joining all columns at once using pd.concat(axis=1) instead. To get a de-fragmented frame, use `newframe = frame.copy()`\n",
      "  eta2[col] = (\n",
      "c:\\Users\\Lucca\\anaconda3\\envs\\arvato\\lib\\site-packages\\prince\\famd.py:84: PerformanceWarning: DataFrame is highly fragmented.  This is usually the result of calling `frame.insert` many times, which has poor performance.  Consider joining all columns at once using pd.concat(axis=1) instead. To get a de-fragmented frame, use `newframe = frame.copy()`\n",
      "  eta2[col] = (\n",
      "c:\\Users\\Lucca\\anaconda3\\envs\\arvato\\lib\\site-packages\\prince\\famd.py:84: PerformanceWarning: DataFrame is highly fragmented.  This is usually the result of calling `frame.insert` many times, which has poor performance.  Consider joining all columns at once using pd.concat(axis=1) instead. To get a de-fragmented frame, use `newframe = frame.copy()`\n",
      "  eta2[col] = (\n",
      "c:\\Users\\Lucca\\anaconda3\\envs\\arvato\\lib\\site-packages\\prince\\famd.py:84: PerformanceWarning: DataFrame is highly fragmented.  This is usually the result of calling `frame.insert` many times, which has poor performance.  Consider joining all columns at once using pd.concat(axis=1) instead. To get a de-fragmented frame, use `newframe = frame.copy()`\n",
      "  eta2[col] = (\n",
      "c:\\Users\\Lucca\\anaconda3\\envs\\arvato\\lib\\site-packages\\prince\\famd.py:84: PerformanceWarning: DataFrame is highly fragmented.  This is usually the result of calling `frame.insert` many times, which has poor performance.  Consider joining all columns at once using pd.concat(axis=1) instead. To get a de-fragmented frame, use `newframe = frame.copy()`\n",
      "  eta2[col] = (\n",
      "c:\\Users\\Lucca\\anaconda3\\envs\\arvato\\lib\\site-packages\\prince\\famd.py:84: PerformanceWarning: DataFrame is highly fragmented.  This is usually the result of calling `frame.insert` many times, which has poor performance.  Consider joining all columns at once using pd.concat(axis=1) instead. To get a de-fragmented frame, use `newframe = frame.copy()`\n",
      "  eta2[col] = (\n",
      "c:\\Users\\Lucca\\anaconda3\\envs\\arvato\\lib\\site-packages\\prince\\famd.py:84: PerformanceWarning: DataFrame is highly fragmented.  This is usually the result of calling `frame.insert` many times, which has poor performance.  Consider joining all columns at once using pd.concat(axis=1) instead. To get a de-fragmented frame, use `newframe = frame.copy()`\n",
      "  eta2[col] = (\n",
      "c:\\Users\\Lucca\\anaconda3\\envs\\arvato\\lib\\site-packages\\prince\\famd.py:84: PerformanceWarning: DataFrame is highly fragmented.  This is usually the result of calling `frame.insert` many times, which has poor performance.  Consider joining all columns at once using pd.concat(axis=1) instead. To get a de-fragmented frame, use `newframe = frame.copy()`\n",
      "  eta2[col] = (\n",
      "c:\\Users\\Lucca\\anaconda3\\envs\\arvato\\lib\\site-packages\\prince\\famd.py:84: PerformanceWarning: DataFrame is highly fragmented.  This is usually the result of calling `frame.insert` many times, which has poor performance.  Consider joining all columns at once using pd.concat(axis=1) instead. To get a de-fragmented frame, use `newframe = frame.copy()`\n",
      "  eta2[col] = (\n",
      "c:\\Users\\Lucca\\anaconda3\\envs\\arvato\\lib\\site-packages\\prince\\famd.py:84: PerformanceWarning: DataFrame is highly fragmented.  This is usually the result of calling `frame.insert` many times, which has poor performance.  Consider joining all columns at once using pd.concat(axis=1) instead. To get a de-fragmented frame, use `newframe = frame.copy()`\n",
      "  eta2[col] = (\n",
      "c:\\Users\\Lucca\\anaconda3\\envs\\arvato\\lib\\site-packages\\prince\\famd.py:84: PerformanceWarning: DataFrame is highly fragmented.  This is usually the result of calling `frame.insert` many times, which has poor performance.  Consider joining all columns at once using pd.concat(axis=1) instead. To get a de-fragmented frame, use `newframe = frame.copy()`\n",
      "  eta2[col] = (\n",
      "c:\\Users\\Lucca\\anaconda3\\envs\\arvato\\lib\\site-packages\\prince\\famd.py:84: PerformanceWarning: DataFrame is highly fragmented.  This is usually the result of calling `frame.insert` many times, which has poor performance.  Consider joining all columns at once using pd.concat(axis=1) instead. To get a de-fragmented frame, use `newframe = frame.copy()`\n",
      "  eta2[col] = (\n",
      "c:\\Users\\Lucca\\anaconda3\\envs\\arvato\\lib\\site-packages\\prince\\famd.py:84: PerformanceWarning: DataFrame is highly fragmented.  This is usually the result of calling `frame.insert` many times, which has poor performance.  Consider joining all columns at once using pd.concat(axis=1) instead. To get a de-fragmented frame, use `newframe = frame.copy()`\n",
      "  eta2[col] = (\n",
      "c:\\Users\\Lucca\\anaconda3\\envs\\arvato\\lib\\site-packages\\prince\\famd.py:84: PerformanceWarning: DataFrame is highly fragmented.  This is usually the result of calling `frame.insert` many times, which has poor performance.  Consider joining all columns at once using pd.concat(axis=1) instead. To get a de-fragmented frame, use `newframe = frame.copy()`\n",
      "  eta2[col] = (\n",
      "c:\\Users\\Lucca\\anaconda3\\envs\\arvato\\lib\\site-packages\\prince\\famd.py:84: PerformanceWarning: DataFrame is highly fragmented.  This is usually the result of calling `frame.insert` many times, which has poor performance.  Consider joining all columns at once using pd.concat(axis=1) instead. To get a de-fragmented frame, use `newframe = frame.copy()`\n",
      "  eta2[col] = (\n",
      "c:\\Users\\Lucca\\anaconda3\\envs\\arvato\\lib\\site-packages\\prince\\famd.py:84: PerformanceWarning: DataFrame is highly fragmented.  This is usually the result of calling `frame.insert` many times, which has poor performance.  Consider joining all columns at once using pd.concat(axis=1) instead. To get a de-fragmented frame, use `newframe = frame.copy()`\n",
      "  eta2[col] = (\n",
      "c:\\Users\\Lucca\\anaconda3\\envs\\arvato\\lib\\site-packages\\prince\\famd.py:84: PerformanceWarning: DataFrame is highly fragmented.  This is usually the result of calling `frame.insert` many times, which has poor performance.  Consider joining all columns at once using pd.concat(axis=1) instead. To get a de-fragmented frame, use `newframe = frame.copy()`\n",
      "  eta2[col] = (\n",
      "c:\\Users\\Lucca\\anaconda3\\envs\\arvato\\lib\\site-packages\\prince\\famd.py:84: PerformanceWarning: DataFrame is highly fragmented.  This is usually the result of calling `frame.insert` many times, which has poor performance.  Consider joining all columns at once using pd.concat(axis=1) instead. To get a de-fragmented frame, use `newframe = frame.copy()`\n",
      "  eta2[col] = (\n",
      "c:\\Users\\Lucca\\anaconda3\\envs\\arvato\\lib\\site-packages\\prince\\famd.py:84: PerformanceWarning: DataFrame is highly fragmented.  This is usually the result of calling `frame.insert` many times, which has poor performance.  Consider joining all columns at once using pd.concat(axis=1) instead. To get a de-fragmented frame, use `newframe = frame.copy()`\n",
      "  eta2[col] = (\n",
      "c:\\Users\\Lucca\\anaconda3\\envs\\arvato\\lib\\site-packages\\prince\\famd.py:84: PerformanceWarning: DataFrame is highly fragmented.  This is usually the result of calling `frame.insert` many times, which has poor performance.  Consider joining all columns at once using pd.concat(axis=1) instead. To get a de-fragmented frame, use `newframe = frame.copy()`\n",
      "  eta2[col] = (\n",
      "c:\\Users\\Lucca\\anaconda3\\envs\\arvato\\lib\\site-packages\\prince\\famd.py:84: PerformanceWarning: DataFrame is highly fragmented.  This is usually the result of calling `frame.insert` many times, which has poor performance.  Consider joining all columns at once using pd.concat(axis=1) instead. To get a de-fragmented frame, use `newframe = frame.copy()`\n",
      "  eta2[col] = (\n",
      "c:\\Users\\Lucca\\anaconda3\\envs\\arvato\\lib\\site-packages\\prince\\famd.py:84: PerformanceWarning: DataFrame is highly fragmented.  This is usually the result of calling `frame.insert` many times, which has poor performance.  Consider joining all columns at once using pd.concat(axis=1) instead. To get a de-fragmented frame, use `newframe = frame.copy()`\n",
      "  eta2[col] = (\n",
      "c:\\Users\\Lucca\\anaconda3\\envs\\arvato\\lib\\site-packages\\prince\\famd.py:84: PerformanceWarning: DataFrame is highly fragmented.  This is usually the result of calling `frame.insert` many times, which has poor performance.  Consider joining all columns at once using pd.concat(axis=1) instead. To get a de-fragmented frame, use `newframe = frame.copy()`\n",
      "  eta2[col] = (\n",
      "c:\\Users\\Lucca\\anaconda3\\envs\\arvato\\lib\\site-packages\\prince\\famd.py:84: PerformanceWarning: DataFrame is highly fragmented.  This is usually the result of calling `frame.insert` many times, which has poor performance.  Consider joining all columns at once using pd.concat(axis=1) instead. To get a de-fragmented frame, use `newframe = frame.copy()`\n",
      "  eta2[col] = (\n",
      "c:\\Users\\Lucca\\anaconda3\\envs\\arvato\\lib\\site-packages\\prince\\famd.py:84: PerformanceWarning: DataFrame is highly fragmented.  This is usually the result of calling `frame.insert` many times, which has poor performance.  Consider joining all columns at once using pd.concat(axis=1) instead. To get a de-fragmented frame, use `newframe = frame.copy()`\n",
      "  eta2[col] = (\n",
      "c:\\Users\\Lucca\\anaconda3\\envs\\arvato\\lib\\site-packages\\prince\\famd.py:84: PerformanceWarning: DataFrame is highly fragmented.  This is usually the result of calling `frame.insert` many times, which has poor performance.  Consider joining all columns at once using pd.concat(axis=1) instead. To get a de-fragmented frame, use `newframe = frame.copy()`\n",
      "  eta2[col] = (\n",
      "c:\\Users\\Lucca\\anaconda3\\envs\\arvato\\lib\\site-packages\\prince\\famd.py:84: PerformanceWarning: DataFrame is highly fragmented.  This is usually the result of calling `frame.insert` many times, which has poor performance.  Consider joining all columns at once using pd.concat(axis=1) instead. To get a de-fragmented frame, use `newframe = frame.copy()`\n",
      "  eta2[col] = (\n",
      "c:\\Users\\Lucca\\anaconda3\\envs\\arvato\\lib\\site-packages\\prince\\famd.py:84: PerformanceWarning: DataFrame is highly fragmented.  This is usually the result of calling `frame.insert` many times, which has poor performance.  Consider joining all columns at once using pd.concat(axis=1) instead. To get a de-fragmented frame, use `newframe = frame.copy()`\n",
      "  eta2[col] = (\n",
      "c:\\Users\\Lucca\\anaconda3\\envs\\arvato\\lib\\site-packages\\prince\\famd.py:84: PerformanceWarning: DataFrame is highly fragmented.  This is usually the result of calling `frame.insert` many times, which has poor performance.  Consider joining all columns at once using pd.concat(axis=1) instead. To get a de-fragmented frame, use `newframe = frame.copy()`\n",
      "  eta2[col] = (\n",
      "c:\\Users\\Lucca\\anaconda3\\envs\\arvato\\lib\\site-packages\\prince\\famd.py:84: PerformanceWarning: DataFrame is highly fragmented.  This is usually the result of calling `frame.insert` many times, which has poor performance.  Consider joining all columns at once using pd.concat(axis=1) instead. To get a de-fragmented frame, use `newframe = frame.copy()`\n",
      "  eta2[col] = (\n",
      "c:\\Users\\Lucca\\anaconda3\\envs\\arvato\\lib\\site-packages\\prince\\famd.py:84: PerformanceWarning: DataFrame is highly fragmented.  This is usually the result of calling `frame.insert` many times, which has poor performance.  Consider joining all columns at once using pd.concat(axis=1) instead. To get a de-fragmented frame, use `newframe = frame.copy()`\n",
      "  eta2[col] = (\n",
      "c:\\Users\\Lucca\\anaconda3\\envs\\arvato\\lib\\site-packages\\prince\\famd.py:84: PerformanceWarning: DataFrame is highly fragmented.  This is usually the result of calling `frame.insert` many times, which has poor performance.  Consider joining all columns at once using pd.concat(axis=1) instead. To get a de-fragmented frame, use `newframe = frame.copy()`\n",
      "  eta2[col] = (\n",
      "c:\\Users\\Lucca\\anaconda3\\envs\\arvato\\lib\\site-packages\\prince\\famd.py:84: PerformanceWarning: DataFrame is highly fragmented.  This is usually the result of calling `frame.insert` many times, which has poor performance.  Consider joining all columns at once using pd.concat(axis=1) instead. To get a de-fragmented frame, use `newframe = frame.copy()`\n",
      "  eta2[col] = (\n",
      "c:\\Users\\Lucca\\anaconda3\\envs\\arvato\\lib\\site-packages\\prince\\famd.py:84: PerformanceWarning: DataFrame is highly fragmented.  This is usually the result of calling `frame.insert` many times, which has poor performance.  Consider joining all columns at once using pd.concat(axis=1) instead. To get a de-fragmented frame, use `newframe = frame.copy()`\n",
      "  eta2[col] = (\n",
      "c:\\Users\\Lucca\\anaconda3\\envs\\arvato\\lib\\site-packages\\prince\\famd.py:84: PerformanceWarning: DataFrame is highly fragmented.  This is usually the result of calling `frame.insert` many times, which has poor performance.  Consider joining all columns at once using pd.concat(axis=1) instead. To get a de-fragmented frame, use `newframe = frame.copy()`\n",
      "  eta2[col] = (\n",
      "c:\\Users\\Lucca\\anaconda3\\envs\\arvato\\lib\\site-packages\\prince\\famd.py:84: PerformanceWarning: DataFrame is highly fragmented.  This is usually the result of calling `frame.insert` many times, which has poor performance.  Consider joining all columns at once using pd.concat(axis=1) instead. To get a de-fragmented frame, use `newframe = frame.copy()`\n",
      "  eta2[col] = (\n",
      "c:\\Users\\Lucca\\anaconda3\\envs\\arvato\\lib\\site-packages\\prince\\famd.py:84: PerformanceWarning: DataFrame is highly fragmented.  This is usually the result of calling `frame.insert` many times, which has poor performance.  Consider joining all columns at once using pd.concat(axis=1) instead. To get a de-fragmented frame, use `newframe = frame.copy()`\n",
      "  eta2[col] = (\n",
      "c:\\Users\\Lucca\\anaconda3\\envs\\arvato\\lib\\site-packages\\prince\\famd.py:84: PerformanceWarning: DataFrame is highly fragmented.  This is usually the result of calling `frame.insert` many times, which has poor performance.  Consider joining all columns at once using pd.concat(axis=1) instead. To get a de-fragmented frame, use `newframe = frame.copy()`\n",
      "  eta2[col] = (\n",
      "c:\\Users\\Lucca\\anaconda3\\envs\\arvato\\lib\\site-packages\\prince\\famd.py:84: PerformanceWarning: DataFrame is highly fragmented.  This is usually the result of calling `frame.insert` many times, which has poor performance.  Consider joining all columns at once using pd.concat(axis=1) instead. To get a de-fragmented frame, use `newframe = frame.copy()`\n",
      "  eta2[col] = (\n",
      "c:\\Users\\Lucca\\anaconda3\\envs\\arvato\\lib\\site-packages\\prince\\famd.py:84: PerformanceWarning: DataFrame is highly fragmented.  This is usually the result of calling `frame.insert` many times, which has poor performance.  Consider joining all columns at once using pd.concat(axis=1) instead. To get a de-fragmented frame, use `newframe = frame.copy()`\n",
      "  eta2[col] = (\n",
      "c:\\Users\\Lucca\\anaconda3\\envs\\arvato\\lib\\site-packages\\prince\\famd.py:84: PerformanceWarning: DataFrame is highly fragmented.  This is usually the result of calling `frame.insert` many times, which has poor performance.  Consider joining all columns at once using pd.concat(axis=1) instead. To get a de-fragmented frame, use `newframe = frame.copy()`\n",
      "  eta2[col] = (\n",
      "c:\\Users\\Lucca\\anaconda3\\envs\\arvato\\lib\\site-packages\\prince\\famd.py:84: PerformanceWarning: DataFrame is highly fragmented.  This is usually the result of calling `frame.insert` many times, which has poor performance.  Consider joining all columns at once using pd.concat(axis=1) instead. To get a de-fragmented frame, use `newframe = frame.copy()`\n",
      "  eta2[col] = (\n",
      "c:\\Users\\Lucca\\anaconda3\\envs\\arvato\\lib\\site-packages\\prince\\famd.py:84: PerformanceWarning: DataFrame is highly fragmented.  This is usually the result of calling `frame.insert` many times, which has poor performance.  Consider joining all columns at once using pd.concat(axis=1) instead. To get a de-fragmented frame, use `newframe = frame.copy()`\n",
      "  eta2[col] = (\n",
      "c:\\Users\\Lucca\\anaconda3\\envs\\arvato\\lib\\site-packages\\prince\\famd.py:84: PerformanceWarning: DataFrame is highly fragmented.  This is usually the result of calling `frame.insert` many times, which has poor performance.  Consider joining all columns at once using pd.concat(axis=1) instead. To get a de-fragmented frame, use `newframe = frame.copy()`\n",
      "  eta2[col] = (\n",
      "c:\\Users\\Lucca\\anaconda3\\envs\\arvato\\lib\\site-packages\\prince\\famd.py:84: PerformanceWarning: DataFrame is highly fragmented.  This is usually the result of calling `frame.insert` many times, which has poor performance.  Consider joining all columns at once using pd.concat(axis=1) instead. To get a de-fragmented frame, use `newframe = frame.copy()`\n",
      "  eta2[col] = (\n",
      "c:\\Users\\Lucca\\anaconda3\\envs\\arvato\\lib\\site-packages\\prince\\famd.py:84: PerformanceWarning: DataFrame is highly fragmented.  This is usually the result of calling `frame.insert` many times, which has poor performance.  Consider joining all columns at once using pd.concat(axis=1) instead. To get a de-fragmented frame, use `newframe = frame.copy()`\n",
      "  eta2[col] = (\n",
      "c:\\Users\\Lucca\\anaconda3\\envs\\arvato\\lib\\site-packages\\prince\\famd.py:84: PerformanceWarning: DataFrame is highly fragmented.  This is usually the result of calling `frame.insert` many times, which has poor performance.  Consider joining all columns at once using pd.concat(axis=1) instead. To get a de-fragmented frame, use `newframe = frame.copy()`\n",
      "  eta2[col] = (\n",
      "c:\\Users\\Lucca\\anaconda3\\envs\\arvato\\lib\\site-packages\\prince\\famd.py:84: PerformanceWarning: DataFrame is highly fragmented.  This is usually the result of calling `frame.insert` many times, which has poor performance.  Consider joining all columns at once using pd.concat(axis=1) instead. To get a de-fragmented frame, use `newframe = frame.copy()`\n",
      "  eta2[col] = (\n",
      "c:\\Users\\Lucca\\anaconda3\\envs\\arvato\\lib\\site-packages\\prince\\famd.py:84: PerformanceWarning: DataFrame is highly fragmented.  This is usually the result of calling `frame.insert` many times, which has poor performance.  Consider joining all columns at once using pd.concat(axis=1) instead. To get a de-fragmented frame, use `newframe = frame.copy()`\n",
      "  eta2[col] = (\n",
      "c:\\Users\\Lucca\\anaconda3\\envs\\arvato\\lib\\site-packages\\prince\\famd.py:84: PerformanceWarning: DataFrame is highly fragmented.  This is usually the result of calling `frame.insert` many times, which has poor performance.  Consider joining all columns at once using pd.concat(axis=1) instead. To get a de-fragmented frame, use `newframe = frame.copy()`\n",
      "  eta2[col] = (\n",
      "c:\\Users\\Lucca\\anaconda3\\envs\\arvato\\lib\\site-packages\\prince\\famd.py:84: PerformanceWarning: DataFrame is highly fragmented.  This is usually the result of calling `frame.insert` many times, which has poor performance.  Consider joining all columns at once using pd.concat(axis=1) instead. To get a de-fragmented frame, use `newframe = frame.copy()`\n",
      "  eta2[col] = (\n",
      "c:\\Users\\Lucca\\anaconda3\\envs\\arvato\\lib\\site-packages\\prince\\famd.py:84: PerformanceWarning: DataFrame is highly fragmented.  This is usually the result of calling `frame.insert` many times, which has poor performance.  Consider joining all columns at once using pd.concat(axis=1) instead. To get a de-fragmented frame, use `newframe = frame.copy()`\n",
      "  eta2[col] = (\n",
      "c:\\Users\\Lucca\\anaconda3\\envs\\arvato\\lib\\site-packages\\prince\\famd.py:84: PerformanceWarning: DataFrame is highly fragmented.  This is usually the result of calling `frame.insert` many times, which has poor performance.  Consider joining all columns at once using pd.concat(axis=1) instead. To get a de-fragmented frame, use `newframe = frame.copy()`\n",
      "  eta2[col] = (\n",
      "c:\\Users\\Lucca\\anaconda3\\envs\\arvato\\lib\\site-packages\\prince\\famd.py:84: PerformanceWarning: DataFrame is highly fragmented.  This is usually the result of calling `frame.insert` many times, which has poor performance.  Consider joining all columns at once using pd.concat(axis=1) instead. To get a de-fragmented frame, use `newframe = frame.copy()`\n",
      "  eta2[col] = (\n",
      "c:\\Users\\Lucca\\anaconda3\\envs\\arvato\\lib\\site-packages\\prince\\famd.py:84: PerformanceWarning: DataFrame is highly fragmented.  This is usually the result of calling `frame.insert` many times, which has poor performance.  Consider joining all columns at once using pd.concat(axis=1) instead. To get a de-fragmented frame, use `newframe = frame.copy()`\n",
      "  eta2[col] = (\n",
      "c:\\Users\\Lucca\\anaconda3\\envs\\arvato\\lib\\site-packages\\prince\\famd.py:84: PerformanceWarning: DataFrame is highly fragmented.  This is usually the result of calling `frame.insert` many times, which has poor performance.  Consider joining all columns at once using pd.concat(axis=1) instead. To get a de-fragmented frame, use `newframe = frame.copy()`\n",
      "  eta2[col] = (\n",
      "c:\\Users\\Lucca\\anaconda3\\envs\\arvato\\lib\\site-packages\\prince\\famd.py:84: PerformanceWarning: DataFrame is highly fragmented.  This is usually the result of calling `frame.insert` many times, which has poor performance.  Consider joining all columns at once using pd.concat(axis=1) instead. To get a de-fragmented frame, use `newframe = frame.copy()`\n",
      "  eta2[col] = (\n",
      "c:\\Users\\Lucca\\anaconda3\\envs\\arvato\\lib\\site-packages\\prince\\famd.py:84: PerformanceWarning: DataFrame is highly fragmented.  This is usually the result of calling `frame.insert` many times, which has poor performance.  Consider joining all columns at once using pd.concat(axis=1) instead. To get a de-fragmented frame, use `newframe = frame.copy()`\n",
      "  eta2[col] = (\n",
      "c:\\Users\\Lucca\\anaconda3\\envs\\arvato\\lib\\site-packages\\prince\\famd.py:84: PerformanceWarning: DataFrame is highly fragmented.  This is usually the result of calling `frame.insert` many times, which has poor performance.  Consider joining all columns at once using pd.concat(axis=1) instead. To get a de-fragmented frame, use `newframe = frame.copy()`\n",
      "  eta2[col] = (\n",
      "c:\\Users\\Lucca\\anaconda3\\envs\\arvato\\lib\\site-packages\\prince\\famd.py:84: PerformanceWarning: DataFrame is highly fragmented.  This is usually the result of calling `frame.insert` many times, which has poor performance.  Consider joining all columns at once using pd.concat(axis=1) instead. To get a de-fragmented frame, use `newframe = frame.copy()`\n",
      "  eta2[col] = (\n",
      "c:\\Users\\Lucca\\anaconda3\\envs\\arvato\\lib\\site-packages\\prince\\famd.py:84: PerformanceWarning: DataFrame is highly fragmented.  This is usually the result of calling `frame.insert` many times, which has poor performance.  Consider joining all columns at once using pd.concat(axis=1) instead. To get a de-fragmented frame, use `newframe = frame.copy()`\n",
      "  eta2[col] = (\n",
      "c:\\Users\\Lucca\\anaconda3\\envs\\arvato\\lib\\site-packages\\prince\\famd.py:84: PerformanceWarning: DataFrame is highly fragmented.  This is usually the result of calling `frame.insert` many times, which has poor performance.  Consider joining all columns at once using pd.concat(axis=1) instead. To get a de-fragmented frame, use `newframe = frame.copy()`\n",
      "  eta2[col] = (\n",
      "c:\\Users\\Lucca\\anaconda3\\envs\\arvato\\lib\\site-packages\\prince\\famd.py:84: PerformanceWarning: DataFrame is highly fragmented.  This is usually the result of calling `frame.insert` many times, which has poor performance.  Consider joining all columns at once using pd.concat(axis=1) instead. To get a de-fragmented frame, use `newframe = frame.copy()`\n",
      "  eta2[col] = (\n",
      "c:\\Users\\Lucca\\anaconda3\\envs\\arvato\\lib\\site-packages\\prince\\famd.py:84: PerformanceWarning: DataFrame is highly fragmented.  This is usually the result of calling `frame.insert` many times, which has poor performance.  Consider joining all columns at once using pd.concat(axis=1) instead. To get a de-fragmented frame, use `newframe = frame.copy()`\n",
      "  eta2[col] = (\n",
      "c:\\Users\\Lucca\\anaconda3\\envs\\arvato\\lib\\site-packages\\prince\\famd.py:84: PerformanceWarning: DataFrame is highly fragmented.  This is usually the result of calling `frame.insert` many times, which has poor performance.  Consider joining all columns at once using pd.concat(axis=1) instead. To get a de-fragmented frame, use `newframe = frame.copy()`\n",
      "  eta2[col] = (\n",
      "c:\\Users\\Lucca\\anaconda3\\envs\\arvato\\lib\\site-packages\\prince\\famd.py:84: PerformanceWarning: DataFrame is highly fragmented.  This is usually the result of calling `frame.insert` many times, which has poor performance.  Consider joining all columns at once using pd.concat(axis=1) instead. To get a de-fragmented frame, use `newframe = frame.copy()`\n",
      "  eta2[col] = (\n",
      "c:\\Users\\Lucca\\anaconda3\\envs\\arvato\\lib\\site-packages\\prince\\famd.py:84: PerformanceWarning: DataFrame is highly fragmented.  This is usually the result of calling `frame.insert` many times, which has poor performance.  Consider joining all columns at once using pd.concat(axis=1) instead. To get a de-fragmented frame, use `newframe = frame.copy()`\n",
      "  eta2[col] = (\n",
      "c:\\Users\\Lucca\\anaconda3\\envs\\arvato\\lib\\site-packages\\prince\\famd.py:84: PerformanceWarning: DataFrame is highly fragmented.  This is usually the result of calling `frame.insert` many times, which has poor performance.  Consider joining all columns at once using pd.concat(axis=1) instead. To get a de-fragmented frame, use `newframe = frame.copy()`\n",
      "  eta2[col] = (\n",
      "c:\\Users\\Lucca\\anaconda3\\envs\\arvato\\lib\\site-packages\\prince\\famd.py:84: PerformanceWarning: DataFrame is highly fragmented.  This is usually the result of calling `frame.insert` many times, which has poor performance.  Consider joining all columns at once using pd.concat(axis=1) instead. To get a de-fragmented frame, use `newframe = frame.copy()`\n",
      "  eta2[col] = (\n",
      "c:\\Users\\Lucca\\anaconda3\\envs\\arvato\\lib\\site-packages\\prince\\famd.py:84: PerformanceWarning: DataFrame is highly fragmented.  This is usually the result of calling `frame.insert` many times, which has poor performance.  Consider joining all columns at once using pd.concat(axis=1) instead. To get a de-fragmented frame, use `newframe = frame.copy()`\n",
      "  eta2[col] = (\n"
     ]
    }
   ],
   "source": [
    "famd = FAMD(n_components=225,\n",
    "            random_state = 123,\n",
    "            handle_unknown = 'ignore')\n",
    "\n",
    "X_train_transformed = famd.fit_transform(X_train)"
   ]
  },
  {
   "cell_type": "code",
   "execution_count": 38,
   "metadata": {},
   "outputs": [],
   "source": [
    "van_models_dict = {'Decision Tree':dt,\n",
    "                   'Random Forest':rf,\n",
    "                   'XGBoost':xgb,\n",
    "                   'LogisticRegression':lr}"
   ]
  },
  {
   "cell_type": "code",
   "execution_count": 39,
   "metadata": {},
   "outputs": [
    {
     "name": "stderr",
     "output_type": "stream",
     "text": [
      "[Parallel(n_jobs=-1)]: Using backend LokyBackend with 8 concurrent workers.\n"
     ]
    },
    {
     "name": "stderr",
     "output_type": "stream",
     "text": [
      "[Parallel(n_jobs=-1)]: Done   2 out of   5 | elapsed:   12.0s remaining:   18.1s\n",
      "[Parallel(n_jobs=-1)]: Done   5 out of   5 | elapsed:   12.1s finished\n",
      "[Parallel(n_jobs=-1)]: Using backend LokyBackend with 8 concurrent workers.\n",
      "[Parallel(n_jobs=-1)]: Done   2 out of   5 | elapsed:    9.6s remaining:   14.5s\n",
      "[Parallel(n_jobs=-1)]: Done   5 out of   5 | elapsed:   22.0s finished\n",
      "[Parallel(n_jobs=-1)]: Using backend LokyBackend with 8 concurrent workers.\n",
      "[Parallel(n_jobs=-1)]: Done   2 out of   5 | elapsed:  1.2min remaining:  1.8min\n",
      "[Parallel(n_jobs=-1)]: Done   5 out of   5 | elapsed:  1.2min finished\n",
      "[Parallel(n_jobs=-1)]: Using backend LokyBackend with 8 concurrent workers.\n",
      "[Parallel(n_jobs=-1)]: Done   2 out of   5 | elapsed:    3.0s remaining:    4.5s\n",
      "[Parallel(n_jobs=-1)]: Done   5 out of   5 | elapsed:    3.2s finished\n"
     ]
    }
   ],
   "source": [
    "result_df_vanilla = evaluate_models(X_train_transformed, y_train, dict_models = van_models_dict, cv = skfold)"
   ]
  },
  {
   "cell_type": "code",
   "execution_count": 40,
   "metadata": {},
   "outputs": [
    {
     "data": {
      "image/png": "[encoded data removed]",
      "text/plain": [
       "<Figure size 1500x500 with 2 Axes>"
      ]
     },
     "metadata": {},
     "output_type": "display_data"
    }
   ],
   "source": [
    "fig, ax = plt.subplots(1,2,figsize = (15,5), sharey=True)\n",
    "\n",
    "sns.barplot(data = result_df_vanilla,\n",
    "                    x = 'Fold',\n",
    "                    y = 'train_score',\n",
    "                    hue = 'model',\n",
    "                    ax = ax[0])\n",
    "\n",
    "sns.barplot(data = result_df_vanilla,\n",
    "                    x = 'Fold',\n",
    "                    y = 'test_score',\n",
    "                    hue = 'model',\n",
    "                    ax = ax[1])\n",
    "\n",
    "ax[0].set_ylabel('ROC-AUC Score')\n",
    "\n",
    "ax[0].get_legend().remove()\n",
    "\n",
    "ax[0].set_title('Train data')\n",
    "\n",
    "ax[1].set_title('Test data')\n",
    "\n",
    "ax[1].legend(title = 'Model',bbox_to_anchor = (1.01,1), loc = 'upper left')\n",
    "\n",
    "ax[1].set_ylabel('')\n",
    "\n",
    "for a in ax:\n",
    "\n",
    "    a.set_xlabel('Fold')\n",
    "\n",
    "plt.suptitle('Model Performance (ROC-AUC) Over K = 5 Folds for training data')\n",
    "\n",
    "plt.show()"
   ]
  },
  {
   "cell_type": "code",
   "execution_count": 41,
   "metadata": {},
   "outputs": [
    {
     "data": {
      "text/html": [
       "<div>\n",
       "<style scoped>\n",
       "    .dataframe tbody tr th:only-of-type {\n",
       "        vertical-align: middle;\n",
       "    }\n",
       "\n",
       "    .dataframe tbody tr th {\n",
       "        vertical-align: top;\n",
       "    }\n",
       "\n",
       "    .dataframe thead th {\n",
       "        text-align: right;\n",
       "    }\n",
       "</style>\n",
       "<table border=\"1\" class=\"dataframe\">\n",
       "  <thead>\n",
       "    <tr style=\"text-align: right;\">\n",
       "      <th></th>\n",
       "      <th>test_score</th>\n",
       "      <th>train_score</th>\n",
       "    </tr>\n",
       "    <tr>\n",
       "      <th>model</th>\n",
       "      <th></th>\n",
       "      <th></th>\n",
       "    </tr>\n",
       "  </thead>\n",
       "  <tbody>\n",
       "    <tr>\n",
       "      <th>Decision Tree</th>\n",
       "      <td>0.530523</td>\n",
       "      <td>0.620180</td>\n",
       "    </tr>\n",
       "    <tr>\n",
       "      <th>LogisticRegression</th>\n",
       "      <td>0.651986</td>\n",
       "      <td>0.830229</td>\n",
       "    </tr>\n",
       "    <tr>\n",
       "      <th>Random Forest</th>\n",
       "      <td>0.594337</td>\n",
       "      <td>0.945603</td>\n",
       "    </tr>\n",
       "    <tr>\n",
       "      <th>XGBoost</th>\n",
       "      <td>0.605149</td>\n",
       "      <td>0.971923</td>\n",
       "    </tr>\n",
       "  </tbody>\n",
       "</table>\n",
       "</div>"
      ],
      "text/plain": [
       "                    test_score  train_score\n",
       "model                                      \n",
       "Decision Tree         0.530523     0.620180\n",
       "LogisticRegression    0.651986     0.830229\n",
       "Random Forest         0.594337     0.945603\n",
       "XGBoost               0.605149     0.971923"
      ]
     },
     "execution_count": 41,
     "metadata": {},
     "output_type": "execute_result"
    }
   ],
   "source": [
    "result_df_vanilla.groupby('model')[['test_score','train_score']].mean()"
   ]
  },
  {
   "attachments": {},
   "cell_type": "markdown",
   "metadata": {},
   "source": [
    "Dimensionality reduction seems to have made the results even worse on the test scores and lead to higher overfitting"
   ]
  },
  {
   "attachments": {},
   "cell_type": "markdown",
   "metadata": {},
   "source": [
    "# Hyperparameter Tuning - Variables with OHE"
   ]
  },
  {
   "cell_type": "code",
   "execution_count": 58,
   "metadata": {},
   "outputs": [],
   "source": [
    "dt_params = {'DT__max_depth':[5,6,7,8],\n",
    "             'DT__min_samples_split':[2,5,10],\n",
    "             'DT__min_samples_leaf':[3,5]}\n",
    "\n",
    "xgb_params = {'XGB__n_estimators':[100,150,200],\n",
    "              'XGB__max_depth':[2,3],\n",
    "              'XGB__learning_rate':[0.1,0.2,0.3],\n",
    "              'XGB__scale_pos_weight':[80,0],\n",
    "              'XGB__alpha':[0,1,2.5]}"
   ]
  },
  {
   "cell_type": "code",
   "execution_count": 59,
   "metadata": {},
   "outputs": [],
   "source": [
    "# model_search_list = list(zip([pipe_dt, pipe_rf, pipe_xgb],\n",
    "#                                 [dt_params, rf_params, xgb_params],\n",
    "#                                 ['DT','RF','XGB']))\n",
    "\n",
    "model_search_list = list(zip([pipe_dt, pipe_xgb],\n",
    "                                [dt_params, xgb_params],\n",
    "                                ['DT','XGB']))"
   ]
  },
  {
   "cell_type": "code",
   "execution_count": 60,
   "metadata": {},
   "outputs": [
    {
     "name": "stdout",
     "output_type": "stream",
     "text": [
      "Running for DT\n",
      "Fitting 5 folds for each of 10 candidates, totalling 50 fits\n",
      "Mean Scores: [0.6299969  0.63022067 0.64590451 0.6454933  0.65244223 0.64539603\n",
      " 0.63076504 0.64973081 0.64933289 0.65231528] \n",
      " Rank: [10  9  5  6  1  7  8  3  4  2]\n",
      "\n",
      "Running for XGB\n",
      "Fitting 5 folds for each of 10 candidates, totalling 50 fits\n",
      "[15:56:52] WARNING: C:\\Users\\dev-admin\\croot2\\xgboost-split_1675461376218\\work\\src\\learner.cc:767: \n",
      "Parameters: { \"n_thread\" } are not used.\n",
      "\n",
      "Mean Scores: [0.64110114 0.62371198 0.5        0.5        0.65177933 0.5\n",
      " 0.5        0.5        0.5        0.64727329] \n",
      " Rank: [3 4 5 5 1 5 5 5 5 2]\n",
      "\n"
     ]
    }
   ],
   "source": [
    "cross_vals = {'DT':None,\n",
    "        #       'RF':None,\n",
    "              'XGB':None}\n",
    "\n",
    "for model, params, name in model_search_list:\n",
    "\n",
    "    print(f'Running for {name}')\n",
    "\n",
    "    cv = RandomizedSearchCV(model,\n",
    "                            params,\n",
    "                            scoring = 'roc_auc',\n",
    "                            n_jobs = -1,\n",
    "                            cv = skfold,\n",
    "                            verbose = 1)\n",
    "        \n",
    "    cv.fit(X_train, y_train)\n",
    "\n",
    "    print('Mean Scores:',cv.cv_results_['mean_test_score'],'\\n',\n",
    "            'Rank:',cv.cv_results_['rank_test_score'], end = '\\n\\n')\n",
    "    \n",
    "    cross_vals[name] = cv"
   ]
  },
  {
   "attachments": {},
   "cell_type": "markdown",
   "metadata": {},
   "source": [
    "Baseline values for XGB were different from DT. Looking with more depth in XGB"
   ]
  },
  {
   "cell_type": "code",
   "execution_count": 62,
   "metadata": {},
   "outputs": [
    {
     "name": "stdout",
     "output_type": "stream",
     "text": [
      "Fitting 5 folds for each of 108 candidates, totalling 540 fits\n",
      "[17:22:37] WARNING: C:\\Users\\dev-admin\\croot2\\xgboost-split_1675461376218\\work\\src\\learner.cc:767: \n",
      "Parameters: { \"n_thread\" } are not used.\n",
      "\n",
      "Mean Scores: [0.6724409  0.5        0.66588324 0.5        0.66248366 0.5\n",
      " 0.66557084 0.5        0.65844821 0.5        0.65371087 0.5\n",
      " 0.67512573 0.5        0.66246682 0.5        0.65817902 0.5\n",
      " 0.65656719 0.5        0.64459865 0.5        0.64055168 0.5\n",
      " 0.65295137 0.5        0.65338518 0.5        0.64961028 0.5\n",
      " 0.63106281 0.5        0.62694295 0.5        0.62371198 0.5\n",
      " 0.67391957 0.5        0.66953672 0.5        0.66077279 0.5\n",
      " 0.66656032 0.5        0.66220405 0.5        0.65536324 0.5\n",
      " 0.66173125 0.5        0.65177933 0.5        0.64859156 0.5\n",
      " 0.66439437 0.5        0.65191093 0.5        0.64727329 0.5\n",
      " 0.65837488 0.5        0.65407245 0.5        0.65263853 0.5\n",
      " 0.64990938 0.5        0.63839592 0.5        0.63219586 0.5\n",
      " 0.67516606 0.5        0.66964927 0.5        0.65915808 0.5\n",
      " 0.66243315 0.5        0.66314346 0.5        0.65435737 0.5\n",
      " 0.66512728 0.5        0.65786596 0.5        0.65659377 0.5\n",
      " 0.65132735 0.5        0.64110114 0.5        0.63897197 0.5\n",
      " 0.65831306 0.5        0.65363908 0.5        0.64093276 0.5\n",
      " 0.64156065 0.5        0.63150947 0.5        0.6325858  0.5       ] \n",
      " Rank: [ 4 55  8 55 13 55  9 55 20 55 30 55  2 55 14 55 23 55 26 55 42 55 46 55\n",
      " 33 55 32 55 39 55 52 55 53 55 54 55  3 55  6 55 18 55  7 55 16 55 27 55\n",
      " 17 55 36 55 40 55 11 55 35 55 41 55 21 55 29 55 34 55 38 55 48 55 50 55\n",
      "  1 55  5 55 19 55 15 55 12 55 28 55 10 55 24 55 25 55 37 55 44 55 47 55\n",
      " 22 55 31 55 45 55 43 55 51 55 49 55]\n",
      "\n"
     ]
    }
   ],
   "source": [
    "grid_cv = GridSearchCV(pipe_xgb,\n",
    "                        params,\n",
    "                        scoring = 'roc_auc',\n",
    "                        n_jobs = -1,\n",
    "                        cv = skfold,\n",
    "                        verbose = 1)\n",
    "\n",
    "grid_cv.fit(X_train, y_train)\n",
    "\n",
    "print('Mean Scores:',grid_cv.cv_results_['mean_test_score'],'\\n',\n",
    "            'Rank:',grid_cv.cv_results_['rank_test_score'], end = '\\n\\n')"
   ]
  },
  {
   "cell_type": "code",
   "execution_count": 63,
   "metadata": {},
   "outputs": [
    {
     "data": {
      "text/plain": [
       "{'XGB__alpha': 2.5,\n",
       " 'XGB__learning_rate': 0.1,\n",
       " 'XGB__max_depth': 2,\n",
       " 'XGB__n_estimators': 100,\n",
       " 'XGB__scale_pos_weight': 80}"
      ]
     },
     "execution_count": 63,
     "metadata": {},
     "output_type": "execute_result"
    }
   ],
   "source": [
    "grid_cv.best_params_"
   ]
  },
  {
   "cell_type": "code",
   "execution_count": 66,
   "metadata": {},
   "outputs": [
    {
     "data": {
      "text/plain": [
       "0.6751660573834053"
      ]
     },
     "execution_count": 66,
     "metadata": {},
     "output_type": "execute_result"
    }
   ],
   "source": [
    "grid_cv.best_score_"
   ]
  },
  {
   "cell_type": "code",
   "execution_count": 67,
   "metadata": {},
   "outputs": [],
   "source": [
    "# with open(f'models/XGB_no_interval_ohe_best_estimator.pkl', 'wb') as file:\n",
    "\n",
    "#             pickle.dump(grid_cv.best_estimator_, file)"
   ]
  },
  {
   "cell_type": "code",
   "execution_count": 49,
   "metadata": {},
   "outputs": [],
   "source": [
    "# for c in cross_vals.values():\n",
    "\n",
    "#         with open(f'models/{name}_best_estimator.pkl', 'wb') as file:\n",
    "\n",
    "#                 pickle.dump(c.best_estimator_, file)"
   ]
  },
  {
   "attachments": {},
   "cell_type": "markdown",
   "metadata": {},
   "source": [
    "# Hyperparameter Tuning - RF with OHE of interval vars"
   ]
  },
  {
   "cell_type": "code",
   "execution_count": 113,
   "metadata": {},
   "outputs": [],
   "source": [
    "rf_params = {'RF__n_estimators':[100,200,300],\n",
    "             'RF__max_depth':[2,3]}\n",
    "\n",
    "xgb_params = {'XGB__n_estimators':[100],\n",
    "              'XGB__max_depth':[2,3],\n",
    "              'XGB__learning_rate':[0.1,0.2,0.3],\n",
    "              'XGB__alpha':[0,1,2.5]}"
   ]
  },
  {
   "cell_type": "code",
   "execution_count": 114,
   "metadata": {},
   "outputs": [],
   "source": [
    "model_search_list_alt = list(zip([pipe_rf_ohe_int, pipe_xgb_ohe_int],\n",
    "                                [rf_params, xgb_params],\n",
    "                                ['RF','XGB']))"
   ]
  },
  {
   "cell_type": "code",
   "execution_count": 115,
   "metadata": {},
   "outputs": [
    {
     "name": "stdout",
     "output_type": "stream",
     "text": [
      "Running for RF\n",
      "Fitting 5 folds for each of 6 candidates, totalling 30 fits\n",
      "Mean Scores: [0.67514523 0.67820317 0.67675994 0.68171087 0.6800319  0.67754293] \n",
      " Rank: [6 3 5 1 2 4]\n",
      "\n",
      "Running for XGB\n",
      "Fitting 5 folds for each of 18 candidates, totalling 90 fits\n",
      "[11:51:17] WARNING: C:\\Users\\dev-admin\\croot2\\xgboost-split_1675461376218\\work\\src\\learner.cc:767: \n",
      "Parameters: { \"n_thread\" } are not used.\n",
      "\n",
      "Mean Scores: [0.66742041 0.65967165 0.64988634 0.64980304 0.64367121 0.6435303\n",
      " 0.67213847 0.66207156 0.65025014 0.64610701 0.6371295  0.63239216\n",
      " 0.67192866 0.65662524 0.64791138 0.65807378 0.64171308 0.64312042] \n",
      " Rank: [ 3  5  9 10 13 14  1  4  8 12 17 18  2  7 11  6 16 15]\n",
      "\n"
     ]
    }
   ],
   "source": [
    "cross_vals_alt = {'RF':None,\n",
    "                   'XGB':None}\n",
    "\n",
    "for model, params, name in model_search_list_alt: \n",
    "\n",
    "    print(f'Running for {name}')\n",
    "\n",
    "    cv = GridSearchCV(model,\n",
    "                        params,\n",
    "                        scoring = 'roc_auc',\n",
    "                        n_jobs = -1,\n",
    "                        cv = skfold,\n",
    "                        verbose = 1)\n",
    "        \n",
    "    cv.fit(X_train, y_train)\n",
    "\n",
    "    print('Mean Scores:',cv.cv_results_['mean_test_score'],'\\n',\n",
    "            'Rank:',cv.cv_results_['rank_test_score'], end = '\\n\\n')\n",
    "    \n",
    "    cross_vals[name] = cv"
   ]
  },
  {
   "cell_type": "code",
   "execution_count": 124,
   "metadata": {},
   "outputs": [],
   "source": [
    "# with open(f'models/RF_interval_ohe_best_estimator.pkl', 'wb') as file:\n",
    "\n",
    "#   pickle.dump(cross_vals['RF'].best_estimator_, file)"
   ]
  },
  {
   "attachments": {},
   "cell_type": "markdown",
   "metadata": {},
   "source": [
    "# Predictions on test set"
   ]
  },
  {
   "cell_type": "code",
   "execution_count": 112,
   "metadata": {},
   "outputs": [],
   "source": [
    "import os"
   ]
  },
  {
   "cell_type": "code",
   "execution_count": 114,
   "metadata": {},
   "outputs": [],
   "source": [
    "model_dict = {}\n",
    "\n",
    "for m in os.listdir('models'):\n",
    "\n",
    "    if 'clusters' in m:\n",
    "\n",
    "        continue\n",
    "\n",
    "    else:\n",
    "\n",
    "        name = m.split('_')[0]\n",
    "\n",
    "        with open(os.path.join('models',m), 'rb') as file:\n",
    "\n",
    "            model_dict[name] = pickle.load(file)"
   ]
  },
  {
   "cell_type": "code",
   "execution_count": 138,
   "metadata": {},
   "outputs": [],
   "source": [
    "models_dict = {}\n",
    "\n",
    "for m in ['RF_interval_ohe_best_estimator', 'XGB_no_interval_ohe_best_estimator']:\n",
    "\n",
    "    key = m.split('_')[0]\n",
    "\n",
    "    with  open(f'models/{m}.pkl', 'rb') as file:\n",
    "\n",
    "        model = pickle.load(file)\n",
    "\n",
    "        models_dict[key] = model"
   ]
  },
  {
   "cell_type": "code",
   "execution_count": 139,
   "metadata": {},
   "outputs": [],
   "source": [
    "# Baseline Result\n",
    "models_dict['LR'] = pipe_lr"
   ]
  },
  {
   "cell_type": "code",
   "execution_count": 185,
   "metadata": {},
   "outputs": [
    {
     "name": "stdout",
     "output_type": "stream",
     "text": [
      "[12:55:27] WARNING: C:\\Users\\dev-admin\\croot2\\xgboost-split_1675461376218\\work\\src\\learner.cc:767: \n",
      "Parameters: { \"n_thread\" } are not used.\n",
      "\n"
     ]
    }
   ],
   "source": [
    "model_result_dict = {'model':[],\n",
    "                     'auc_score':[]}\n",
    "\n",
    "curve_data = []\n",
    "\n",
    "for name, model in models_dict.items():\n",
    "\n",
    "    model.fit(X_train, y_train)\n",
    "\n",
    "    y_pred = model.predict_proba(X_test)[:, 1]\n",
    "    \n",
    "    score_auc = roc_auc_score(y_test, y_pred)\n",
    "\n",
    "    fpr, tpr, thresh = roc_curve(y_test, y_pred)\n",
    "\n",
    "    curve_data.append((name, fpr, tpr, thresh))\n",
    "\n",
    "    model_result_dict['model'].append(name)\n",
    "\n",
    "    model_result_dict['auc_score'].append(score_auc)\n",
    "    \n",
    "model_result_frame = pd.DataFrame().from_dict(model_result_dict)\n",
    "\n",
    "model_curve_data = pd.DataFrame(curve_data, columns = ['Model','FPR','TPR','Thresholds']).explode(['FPR','TPR','Thresholds'])"
   ]
  },
  {
   "attachments": {},
   "cell_type": "markdown",
   "metadata": {},
   "source": [
    "# Result Plot"
   ]
  },
  {
   "cell_type": "code",
   "execution_count": 203,
   "metadata": {},
   "outputs": [
    {
     "data": {
      "image/png": "[encoded data removed]",
      "text/plain": [
       "<Figure size 1500x500 with 2 Axes>"
      ]
     },
     "metadata": {},
     "output_type": "display_data"
    }
   ],
   "source": [
    "fig, axs = plt.subplots(1,2,figsize = (15,5))\n",
    "\n",
    "sns.lineplot(data = model_curve_data,\n",
    "             x = 'FPR',\n",
    "             y = 'TPR',\n",
    "             hue = 'Model',\n",
    "             ax = axs[0],\n",
    "             errorbar=('ci',0),\n",
    "             hue_order=['LR','RF','XGB'])\n",
    "\n",
    "# Reference for ROC-AUC Plot\n",
    "sns.lineplot(x = [0,1],\n",
    "             y = [0,1],\n",
    "             linestyle = '--',\n",
    "             color = 'black',\n",
    "             linewidth = 0.5,\n",
    "             ax = axs[0])\n",
    "\n",
    "sns.barplot(data = model_result_frame,\n",
    "            x = 'model',\n",
    "            y = 'auc_score',\n",
    "            hue = 'model',\n",
    "            hue_order = ['LR','RF','XGB'],\n",
    "            order = ['LR','RF','XGB'],\n",
    "            ax = axs[1],\n",
    "            dodge=False)\n",
    "\n",
    "axs[0].set_title('ROC-AUC curve for different models')\n",
    "\n",
    "# plt.legend(title = 'Models')\n",
    "\n",
    "axs[0].set_xlabel('False Positive Rate (FPR)')\n",
    "\n",
    "axs[0].set_ylabel('True Positive Rate (TPR)')\n",
    "\n",
    "axs[0].legend(title = 'Models')\n",
    "\n",
    "for bars in axs[1].containers: axs[1].bar_label(bars, fmt='%.3f')\n",
    "\n",
    "axs[1].set_title('AUC-Score for each model')\n",
    "\n",
    "axs[1].set_ylabel('AUC-Score')\n",
    "\n",
    "axs[1].set_xlabel('Model')\n",
    "\n",
    "axs[1].get_legend().remove()\n",
    "\n",
    "plt.show()"
   ]
  }
 ],
 "metadata": {
  "kernelspec": {
   "display_name": "arvato",
   "language": "python",
   "name": "python3"
  },
  "language_info": {
   "codemirror_mode": {
    "name": "ipython",
    "version": 3
   },
   "file_extension": ".py",
   "mimetype": "text/x-python",
   "name": "python",
   "nbconvert_exporter": "python",
   "pygments_lexer": "ipython3",
   "version": "3.10.9"
  },
  "orig_nbformat": 4
 },
 "nbformat": 4,
 "nbformat_minor": 2
}
