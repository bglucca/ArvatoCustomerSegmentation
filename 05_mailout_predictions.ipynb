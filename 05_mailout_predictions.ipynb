{
 "cells": [
  {
   "cell_type": "code",
   "execution_count": 46,
   "metadata": {},
   "outputs": [],
   "source": [
    "import pandas as pd\n",
    "import numpy as np\n",
    "\n",
    "import seaborn as sns\n",
    "import matplotlib.pyplot as plt\n",
    "import plotly.express as px\n",
    "\n",
    "from sklearn.tree import DecisionTreeClassifier\n",
    "from sklearn.ensemble import RandomForestClassifier\n",
    "from sklearn.model_selection import StratifiedKFold, train_test_split,GridSearchCV, cross_validate\n",
    "from sklearn.metrics import roc_auc_score, f1_score\n",
    "from sklearn.linear_model import LogisticRegression\n",
    "from sklearn.preprocessing import OneHotEncoder, StandardScaler, OrdinalEncoder\n",
    "from sklearn.compose import make_column_transformer\n",
    "from sklearn.pipeline import Pipeline\n",
    "import imblearn\n",
    "\n",
    "import pickle\n",
    "\n",
    "from xgboost import XGBClassifier"
   ]
  },
  {
   "cell_type": "code",
   "execution_count": 2,
   "metadata": {},
   "outputs": [],
   "source": [
    "sns.set_style('whitegrid')"
   ]
  },
  {
   "cell_type": "code",
   "execution_count": 3,
   "metadata": {},
   "outputs": [],
   "source": [
    "# census = pd.read_parquet('data/refined/census_data.parquet')"
   ]
  },
  {
   "cell_type": "code",
   "execution_count": 3,
   "metadata": {},
   "outputs": [],
   "source": [
    "df_mailout = pd.read_parquet('data/refined/full_mailout_train.parquet')"
   ]
  },
  {
   "attachments": {},
   "cell_type": "markdown",
   "metadata": {},
   "source": [
    "# Response variable"
   ]
  },
  {
   "cell_type": "code",
   "execution_count": 4,
   "metadata": {},
   "outputs": [
    {
     "data": {
      "image/png": "[encoded data removed]",
      "text/plain": [
       "<Figure size 640x480 with 1 Axes>"
      ]
     },
     "metadata": {},
     "output_type": "display_data"
    }
   ],
   "source": [
    "g = sns.countplot(data = df_mailout,\n",
    "                    x = 'RESPONSE')\n",
    "\n",
    "g.bar_label(g.containers[-1])\n",
    "\n",
    "plt.title('Count of Response Variable')\n",
    "\n",
    "plt.show()"
   ]
  },
  {
   "cell_type": "code",
   "execution_count": 5,
   "metadata": {},
   "outputs": [
    {
     "data": {
      "text/plain": [
       "0    0.987681\n",
       "1    0.012319\n",
       "Name: RESPONSE, dtype: float64"
      ]
     },
     "execution_count": 5,
     "metadata": {},
     "output_type": "execute_result"
    }
   ],
   "source": [
    "df_mailout['RESPONSE'].value_counts(normalize = True)"
   ]
  },
  {
   "attachments": {},
   "cell_type": "markdown",
   "metadata": {},
   "source": [
    "The data is HEAVILY imbalanced. A little more than 1% actually responded to the mailing.  \n",
    "This is not inherently bad. Some methods can be used like up- or downsampling but not necessairly.  \n",
    "Either way, given this hard imbalace, accuracy should not be used since in this context it is a biased metric"
   ]
  },
  {
   "attachments": {},
   "cell_type": "markdown",
   "metadata": {},
   "source": [
    "# Segmenting variable types"
   ]
  },
  {
   "cell_type": "code",
   "execution_count": 6,
   "metadata": {},
   "outputs": [],
   "source": [
    "census_var_types = pd.read_excel('data/raw/DIAS Attributes - Values 2017.xlsx',\n",
    "                                    sheet_name='Tabelle1_fixed',\n",
    "                                    usecols = 'B:C',\n",
    "                                    header = 1)\\\n",
    "                                    .dropna()"
   ]
  },
  {
   "cell_type": "code",
   "execution_count": 7,
   "metadata": {},
   "outputs": [
    {
     "data": {
      "text/html": [
       "<div>\n",
       "<style scoped>\n",
       "    .dataframe tbody tr th:only-of-type {\n",
       "        vertical-align: middle;\n",
       "    }\n",
       "\n",
       "    .dataframe tbody tr th {\n",
       "        vertical-align: top;\n",
       "    }\n",
       "\n",
       "    .dataframe thead th {\n",
       "        text-align: right;\n",
       "    }\n",
       "</style>\n",
       "<table border=\"1\" class=\"dataframe\">\n",
       "  <thead>\n",
       "    <tr style=\"text-align: right;\">\n",
       "      <th></th>\n",
       "      <th>Attribute</th>\n",
       "      <th>Type</th>\n",
       "    </tr>\n",
       "  </thead>\n",
       "  <tbody>\n",
       "    <tr>\n",
       "      <th>0</th>\n",
       "      <td>AGER_TYP</td>\n",
       "      <td>nominal</td>\n",
       "    </tr>\n",
       "    <tr>\n",
       "      <th>5</th>\n",
       "      <td>ALTERSKATEGORIE_GROB</td>\n",
       "      <td>interval</td>\n",
       "    </tr>\n",
       "    <tr>\n",
       "      <th>11</th>\n",
       "      <td>ALTER_HH</td>\n",
       "      <td>interval</td>\n",
       "    </tr>\n",
       "    <tr>\n",
       "      <th>33</th>\n",
       "      <td>ANREDE_KZ</td>\n",
       "      <td>binary</td>\n",
       "    </tr>\n",
       "    <tr>\n",
       "      <th>36</th>\n",
       "      <td>ANZ_HAUSHALTE_AKTIV</td>\n",
       "      <td>numeric</td>\n",
       "    </tr>\n",
       "  </tbody>\n",
       "</table>\n",
       "</div>"
      ],
      "text/plain": [
       "               Attribute      Type\n",
       "0               AGER_TYP   nominal\n",
       "5   ALTERSKATEGORIE_GROB  interval\n",
       "11              ALTER_HH  interval\n",
       "33             ANREDE_KZ    binary\n",
       "36   ANZ_HAUSHALTE_AKTIV   numeric"
      ]
     },
     "execution_count": 7,
     "metadata": {},
     "output_type": "execute_result"
    }
   ],
   "source": [
    "census_var_types.head()"
   ]
  },
  {
   "cell_type": "code",
   "execution_count": 8,
   "metadata": {},
   "outputs": [],
   "source": [
    "census_var_types.loc[census_var_types['Attribute'] == 'ANZ_HH_TITEL','Type'] = 'binary'"
   ]
  },
  {
   "cell_type": "code",
   "execution_count": 9,
   "metadata": {},
   "outputs": [],
   "source": [
    "binary_vars = census_var_types[census_var_types['Type'] == 'binary']['Attribute'].values\n",
    "\n",
    "binary_vars = np.intersect1d(binary_vars, df_mailout.columns)"
   ]
  },
  {
   "cell_type": "code",
   "execution_count": 10,
   "metadata": {},
   "outputs": [
    {
     "name": "stdout",
     "output_type": "stream",
     "text": [
      "ANREDE_KZ [2 1]\n",
      "ANZ_HH_TITEL [0. 1.]\n",
      "GREEN_AVANTGARDE [0 1]\n",
      "KBA05_SEG6 [0. 1.]\n",
      "OST_WEST_KZ [1. 0.]\n",
      "VERS_TYP [2. 1.]\n"
     ]
    }
   ],
   "source": [
    "for col in binary_vars:\n",
    "    \n",
    "    try:\n",
    "        print(col, df_mailout[col].unique())\n",
    "\n",
    "    except:\n",
    "\n",
    "        print(f'Column not found: {col}')\n",
    "\n",
    "        continue"
   ]
  },
  {
   "cell_type": "code",
   "execution_count": 11,
   "metadata": {},
   "outputs": [],
   "source": [
    "df_mailout['ANREDE_KZ'] = df_mailout['ANREDE_KZ'] - 1\n",
    "\n",
    "df_mailout['VERS_TYP'] = df_mailout['VERS_TYP'] - 1"
   ]
  },
  {
   "cell_type": "code",
   "execution_count": 12,
   "metadata": {},
   "outputs": [],
   "source": [
    "nominal_vars = census_var_types[census_var_types['Type'] == 'nominal']['Attribute'].values\n",
    "\n",
    "nominal_vars = np.intersect1d(nominal_vars, df_mailout.columns)"
   ]
  },
  {
   "cell_type": "code",
   "execution_count": 13,
   "metadata": {},
   "outputs": [],
   "source": [
    "interval_vars = census_var_types[census_var_types['Type'] == 'interval']['Attribute'].values\n",
    "\n",
    "interval_vars = np.intersect1d(interval_vars, df_mailout.columns)"
   ]
  },
  {
   "cell_type": "code",
   "execution_count": 14,
   "metadata": {},
   "outputs": [],
   "source": [
    "binary_vars = census_var_types[census_var_types['Type'] == 'binary']['Attribute'].values\n",
    "\n",
    "binary_vars = np.intersect1d(binary_vars, df_mailout.columns)"
   ]
  },
  {
   "cell_type": "code",
   "execution_count": 15,
   "metadata": {},
   "outputs": [],
   "source": [
    "num_cols = df_mailout.columns.drop(list(nominal_vars) + list(binary_vars) + list(interval_vars) + ['LNR','RESPONSE'])"
   ]
  },
  {
   "cell_type": "code",
   "execution_count": 16,
   "metadata": {},
   "outputs": [],
   "source": [
    "assert (len(nominal_vars) + len(binary_vars) + len(interval_vars) + len(num_cols) + 1) == len(df_mailout.columns.drop('RESPONSE'))"
   ]
  },
  {
   "attachments": {},
   "cell_type": "markdown",
   "metadata": {},
   "source": [
    "# Splitting Data"
   ]
  },
  {
   "cell_type": "code",
   "execution_count": 17,
   "metadata": {},
   "outputs": [],
   "source": [
    "X = df_mailout.drop(columns = ['LNR','RESPONSE'])\n",
    "\n",
    "y = df_mailout['RESPONSE']"
   ]
  },
  {
   "cell_type": "code",
   "execution_count": 18,
   "metadata": {},
   "outputs": [],
   "source": [
    "feature_list = df_mailout.columns.drop(['LNR','RESPONSE'])\n",
    "\n",
    "nominal_vars_pos = [feature_list.get_loc(col) for col in X.columns if col in nominal_vars]"
   ]
  },
  {
   "cell_type": "code",
   "execution_count": 19,
   "metadata": {},
   "outputs": [],
   "source": [
    "X_train, X_test, y_train, y_test = train_test_split(X, y, test_size=0.2,stratify = y,random_state=42)"
   ]
  },
  {
   "cell_type": "code",
   "execution_count": 20,
   "metadata": {},
   "outputs": [
    {
     "data": {
      "text/plain": [
       "0    0.987666\n",
       "1    0.012334\n",
       "Name: RESPONSE, dtype: float64"
      ]
     },
     "execution_count": 20,
     "metadata": {},
     "output_type": "execute_result"
    }
   ],
   "source": [
    "y_train.value_counts(normalize = True)"
   ]
  },
  {
   "cell_type": "code",
   "execution_count": 21,
   "metadata": {},
   "outputs": [
    {
     "data": {
      "text/plain": [
       "0    0.98774\n",
       "1    0.01226\n",
       "Name: RESPONSE, dtype: float64"
      ]
     },
     "execution_count": 21,
     "metadata": {},
     "output_type": "execute_result"
    }
   ],
   "source": [
    "y_test.value_counts(normalize = True)"
   ]
  },
  {
   "attachments": {},
   "cell_type": "markdown",
   "metadata": {},
   "source": [
    "# Testing base models\n",
    "Vanilla models to pick best option for tuning"
   ]
  },
  {
   "cell_type": "code",
   "execution_count": 42,
   "metadata": {},
   "outputs": [],
   "source": [
    "# Models to be tested\n",
    "dt = DecisionTreeClassifier(class_weight='balanced')\n",
    "\n",
    "rf = RandomForestClassifier(class_weight='balanced',random_state=42, n_jobs=-1)\n",
    "\n",
    "# Instantiating an XGB to match the closest possible characteristics with balanced class_weights\n",
    "xgb = XGBClassifier(scale_pos_weight = 80,n_thread = 4, random_state = 42)\n",
    "\n",
    "lr = LogisticRegression(n_jobs = -1,class_weight='balanced',random_state=42)"
   ]
  },
  {
   "cell_type": "code",
   "execution_count": 23,
   "metadata": {},
   "outputs": [],
   "source": [
    "ohe_transformer = make_column_transformer((OneHotEncoder(),nominal_vars_pos),remainder = 'passthrough') # Using positions for more flexibility (np.array)"
   ]
  },
  {
   "cell_type": "code",
   "execution_count": 24,
   "metadata": {},
   "outputs": [],
   "source": [
    "# Models to be tested\n",
    "pipe_dt = Pipeline([('ohe',ohe_transformer),('Decision Tree',dt)])\n",
    "\n",
    "pipe_rf = Pipeline([('ohe',ohe_transformer),('RF',rf)])\n",
    "\n",
    "# Instantiating an XGB to match the closest possible characteristics with balanced class_weights\n",
    "pipe_xgb = Pipeline([('ohe',ohe_transformer),('XGB',xgb)])\n",
    "\n",
    "pipe_lr = Pipeline([('ohe',ohe_transformer),('LR',lr)])"
   ]
  },
  {
   "cell_type": "code",
   "execution_count": 25,
   "metadata": {},
   "outputs": [],
   "source": [
    "models_dict = {'Decision Tree':pipe_dt, 'Random Forest':pipe_rf,'XGBoost':pipe_xgb, 'LogisticRegression':pipe_lr}"
   ]
  },
  {
   "cell_type": "code",
   "execution_count": 26,
   "metadata": {},
   "outputs": [],
   "source": [
    "skfold = StratifiedKFold(n_splits = 5, random_state = 123, shuffle = True)"
   ]
  },
  {
   "cell_type": "code",
   "execution_count": 27,
   "metadata": {},
   "outputs": [],
   "source": [
    "def evaluate_models(X,y,dict_models,cv):\n",
    "\n",
    "    for i, (name, model) in enumerate(dict_models.items()):\n",
    "\n",
    "        scores = cross_validate(model, X, y, cv=cv, scoring=['roc_auc','f1'], n_jobs= -1, verbose = 1, return_train_score=True)\n",
    "\n",
    "        scores['model'] = name\n",
    "\n",
    "        if i == 0:\n",
    "\n",
    "            records = [scores]\n",
    "\n",
    "        else:\n",
    "\n",
    "            records.append(scores)\n",
    "\n",
    "    for i, r in enumerate(records):\n",
    "\n",
    "        temp = pd.DataFrame.from_dict(r)\n",
    "\n",
    "        if i == 0:\n",
    "\n",
    "            results_df = temp\n",
    "        \n",
    "        else:\n",
    "\n",
    "            results_df = pd.concat([results_df, temp])\n",
    "        \n",
    "    results_df.reset_index(inplace = True)\n",
    "\n",
    "    results_df.rename(columns = {'index':'Fold'}, inplace = True)\n",
    "\n",
    "    return results_df"
   ]
  },
  {
   "cell_type": "code",
   "execution_count": 28,
   "metadata": {},
   "outputs": [
    {
     "name": "stderr",
     "output_type": "stream",
     "text": [
      "[Parallel(n_jobs=-1)]: Using backend LokyBackend with 8 concurrent workers.\n",
      "[Parallel(n_jobs=-1)]: Done   2 out of   5 | elapsed:   13.3s remaining:   20.1s\n",
      "[Parallel(n_jobs=-1)]: Done   5 out of   5 | elapsed:   13.9s finished\n",
      "[Parallel(n_jobs=-1)]: Using backend LokyBackend with 8 concurrent workers.\n",
      "[Parallel(n_jobs=-1)]: Done   2 out of   5 | elapsed:    9.7s remaining:   14.7s\n",
      "[Parallel(n_jobs=-1)]: Done   5 out of   5 | elapsed:   24.2s finished\n",
      "[Parallel(n_jobs=-1)]: Using backend LokyBackend with 8 concurrent workers.\n",
      "[Parallel(n_jobs=-1)]: Done   2 out of   5 | elapsed:   53.3s remaining:  1.3min\n",
      "[Parallel(n_jobs=-1)]: Done   5 out of   5 | elapsed:   54.0s finished\n",
      "[Parallel(n_jobs=-1)]: Using backend LokyBackend with 8 concurrent workers.\n",
      "[Parallel(n_jobs=-1)]: Done   2 out of   5 | elapsed:    9.9s remaining:   14.9s\n",
      "[Parallel(n_jobs=-1)]: Done   5 out of   5 | elapsed:   10.2s finished\n"
     ]
    }
   ],
   "source": [
    "results_df = evaluate_models(X_train, y_train, dict_models = models_dict, cv = skfold)"
   ]
  },
  {
   "cell_type": "code",
   "execution_count": 29,
   "metadata": {},
   "outputs": [],
   "source": [
    "results_plot = results_df.melt(id_vars = ['model','Fold'], value_vars = ['test_roc_auc','train_roc_auc','test_f1','train_f1'])"
   ]
  },
  {
   "cell_type": "code",
   "execution_count": 30,
   "metadata": {},
   "outputs": [
    {
     "data": {
      "text/html": [
       "<div>\n",
       "<style scoped>\n",
       "    .dataframe tbody tr th:only-of-type {\n",
       "        vertical-align: middle;\n",
       "    }\n",
       "\n",
       "    .dataframe tbody tr th {\n",
       "        vertical-align: top;\n",
       "    }\n",
       "\n",
       "    .dataframe thead th {\n",
       "        text-align: right;\n",
       "    }\n",
       "</style>\n",
       "<table border=\"1\" class=\"dataframe\">\n",
       "  <thead>\n",
       "    <tr style=\"text-align: right;\">\n",
       "      <th></th>\n",
       "      <th>test_roc_auc</th>\n",
       "      <th>train_roc_auc</th>\n",
       "    </tr>\n",
       "    <tr>\n",
       "      <th>model</th>\n",
       "      <th></th>\n",
       "      <th></th>\n",
       "    </tr>\n",
       "  </thead>\n",
       "  <tbody>\n",
       "    <tr>\n",
       "      <th>Decision Tree</th>\n",
       "      <td>0.509509</td>\n",
       "      <td>1.000000</td>\n",
       "    </tr>\n",
       "    <tr>\n",
       "      <th>LogisticRegression</th>\n",
       "      <td>0.569972</td>\n",
       "      <td>0.730182</td>\n",
       "    </tr>\n",
       "    <tr>\n",
       "      <th>Random Forest</th>\n",
       "      <td>0.563266</td>\n",
       "      <td>1.000000</td>\n",
       "    </tr>\n",
       "    <tr>\n",
       "      <th>XGBoost</th>\n",
       "      <td>0.600843</td>\n",
       "      <td>1.000000</td>\n",
       "    </tr>\n",
       "  </tbody>\n",
       "</table>\n",
       "</div>"
      ],
      "text/plain": [
       "                    test_roc_auc  train_roc_auc\n",
       "model                                          \n",
       "Decision Tree           0.509509       1.000000\n",
       "LogisticRegression      0.569972       0.730182\n",
       "Random Forest           0.563266       1.000000\n",
       "XGBoost                 0.600843       1.000000"
      ]
     },
     "execution_count": 30,
     "metadata": {},
     "output_type": "execute_result"
    }
   ],
   "source": [
    "results_df.groupby('model')[['test_roc_auc','train_roc_auc']].mean()"
   ]
  },
  {
   "attachments": {},
   "cell_type": "markdown",
   "metadata": {},
   "source": [
    "Due to the difference between train and test set performance, the models seem to overfit on training data"
   ]
  },
  {
   "cell_type": "code",
   "execution_count": 31,
   "metadata": {},
   "outputs": [
    {
     "data": {
      "image/png": "[encoded data removed]",
      "text/plain": [
       "<Figure size 1500x500 with 2 Axes>"
      ]
     },
     "metadata": {},
     "output_type": "display_data"
    }
   ],
   "source": [
    "fig, ax = plt.subplots(1,2,figsize = (15,5), sharey=True)\n",
    "\n",
    "sns.barplot(data = results_df,\n",
    "                    x = 'Fold',\n",
    "                    y = 'train_roc_auc',\n",
    "                    hue = 'model',\n",
    "                    ax = ax[0])\n",
    "\n",
    "sns.barplot(data = results_df,\n",
    "                    x = 'Fold',\n",
    "                    y = 'test_roc_auc',\n",
    "                    hue = 'model',\n",
    "                    ax = ax[1])\n",
    "\n",
    "ax[0].set_ylabel('ROC-AUC Score')\n",
    "\n",
    "ax[0].get_legend().remove()\n",
    "\n",
    "ax[0].set_title('Train data')\n",
    "\n",
    "ax[1].set_title('Test data')\n",
    "\n",
    "ax[1].legend(title = 'Model',bbox_to_anchor = (1.01,1), loc = 'upper left')\n",
    "\n",
    "ax[1].set_ylabel('')\n",
    "\n",
    "for a in ax:\n",
    "\n",
    "    a.set_xlabel('Fold')\n",
    "\n",
    "plt.suptitle('Model Performance (ROC-AUC) Over K = 5 Folds for training data')\n",
    "\n",
    "plt.show()"
   ]
  },
  {
   "attachments": {},
   "cell_type": "markdown",
   "metadata": {},
   "source": [
    "# Testing Models after SMOTE\n",
    "\n",
    "Using SMOTEC to account for nominal and binary variables. Trying to mitigate the overfitting"
   ]
  },
  {
   "cell_type": "code",
   "execution_count": 33,
   "metadata": {},
   "outputs": [],
   "source": [
    "transformer = make_column_transformer(\n",
    "                                    (StandardScaler(), list(interval_vars) + list(num_cols)),\n",
    "                                    (OrdinalEncoder(), [58]), # Using LE for imblearn purposes\n",
    "                                    remainder = 'passthrough'\n",
    "                                    )"
   ]
  },
  {
   "cell_type": "code",
   "execution_count": 34,
   "metadata": {},
   "outputs": [],
   "source": [
    "smotenc = imblearn.over_sampling.SMOTENC(categorical_features=nominal_vars_pos,\n",
    "                                         sampling_strategy=0.1,\n",
    "                                         random_state = 123)"
   ]
  },
  {
   "cell_type": "code",
   "execution_count": 60,
   "metadata": {},
   "outputs": [],
   "source": [
    "# Models to be tested\n",
    "pipe_dt = imblearn.pipeline.Pipeline([('scaler',transformer),\n",
    "                                    ('smotenc',smotenc),\n",
    "                                    ('ohe',ohe_transformer),\n",
    "                                    ('DT',dt)])\n",
    "\n",
    "pipe_rf = imblearn.pipeline.Pipeline([('scaler',transformer),\n",
    "                                      ('smotenc',smotenc),\n",
    "                                    ('ohe',ohe_transformer),\n",
    "                                    ('RF',rf)])\n",
    "\n",
    "# Instantiating an XGB to match the closest possible characteristics with balanced class_weights\n",
    "pipe_xgb = imblearn.pipeline.Pipeline([('scaler',transformer),\n",
    "                                       ('smotenc',smotenc),\n",
    "                                        ('ohe',ohe_transformer),\n",
    "                                        ('XGB',xgb)])\n",
    "\n",
    "pipe_lr = imblearn.pipeline.Pipeline([('scaler',transformer),\n",
    "                                      ('smotenc',smotenc),\n",
    "                                    ('ohe',ohe_transformer),\n",
    "                                    ('LR',lr)])"
   ]
  },
  {
   "cell_type": "code",
   "execution_count": 36,
   "metadata": {},
   "outputs": [],
   "source": [
    "models_dict = {'Decision Tree':pipe_dt, 'Random Forest':pipe_rf,'XGBoost':pipe_xgb, 'LogisticRegression':pipe_lr}"
   ]
  },
  {
   "cell_type": "code",
   "execution_count": 37,
   "metadata": {},
   "outputs": [
    {
     "name": "stderr",
     "output_type": "stream",
     "text": [
      "[Parallel(n_jobs=-1)]: Using backend LokyBackend with 8 concurrent workers.\n",
      "[Parallel(n_jobs=-1)]: Done   2 out of   5 | elapsed:   35.0s remaining:   52.6s\n",
      "[Parallel(n_jobs=-1)]: Done   5 out of   5 | elapsed:   35.8s finished\n",
      "[Parallel(n_jobs=-1)]: Using backend LokyBackend with 8 concurrent workers.\n",
      "[Parallel(n_jobs=-1)]: Done   2 out of   5 | elapsed:   44.2s remaining:  1.1min\n",
      "[Parallel(n_jobs=-1)]: Done   5 out of   5 | elapsed:   45.3s finished\n",
      "[Parallel(n_jobs=-1)]: Using backend LokyBackend with 8 concurrent workers.\n",
      "[Parallel(n_jobs=-1)]: Done   2 out of   5 | elapsed:  1.5min remaining:  2.3min\n",
      "[Parallel(n_jobs=-1)]: Done   5 out of   5 | elapsed:  1.5min finished\n",
      "[Parallel(n_jobs=-1)]: Using backend LokyBackend with 8 concurrent workers.\n",
      "[Parallel(n_jobs=-1)]: Done   2 out of   5 | elapsed:   26.2s remaining:   39.4s\n",
      "[Parallel(n_jobs=-1)]: Done   5 out of   5 | elapsed:   26.4s finished\n"
     ]
    }
   ],
   "source": [
    "results_df = evaluate_models(X_train,y_train, dict_models = models_dict, cv = skfold)"
   ]
  },
  {
   "cell_type": "code",
   "execution_count": 38,
   "metadata": {},
   "outputs": [],
   "source": [
    "results_plot = results_df.melt(id_vars = ['model','Fold'], value_vars = ['test_roc_auc','train_roc_auc','test_f1','train_f1'])"
   ]
  },
  {
   "cell_type": "code",
   "execution_count": 39,
   "metadata": {},
   "outputs": [
    {
     "data": {
      "text/html": [
       "<div>\n",
       "<style scoped>\n",
       "    .dataframe tbody tr th:only-of-type {\n",
       "        vertical-align: middle;\n",
       "    }\n",
       "\n",
       "    .dataframe tbody tr th {\n",
       "        vertical-align: top;\n",
       "    }\n",
       "\n",
       "    .dataframe thead th {\n",
       "        text-align: right;\n",
       "    }\n",
       "</style>\n",
       "<table border=\"1\" class=\"dataframe\">\n",
       "  <thead>\n",
       "    <tr style=\"text-align: right;\">\n",
       "      <th></th>\n",
       "      <th>test_roc_auc</th>\n",
       "      <th>train_roc_auc</th>\n",
       "    </tr>\n",
       "    <tr>\n",
       "      <th>model</th>\n",
       "      <th></th>\n",
       "      <th></th>\n",
       "    </tr>\n",
       "  </thead>\n",
       "  <tbody>\n",
       "    <tr>\n",
       "      <th>Decision Tree</th>\n",
       "      <td>0.504083</td>\n",
       "      <td>1.00000</td>\n",
       "    </tr>\n",
       "    <tr>\n",
       "      <th>LogisticRegression</th>\n",
       "      <td>0.587116</td>\n",
       "      <td>0.74342</td>\n",
       "    </tr>\n",
       "    <tr>\n",
       "      <th>Random Forest</th>\n",
       "      <td>0.568536</td>\n",
       "      <td>1.00000</td>\n",
       "    </tr>\n",
       "    <tr>\n",
       "      <th>XGBoost</th>\n",
       "      <td>0.592831</td>\n",
       "      <td>1.00000</td>\n",
       "    </tr>\n",
       "  </tbody>\n",
       "</table>\n",
       "</div>"
      ],
      "text/plain": [
       "                    test_roc_auc  train_roc_auc\n",
       "model                                          \n",
       "Decision Tree           0.504083        1.00000\n",
       "LogisticRegression      0.587116        0.74342\n",
       "Random Forest           0.568536        1.00000\n",
       "XGBoost                 0.592831        1.00000"
      ]
     },
     "execution_count": 39,
     "metadata": {},
     "output_type": "execute_result"
    }
   ],
   "source": [
    "results_df.groupby('model')[['test_roc_auc','train_roc_auc']].mean()"
   ]
  },
  {
   "attachments": {},
   "cell_type": "markdown",
   "metadata": {},
   "source": [
    "All models clearly overfit on training data"
   ]
  },
  {
   "cell_type": "code",
   "execution_count": 40,
   "metadata": {},
   "outputs": [
    {
     "data": {
      "image/png": "[encoded data removed]",
      "text/plain": [
       "<Figure size 1500x500 with 2 Axes>"
      ]
     },
     "metadata": {},
     "output_type": "display_data"
    }
   ],
   "source": [
    "fig, ax = plt.subplots(1,2,figsize = (15,5), sharey=True)\n",
    "\n",
    "sns.barplot(data = results_df,\n",
    "                    x = 'Fold',\n",
    "                    y = 'train_roc_auc',\n",
    "                    hue = 'model',\n",
    "                    ax = ax[0])\n",
    "\n",
    "sns.barplot(data = results_df,\n",
    "                    x = 'Fold',\n",
    "                    y = 'test_roc_auc',\n",
    "                    hue = 'model',\n",
    "                    ax = ax[1])\n",
    "\n",
    "ax[0].set_ylabel('ROC-AUC Score')\n",
    "\n",
    "ax[0].get_legend().remove()\n",
    "\n",
    "ax[0].set_title('Train data')\n",
    "\n",
    "ax[1].set_title('Test data')\n",
    "\n",
    "ax[1].legend(title = 'Model',bbox_to_anchor = (1.01,1), loc = 'upper left')\n",
    "\n",
    "ax[1].set_ylabel('')\n",
    "\n",
    "for a in ax:\n",
    "\n",
    "    a.set_xlabel('Fold')\n",
    "\n",
    "plt.suptitle('Model Performance (ROC-AUC) Over K = 5 Folds for training data')\n",
    "\n",
    "plt.show()"
   ]
  },
  {
   "cell_type": "code",
   "execution_count": 41,
   "metadata": {},
   "outputs": [
    {
     "data": {
      "image/png": "[encoded data removed]",
      "text/plain": [
       "<Figure size 1500x500 with 2 Axes>"
      ]
     },
     "metadata": {},
     "output_type": "display_data"
    }
   ],
   "source": [
    "fig, ax = plt.subplots(1,2,figsize = (15,5), sharey=True)\n",
    "\n",
    "sns.barplot(data = results_df,\n",
    "                    x = 'Fold',\n",
    "                    y = 'train_f1',\n",
    "                    hue = 'model',\n",
    "                    ax = ax[0])\n",
    "\n",
    "sns.barplot(data = results_df,\n",
    "                    x = 'Fold',\n",
    "                    y = 'test_f1',\n",
    "                    hue = 'model',\n",
    "                    ax = ax[1])\n",
    "\n",
    "ax[0].set_ylabel('F1 Score')\n",
    "\n",
    "ax[0].get_legend().remove()\n",
    "\n",
    "ax[0].set_title('Train data')\n",
    "\n",
    "ax[1].set_title('Test data')\n",
    "\n",
    "ax[1].legend(title = 'Model',bbox_to_anchor = (1.01,1), loc = 'upper left')\n",
    "\n",
    "ax[1].set_ylabel('')\n",
    "\n",
    "for a in ax:\n",
    "\n",
    "    a.set_xlabel('Fold')\n",
    "\n",
    "plt.suptitle('Model Performance (F1-Score) Over K = 5 Folds for training data')\n",
    "\n",
    "plt.show()"
   ]
  },
  {
   "attachments": {},
   "cell_type": "markdown",
   "metadata": {},
   "source": [
    "The Vanilla Models overfit. This was expected since there is a really high unbalance between classes and the nature of tree-based learning models. \n",
    "Either way, SMOTE enhaces test prediction performance. Let's try tuning the models to see if the results are useful."
   ]
  },
  {
   "attachments": {},
   "cell_type": "markdown",
   "metadata": {},
   "source": [
    "# Hyperparameter Tuning"
   ]
  },
  {
   "cell_type": "code",
   "execution_count": 44,
   "metadata": {},
   "outputs": [],
   "source": [
    "dt_params = {'DT__max_depth':[5,7,10],\n",
    "             'DT__min_samples_split':[2,5,10],\n",
    "             'DT__min_samples_leaf':[1,3,5]}\n",
    "\n",
    "rf_params = {'RF__n_estimators':[100,200,300],\n",
    "             'RF__max_depth':[2,3]}\n",
    "\n",
    "xgb_params = {'XGB__n_estimators':[100,200,300],\n",
    "              'XGB__max_depth':[2,3],\n",
    "              'XGB__learning_rate':[0.1,0.2,0.3],\n",
    "              'XGB__scale_pos_weight':[80],\n",
    "              'XGB__alpha':[0,1,1.5]}\n",
    "\n",
    "lr_params = {'LR__C':[0.1,0.5,0.75,1]}"
   ]
  },
  {
   "cell_type": "code",
   "execution_count": 64,
   "metadata": {},
   "outputs": [],
   "source": [
    "model_search_list = list(zip([pipe_dt, pipe_rf, pipe_xgb, pipe_lr],\n",
    "                                [dt_params, rf_params, xgb_params, lr_params],\n",
    "                                ['DT','RF','XGB','LR']))"
   ]
  },
  {
   "cell_type": "code",
   "execution_count": 75,
   "metadata": {},
   "outputs": [
    {
     "name": "stdout",
     "output_type": "stream",
     "text": [
      "Running for RF\n",
      "Fitting 5 folds for each of 6 candidates, totalling 30 fits\n",
      "{'mean_fit_time': array([33.65394735, 34.14677362, 41.60011029, 39.2324214 , 39.15337157,\n",
      "       40.22520485]), 'std_fit_time': array([4.60982563, 2.90424342, 3.36072669, 2.23222248, 2.38043896,\n",
      "       1.95845783]), 'mean_score_time': array([1.32561545, 2.13673596, 2.26830478, 1.29840665, 1.37180781,\n",
      "       0.77524819]), 'std_score_time': array([0.74348096, 0.8560986 , 0.98865305, 0.88703398, 1.13857778,\n",
      "       0.28890001]), 'param_RF__max_depth': masked_array(data=[2, 2, 2, 3, 3, 3],\n",
      "             mask=[False, False, False, False, False, False],\n",
      "       fill_value='?',\n",
      "            dtype=object), 'param_RF__n_estimators': masked_array(data=[100, 200, 300, 100, 200, 300],\n",
      "             mask=[False, False, False, False, False, False],\n",
      "       fill_value='?',\n",
      "            dtype=object), 'params': [{'RF__max_depth': 2, 'RF__n_estimators': 100}, {'RF__max_depth': 2, 'RF__n_estimators': 200}, {'RF__max_depth': 2, 'RF__n_estimators': 300}, {'RF__max_depth': 3, 'RF__n_estimators': 100}, {'RF__max_depth': 3, 'RF__n_estimators': 200}, {'RF__max_depth': 3, 'RF__n_estimators': 300}], 'split0_test_score': array([0.5484367 , 0.55851034, 0.5431181 , 0.54602096, 0.55122345,\n",
      "       0.54006231]), 'split1_test_score': array([0.62993222, 0.63026985, 0.63176267, 0.6400192 , 0.64430511,\n",
      "       0.64342059]), 'split2_test_score': array([0.62819665, 0.61846405, 0.6197727 , 0.61832732, 0.62830268,\n",
      "       0.62828036]), 'split3_test_score': array([0.64380565, 0.65474367, 0.65523755, 0.63512499, 0.64701172,\n",
      "       0.6424077 ]), 'split4_test_score': array([0.57433528, 0.58427158, 0.57867421, 0.59780458, 0.59305268,\n",
      "       0.58810267]), 'mean_test_score': array([0.6049413 , 0.6092519 , 0.60571305, 0.60745941, 0.61277913,\n",
      "       0.60845473]), 'std_test_score': array([0.03689253, 0.03404362, 0.03994536, 0.03409262, 0.03629042,\n",
      "       0.03964896]), 'rank_test_score': array([6, 2, 5, 4, 1, 3])}\n",
      "\n",
      "Mean test score: [0.6049413  0.6092519  0.60571305 0.60745941 0.61277913 0.60845473]\n",
      "Running for XGB\n",
      "Fitting 5 folds for each of 54 candidates, totalling 270 fits\n",
      "[08:48:44] WARNING: C:\\Users\\dev-admin\\croot2\\xgboost-split_1675461376218\\work\\src\\learner.cc:767: \n",
      "Parameters: { \"n_thread\" } are not used.\n",
      "\n",
      "{'mean_fit_time': array([   71.09852614,   104.38301406,   140.26125875,    76.86577306,\n",
      "         125.92802157,   180.54428959,    59.37889876,    99.45065899,\n",
      "         134.21914811,    74.81497288,   347.04960604,   303.21028218,\n",
      "          56.72630334,    91.32207799,   137.08831763,    78.77413011,\n",
      "         131.99756837,   177.12579675,    59.69391713,    96.18440652,\n",
      "         131.69461398,    73.65267777,   122.90592194,   175.36897402,\n",
      "          59.24979043,    98.0188097 ,   137.8994348 ,    77.22888117,\n",
      "         130.81633644,   177.64290314,    59.77805333,    95.15583501,\n",
      "         130.18204618,    73.06678181,   123.50956402,   172.33498216,\n",
      "          59.00287228,    95.05882592, 25056.61502371, 17134.8302403 ,\n",
      "        3612.84750705,   146.02562866,    49.76044106,    85.11350064,\n",
      "         115.53779044,    63.7638751 ,   108.98078384,   158.51579146,\n",
      "          55.38976421,    90.16833258,   119.56756272,    71.83793697,\n",
      "         128.5528069 ,   144.16160259]), 'std_fit_time': array([1.77011955e+00, 4.80172994e+00, 5.09398828e+00, 3.55273081e+00,\n",
      "       4.93272658e+00, 8.31956775e+00, 2.32604947e+00, 3.48130015e+00,\n",
      "       5.60152609e+00, 3.52207455e+00, 2.09351403e+00, 1.14503053e+02,\n",
      "       1.89993830e+00, 8.19483377e-01, 2.81412045e+00, 1.41376642e+00,\n",
      "       1.28384807e+00, 1.96616286e+00, 2.84535128e-01, 2.21605867e-01,\n",
      "       3.63774527e-01, 2.59561392e-01, 8.88840763e-01, 1.20099524e+00,\n",
      "       8.26433265e-01, 8.74705038e-01, 4.33990569e-01, 5.68682557e-01,\n",
      "       8.26237126e-01, 2.84852530e+00, 4.28052005e-01, 7.07336684e-01,\n",
      "       7.80183811e-01, 4.50921080e-01, 9.66675059e-01, 7.62855340e-01,\n",
      "       4.18896977e-01, 3.25810907e-01, 7.01915738e+03, 6.42227123e+03,\n",
      "       7.02500205e+03, 2.36875898e+00, 1.21835360e+00, 6.78660839e-01,\n",
      "       8.38891159e-01, 8.94256808e-01, 9.91149631e-01, 4.31703758e+00,\n",
      "       1.64091155e+00, 3.76457430e+00, 2.84622398e+00, 4.87089556e+00,\n",
      "       2.99214433e+00, 2.45199938e+01]), 'mean_score_time': array([0.35724878, 0.34900155, 0.33340683, 0.30916305, 0.31367021,\n",
      "       0.3457325 , 0.28967609, 0.3236558 , 0.34777174, 0.3117208 ,\n",
      "       0.28790088, 0.34216743, 0.36061873, 0.31132221, 0.35122895,\n",
      "       0.35861149, 0.31570363, 0.34382324, 0.2938067 , 0.31009264,\n",
      "       0.31476836, 0.30537844, 0.32890444, 0.34924588, 0.29362741,\n",
      "       0.32360811, 0.31889625, 0.32020144, 0.33118739, 0.33598948,\n",
      "       0.29779787, 0.31298528, 0.32518268, 0.30496283, 0.31674099,\n",
      "       0.33219233, 0.28870521, 0.31266375, 0.33645711, 0.2894557 ,\n",
      "       0.27403545, 0.3027494 , 0.26753535, 0.27782278, 0.28648958,\n",
      "       0.26305733, 0.2854845 , 0.30437851, 0.29088702, 0.25505829,\n",
      "       0.34179826, 0.31175838, 0.37790055, 0.23021398]), 'std_score_time': array([0.01960446, 0.04766957, 0.00970482, 0.02041309, 0.01640019,\n",
      "       0.01801673, 0.01663243, 0.01003751, 0.02923158, 0.0141608 ,\n",
      "       0.02075125, 0.02861614, 0.07745938, 0.01655661, 0.01500497,\n",
      "       0.0371317 , 0.01478017, 0.01661353, 0.01552951, 0.01111925,\n",
      "       0.01079745, 0.01241558, 0.02296244, 0.01713961, 0.00768498,\n",
      "       0.01447979, 0.01271822, 0.01263178, 0.01477955, 0.03213314,\n",
      "       0.00936353, 0.00647269, 0.02559823, 0.00887743, 0.01521937,\n",
      "       0.00160767, 0.01226026, 0.00971124, 0.03205886, 0.02548935,\n",
      "       0.02391663, 0.01473964, 0.00825828, 0.01522801, 0.01255633,\n",
      "       0.00744248, 0.01204852, 0.03150759, 0.01036528, 0.0166259 ,\n",
      "       0.04899494, 0.03030173, 0.05157644, 0.04221756]), 'param_XGB__alpha': masked_array(data=[0, 0, 0, 0, 0, 0, 0, 0, 0, 0, 0, 0, 0, 0, 0, 0, 0, 0,\n",
      "                   1, 1, 1, 1, 1, 1, 1, 1, 1, 1, 1, 1, 1, 1, 1, 1, 1, 1,\n",
      "                   1.5, 1.5, 1.5, 1.5, 1.5, 1.5, 1.5, 1.5, 1.5, 1.5, 1.5,\n",
      "                   1.5, 1.5, 1.5, 1.5, 1.5, 1.5, 1.5],\n",
      "             mask=[False, False, False, False, False, False, False, False,\n",
      "                   False, False, False, False, False, False, False, False,\n",
      "                   False, False, False, False, False, False, False, False,\n",
      "                   False, False, False, False, False, False, False, False,\n",
      "                   False, False, False, False, False, False, False, False,\n",
      "                   False, False, False, False, False, False, False, False,\n",
      "                   False, False, False, False, False, False],\n",
      "       fill_value='?',\n",
      "            dtype=object), 'param_XGB__learning_rate': masked_array(data=[0.1, 0.1, 0.1, 0.1, 0.1, 0.1, 0.2, 0.2, 0.2, 0.2, 0.2,\n",
      "                   0.2, 0.3, 0.3, 0.3, 0.3, 0.3, 0.3, 0.1, 0.1, 0.1, 0.1,\n",
      "                   0.1, 0.1, 0.2, 0.2, 0.2, 0.2, 0.2, 0.2, 0.3, 0.3, 0.3,\n",
      "                   0.3, 0.3, 0.3, 0.1, 0.1, 0.1, 0.1, 0.1, 0.1, 0.2, 0.2,\n",
      "                   0.2, 0.2, 0.2, 0.2, 0.3, 0.3, 0.3, 0.3, 0.3, 0.3],\n",
      "             mask=[False, False, False, False, False, False, False, False,\n",
      "                   False, False, False, False, False, False, False, False,\n",
      "                   False, False, False, False, False, False, False, False,\n",
      "                   False, False, False, False, False, False, False, False,\n",
      "                   False, False, False, False, False, False, False, False,\n",
      "                   False, False, False, False, False, False, False, False,\n",
      "                   False, False, False, False, False, False],\n",
      "       fill_value='?',\n",
      "            dtype=object), 'param_XGB__max_depth': masked_array(data=[2, 2, 2, 3, 3, 3, 2, 2, 2, 3, 3, 3, 2, 2, 2, 3, 3, 3,\n",
      "                   2, 2, 2, 3, 3, 3, 2, 2, 2, 3, 3, 3, 2, 2, 2, 3, 3, 3,\n",
      "                   2, 2, 2, 3, 3, 3, 2, 2, 2, 3, 3, 3, 2, 2, 2, 3, 3, 3],\n",
      "             mask=[False, False, False, False, False, False, False, False,\n",
      "                   False, False, False, False, False, False, False, False,\n",
      "                   False, False, False, False, False, False, False, False,\n",
      "                   False, False, False, False, False, False, False, False,\n",
      "                   False, False, False, False, False, False, False, False,\n",
      "                   False, False, False, False, False, False, False, False,\n",
      "                   False, False, False, False, False, False],\n",
      "       fill_value='?',\n",
      "            dtype=object), 'param_XGB__n_estimators': masked_array(data=[100, 200, 300, 100, 200, 300, 100, 200, 300, 100, 200,\n",
      "                   300, 100, 200, 300, 100, 200, 300, 100, 200, 300, 100,\n",
      "                   200, 300, 100, 200, 300, 100, 200, 300, 100, 200, 300,\n",
      "                   100, 200, 300, 100, 200, 300, 100, 200, 300, 100, 200,\n",
      "                   300, 100, 200, 300, 100, 200, 300, 100, 200, 300],\n",
      "             mask=[False, False, False, False, False, False, False, False,\n",
      "                   False, False, False, False, False, False, False, False,\n",
      "                   False, False, False, False, False, False, False, False,\n",
      "                   False, False, False, False, False, False, False, False,\n",
      "                   False, False, False, False, False, False, False, False,\n",
      "                   False, False, False, False, False, False, False, False,\n",
      "                   False, False, False, False, False, False],\n",
      "       fill_value='?',\n",
      "            dtype=object), 'param_XGB__scale_pos_weight': masked_array(data=[80, 80, 80, 80, 80, 80, 80, 80, 80, 80, 80, 80, 80, 80,\n",
      "                   80, 80, 80, 80, 80, 80, 80, 80, 80, 80, 80, 80, 80, 80,\n",
      "                   80, 80, 80, 80, 80, 80, 80, 80, 80, 80, 80, 80, 80, 80,\n",
      "                   80, 80, 80, 80, 80, 80, 80, 80, 80, 80, 80, 80],\n",
      "             mask=[False, False, False, False, False, False, False, False,\n",
      "                   False, False, False, False, False, False, False, False,\n",
      "                   False, False, False, False, False, False, False, False,\n",
      "                   False, False, False, False, False, False, False, False,\n",
      "                   False, False, False, False, False, False, False, False,\n",
      "                   False, False, False, False, False, False, False, False,\n",
      "                   False, False, False, False, False, False],\n",
      "       fill_value='?',\n",
      "            dtype=object), 'params': [{'XGB__alpha': 0, 'XGB__learning_rate': 0.1, 'XGB__max_depth': 2, 'XGB__n_estimators': 100, 'XGB__scale_pos_weight': 80}, {'XGB__alpha': 0, 'XGB__learning_rate': 0.1, 'XGB__max_depth': 2, 'XGB__n_estimators': 200, 'XGB__scale_pos_weight': 80}, {'XGB__alpha': 0, 'XGB__learning_rate': 0.1, 'XGB__max_depth': 2, 'XGB__n_estimators': 300, 'XGB__scale_pos_weight': 80}, {'XGB__alpha': 0, 'XGB__learning_rate': 0.1, 'XGB__max_depth': 3, 'XGB__n_estimators': 100, 'XGB__scale_pos_weight': 80}, {'XGB__alpha': 0, 'XGB__learning_rate': 0.1, 'XGB__max_depth': 3, 'XGB__n_estimators': 200, 'XGB__scale_pos_weight': 80}, {'XGB__alpha': 0, 'XGB__learning_rate': 0.1, 'XGB__max_depth': 3, 'XGB__n_estimators': 300, 'XGB__scale_pos_weight': 80}, {'XGB__alpha': 0, 'XGB__learning_rate': 0.2, 'XGB__max_depth': 2, 'XGB__n_estimators': 100, 'XGB__scale_pos_weight': 80}, {'XGB__alpha': 0, 'XGB__learning_rate': 0.2, 'XGB__max_depth': 2, 'XGB__n_estimators': 200, 'XGB__scale_pos_weight': 80}, {'XGB__alpha': 0, 'XGB__learning_rate': 0.2, 'XGB__max_depth': 2, 'XGB__n_estimators': 300, 'XGB__scale_pos_weight': 80}, {'XGB__alpha': 0, 'XGB__learning_rate': 0.2, 'XGB__max_depth': 3, 'XGB__n_estimators': 100, 'XGB__scale_pos_weight': 80}, {'XGB__alpha': 0, 'XGB__learning_rate': 0.2, 'XGB__max_depth': 3, 'XGB__n_estimators': 200, 'XGB__scale_pos_weight': 80}, {'XGB__alpha': 0, 'XGB__learning_rate': 0.2, 'XGB__max_depth': 3, 'XGB__n_estimators': 300, 'XGB__scale_pos_weight': 80}, {'XGB__alpha': 0, 'XGB__learning_rate': 0.3, 'XGB__max_depth': 2, 'XGB__n_estimators': 100, 'XGB__scale_pos_weight': 80}, {'XGB__alpha': 0, 'XGB__learning_rate': 0.3, 'XGB__max_depth': 2, 'XGB__n_estimators': 200, 'XGB__scale_pos_weight': 80}, {'XGB__alpha': 0, 'XGB__learning_rate': 0.3, 'XGB__max_depth': 2, 'XGB__n_estimators': 300, 'XGB__scale_pos_weight': 80}, {'XGB__alpha': 0, 'XGB__learning_rate': 0.3, 'XGB__max_depth': 3, 'XGB__n_estimators': 100, 'XGB__scale_pos_weight': 80}, {'XGB__alpha': 0, 'XGB__learning_rate': 0.3, 'XGB__max_depth': 3, 'XGB__n_estimators': 200, 'XGB__scale_pos_weight': 80}, {'XGB__alpha': 0, 'XGB__learning_rate': 0.3, 'XGB__max_depth': 3, 'XGB__n_estimators': 300, 'XGB__scale_pos_weight': 80}, {'XGB__alpha': 1, 'XGB__learning_rate': 0.1, 'XGB__max_depth': 2, 'XGB__n_estimators': 100, 'XGB__scale_pos_weight': 80}, {'XGB__alpha': 1, 'XGB__learning_rate': 0.1, 'XGB__max_depth': 2, 'XGB__n_estimators': 200, 'XGB__scale_pos_weight': 80}, {'XGB__alpha': 1, 'XGB__learning_rate': 0.1, 'XGB__max_depth': 2, 'XGB__n_estimators': 300, 'XGB__scale_pos_weight': 80}, {'XGB__alpha': 1, 'XGB__learning_rate': 0.1, 'XGB__max_depth': 3, 'XGB__n_estimators': 100, 'XGB__scale_pos_weight': 80}, {'XGB__alpha': 1, 'XGB__learning_rate': 0.1, 'XGB__max_depth': 3, 'XGB__n_estimators': 200, 'XGB__scale_pos_weight': 80}, {'XGB__alpha': 1, 'XGB__learning_rate': 0.1, 'XGB__max_depth': 3, 'XGB__n_estimators': 300, 'XGB__scale_pos_weight': 80}, {'XGB__alpha': 1, 'XGB__learning_rate': 0.2, 'XGB__max_depth': 2, 'XGB__n_estimators': 100, 'XGB__scale_pos_weight': 80}, {'XGB__alpha': 1, 'XGB__learning_rate': 0.2, 'XGB__max_depth': 2, 'XGB__n_estimators': 200, 'XGB__scale_pos_weight': 80}, {'XGB__alpha': 1, 'XGB__learning_rate': 0.2, 'XGB__max_depth': 2, 'XGB__n_estimators': 300, 'XGB__scale_pos_weight': 80}, {'XGB__alpha': 1, 'XGB__learning_rate': 0.2, 'XGB__max_depth': 3, 'XGB__n_estimators': 100, 'XGB__scale_pos_weight': 80}, {'XGB__alpha': 1, 'XGB__learning_rate': 0.2, 'XGB__max_depth': 3, 'XGB__n_estimators': 200, 'XGB__scale_pos_weight': 80}, {'XGB__alpha': 1, 'XGB__learning_rate': 0.2, 'XGB__max_depth': 3, 'XGB__n_estimators': 300, 'XGB__scale_pos_weight': 80}, {'XGB__alpha': 1, 'XGB__learning_rate': 0.3, 'XGB__max_depth': 2, 'XGB__n_estimators': 100, 'XGB__scale_pos_weight': 80}, {'XGB__alpha': 1, 'XGB__learning_rate': 0.3, 'XGB__max_depth': 2, 'XGB__n_estimators': 200, 'XGB__scale_pos_weight': 80}, {'XGB__alpha': 1, 'XGB__learning_rate': 0.3, 'XGB__max_depth': 2, 'XGB__n_estimators': 300, 'XGB__scale_pos_weight': 80}, {'XGB__alpha': 1, 'XGB__learning_rate': 0.3, 'XGB__max_depth': 3, 'XGB__n_estimators': 100, 'XGB__scale_pos_weight': 80}, {'XGB__alpha': 1, 'XGB__learning_rate': 0.3, 'XGB__max_depth': 3, 'XGB__n_estimators': 200, 'XGB__scale_pos_weight': 80}, {'XGB__alpha': 1, 'XGB__learning_rate': 0.3, 'XGB__max_depth': 3, 'XGB__n_estimators': 300, 'XGB__scale_pos_weight': 80}, {'XGB__alpha': 1.5, 'XGB__learning_rate': 0.1, 'XGB__max_depth': 2, 'XGB__n_estimators': 100, 'XGB__scale_pos_weight': 80}, {'XGB__alpha': 1.5, 'XGB__learning_rate': 0.1, 'XGB__max_depth': 2, 'XGB__n_estimators': 200, 'XGB__scale_pos_weight': 80}, {'XGB__alpha': 1.5, 'XGB__learning_rate': 0.1, 'XGB__max_depth': 2, 'XGB__n_estimators': 300, 'XGB__scale_pos_weight': 80}, {'XGB__alpha': 1.5, 'XGB__learning_rate': 0.1, 'XGB__max_depth': 3, 'XGB__n_estimators': 100, 'XGB__scale_pos_weight': 80}, {'XGB__alpha': 1.5, 'XGB__learning_rate': 0.1, 'XGB__max_depth': 3, 'XGB__n_estimators': 200, 'XGB__scale_pos_weight': 80}, {'XGB__alpha': 1.5, 'XGB__learning_rate': 0.1, 'XGB__max_depth': 3, 'XGB__n_estimators': 300, 'XGB__scale_pos_weight': 80}, {'XGB__alpha': 1.5, 'XGB__learning_rate': 0.2, 'XGB__max_depth': 2, 'XGB__n_estimators': 100, 'XGB__scale_pos_weight': 80}, {'XGB__alpha': 1.5, 'XGB__learning_rate': 0.2, 'XGB__max_depth': 2, 'XGB__n_estimators': 200, 'XGB__scale_pos_weight': 80}, {'XGB__alpha': 1.5, 'XGB__learning_rate': 0.2, 'XGB__max_depth': 2, 'XGB__n_estimators': 300, 'XGB__scale_pos_weight': 80}, {'XGB__alpha': 1.5, 'XGB__learning_rate': 0.2, 'XGB__max_depth': 3, 'XGB__n_estimators': 100, 'XGB__scale_pos_weight': 80}, {'XGB__alpha': 1.5, 'XGB__learning_rate': 0.2, 'XGB__max_depth': 3, 'XGB__n_estimators': 200, 'XGB__scale_pos_weight': 80}, {'XGB__alpha': 1.5, 'XGB__learning_rate': 0.2, 'XGB__max_depth': 3, 'XGB__n_estimators': 300, 'XGB__scale_pos_weight': 80}, {'XGB__alpha': 1.5, 'XGB__learning_rate': 0.3, 'XGB__max_depth': 2, 'XGB__n_estimators': 100, 'XGB__scale_pos_weight': 80}, {'XGB__alpha': 1.5, 'XGB__learning_rate': 0.3, 'XGB__max_depth': 2, 'XGB__n_estimators': 200, 'XGB__scale_pos_weight': 80}, {'XGB__alpha': 1.5, 'XGB__learning_rate': 0.3, 'XGB__max_depth': 2, 'XGB__n_estimators': 300, 'XGB__scale_pos_weight': 80}, {'XGB__alpha': 1.5, 'XGB__learning_rate': 0.3, 'XGB__max_depth': 3, 'XGB__n_estimators': 100, 'XGB__scale_pos_weight': 80}, {'XGB__alpha': 1.5, 'XGB__learning_rate': 0.3, 'XGB__max_depth': 3, 'XGB__n_estimators': 200, 'XGB__scale_pos_weight': 80}, {'XGB__alpha': 1.5, 'XGB__learning_rate': 0.3, 'XGB__max_depth': 3, 'XGB__n_estimators': 300, 'XGB__scale_pos_weight': 80}], 'split0_test_score': array([0.61661286, 0.60135656, 0.58984282, 0.60782356, 0.59500425,\n",
      "       0.58612858, 0.60851883, 0.60509487, 0.58794109, 0.59314359,\n",
      "       0.57034268, 0.56693288, 0.61060889, 0.59287737, 0.58883744,\n",
      "       0.55802889, 0.53820164, 0.54788445, 0.61663835, 0.60167375,\n",
      "       0.59071368, 0.62606061, 0.60483716, 0.60185217, 0.60642311,\n",
      "       0.60186633, 0.58625319, 0.63077032, 0.60308128, 0.59419711,\n",
      "       0.59743415, 0.59364769, 0.57757576, 0.57391957, 0.57729822,\n",
      "       0.57101105, 0.61663835, 0.60162843, 0.59044747, 0.61921835,\n",
      "       0.59258001, 0.58717361, 0.59813367, 0.59460776, 0.58076749,\n",
      "       0.59733503, 0.57866327, 0.59048711, 0.59572926, 0.58575191,\n",
      "       0.57614274, 0.59170207, 0.58136505, 0.59585387]), 'split1_test_score': array([0.63931046, 0.61429253, 0.60674753, 0.63476225, 0.60313687,\n",
      "       0.59285178, 0.5926732 , 0.58880583, 0.58667961, 0.63105393,\n",
      "       0.62146363, 0.61044469, 0.62225887, 0.61445437, 0.60117249,\n",
      "       0.56955827, 0.58622479, 0.58510588, 0.64065539, 0.60804781,\n",
      "       0.59812826, 0.63876077, 0.61572954, 0.59793294, 0.61243139,\n",
      "       0.60457388, 0.61123714, 0.64725447, 0.61751255, 0.59629782,\n",
      "       0.60280482, 0.59341542, 0.58863004, 0.55772456, 0.56451896,\n",
      "       0.56603689, 0.6459514 , 0.6173535 , 0.60924765, 0.63213657,\n",
      "       0.6058072 , 0.60197889, 0.62002662, 0.61530262, 0.607074  ,\n",
      "       0.59841566, 0.57913043, 0.58784038, 0.5998722 , 0.60405209,\n",
      "       0.59577603, 0.56015213, 0.54098548, 0.53760083]), 'split2_test_score': array([0.66625649, 0.65993923, 0.66177525, 0.66623138, 0.65004478,\n",
      "       0.6507312 , 0.66216031, 0.65284068, 0.63421256, 0.62370146,\n",
      "       0.62840871, 0.61936253, 0.67936537, 0.65917747, 0.64828689,\n",
      "       0.62166174, 0.60490592, 0.60484733, 0.6611851 , 0.66246725,\n",
      "       0.65720751, 0.65174687, 0.64590675, 0.64542124, 0.6638066 ,\n",
      "       0.64445858, 0.64123019, 0.62209145, 0.62547331, 0.63061027,\n",
      "       0.6417185 , 0.64061911, 0.62846173, 0.65707637, 0.60527425,\n",
      "       0.59865563, 0.66725821, 0.67369267, 0.66422793, 0.66729728,\n",
      "       0.6624812 , 0.65275976, 0.66894635, 0.64291554, 0.64965414,\n",
      "       0.62657827, 0.62519986, 0.63219796, 0.64270627, 0.63361543,\n",
      "       0.62708332, 0.63338384, 0.62930719, 0.62704425]), 'split3_test_score': array([0.6961463 , 0.7086162 , 0.70525109, 0.68349224, 0.67675643,\n",
      "       0.68602863, 0.69312719, 0.70285142, 0.68344202, 0.67678712,\n",
      "       0.68897241, 0.67643834, 0.70479627, 0.69958675, 0.70321416,\n",
      "       0.68713639, 0.67086608, 0.63850685, 0.69613514, 0.70131675,\n",
      "       0.70201712, 0.68119861, 0.68020805, 0.67468044, 0.69215616,\n",
      "       0.68913425, 0.68097259, 0.67413075, 0.67968347, 0.69518364,\n",
      "       0.70468744, 0.70766191, 0.70906823, 0.67004294, 0.66269047,\n",
      "       0.6720436 , 0.69369083, 0.70269516, 0.70073915, 0.68870454,\n",
      "       0.66580446, 0.67799812, 0.69259145, 0.68980951, 0.68007411,\n",
      "       0.69039547, 0.68233426, 0.68141067, 0.70260029, 0.69792931,\n",
      "       0.69567195, 0.67079912, 0.68564636, 0.68026664]), 'split4_test_score': array([0.61731444, 0.61711912, 0.62413117, 0.61872075, 0.6199178 ,\n",
      "       0.61781669, 0.62138969, 0.61816548, 0.61400513, 0.59848263,\n",
      "       0.5910883 , 0.59812826, 0.60198447, 0.60779669, 0.61495104,\n",
      "       0.5876618 , 0.57871049, 0.58394511, 0.61638247, 0.61923696,\n",
      "       0.61508498, 0.62529194, 0.61332708, 0.61232257, 0.61906675,\n",
      "       0.61944623, 0.61815711, 0.59848821, 0.59731907, 0.59536864,\n",
      "       0.61365634, 0.60956016, 0.61358937, 0.62683777, 0.61115343,\n",
      "       0.61624017, 0.62014102, 0.62509382, 0.62771393, 0.6265127 ,\n",
      "       0.61696007, 0.61963598, 0.62192403, 0.61876261, 0.6098364 ,\n",
      "       0.59760647, 0.58852122, 0.59318383, 0.61874866, 0.61887143,\n",
      "       0.62084139, 0.61137945, 0.59948156, 0.60090741]), 'mean_test_score': array([0.64712811, 0.64026473, 0.63754957, 0.64220604, 0.62897203,\n",
      "       0.62671138, 0.63557384, 0.63355166, 0.62125608, 0.62463375,\n",
      "       0.62005515, 0.61426134, 0.64380277, 0.63477853, 0.6312924 ,\n",
      "       0.60480942, 0.59578179, 0.59205792, 0.64619929, 0.6385485 ,\n",
      "       0.63263031, 0.64461176, 0.63200172, 0.62644187, 0.6387768 ,\n",
      "       0.63189585, 0.62757004, 0.63454704, 0.62461393, 0.6223315 ,\n",
      "       0.63206025, 0.62898086, 0.62346503, 0.61712024, 0.60418707,\n",
      "       0.60479747, 0.64873596, 0.64409272, 0.63847523, 0.64677389,\n",
      "       0.62872659, 0.62790927, 0.64032442, 0.63227961, 0.62548123,\n",
      "       0.62206618, 0.61076981, 0.61702399, 0.63193133, 0.62804404,\n",
      "       0.62310308, 0.61348332, 0.60735713, 0.6083346 ]), 'std_test_score': array([0.03049534, 0.0394541 , 0.04141288, 0.02853381, 0.0304324 ,\n",
      "       0.03733106, 0.0368588 , 0.04055425, 0.0357574 , 0.02979119,\n",
      "       0.04032806, 0.03579616, 0.04074224, 0.03922299, 0.04108096,\n",
      "       0.04644746, 0.04340309, 0.0296193 , 0.03003928, 0.03788122,\n",
      "       0.04165045, 0.02069368, 0.02781596, 0.0293392 , 0.03348186,\n",
      "       0.03236452, 0.0319402 , 0.02529029, 0.02930012, 0.03891597,\n",
      "       0.03939934, 0.04293403, 0.04641057, 0.04446545, 0.03396742,\n",
      "       0.0383004 , 0.02905063, 0.03791982, 0.03953915, 0.02669631,\n",
      "       0.02994818, 0.03324655, 0.03487604, 0.03259726, 0.03506456,\n",
      "       0.03594024, 0.03963982, 0.03605589, 0.03904449, 0.03837542,\n",
      "       0.04059369, 0.03742779, 0.04848467, 0.04634321]), 'rank_test_score': array([ 2, 10, 14,  8, 27, 32, 15, 18, 41, 35, 42, 45,  7, 16, 25, 50, 53,\n",
      "       54,  4, 12, 19,  5, 22, 33, 11, 24, 31, 17, 36, 39, 21, 26, 37, 43,\n",
      "       52, 51,  1,  6, 13,  3, 28, 30,  9, 20, 34, 40, 47, 44, 23, 29, 38,\n",
      "       46, 49, 48])}\n",
      "\n",
      "Mean test score: [0.64712811 0.64026473 0.63754957 0.64220604 0.62897203 0.62671138\n",
      " 0.63557384 0.63355166 0.62125608 0.62463375 0.62005515 0.61426134\n",
      " 0.64380277 0.63477853 0.6312924  0.60480942 0.59578179 0.59205792\n",
      " 0.64619929 0.6385485  0.63263031 0.64461176 0.63200172 0.62644187\n",
      " 0.6387768  0.63189585 0.62757004 0.63454704 0.62461393 0.6223315\n",
      " 0.63206025 0.62898086 0.62346503 0.61712024 0.60418707 0.60479747\n",
      " 0.64873596 0.64409272 0.63847523 0.64677389 0.62872659 0.62790927\n",
      " 0.64032442 0.63227961 0.62548123 0.62206618 0.61076981 0.61702399\n",
      " 0.63193133 0.62804404 0.62310308 0.61348332 0.60735713 0.6083346 ]\n",
      "Running for LR\n",
      "Fitting 5 folds for each of 4 candidates, totalling 20 fits\n",
      "{'mean_fit_time': array([32.97616043, 28.92483811, 31.23708386, 19.93758707]), 'std_fit_time': array([0.49426298, 4.59010433, 0.49604127, 5.58026817]), 'mean_score_time': array([0.30867128, 0.34498196, 0.22616134, 0.12561417]), 'std_score_time': array([0.03004343, 0.13222048, 0.03513189, 0.08204005]), 'param_LR__C': masked_array(data=[0.1, 0.5, 0.75, 1],\n",
      "             mask=[False, False, False, False],\n",
      "       fill_value='?',\n",
      "            dtype=object), 'params': [{'LR__C': 0.1}, {'LR__C': 0.5}, {'LR__C': 0.75}, {'LR__C': 1}], 'split0_test_score': array([0.575177  , 0.58357689, 0.58225998, 0.58367035]), 'split1_test_score': array([0.58381396, 0.58474314, 0.58565557, 0.58435249]), 'split2_test_score': array([0.55800917, 0.56148869, 0.55432317, 0.5544571 ]), 'split3_test_score': array([0.67223334, 0.67449628, 0.67235332, 0.6738852 ]), 'split4_test_score': array([0.5827369 , 0.57527561, 0.58016982, 0.57585879]), 'mean_test_score': array([0.59439408, 0.59591612, 0.59495237, 0.59444479]), 'std_test_score': array([0.03999984, 0.04015772, 0.04026833, 0.04116595]), 'rank_test_score': array([4, 1, 2, 3])}\n",
      "\n",
      "Mean test score: [0.59439408 0.59591612 0.59495237 0.59444479]\n"
     ]
    }
   ],
   "source": [
    "for model, params, name in model_search_list[1:]:\n",
    "\n",
    "    print(f'Running for {name}')\n",
    "\n",
    "    cv = GridSearchCV(model,\n",
    "                        params,\n",
    "                        scoring = 'roc_auc',\n",
    "                        n_jobs = -1,\n",
    "                        cv = skfold,\n",
    "                        verbose = 1)\n",
    "    \n",
    "    cv.fit(X_train, y_train)\n",
    "\n",
    "    print(cv.cv_results_, end = '\\n\\n')\n",
    "\n",
    "    print('Mean test score:', cv.cv_results_['mean_test_score'])\n",
    "\n",
    "    with open(f'models/{name}_best_estimator.pkl', 'wb') as file:\n",
    "\n",
    "        pickle.dump(cv.best_estimator_, file)"
   ]
  },
  {
   "attachments": {},
   "cell_type": "markdown",
   "metadata": {},
   "source": [
    "# Predictions on test set without SMOTE"
   ]
  },
  {
   "cell_type": "code",
   "execution_count": 264,
   "metadata": {},
   "outputs": [
    {
     "name": "stdout",
     "output_type": "stream",
     "text": [
      "[22:33:24] WARNING: C:\\Users\\dev-admin\\croot2\\xgboost-split_1675461376218\\work\\src\\learner.cc:767: \n",
      "Parameters: { \"n_thread\" } are not used.\n",
      "\n"
     ]
    }
   ],
   "source": [
    "model_result_dict = {'model':[],\n",
    "                     'auc_score':[],\n",
    "                     'f1_score':[]}\n",
    "\n",
    "for name, model in models_dict.items():\n",
    "\n",
    "    model.fit(X_test, y_test)\n",
    "\n",
    "    y_pred = model.predict(X_test)\n",
    "    \n",
    "    score_auc = roc_auc_score(y_test, y_pred)\n",
    "\n",
    "    score_f1 = f1_score(y_test, y_pred)\n",
    "\n",
    "    model_result_dict['model'].append(name)\n",
    "\n",
    "    model_result_dict['auc_score'].append(score_auc)\n",
    "\n",
    "    model_result_dict['f1_score'].append(score_f1)\n",
    "\n",
    "model_result_frame = pd.DataFrame().from_dict(model_result_dict)"
   ]
  },
  {
   "cell_type": "code",
   "execution_count": 265,
   "metadata": {},
   "outputs": [
    {
     "data": {
      "text/html": [
       "<div>\n",
       "<style scoped>\n",
       "    .dataframe tbody tr th:only-of-type {\n",
       "        vertical-align: middle;\n",
       "    }\n",
       "\n",
       "    .dataframe tbody tr th {\n",
       "        vertical-align: top;\n",
       "    }\n",
       "\n",
       "    .dataframe thead th {\n",
       "        text-align: right;\n",
       "    }\n",
       "</style>\n",
       "<table border=\"1\" class=\"dataframe\">\n",
       "  <thead>\n",
       "    <tr style=\"text-align: right;\">\n",
       "      <th></th>\n",
       "      <th>model</th>\n",
       "      <th>auc_score</th>\n",
       "      <th>f1_score</th>\n",
       "    </tr>\n",
       "  </thead>\n",
       "  <tbody>\n",
       "    <tr>\n",
       "      <th>0</th>\n",
       "      <td>(ColumnTransformer(remainder='passthrough',\\n ...</td>\n",
       "      <td>0.490979</td>\n",
       "      <td>&lt;function f1_score at 0x0000018B3BDBF400&gt;</td>\n",
       "    </tr>\n",
       "    <tr>\n",
       "      <th>1</th>\n",
       "      <td>(ColumnTransformer(remainder='passthrough',\\n ...</td>\n",
       "      <td>0.523038</td>\n",
       "      <td>&lt;function f1_score at 0x0000018B3BDBF400&gt;</td>\n",
       "    </tr>\n",
       "    <tr>\n",
       "      <th>2</th>\n",
       "      <td>(ColumnTransformer(remainder='passthrough',\\n ...</td>\n",
       "      <td>0.531478</td>\n",
       "      <td>&lt;function f1_score at 0x0000018B3BDBF400&gt;</td>\n",
       "    </tr>\n",
       "    <tr>\n",
       "      <th>3</th>\n",
       "      <td>(ColumnTransformer(remainder='passthrough',\\n ...</td>\n",
       "      <td>0.528848</td>\n",
       "      <td>&lt;function f1_score at 0x0000018B3BDBF400&gt;</td>\n",
       "    </tr>\n",
       "  </tbody>\n",
       "</table>\n",
       "</div>"
      ],
      "text/plain": [
       "                                               model  auc_score  \\\n",
       "0  (ColumnTransformer(remainder='passthrough',\\n ...   0.490979   \n",
       "1  (ColumnTransformer(remainder='passthrough',\\n ...   0.523038   \n",
       "2  (ColumnTransformer(remainder='passthrough',\\n ...   0.531478   \n",
       "3  (ColumnTransformer(remainder='passthrough',\\n ...   0.528848   \n",
       "\n",
       "                                    f1_score  \n",
       "0  <function f1_score at 0x0000018B3BDBF400>  \n",
       "1  <function f1_score at 0x0000018B3BDBF400>  \n",
       "2  <function f1_score at 0x0000018B3BDBF400>  \n",
       "3  <function f1_score at 0x0000018B3BDBF400>  "
      ]
     },
     "execution_count": 265,
     "metadata": {},
     "output_type": "execute_result"
    }
   ],
   "source": [
    "model_result_frame"
   ]
  }
 ],
 "metadata": {
  "kernelspec": {
   "display_name": "arvato",
   "language": "python",
   "name": "python3"
  },
  "language_info": {
   "codemirror_mode": {
    "name": "ipython",
    "version": 3
   },
   "file_extension": ".py",
   "mimetype": "text/x-python",
   "name": "python",
   "nbconvert_exporter": "python",
   "pygments_lexer": "ipython3",
   "version": "3.10.9"
  },
  "orig_nbformat": 4
 },
 "nbformat": 4,
 "nbformat_minor": 2
}
