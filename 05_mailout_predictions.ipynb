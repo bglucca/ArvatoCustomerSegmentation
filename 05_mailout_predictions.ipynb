{
 "cells": [
  {
   "cell_type": "code",
   "execution_count": 25,
   "metadata": {},
   "outputs": [],
   "source": [
    "import pandas as pd\n",
    "import numpy as np\n",
    "\n",
    "import seaborn as sns\n",
    "import matplotlib.pyplot as plt\n",
    "\n",
    "from sklearn.tree import DecisionTreeClassifier\n",
    "from sklearn.ensemble import RandomForestClassifier\n",
    "from sklearn.model_selection import StratifiedKFold\n",
    "from sklearn.model_selection import train_test_split\n",
    "from sklearn.model_selection import cross_val_score\n",
    "from sklearn.metrics import roc_auc_score\n",
    "\n",
    "from xgboost import XGBClassifier"
   ]
  },
  {
   "cell_type": "code",
   "execution_count": 2,
   "metadata": {},
   "outputs": [],
   "source": [
    "sns.set_style('whitegrid')"
   ]
  },
  {
   "cell_type": "code",
   "execution_count": 3,
   "metadata": {},
   "outputs": [],
   "source": [
    "# census = pd.read_parquet('data/refined/census_data.parquet')"
   ]
  },
  {
   "cell_type": "code",
   "execution_count": 4,
   "metadata": {},
   "outputs": [],
   "source": [
    "df_mailout = pd.read_parquet('data/refined/mailout_train.parquet')"
   ]
  },
  {
   "attachments": {},
   "cell_type": "markdown",
   "metadata": {},
   "source": [
    "# Response variable"
   ]
  },
  {
   "cell_type": "code",
   "execution_count": 5,
   "metadata": {},
   "outputs": [
    {
     "data": {
      "image/png": "[encoded data removed]",
      "text/plain": [
       "<Figure size 640x480 with 1 Axes>"
      ]
     },
     "metadata": {},
     "output_type": "display_data"
    }
   ],
   "source": [
    "g = sns.countplot(data = df_mailout,\n",
    "                    x = 'RESPONSE')\n",
    "\n",
    "g.bar_label(g.containers[-1])\n",
    "\n",
    "plt.title('Count of Response Variable')\n",
    "\n",
    "plt.show()"
   ]
  },
  {
   "cell_type": "code",
   "execution_count": 6,
   "metadata": {},
   "outputs": [
    {
     "data": {
      "text/plain": [
       "0    0.987567\n",
       "1    0.012433\n",
       "Name: RESPONSE, dtype: float64"
      ]
     },
     "execution_count": 6,
     "metadata": {},
     "output_type": "execute_result"
    }
   ],
   "source": [
    "df_mailout['RESPONSE'].value_counts(normalize = True)"
   ]
  },
  {
   "attachments": {},
   "cell_type": "markdown",
   "metadata": {},
   "source": [
    "The data is HEAVILY imbalanced. A little more than 1% actually responded to the mailing.  \n",
    "This is not inherently bad. Some methods can be used like up- or downsampling but not necessairly.  \n",
    "Either way, given this hard imbalace, accuracy should not be used since in this context it is a biased metric"
   ]
  },
  {
   "attachments": {},
   "cell_type": "markdown",
   "metadata": {},
   "source": [
    "# Segmenting variable types"
   ]
  },
  {
   "cell_type": "code",
   "execution_count": 7,
   "metadata": {},
   "outputs": [],
   "source": [
    "census_var_types = pd.read_csv('data/trusted/census_var_types.csv').drop(columns='Unnamed: 0')"
   ]
  },
  {
   "cell_type": "code",
   "execution_count": 8,
   "metadata": {},
   "outputs": [
    {
     "data": {
      "text/html": [
       "<div>\n",
       "<style scoped>\n",
       "    .dataframe tbody tr th:only-of-type {\n",
       "        vertical-align: middle;\n",
       "    }\n",
       "\n",
       "    .dataframe tbody tr th {\n",
       "        vertical-align: top;\n",
       "    }\n",
       "\n",
       "    .dataframe thead th {\n",
       "        text-align: right;\n",
       "    }\n",
       "</style>\n",
       "<table border=\"1\" class=\"dataframe\">\n",
       "  <thead>\n",
       "    <tr style=\"text-align: right;\">\n",
       "      <th></th>\n",
       "      <th>Attribute</th>\n",
       "      <th>Type</th>\n",
       "    </tr>\n",
       "  </thead>\n",
       "  <tbody>\n",
       "    <tr>\n",
       "      <th>0</th>\n",
       "      <td>ALTERSKATEGORIE_GROB</td>\n",
       "      <td>interval</td>\n",
       "    </tr>\n",
       "    <tr>\n",
       "      <th>1</th>\n",
       "      <td>ANREDE_KZ</td>\n",
       "      <td>binary</td>\n",
       "    </tr>\n",
       "    <tr>\n",
       "      <th>2</th>\n",
       "      <td>ANZ_HAUSHALTE_AKTIV</td>\n",
       "      <td>numeric</td>\n",
       "    </tr>\n",
       "    <tr>\n",
       "      <th>3</th>\n",
       "      <td>ANZ_HH_TITEL</td>\n",
       "      <td>numeric</td>\n",
       "    </tr>\n",
       "    <tr>\n",
       "      <th>4</th>\n",
       "      <td>ANZ_PERSONEN</td>\n",
       "      <td>numeric</td>\n",
       "    </tr>\n",
       "  </tbody>\n",
       "</table>\n",
       "</div>"
      ],
      "text/plain": [
       "              Attribute      Type\n",
       "0  ALTERSKATEGORIE_GROB  interval\n",
       "1             ANREDE_KZ    binary\n",
       "2   ANZ_HAUSHALTE_AKTIV   numeric\n",
       "3          ANZ_HH_TITEL   numeric\n",
       "4          ANZ_PERSONEN   numeric"
      ]
     },
     "execution_count": 8,
     "metadata": {},
     "output_type": "execute_result"
    }
   ],
   "source": [
    "census_var_types.head()"
   ]
  },
  {
   "cell_type": "code",
   "execution_count": 9,
   "metadata": {},
   "outputs": [],
   "source": [
    "census_var_types.loc[census_var_types['Attribute'] == 'ANZ_HH_TITEL','Type'] = 'binary'"
   ]
  },
  {
   "cell_type": "code",
   "execution_count": 10,
   "metadata": {},
   "outputs": [
    {
     "data": {
      "text/plain": [
       "(194, 2)"
      ]
     },
     "execution_count": 10,
     "metadata": {},
     "output_type": "execute_result"
    }
   ],
   "source": [
    "census_var_types.shape"
   ]
  },
  {
   "cell_type": "code",
   "execution_count": 11,
   "metadata": {},
   "outputs": [],
   "source": [
    "binary_vars = census_var_types[census_var_types['Type'] == 'binary']['Attribute'].values\n",
    "\n",
    "binary_vars = np.intersect1d(binary_vars, df_mailout.columns)"
   ]
  },
  {
   "cell_type": "code",
   "execution_count": 12,
   "metadata": {},
   "outputs": [
    {
     "name": "stdout",
     "output_type": "stream",
     "text": [
      "ANREDE_KZ [2 1]\n",
      "ANZ_HH_TITEL [0. 1.]\n",
      "GREEN_AVANTGARDE [0 1]\n",
      "OST_WEST_KZ [1. 0.]\n",
      "VERS_TYP [2. 1.]\n"
     ]
    }
   ],
   "source": [
    "for col in binary_vars:\n",
    "    \n",
    "    try:\n",
    "        print(col, df_mailout[col].unique())\n",
    "\n",
    "    except:\n",
    "\n",
    "        print(f'Column not found: {col}')\n",
    "\n",
    "        continue"
   ]
  },
  {
   "cell_type": "code",
   "execution_count": 13,
   "metadata": {},
   "outputs": [],
   "source": [
    "df_mailout['ANREDE_KZ'] = df_mailout['ANREDE_KZ'] - 1\n",
    "\n",
    "df_mailout['VERS_TYP'] = df_mailout['VERS_TYP'] - 1"
   ]
  },
  {
   "cell_type": "code",
   "execution_count": 14,
   "metadata": {},
   "outputs": [],
   "source": [
    "nominal_vars = census_var_types[census_var_types['Type'] == 'nominal']['Attribute'].values\n",
    "\n",
    "nominal_vars = np.intersect1d(nominal_vars, df_mailout.columns)"
   ]
  },
  {
   "cell_type": "code",
   "execution_count": 15,
   "metadata": {},
   "outputs": [],
   "source": [
    "interval_vars = census_var_types[census_var_types['Type'] == 'interval']['Attribute'].values\n",
    "\n",
    "interval_vars = np.intersect1d(interval_vars, df_mailout.columns)"
   ]
  },
  {
   "cell_type": "code",
   "execution_count": 16,
   "metadata": {},
   "outputs": [],
   "source": [
    "binary_vars = census_var_types[census_var_types['Type'] == 'binary']['Attribute'].values\n",
    "\n",
    "binary_vars = np.intersect1d(binary_vars, df_mailout.columns)"
   ]
  },
  {
   "cell_type": "code",
   "execution_count": 17,
   "metadata": {},
   "outputs": [],
   "source": [
    "num_cols = df_mailout.columns.drop(list(nominal_vars) + list(binary_vars) + list(interval_vars) + ['LNR','RESPONSE'])"
   ]
  },
  {
   "cell_type": "code",
   "execution_count": 18,
   "metadata": {},
   "outputs": [],
   "source": [
    "assert (len(nominal_vars) + len(binary_vars) + len(interval_vars) + len(num_cols) + 1) == len(df_mailout.columns.drop('RESPONSE'))"
   ]
  },
  {
   "attachments": {},
   "cell_type": "markdown",
   "metadata": {},
   "source": [
    "# Testing base models\n",
    "Vanilla models to pick best option for tuning"
   ]
  },
  {
   "cell_type": "code",
   "execution_count": 19,
   "metadata": {},
   "outputs": [],
   "source": [
    "X_sklearn = df_mailout.drop(columns = ['LNR','RESPONSE'])\n",
    "\n",
    "X_sklearn = pd.get_dummies(X_sklearn,columns = nominal_vars)\n",
    "\n",
    "y = df_mailout['RESPONSE']"
   ]
  },
  {
   "cell_type": "code",
   "execution_count": 47,
   "metadata": {},
   "outputs": [],
   "source": [
    "X_sklearn_train, X_sklearn_test, y_train, y_test = train_test_split(X_sklearn, y, test_size=0.2, random_state=42)"
   ]
  },
  {
   "cell_type": "code",
   "execution_count": 40,
   "metadata": {},
   "outputs": [
    {
     "data": {
      "text/plain": [
       "0    0.98776\n",
       "1    0.01224\n",
       "Name: RESPONSE, dtype: float64"
      ]
     },
     "execution_count": 40,
     "metadata": {},
     "output_type": "execute_result"
    }
   ],
   "source": [
    "y_train.value_counts(normalize = True)"
   ]
  },
  {
   "cell_type": "code",
   "execution_count": 41,
   "metadata": {},
   "outputs": [
    {
     "data": {
      "text/plain": [
       "0    0.986474\n",
       "1    0.013526\n",
       "Name: RESPONSE, dtype: float64"
      ]
     },
     "execution_count": 41,
     "metadata": {},
     "output_type": "execute_result"
    }
   ],
   "source": [
    "y_test.value_counts(normalize = True)"
   ]
  },
  {
   "cell_type": "code",
   "execution_count": 48,
   "metadata": {},
   "outputs": [],
   "source": [
    "dt = DecisionTreeClassifier(random_state = 42)\n",
    "\n",
    "rf = RandomForestClassifier(n_estimators=100, random_state=42, n_jobs=-1)\n",
    "\n",
    "xgb = XGBClassifier(n_jobs = -1, random_state = 42)"
   ]
  },
  {
   "cell_type": "code",
   "execution_count": 49,
   "metadata": {},
   "outputs": [],
   "source": [
    "skfold = StratifiedKFold(n_splits = 5, random_state = 123, shuffle = True)"
   ]
  },
  {
   "cell_type": "code",
   "execution_count": 50,
   "metadata": {},
   "outputs": [
    {
     "name": "stderr",
     "output_type": "stream",
     "text": [
      "[Parallel(n_jobs=-1)]: Using backend LokyBackend with 8 concurrent workers.\n",
      "[Parallel(n_jobs=-1)]: Done   2 out of   5 | elapsed:    2.2s remaining:    3.3s\n",
      "[Parallel(n_jobs=-1)]: Done   5 out of   5 | elapsed:    2.4s finished\n",
      "[Parallel(n_jobs=-1)]: Using backend LokyBackend with 8 concurrent workers.\n",
      "[Parallel(n_jobs=-1)]: Done   2 out of   5 | elapsed:    7.1s remaining:   10.8s\n",
      "[Parallel(n_jobs=-1)]: Done   5 out of   5 | elapsed:    7.6s finished\n",
      "[Parallel(n_jobs=-1)]: Using backend LokyBackend with 8 concurrent workers.\n",
      "[Parallel(n_jobs=-1)]: Done   2 out of   5 | elapsed:   26.8s remaining:   40.2s\n",
      "[Parallel(n_jobs=-1)]: Done   5 out of   5 | elapsed:   27.0s finished\n"
     ]
    }
   ],
   "source": [
    "# Evaluate models using ROC AUC score and store results in a DataFrame\n",
    "results_df = pd.DataFrame(columns=['Model', 'Fold', 'ROC AUC Score'])\n",
    "\n",
    "for i, model in enumerate([dt, rf, xgb]):\n",
    "\n",
    "    if i == 0:\n",
    "\n",
    "        model_name = 'Decision Tree'\n",
    "    \n",
    "    elif i == 1:\n",
    "\n",
    "        model_name ='Random Forest'\n",
    "\n",
    "    else:\n",
    "\n",
    "        model_name = 'XGBoost'\n",
    "    \n",
    "    scores = cross_val_score(model, X_sklearn_train, y_train, cv=skfold, scoring='roc_auc', n_jobs= -1, verbose = 1)\n",
    "\n",
    "    records = [(model_name,i + 1,score) for i, score in enumerate(scores)]\n",
    "\n",
    "    frame = pd.DataFrame.from_records(records)\n",
    "\n",
    "    if i == 0:\n",
    "\n",
    "        results_df = frame\n",
    "\n",
    "    else:\n",
    "\n",
    "        results_df = pd.concat([results_df, frame])\n",
    "\n",
    "results_df.columns = ['Model','fold','roc_auc']"
   ]
  },
  {
   "cell_type": "code",
   "execution_count": 51,
   "metadata": {},
   "outputs": [
    {
     "data": {
      "text/html": [
       "<div>\n",
       "<style scoped>\n",
       "    .dataframe tbody tr th:only-of-type {\n",
       "        vertical-align: middle;\n",
       "    }\n",
       "\n",
       "    .dataframe tbody tr th {\n",
       "        vertical-align: top;\n",
       "    }\n",
       "\n",
       "    .dataframe thead th {\n",
       "        text-align: right;\n",
       "    }\n",
       "</style>\n",
       "<table border=\"1\" class=\"dataframe\">\n",
       "  <thead>\n",
       "    <tr style=\"text-align: right;\">\n",
       "      <th></th>\n",
       "      <th>Model</th>\n",
       "      <th>fold</th>\n",
       "      <th>roc_auc</th>\n",
       "    </tr>\n",
       "  </thead>\n",
       "  <tbody>\n",
       "    <tr>\n",
       "      <th>0</th>\n",
       "      <td>Decision Tree</td>\n",
       "      <td>1</td>\n",
       "      <td>0.521805</td>\n",
       "    </tr>\n",
       "    <tr>\n",
       "      <th>1</th>\n",
       "      <td>Decision Tree</td>\n",
       "      <td>2</td>\n",
       "      <td>0.507061</td>\n",
       "    </tr>\n",
       "    <tr>\n",
       "      <th>2</th>\n",
       "      <td>Decision Tree</td>\n",
       "      <td>3</td>\n",
       "      <td>0.526638</td>\n",
       "    </tr>\n",
       "    <tr>\n",
       "      <th>3</th>\n",
       "      <td>Decision Tree</td>\n",
       "      <td>4</td>\n",
       "      <td>0.491139</td>\n",
       "    </tr>\n",
       "    <tr>\n",
       "      <th>4</th>\n",
       "      <td>Decision Tree</td>\n",
       "      <td>5</td>\n",
       "      <td>0.506116</td>\n",
       "    </tr>\n",
       "    <tr>\n",
       "      <th>0</th>\n",
       "      <td>Random Forest</td>\n",
       "      <td>1</td>\n",
       "      <td>0.560618</td>\n",
       "    </tr>\n",
       "    <tr>\n",
       "      <th>1</th>\n",
       "      <td>Random Forest</td>\n",
       "      <td>2</td>\n",
       "      <td>0.522036</td>\n",
       "    </tr>\n",
       "    <tr>\n",
       "      <th>2</th>\n",
       "      <td>Random Forest</td>\n",
       "      <td>3</td>\n",
       "      <td>0.514596</td>\n",
       "    </tr>\n",
       "    <tr>\n",
       "      <th>3</th>\n",
       "      <td>Random Forest</td>\n",
       "      <td>4</td>\n",
       "      <td>0.562025</td>\n",
       "    </tr>\n",
       "    <tr>\n",
       "      <th>4</th>\n",
       "      <td>Random Forest</td>\n",
       "      <td>5</td>\n",
       "      <td>0.482451</td>\n",
       "    </tr>\n",
       "    <tr>\n",
       "      <th>0</th>\n",
       "      <td>XGBoost</td>\n",
       "      <td>1</td>\n",
       "      <td>0.620341</td>\n",
       "    </tr>\n",
       "    <tr>\n",
       "      <th>1</th>\n",
       "      <td>XGBoost</td>\n",
       "      <td>2</td>\n",
       "      <td>0.613084</td>\n",
       "    </tr>\n",
       "    <tr>\n",
       "      <th>2</th>\n",
       "      <td>XGBoost</td>\n",
       "      <td>3</td>\n",
       "      <td>0.595886</td>\n",
       "    </tr>\n",
       "    <tr>\n",
       "      <th>3</th>\n",
       "      <td>XGBoost</td>\n",
       "      <td>4</td>\n",
       "      <td>0.642597</td>\n",
       "    </tr>\n",
       "    <tr>\n",
       "      <th>4</th>\n",
       "      <td>XGBoost</td>\n",
       "      <td>5</td>\n",
       "      <td>0.555170</td>\n",
       "    </tr>\n",
       "  </tbody>\n",
       "</table>\n",
       "</div>"
      ],
      "text/plain": [
       "           Model  fold   roc_auc\n",
       "0  Decision Tree     1  0.521805\n",
       "1  Decision Tree     2  0.507061\n",
       "2  Decision Tree     3  0.526638\n",
       "3  Decision Tree     4  0.491139\n",
       "4  Decision Tree     5  0.506116\n",
       "0  Random Forest     1  0.560618\n",
       "1  Random Forest     2  0.522036\n",
       "2  Random Forest     3  0.514596\n",
       "3  Random Forest     4  0.562025\n",
       "4  Random Forest     5  0.482451\n",
       "0        XGBoost     1  0.620341\n",
       "1        XGBoost     2  0.613084\n",
       "2        XGBoost     3  0.595886\n",
       "3        XGBoost     4  0.642597\n",
       "4        XGBoost     5  0.555170"
      ]
     },
     "metadata": {},
     "output_type": "display_data"
    }
   ],
   "source": [
    "display(results_df)"
   ]
  },
  {
   "cell_type": "code",
   "execution_count": 52,
   "metadata": {},
   "outputs": [
    {
     "data": {
      "image/png": "[encoded data removed]",
      "text/plain": [
       "<Figure size 1500x500 with 1 Axes>"
      ]
     },
     "metadata": {},
     "output_type": "display_data"
    }
   ],
   "source": [
    "fig, ax = plt.subplots(figsize = (15,5))\n",
    "\n",
    "sns.barplot(data = results_df,\n",
    "                    x = 'fold',\n",
    "                    y = 'roc_auc',\n",
    "                    hue = 'Model',\n",
    "                    ax = ax)\n",
    "\n",
    "ax.set_ylabel('ROC-AUC Score')\n",
    "\n",
    "ax.set_xlabel('Fold')\n",
    "\n",
    "plt.legend(title = 'Model',bbox_to_anchor = (1.01,1), loc = 'upper left')\n",
    "\n",
    "plt.title('Model Performance (ROC-AUC) Over K = 5 Folds for training data')\n",
    "\n",
    "plt.show()"
   ]
  },
  {
   "cell_type": "code",
   "execution_count": 53,
   "metadata": {},
   "outputs": [
    {
     "data": {
      "text/plain": [
       "Model\n",
       "Decision Tree    0.510552\n",
       "Random Forest    0.528345\n",
       "XGBoost          0.605415\n",
       "Name: roc_auc, dtype: float64"
      ]
     },
     "execution_count": 53,
     "metadata": {},
     "output_type": "execute_result"
    }
   ],
   "source": [
    "results_df.groupby('Model')['roc_auc'].mean()"
   ]
  },
  {
   "attachments": {},
   "cell_type": "markdown",
   "metadata": {},
   "source": [
    "XGBoost clearly outperforms both models and is actually the only one that has a good distance from "
   ]
  }
 ],
 "metadata": {
  "kernelspec": {
   "display_name": "arvato",
   "language": "python",
   "name": "python3"
  },
  "language_info": {
   "codemirror_mode": {
    "name": "ipython",
    "version": 3
   },
   "file_extension": ".py",
   "mimetype": "text/x-python",
   "name": "python",
   "nbconvert_exporter": "python",
   "pygments_lexer": "ipython3",
   "version": "3.10.9"
  },
  "orig_nbformat": 4
 },
 "nbformat": 4,
 "nbformat_minor": 2
}
