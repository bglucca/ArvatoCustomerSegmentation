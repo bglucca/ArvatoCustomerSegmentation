{
 "cells": [
  {
   "cell_type": "code",
   "execution_count": 1,
   "metadata": {},
   "outputs": [],
   "source": [
    "import pandas as pd\n",
    "import numpy as np\n",
    "\n",
    "import seaborn as sns\n",
    "import matplotlib.pyplot as plt\n",
    "import plotly.express as px\n",
    "\n",
    "from sklearn.tree import DecisionTreeClassifier\n",
    "from sklearn.ensemble import RandomForestClassifier\n",
    "from sklearn.model_selection import StratifiedKFold, train_test_split, cross_val_score, RandomizedSearchCV, cross_validate\n",
    "from sklearn.feature_selection import SelectKBest, mutual_info_classif\n",
    "from sklearn.metrics import roc_auc_score\n",
    "from sklearn.linear_model import LogisticRegression\n",
    "import imblearn\n",
    "\n",
    "from xgboost import XGBClassifier"
   ]
  },
  {
   "cell_type": "code",
   "execution_count": 2,
   "metadata": {},
   "outputs": [],
   "source": [
    "sns.set_style('whitegrid')"
   ]
  },
  {
   "cell_type": "code",
   "execution_count": 3,
   "metadata": {},
   "outputs": [],
   "source": [
    "# census = pd.read_parquet('data/refined/census_data.parquet')"
   ]
  },
  {
   "cell_type": "code",
   "execution_count": 4,
   "metadata": {},
   "outputs": [],
   "source": [
    "df_mailout = pd.read_parquet('data/refined/mailout_train.parquet')"
   ]
  },
  {
   "attachments": {},
   "cell_type": "markdown",
   "metadata": {},
   "source": [
    "# Response variable"
   ]
  },
  {
   "cell_type": "code",
   "execution_count": 5,
   "metadata": {},
   "outputs": [
    {
     "data": {
      "image/png": "[encoded data removed]",
      "text/plain": [
       "<Figure size 640x480 with 1 Axes>"
      ]
     },
     "metadata": {},
     "output_type": "display_data"
    }
   ],
   "source": [
    "g = sns.countplot(data = df_mailout,\n",
    "                    x = 'RESPONSE')\n",
    "\n",
    "g.bar_label(g.containers[-1])\n",
    "\n",
    "plt.title('Count of Response Variable')\n",
    "\n",
    "plt.show()"
   ]
  },
  {
   "cell_type": "code",
   "execution_count": 6,
   "metadata": {},
   "outputs": [
    {
     "data": {
      "text/plain": [
       "0    0.987567\n",
       "1    0.012433\n",
       "Name: RESPONSE, dtype: float64"
      ]
     },
     "execution_count": 6,
     "metadata": {},
     "output_type": "execute_result"
    }
   ],
   "source": [
    "df_mailout['RESPONSE'].value_counts(normalize = True)"
   ]
  },
  {
   "attachments": {},
   "cell_type": "markdown",
   "metadata": {},
   "source": [
    "The data is HEAVILY imbalanced. A little more than 1% actually responded to the mailing.  \n",
    "This is not inherently bad. Some methods can be used like up- or downsampling but not necessairly.  \n",
    "Either way, given this hard imbalace, accuracy should not be used since in this context it is a biased metric"
   ]
  },
  {
   "attachments": {},
   "cell_type": "markdown",
   "metadata": {},
   "source": [
    "# Segmenting variable types"
   ]
  },
  {
   "cell_type": "code",
   "execution_count": 7,
   "metadata": {},
   "outputs": [],
   "source": [
    "census_var_types = pd.read_csv('data/trusted/census_var_types.csv').drop(columns='Unnamed: 0')"
   ]
  },
  {
   "cell_type": "code",
   "execution_count": 8,
   "metadata": {},
   "outputs": [
    {
     "data": {
      "text/html": [
       "<div>\n",
       "<style scoped>\n",
       "    .dataframe tbody tr th:only-of-type {\n",
       "        vertical-align: middle;\n",
       "    }\n",
       "\n",
       "    .dataframe tbody tr th {\n",
       "        vertical-align: top;\n",
       "    }\n",
       "\n",
       "    .dataframe thead th {\n",
       "        text-align: right;\n",
       "    }\n",
       "</style>\n",
       "<table border=\"1\" class=\"dataframe\">\n",
       "  <thead>\n",
       "    <tr style=\"text-align: right;\">\n",
       "      <th></th>\n",
       "      <th>Attribute</th>\n",
       "      <th>Type</th>\n",
       "    </tr>\n",
       "  </thead>\n",
       "  <tbody>\n",
       "    <tr>\n",
       "      <th>0</th>\n",
       "      <td>ALTERSKATEGORIE_GROB</td>\n",
       "      <td>interval</td>\n",
       "    </tr>\n",
       "    <tr>\n",
       "      <th>1</th>\n",
       "      <td>ANREDE_KZ</td>\n",
       "      <td>binary</td>\n",
       "    </tr>\n",
       "    <tr>\n",
       "      <th>2</th>\n",
       "      <td>ANZ_HAUSHALTE_AKTIV</td>\n",
       "      <td>numeric</td>\n",
       "    </tr>\n",
       "    <tr>\n",
       "      <th>3</th>\n",
       "      <td>ANZ_HH_TITEL</td>\n",
       "      <td>numeric</td>\n",
       "    </tr>\n",
       "    <tr>\n",
       "      <th>4</th>\n",
       "      <td>ANZ_PERSONEN</td>\n",
       "      <td>numeric</td>\n",
       "    </tr>\n",
       "  </tbody>\n",
       "</table>\n",
       "</div>"
      ],
      "text/plain": [
       "              Attribute      Type\n",
       "0  ALTERSKATEGORIE_GROB  interval\n",
       "1             ANREDE_KZ    binary\n",
       "2   ANZ_HAUSHALTE_AKTIV   numeric\n",
       "3          ANZ_HH_TITEL   numeric\n",
       "4          ANZ_PERSONEN   numeric"
      ]
     },
     "execution_count": 8,
     "metadata": {},
     "output_type": "execute_result"
    }
   ],
   "source": [
    "census_var_types.head()"
   ]
  },
  {
   "cell_type": "code",
   "execution_count": 9,
   "metadata": {},
   "outputs": [],
   "source": [
    "census_var_types.loc[census_var_types['Attribute'] == 'ANZ_HH_TITEL','Type'] = 'binary'"
   ]
  },
  {
   "cell_type": "code",
   "execution_count": 10,
   "metadata": {},
   "outputs": [
    {
     "data": {
      "text/plain": [
       "(194, 2)"
      ]
     },
     "execution_count": 10,
     "metadata": {},
     "output_type": "execute_result"
    }
   ],
   "source": [
    "census_var_types.shape"
   ]
  },
  {
   "cell_type": "code",
   "execution_count": 11,
   "metadata": {},
   "outputs": [],
   "source": [
    "binary_vars = census_var_types[census_var_types['Type'] == 'binary']['Attribute'].values\n",
    "\n",
    "binary_vars = np.intersect1d(binary_vars, df_mailout.columns)"
   ]
  },
  {
   "cell_type": "code",
   "execution_count": 12,
   "metadata": {},
   "outputs": [
    {
     "name": "stdout",
     "output_type": "stream",
     "text": [
      "ANREDE_KZ [2 1]\n",
      "ANZ_HH_TITEL [0. 1.]\n",
      "GREEN_AVANTGARDE [0 1]\n",
      "OST_WEST_KZ [1. 0.]\n",
      "VERS_TYP [2. 1.]\n"
     ]
    }
   ],
   "source": [
    "for col in binary_vars:\n",
    "    \n",
    "    try:\n",
    "        print(col, df_mailout[col].unique())\n",
    "\n",
    "    except:\n",
    "\n",
    "        print(f'Column not found: {col}')\n",
    "\n",
    "        continue"
   ]
  },
  {
   "cell_type": "code",
   "execution_count": 13,
   "metadata": {},
   "outputs": [],
   "source": [
    "df_mailout['ANREDE_KZ'] = df_mailout['ANREDE_KZ'] - 1\n",
    "\n",
    "df_mailout['VERS_TYP'] = df_mailout['VERS_TYP'] - 1"
   ]
  },
  {
   "cell_type": "code",
   "execution_count": 14,
   "metadata": {},
   "outputs": [],
   "source": [
    "nominal_vars = census_var_types[census_var_types['Type'] == 'nominal']['Attribute'].values\n",
    "\n",
    "nominal_vars = np.intersect1d(nominal_vars, df_mailout.columns)"
   ]
  },
  {
   "cell_type": "code",
   "execution_count": 15,
   "metadata": {},
   "outputs": [],
   "source": [
    "interval_vars = census_var_types[census_var_types['Type'] == 'interval']['Attribute'].values\n",
    "\n",
    "interval_vars = np.intersect1d(interval_vars, df_mailout.columns)"
   ]
  },
  {
   "cell_type": "code",
   "execution_count": 16,
   "metadata": {},
   "outputs": [],
   "source": [
    "binary_vars = census_var_types[census_var_types['Type'] == 'binary']['Attribute'].values\n",
    "\n",
    "binary_vars = np.intersect1d(binary_vars, df_mailout.columns)"
   ]
  },
  {
   "cell_type": "code",
   "execution_count": 17,
   "metadata": {},
   "outputs": [],
   "source": [
    "num_cols = df_mailout.columns.drop(list(nominal_vars) + list(binary_vars) + list(interval_vars) + ['LNR','RESPONSE'])"
   ]
  },
  {
   "cell_type": "code",
   "execution_count": 18,
   "metadata": {},
   "outputs": [],
   "source": [
    "assert (len(nominal_vars) + len(binary_vars) + len(interval_vars) + len(num_cols) + 1) == len(df_mailout.columns.drop('RESPONSE'))"
   ]
  },
  {
   "cell_type": "code",
   "execution_count": 19,
   "metadata": {},
   "outputs": [
    {
     "name": "stdout",
     "output_type": "stream",
     "text": [
      "CJT_GESAMTTYP nunique: 6\n",
      "D19_KONSUMTYP nunique: 7\n",
      "FINANZTYP nunique: 6\n",
      "GEBAEUDETYP nunique: 6\n",
      "GEBAEUDETYP_RASTER nunique: 5\n",
      "GFK_URLAUBERTYP nunique: 12\n",
      "HEALTH_TYP nunique: 3\n",
      "KBA05_MAXHERST nunique: 5\n",
      "LP_FAMILIE_GROB nunique: 6\n",
      "NATIONALITAET_KZ nunique: 3\n",
      "RETOURTYP_BK_S nunique: 5\n",
      "SHOPPER_TYP nunique: 4\n",
      "STRUKTURTYP nunique: 3\n"
     ]
    }
   ],
   "source": [
    "for var in nominal_vars:\n",
    "\n",
    "    print(var, 'nunique:',df_mailout[var].nunique())"
   ]
  },
  {
   "attachments": {},
   "cell_type": "markdown",
   "metadata": {},
   "source": [
    "# Testing base models\n",
    "Vanilla models to pick best option for tuning"
   ]
  },
  {
   "cell_type": "code",
   "execution_count": 74,
   "metadata": {},
   "outputs": [],
   "source": [
    "X = df_mailout.drop(columns = ['LNR','RESPONSE'])\n",
    "\n",
    "X = pd.get_dummies(X,columns = nominal_vars)\n",
    "\n",
    "y = df_mailout['RESPONSE']"
   ]
  },
  {
   "cell_type": "code",
   "execution_count": 75,
   "metadata": {},
   "outputs": [],
   "source": [
    "X_train, X_test, y_train, y_test = train_test_split(X, y, test_size=0.2, random_state=42)"
   ]
  },
  {
   "cell_type": "code",
   "execution_count": 76,
   "metadata": {},
   "outputs": [
    {
     "data": {
      "text/plain": [
       "0    0.987924\n",
       "1    0.012076\n",
       "Name: RESPONSE, dtype: float64"
      ]
     },
     "execution_count": 76,
     "metadata": {},
     "output_type": "execute_result"
    }
   ],
   "source": [
    "y_train.value_counts(normalize = True)"
   ]
  },
  {
   "cell_type": "code",
   "execution_count": 77,
   "metadata": {},
   "outputs": [
    {
     "data": {
      "text/plain": [
       "0    0.986139\n",
       "1    0.013861\n",
       "Name: RESPONSE, dtype: float64"
      ]
     },
     "execution_count": 77,
     "metadata": {},
     "output_type": "execute_result"
    }
   ],
   "source": [
    "y_test.value_counts(normalize = True)"
   ]
  },
  {
   "cell_type": "code",
   "execution_count": 28,
   "metadata": {},
   "outputs": [],
   "source": [
    "dt = DecisionTreeClassifier(max_depth = 10, random_state = 42, class_weight='balanced')\n",
    "\n",
    "rf = RandomForestClassifier(max_depth = 2,class_weight='balanced',n_estimators=300, random_state=42, n_jobs=-1)\n",
    "\n",
    "# Instantiating an XGB to match the closest possible characteristics with balanced class_weights\n",
    "xgb = XGBClassifier(max_depth = 2,scale_pos_weight = 80,eta = 0.1,n_thread = 4, random_state = 42)\n",
    "\n",
    "lr = LogisticRegression(class_weight='balanced', n_jobs = -1, random_state=42)"
   ]
  },
  {
   "cell_type": "code",
   "execution_count": 29,
   "metadata": {},
   "outputs": [],
   "source": [
    "skfold = StratifiedKFold(n_splits = 5, random_state = 123, shuffle = True)"
   ]
  },
  {
   "cell_type": "code",
   "execution_count": 30,
   "metadata": {},
   "outputs": [],
   "source": [
    "models_dict = {'Decision Tree':dt, 'Random Forest':rf,'XGBoost':xgb, 'LogisticRegression':lr}"
   ]
  },
  {
   "cell_type": "code",
   "execution_count": 37,
   "metadata": {},
   "outputs": [],
   "source": [
    "def evaluate_models(X,y,dict_models,cv):\n",
    "\n",
    "    for i, (name, model) in enumerate(dict_models.items()):\n",
    "\n",
    "        scores = cross_validate(model, X, y, cv=cv, scoring=['roc_auc','f1'], n_jobs= -1, verbose = 1, return_train_score=True)\n",
    "\n",
    "        scores['model'] = name\n",
    "\n",
    "        if i == 0:\n",
    "\n",
    "            records = [scores]\n",
    "\n",
    "        else:\n",
    "\n",
    "            records.append(scores)\n",
    "\n",
    "    for i, r in enumerate(records):\n",
    "\n",
    "        temp = pd.DataFrame.from_dict(r)\n",
    "\n",
    "        if i == 0:\n",
    "\n",
    "            results_df = temp\n",
    "        \n",
    "        else:\n",
    "\n",
    "            results_df = pd.concat([results_df, temp])\n",
    "        \n",
    "    results_df.reset_index(inplace = True)\n",
    "\n",
    "    results_df.rename(columns = {'index':'Fold'}, inplace = True)\n",
    "\n",
    "    return results_df"
   ]
  },
  {
   "cell_type": "code",
   "execution_count": 38,
   "metadata": {},
   "outputs": [
    {
     "name": "stderr",
     "output_type": "stream",
     "text": [
      "[Parallel(n_jobs=-1)]: Using backend LokyBackend with 8 concurrent workers.\n",
      "[Parallel(n_jobs=-1)]: Done   2 out of   5 | elapsed:    2.7s remaining:    4.0s\n",
      "[Parallel(n_jobs=-1)]: Done   5 out of   5 | elapsed:    2.7s finished\n",
      "[Parallel(n_jobs=-1)]: Using backend LokyBackend with 8 concurrent workers.\n",
      "[Parallel(n_jobs=-1)]: Done   2 out of   5 | elapsed:    9.6s remaining:   14.4s\n",
      "[Parallel(n_jobs=-1)]: Done   5 out of   5 | elapsed:   10.0s finished\n",
      "[Parallel(n_jobs=-1)]: Using backend LokyBackend with 8 concurrent workers.\n",
      "[Parallel(n_jobs=-1)]: Done   2 out of   5 | elapsed:   19.4s remaining:   29.1s\n",
      "[Parallel(n_jobs=-1)]: Done   5 out of   5 | elapsed:   19.4s finished\n",
      "[Parallel(n_jobs=-1)]: Using backend LokyBackend with 8 concurrent workers.\n",
      "[Parallel(n_jobs=-1)]: Done   2 out of   5 | elapsed:    6.8s remaining:   10.3s\n",
      "[Parallel(n_jobs=-1)]: Done   5 out of   5 | elapsed:    7.3s finished\n"
     ]
    }
   ],
   "source": [
    "results_df = evaluate_models(X_train, y_train, dict_models = models_dict, cv = skfold)"
   ]
  },
  {
   "cell_type": "code",
   "execution_count": 40,
   "metadata": {},
   "outputs": [
    {
     "data": {
      "text/html": [
       "<div>\n",
       "<style scoped>\n",
       "    .dataframe tbody tr th:only-of-type {\n",
       "        vertical-align: middle;\n",
       "    }\n",
       "\n",
       "    .dataframe tbody tr th {\n",
       "        vertical-align: top;\n",
       "    }\n",
       "\n",
       "    .dataframe thead th {\n",
       "        text-align: right;\n",
       "    }\n",
       "</style>\n",
       "<table border=\"1\" class=\"dataframe\">\n",
       "  <thead>\n",
       "    <tr style=\"text-align: right;\">\n",
       "      <th></th>\n",
       "      <th>model</th>\n",
       "      <th>Fold</th>\n",
       "      <th>variable</th>\n",
       "      <th>value</th>\n",
       "    </tr>\n",
       "  </thead>\n",
       "  <tbody>\n",
       "    <tr>\n",
       "      <th>0</th>\n",
       "      <td>Decision Tree</td>\n",
       "      <td>0</td>\n",
       "      <td>test_roc_auc</td>\n",
       "      <td>0.548396</td>\n",
       "    </tr>\n",
       "    <tr>\n",
       "      <th>1</th>\n",
       "      <td>Decision Tree</td>\n",
       "      <td>1</td>\n",
       "      <td>test_roc_auc</td>\n",
       "      <td>0.578383</td>\n",
       "    </tr>\n",
       "    <tr>\n",
       "      <th>2</th>\n",
       "      <td>Decision Tree</td>\n",
       "      <td>2</td>\n",
       "      <td>test_roc_auc</td>\n",
       "      <td>0.557346</td>\n",
       "    </tr>\n",
       "    <tr>\n",
       "      <th>3</th>\n",
       "      <td>Decision Tree</td>\n",
       "      <td>3</td>\n",
       "      <td>test_roc_auc</td>\n",
       "      <td>0.548166</td>\n",
       "    </tr>\n",
       "    <tr>\n",
       "      <th>4</th>\n",
       "      <td>Decision Tree</td>\n",
       "      <td>4</td>\n",
       "      <td>test_roc_auc</td>\n",
       "      <td>0.533870</td>\n",
       "    </tr>\n",
       "    <tr>\n",
       "      <th>...</th>\n",
       "      <td>...</td>\n",
       "      <td>...</td>\n",
       "      <td>...</td>\n",
       "      <td>...</td>\n",
       "    </tr>\n",
       "    <tr>\n",
       "      <th>75</th>\n",
       "      <td>LogisticRegression</td>\n",
       "      <td>0</td>\n",
       "      <td>train_f1</td>\n",
       "      <td>0.043633</td>\n",
       "    </tr>\n",
       "    <tr>\n",
       "      <th>76</th>\n",
       "      <td>LogisticRegression</td>\n",
       "      <td>1</td>\n",
       "      <td>train_f1</td>\n",
       "      <td>0.042374</td>\n",
       "    </tr>\n",
       "    <tr>\n",
       "      <th>77</th>\n",
       "      <td>LogisticRegression</td>\n",
       "      <td>2</td>\n",
       "      <td>train_f1</td>\n",
       "      <td>0.045093</td>\n",
       "    </tr>\n",
       "    <tr>\n",
       "      <th>78</th>\n",
       "      <td>LogisticRegression</td>\n",
       "      <td>3</td>\n",
       "      <td>train_f1</td>\n",
       "      <td>0.041261</td>\n",
       "    </tr>\n",
       "    <tr>\n",
       "      <th>79</th>\n",
       "      <td>LogisticRegression</td>\n",
       "      <td>4</td>\n",
       "      <td>train_f1</td>\n",
       "      <td>0.045650</td>\n",
       "    </tr>\n",
       "  </tbody>\n",
       "</table>\n",
       "<p>80 rows × 4 columns</p>\n",
       "</div>"
      ],
      "text/plain": [
       "                 model  Fold      variable     value\n",
       "0        Decision Tree     0  test_roc_auc  0.548396\n",
       "1        Decision Tree     1  test_roc_auc  0.578383\n",
       "2        Decision Tree     2  test_roc_auc  0.557346\n",
       "3        Decision Tree     3  test_roc_auc  0.548166\n",
       "4        Decision Tree     4  test_roc_auc  0.533870\n",
       "..                 ...   ...           ...       ...\n",
       "75  LogisticRegression     0      train_f1  0.043633\n",
       "76  LogisticRegression     1      train_f1  0.042374\n",
       "77  LogisticRegression     2      train_f1  0.045093\n",
       "78  LogisticRegression     3      train_f1  0.041261\n",
       "79  LogisticRegression     4      train_f1  0.045650\n",
       "\n",
       "[80 rows x 4 columns]"
      ]
     },
     "execution_count": 40,
     "metadata": {},
     "output_type": "execute_result"
    }
   ],
   "source": [
    "results_plot = results_df.melt(id_vars = ['model','Fold'], value_vars = ['test_roc_auc','train_roc_auc','test_f1','train_f1'])"
   ]
  },
  {
   "cell_type": "code",
   "execution_count": 41,
   "metadata": {},
   "outputs": [
    {
     "data": {
      "text/html": [
       "<div>\n",
       "<style scoped>\n",
       "    .dataframe tbody tr th:only-of-type {\n",
       "        vertical-align: middle;\n",
       "    }\n",
       "\n",
       "    .dataframe tbody tr th {\n",
       "        vertical-align: top;\n",
       "    }\n",
       "\n",
       "    .dataframe thead th {\n",
       "        text-align: right;\n",
       "    }\n",
       "</style>\n",
       "<table border=\"1\" class=\"dataframe\">\n",
       "  <thead>\n",
       "    <tr style=\"text-align: right;\">\n",
       "      <th></th>\n",
       "      <th>test_roc_auc</th>\n",
       "      <th>train_roc_auc</th>\n",
       "    </tr>\n",
       "    <tr>\n",
       "      <th>model</th>\n",
       "      <th></th>\n",
       "      <th></th>\n",
       "    </tr>\n",
       "  </thead>\n",
       "  <tbody>\n",
       "    <tr>\n",
       "      <th>Decision Tree</th>\n",
       "      <td>0.553232</td>\n",
       "      <td>0.885613</td>\n",
       "    </tr>\n",
       "    <tr>\n",
       "      <th>LogisticRegression</th>\n",
       "      <td>0.572248</td>\n",
       "      <td>0.711280</td>\n",
       "    </tr>\n",
       "    <tr>\n",
       "      <th>Random Forest</th>\n",
       "      <td>0.641701</td>\n",
       "      <td>0.747787</td>\n",
       "    </tr>\n",
       "    <tr>\n",
       "      <th>XGBoost</th>\n",
       "      <td>0.645930</td>\n",
       "      <td>0.877853</td>\n",
       "    </tr>\n",
       "  </tbody>\n",
       "</table>\n",
       "</div>"
      ],
      "text/plain": [
       "                    test_roc_auc  train_roc_auc\n",
       "model                                          \n",
       "Decision Tree           0.553232       0.885613\n",
       "LogisticRegression      0.572248       0.711280\n",
       "Random Forest           0.641701       0.747787\n",
       "XGBoost                 0.645930       0.877853"
      ]
     },
     "execution_count": 41,
     "metadata": {},
     "output_type": "execute_result"
    }
   ],
   "source": [
    "results_df.groupby('model')[['test_roc_auc','train_roc_auc']].mean()"
   ]
  },
  {
   "attachments": {},
   "cell_type": "markdown",
   "metadata": {},
   "source": [
    "All models clearly overfit on training data"
   ]
  },
  {
   "cell_type": "code",
   "execution_count": 48,
   "metadata": {},
   "outputs": [
    {
     "data": {
      "image/png": "[encoded data removed]",
      "text/plain": [
       "<Figure size 1500x500 with 2 Axes>"
      ]
     },
     "metadata": {},
     "output_type": "display_data"
    }
   ],
   "source": [
    "fig, ax = plt.subplots(1,2,figsize = (15,5), sharey=True)\n",
    "\n",
    "sns.barplot(data = results_df,\n",
    "                    x = 'Fold',\n",
    "                    y = 'train_roc_auc',\n",
    "                    hue = 'model',\n",
    "                    ax = ax[0])\n",
    "\n",
    "sns.barplot(data = results_df,\n",
    "                    x = 'Fold',\n",
    "                    y = 'test_roc_auc',\n",
    "                    hue = 'model',\n",
    "                    ax = ax[1])\n",
    "\n",
    "ax[0].set_ylabel('ROC-AUC Score')\n",
    "\n",
    "ax[0].get_legend().remove()\n",
    "\n",
    "ax[0].set_title('Train data')\n",
    "\n",
    "ax[1].set_title('Test data')\n",
    "\n",
    "ax[1].legend(title = 'Model',bbox_to_anchor = (1.01,1), loc = 'upper left')\n",
    "\n",
    "ax[1].set_ylabel('')\n",
    "\n",
    "for a in ax:\n",
    "\n",
    "    a.set_xlabel('Fold')\n",
    "\n",
    "plt.suptitle('Model Performance (ROC-AUC) Over K = 5 Folds for training data')\n",
    "\n",
    "plt.show()"
   ]
  },
  {
   "cell_type": "code",
   "execution_count": 49,
   "metadata": {},
   "outputs": [
    {
     "data": {
      "image/png": "[encoded data removed]",
      "text/plain": [
       "<Figure size 1500x500 with 2 Axes>"
      ]
     },
     "metadata": {},
     "output_type": "display_data"
    }
   ],
   "source": [
    "fig, ax = plt.subplots(1,2,figsize = (15,5), sharey=True)\n",
    "\n",
    "sns.barplot(data = results_df,\n",
    "                    x = 'Fold',\n",
    "                    y = 'train_f1',\n",
    "                    hue = 'model',\n",
    "                    ax = ax[0])\n",
    "\n",
    "sns.barplot(data = results_df,\n",
    "                    x = 'Fold',\n",
    "                    y = 'test_f1',\n",
    "                    hue = 'model',\n",
    "                    ax = ax[1])\n",
    "\n",
    "ax[0].set_ylabel('F1 Score')\n",
    "\n",
    "ax[0].get_legend().remove()\n",
    "\n",
    "ax[0].set_title('Train data')\n",
    "\n",
    "ax[1].set_title('Test data')\n",
    "\n",
    "ax[1].legend(title = 'Model',bbox_to_anchor = (1.01,1), loc = 'upper left')\n",
    "\n",
    "ax[1].set_ylabel('')\n",
    "\n",
    "for a in ax:\n",
    "\n",
    "    a.set_xlabel('Fold')\n",
    "\n",
    "plt.suptitle('Model Performance (ROC-AUC) Over K = 5 Folds for training data')\n",
    "\n",
    "plt.show()"
   ]
  },
  {
   "attachments": {},
   "cell_type": "markdown",
   "metadata": {},
   "source": [
    "Even though XGBoost outperforms all models on training data, when we evaluate the models' performance on test data it becomes quite clear that there is some overfitting taking place in all cases.  \n",
    "This is evident by looking into the difference between train and test metrics.  \n",
    "\n",
    "The model that appears most constant is the Random Forest (smallest difference between training and testing datasets).  \n",
    "\n",
    "Even by using balanced weights the algorithms are not able to capture the effects in a way to generalize well in the unbalanced sample."
   ]
  },
  {
   "attachments": {},
   "cell_type": "markdown",
   "metadata": {},
   "source": [
    "# Testing Models after SMOTE\n",
    "\n",
    "Using SMOTEC to account for nominal and binary variables"
   ]
  },
  {
   "cell_type": "code",
   "execution_count": 55,
   "metadata": {},
   "outputs": [],
   "source": [
    "dummyfied_cols_list = []\n",
    "\n",
    "for col in X:\n",
    "\n",
    "    for n in nominal_vars:\n",
    "\n",
    "        if col.startswith(n):\n",
    "\n",
    "            dummyfied_cols_list.append(col)"
   ]
  },
  {
   "cell_type": "code",
   "execution_count": 59,
   "metadata": {},
   "outputs": [],
   "source": [
    "cat_cols_idx_list = [X.columns.get_loc(col) for col in np.append(binary_vars, dummyfied_cols_list)]"
   ]
  },
  {
   "cell_type": "code",
   "execution_count": 86,
   "metadata": {},
   "outputs": [
    {
     "data": {
      "text/plain": [
       "81"
      ]
     },
     "execution_count": 86,
     "metadata": {},
     "output_type": "execute_result"
    }
   ],
   "source": [
    "len(cat_cols_idx_list)"
   ]
  },
  {
   "cell_type": "code",
   "execution_count": 87,
   "metadata": {},
   "outputs": [
    {
     "data": {
      "text/plain": [
       "(34988, 229)"
      ]
     },
     "execution_count": 87,
     "metadata": {},
     "output_type": "execute_result"
    }
   ],
   "source": [
    "X.shape"
   ]
  },
  {
   "cell_type": "code",
   "execution_count": 88,
   "metadata": {},
   "outputs": [
    {
     "data": {
      "text/plain": [
       "(27990, 229)"
      ]
     },
     "execution_count": 88,
     "metadata": {},
     "output_type": "execute_result"
    }
   ],
   "source": [
    "X_train.shape"
   ]
  },
  {
   "cell_type": "code",
   "execution_count": 68,
   "metadata": {},
   "outputs": [],
   "source": [
    "smotenc = imblearn.over_sampling.SMOTENC(categorical_features=cat_cols_idx_list,\n",
    "                                         sampling_strategy=0.1,\n",
    "                                         random_state = 123)"
   ]
  },
  {
   "cell_type": "code",
   "execution_count": 91,
   "metadata": {},
   "outputs": [],
   "source": [
    "X_train_rs, y_train_rs = smotenc.fit_resample(X_train.values, y_train.values)"
   ]
  },
  {
   "cell_type": "code",
   "execution_count": 98,
   "metadata": {},
   "outputs": [
    {
     "name": "stderr",
     "output_type": "stream",
     "text": [
      "[Parallel(n_jobs=-1)]: Using backend LokyBackend with 8 concurrent workers.\n",
      "[Parallel(n_jobs=-1)]: Done   2 out of   5 | elapsed:   10.0s remaining:   15.0s\n",
      "[Parallel(n_jobs=-1)]: Done   5 out of   5 | elapsed:   10.1s finished\n",
      "[Parallel(n_jobs=-1)]: Using backend LokyBackend with 8 concurrent workers.\n",
      "[Parallel(n_jobs=-1)]: Done   2 out of   5 | elapsed:   10.6s remaining:   16.0s\n",
      "[Parallel(n_jobs=-1)]: Done   5 out of   5 | elapsed:   22.6s finished\n",
      "[Parallel(n_jobs=-1)]: Using backend LokyBackend with 8 concurrent workers.\n",
      "[Parallel(n_jobs=-1)]: Done   2 out of   5 | elapsed:   20.2s remaining:   30.4s\n",
      "[Parallel(n_jobs=-1)]: Done   5 out of   5 | elapsed:   20.4s finished\n",
      "[Parallel(n_jobs=-1)]: Using backend LokyBackend with 8 concurrent workers.\n",
      "[Parallel(n_jobs=-1)]: Done   2 out of   5 | elapsed:    5.7s remaining:    8.6s\n",
      "[Parallel(n_jobs=-1)]: Done   5 out of   5 | elapsed:    5.8s finished\n"
     ]
    }
   ],
   "source": [
    "results_df = evaluate_models(X_train_rs, y_train_rs, dict_models = models_dict, cv = skfold)"
   ]
  },
  {
   "cell_type": "code",
   "execution_count": 99,
   "metadata": {},
   "outputs": [],
   "source": [
    "results_plot = results_df.melt(id_vars = ['model','Fold'], value_vars = ['test_roc_auc','train_roc_auc','test_f1','train_f1'])"
   ]
  },
  {
   "cell_type": "code",
   "execution_count": 100,
   "metadata": {},
   "outputs": [
    {
     "data": {
      "text/html": [
       "<div>\n",
       "<style scoped>\n",
       "    .dataframe tbody tr th:only-of-type {\n",
       "        vertical-align: middle;\n",
       "    }\n",
       "\n",
       "    .dataframe tbody tr th {\n",
       "        vertical-align: top;\n",
       "    }\n",
       "\n",
       "    .dataframe thead th {\n",
       "        text-align: right;\n",
       "    }\n",
       "</style>\n",
       "<table border=\"1\" class=\"dataframe\">\n",
       "  <thead>\n",
       "    <tr style=\"text-align: right;\">\n",
       "      <th></th>\n",
       "      <th>test_roc_auc</th>\n",
       "      <th>train_roc_auc</th>\n",
       "    </tr>\n",
       "    <tr>\n",
       "      <th>model</th>\n",
       "      <th></th>\n",
       "      <th></th>\n",
       "    </tr>\n",
       "  </thead>\n",
       "  <tbody>\n",
       "    <tr>\n",
       "      <th>Decision Tree</th>\n",
       "      <td>0.930205</td>\n",
       "      <td>0.986392</td>\n",
       "    </tr>\n",
       "    <tr>\n",
       "      <th>LogisticRegression</th>\n",
       "      <td>0.837804</td>\n",
       "      <td>0.847137</td>\n",
       "    </tr>\n",
       "    <tr>\n",
       "      <th>Random Forest</th>\n",
       "      <td>0.941928</td>\n",
       "      <td>0.946480</td>\n",
       "    </tr>\n",
       "    <tr>\n",
       "      <th>XGBoost</th>\n",
       "      <td>0.961042</td>\n",
       "      <td>0.980439</td>\n",
       "    </tr>\n",
       "  </tbody>\n",
       "</table>\n",
       "</div>"
      ],
      "text/plain": [
       "                    test_roc_auc  train_roc_auc\n",
       "model                                          \n",
       "Decision Tree           0.930205       0.986392\n",
       "LogisticRegression      0.837804       0.847137\n",
       "Random Forest           0.941928       0.946480\n",
       "XGBoost                 0.961042       0.980439"
      ]
     },
     "execution_count": 100,
     "metadata": {},
     "output_type": "execute_result"
    }
   ],
   "source": [
    "results_df.groupby('model')[['test_roc_auc','train_roc_auc']].mean()"
   ]
  },
  {
   "attachments": {},
   "cell_type": "markdown",
   "metadata": {},
   "source": [
    "All models clearly overfit on training data"
   ]
  },
  {
   "cell_type": "code",
   "execution_count": 101,
   "metadata": {},
   "outputs": [
    {
     "data": {
      "image/png": "[encoded data removed]",
      "text/plain": [
       "<Figure size 1500x500 with 2 Axes>"
      ]
     },
     "metadata": {},
     "output_type": "display_data"
    }
   ],
   "source": [
    "fig, ax = plt.subplots(1,2,figsize = (15,5), sharey=True)\n",
    "\n",
    "sns.barplot(data = results_df,\n",
    "                    x = 'Fold',\n",
    "                    y = 'train_roc_auc',\n",
    "                    hue = 'model',\n",
    "                    ax = ax[0])\n",
    "\n",
    "sns.barplot(data = results_df,\n",
    "                    x = 'Fold',\n",
    "                    y = 'test_roc_auc',\n",
    "                    hue = 'model',\n",
    "                    ax = ax[1])\n",
    "\n",
    "ax[0].set_ylabel('ROC-AUC Score')\n",
    "\n",
    "ax[0].get_legend().remove()\n",
    "\n",
    "ax[0].set_title('Train data')\n",
    "\n",
    "ax[1].set_title('Test data')\n",
    "\n",
    "ax[1].legend(title = 'Model',bbox_to_anchor = (1.01,1), loc = 'upper left')\n",
    "\n",
    "ax[1].set_ylabel('')\n",
    "\n",
    "for a in ax:\n",
    "\n",
    "    a.set_xlabel('Fold')\n",
    "\n",
    "plt.suptitle('Model Performance (ROC-AUC) Over K = 5 Folds for training data')\n",
    "\n",
    "plt.show()"
   ]
  },
  {
   "cell_type": "code",
   "execution_count": 103,
   "metadata": {},
   "outputs": [
    {
     "data": {
      "image/png": "[encoded data removed]",
      "text/plain": [
       "<Figure size 1500x500 with 2 Axes>"
      ]
     },
     "metadata": {},
     "output_type": "display_data"
    }
   ],
   "source": [
    "fig, ax = plt.subplots(1,2,figsize = (15,5), sharey=True)\n",
    "\n",
    "sns.barplot(data = results_df,\n",
    "                    x = 'Fold',\n",
    "                    y = 'train_f1',\n",
    "                    hue = 'model',\n",
    "                    ax = ax[0])\n",
    "\n",
    "sns.barplot(data = results_df,\n",
    "                    x = 'Fold',\n",
    "                    y = 'test_f1',\n",
    "                    hue = 'model',\n",
    "                    ax = ax[1])\n",
    "\n",
    "ax[0].set_ylabel('F1 Score')\n",
    "\n",
    "ax[0].get_legend().remove()\n",
    "\n",
    "ax[0].set_title('Train data')\n",
    "\n",
    "ax[1].set_title('Test data')\n",
    "\n",
    "ax[1].legend(title = 'Model',bbox_to_anchor = (1.01,1), loc = 'upper left')\n",
    "\n",
    "ax[1].set_ylabel('')\n",
    "\n",
    "for a in ax:\n",
    "\n",
    "    a.set_xlabel('Fold')\n",
    "\n",
    "plt.suptitle('Model Performance (F1-Score) Over K = 5 Folds for training data')\n",
    "\n",
    "plt.show()"
   ]
  },
  {
   "attachments": {},
   "cell_type": "markdown",
   "metadata": {},
   "source": [
    "On a controlled setting, the models work way better after SMOTE. Especially a simple Decision Tree and a Random Forest.  \n",
    "Decision Tree results are especially interesting because the AUC curve considers recall. For it to have such a high F1 Score, means that its high recall rate does not impact precision that much."
   ]
  },
  {
   "attachments": {},
   "cell_type": "markdown",
   "metadata": {},
   "source": [
    "# Predictions on test set without SMOTE"
   ]
  }
 ],
 "metadata": {
  "kernelspec": {
   "display_name": "arvato",
   "language": "python",
   "name": "python3"
  },
  "language_info": {
   "codemirror_mode": {
    "name": "ipython",
    "version": 3
   },
   "file_extension": ".py",
   "mimetype": "text/x-python",
   "name": "python",
   "nbconvert_exporter": "python",
   "pygments_lexer": "ipython3",
   "version": "3.10.9"
  },
  "orig_nbformat": 4
 },
 "nbformat": 4,
 "nbformat_minor": 2
}
